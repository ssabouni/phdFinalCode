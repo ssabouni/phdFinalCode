{
 "cells": [
  {
   "cell_type": "code",
   "execution_count": 1,
   "id": "ce2f3802-8bfc-49de-abda-0b4814c1b3bc",
   "metadata": {},
   "outputs": [],
   "source": [
    "# Importing the libraries\n",
    "import numpy as np\n",
    "import pandas as pd"
   ]
  },
  {
   "cell_type": "code",
   "execution_count": 2,
   "id": "92ed1eea-264d-4ec2-b12a-f96eefe8400d",
   "metadata": {},
   "outputs": [],
   "source": [
    "nhs = pd.read_csv('nhsDataFinal.csv')\n"
   ]
  },
  {
   "cell_type": "code",
   "execution_count": 3,
   "id": "8ce2e74a-a233-4912-91d3-b1eff6993562",
   "metadata": {},
   "outputs": [],
   "source": [
    "df = pd.read_csv('BiBFullDataset.csv')\n",
    "\n",
    "# create new dataframe with non-GDM women only\n",
    "bib_gdm = df[df['gdm'] == 'Yes']\n",
    "bib_nonGdm = df[df['gdm'] == 'No']"
   ]
  },
  {
   "cell_type": "code",
   "execution_count": 4,
   "id": "52deb44d-296c-45e8-9e4d-ddef23eeaaec",
   "metadata": {},
   "outputs": [
    {
     "data": {
      "text/plain": [
       "(848, 34)"
      ]
     },
     "execution_count": 4,
     "metadata": {},
     "output_type": "execute_result"
    }
   ],
   "source": [
    "bib_gdm.shape"
   ]
  },
  {
   "cell_type": "code",
   "execution_count": 5,
   "id": "5260a249-752c-4ac9-9b96-160f5f8f7635",
   "metadata": {},
   "outputs": [
    {
     "data": {
      "text/plain": [
       "(9744, 34)"
      ]
     },
     "execution_count": 5,
     "metadata": {},
     "output_type": "execute_result"
    }
   ],
   "source": [
    "bib_nonGdm.shape"
   ]
  },
  {
   "cell_type": "code",
   "execution_count": 6,
   "id": "4a9e734b-9749-4d96-87af-e91277d367a9",
   "metadata": {},
   "outputs": [
    {
     "data": {
      "text/plain": [
       "(196, 55)"
      ]
     },
     "execution_count": 6,
     "metadata": {},
     "output_type": "execute_result"
    }
   ],
   "source": [
    "nhs.shape"
   ]
  },
  {
   "cell_type": "code",
   "execution_count": null,
   "id": "0d157ed5-2c83-4a89-961b-56bcf607f134",
   "metadata": {},
   "outputs": [],
   "source": []
  },
  {
   "cell_type": "markdown",
   "id": "ac6f2be2-602f-4098-988a-cdfa65cf096f",
   "metadata": {},
   "source": [
    "# Test ANOVA assumptions"
   ]
  },
  {
   "cell_type": "markdown",
   "id": "a5f3c47b-f418-41f4-af2b-9c71c959869c",
   "metadata": {},
   "source": [
    "ANOVA Assumptions\n",
    "- Residuals (experimental error) are approximately normally distributed (Shapiro-Wilks test or histogram)\n",
    "- homoscedasticity or Homogeneity of variances (variances are equal between treatment groups) (Levene’s, Bartlett’s, or Brown-Forsythe test)\n",
    "- Observations are sampled independently from each other (no relation in observations between the groups and within the groups) i.e., each subject should have only one response\n",
    "- The dependent variable should be continuous. If the dependent variable is ordinal or rank (e.g. Likert item data), it is more likely to violate the assumptions of normality and homogeneity of variances. \n",
    "\n",
    "If these assumptions are violated, you should consider the non-parametric tests (e.g. Mann-Whitney U test, Kruskal-Wallis test)."
   ]
  },
  {
   "cell_type": "markdown",
   "id": "6122fbdc-0eed-4348-bec9-d8de4f307b8a",
   "metadata": {},
   "source": [
    "ANOVA assumptions can be checked using test statistics (e.g. Shapiro-Wilk, Bartlett’s, Levene’s test, Brown-Forsythe test) and the visual approaches such as residual plots (e.g. QQ-plots) and histograms.\n"
   ]
  },
  {
   "cell_type": "code",
   "execution_count": 25,
   "id": "4e996fa4-6587-4cf0-bc1f-1f5ac3e9ae87",
   "metadata": {},
   "outputs": [
    {
     "ename": "AttributeError",
     "evalue": "'NoneType' object has no attribute 'shape'",
     "output_type": "error",
     "traceback": [
      "\u001b[0;31m---------------------------------------------------------------------------\u001b[0m",
      "\u001b[0;31mAttributeError\u001b[0m                            Traceback (most recent call last)",
      "\u001b[0;32m/var/folders/4q/z12sygps24zfmyncnf31fmdw0000gn/T/ipykernel_8108/3046107961.py\u001b[0m in \u001b[0;36m<module>\u001b[0;34m\u001b[0m\n\u001b[1;32m      6\u001b[0m \u001b[0;32mimport\u001b[0m \u001b[0mmatplotlib\u001b[0m\u001b[0;34m.\u001b[0m\u001b[0mpyplot\u001b[0m \u001b[0;32mas\u001b[0m \u001b[0mplt\u001b[0m\u001b[0;34m\u001b[0m\u001b[0;34m\u001b[0m\u001b[0m\n\u001b[1;32m      7\u001b[0m \u001b[0;31m# res.anova_std_residuals are standardized residuals obtained from ANOVA (check above)\u001b[0m\u001b[0;34m\u001b[0m\u001b[0;34m\u001b[0m\u001b[0;34m\u001b[0m\u001b[0m\n\u001b[0;32m----> 8\u001b[0;31m \u001b[0msm\u001b[0m\u001b[0;34m.\u001b[0m\u001b[0mqqplot\u001b[0m\u001b[0;34m(\u001b[0m\u001b[0mres\u001b[0m\u001b[0;34m.\u001b[0m\u001b[0manova_std_residuals\u001b[0m\u001b[0;34m,\u001b[0m \u001b[0mline\u001b[0m\u001b[0;34m=\u001b[0m\u001b[0;34m'45'\u001b[0m\u001b[0;34m)\u001b[0m\u001b[0;34m\u001b[0m\u001b[0;34m\u001b[0m\u001b[0m\n\u001b[0m\u001b[1;32m      9\u001b[0m \u001b[0mplt\u001b[0m\u001b[0;34m.\u001b[0m\u001b[0mxlabel\u001b[0m\u001b[0;34m(\u001b[0m\u001b[0;34m\"Theoretical Quantiles\"\u001b[0m\u001b[0;34m)\u001b[0m\u001b[0;34m\u001b[0m\u001b[0;34m\u001b[0m\u001b[0m\n\u001b[1;32m     10\u001b[0m \u001b[0mplt\u001b[0m\u001b[0;34m.\u001b[0m\u001b[0mylabel\u001b[0m\u001b[0;34m(\u001b[0m\u001b[0;34m\"Standardized Residuals\"\u001b[0m\u001b[0;34m)\u001b[0m\u001b[0;34m\u001b[0m\u001b[0;34m\u001b[0m\u001b[0m\n",
      "\u001b[0;32m~/anaconda3/lib/python3.7/site-packages/statsmodels/graphics/gofplots.py\u001b[0m in \u001b[0;36mqqplot\u001b[0;34m(data, dist, distargs, a, loc, scale, fit, line, ax, **plotkwargs)\u001b[0m\n\u001b[1;32m    687\u001b[0m     \"\"\"\n\u001b[1;32m    688\u001b[0m     probplot = ProbPlot(\n\u001b[0;32m--> 689\u001b[0;31m         \u001b[0mdata\u001b[0m\u001b[0;34m,\u001b[0m \u001b[0mdist\u001b[0m\u001b[0;34m=\u001b[0m\u001b[0mdist\u001b[0m\u001b[0;34m,\u001b[0m \u001b[0mdistargs\u001b[0m\u001b[0;34m=\u001b[0m\u001b[0mdistargs\u001b[0m\u001b[0;34m,\u001b[0m \u001b[0mfit\u001b[0m\u001b[0;34m=\u001b[0m\u001b[0mfit\u001b[0m\u001b[0;34m,\u001b[0m \u001b[0ma\u001b[0m\u001b[0;34m=\u001b[0m\u001b[0ma\u001b[0m\u001b[0;34m,\u001b[0m \u001b[0mloc\u001b[0m\u001b[0;34m=\u001b[0m\u001b[0mloc\u001b[0m\u001b[0;34m,\u001b[0m \u001b[0mscale\u001b[0m\u001b[0;34m=\u001b[0m\u001b[0mscale\u001b[0m\u001b[0;34m\u001b[0m\u001b[0;34m\u001b[0m\u001b[0m\n\u001b[0m\u001b[1;32m    690\u001b[0m     )\n\u001b[1;32m    691\u001b[0m     \u001b[0mfig\u001b[0m \u001b[0;34m=\u001b[0m \u001b[0mprobplot\u001b[0m\u001b[0;34m.\u001b[0m\u001b[0mqqplot\u001b[0m\u001b[0;34m(\u001b[0m\u001b[0max\u001b[0m\u001b[0;34m=\u001b[0m\u001b[0max\u001b[0m\u001b[0;34m,\u001b[0m \u001b[0mline\u001b[0m\u001b[0;34m=\u001b[0m\u001b[0mline\u001b[0m\u001b[0;34m,\u001b[0m \u001b[0;34m**\u001b[0m\u001b[0mplotkwargs\u001b[0m\u001b[0;34m)\u001b[0m\u001b[0;34m\u001b[0m\u001b[0;34m\u001b[0m\u001b[0m\n",
      "\u001b[0;32m~/anaconda3/lib/python3.7/site-packages/statsmodels/graphics/gofplots.py\u001b[0m in \u001b[0;36m__init__\u001b[0;34m(self, data, dist, fit, distargs, a, loc, scale)\u001b[0m\n\u001b[1;32m    180\u001b[0m         \u001b[0mself\u001b[0m\u001b[0;34m.\u001b[0m\u001b[0mdata\u001b[0m \u001b[0;34m=\u001b[0m \u001b[0mdata\u001b[0m\u001b[0;34m\u001b[0m\u001b[0;34m\u001b[0m\u001b[0m\n\u001b[1;32m    181\u001b[0m         \u001b[0mself\u001b[0m\u001b[0;34m.\u001b[0m\u001b[0ma\u001b[0m \u001b[0;34m=\u001b[0m \u001b[0ma\u001b[0m\u001b[0;34m\u001b[0m\u001b[0;34m\u001b[0m\u001b[0m\n\u001b[0;32m--> 182\u001b[0;31m         \u001b[0mself\u001b[0m\u001b[0;34m.\u001b[0m\u001b[0mnobs\u001b[0m \u001b[0;34m=\u001b[0m \u001b[0mdata\u001b[0m\u001b[0;34m.\u001b[0m\u001b[0mshape\u001b[0m\u001b[0;34m[\u001b[0m\u001b[0;36m0\u001b[0m\u001b[0;34m]\u001b[0m\u001b[0;34m\u001b[0m\u001b[0;34m\u001b[0m\u001b[0m\n\u001b[0m\u001b[1;32m    183\u001b[0m         \u001b[0mself\u001b[0m\u001b[0;34m.\u001b[0m\u001b[0mdistargs\u001b[0m \u001b[0;34m=\u001b[0m \u001b[0mdistargs\u001b[0m\u001b[0;34m\u001b[0m\u001b[0;34m\u001b[0m\u001b[0m\n\u001b[1;32m    184\u001b[0m         \u001b[0mself\u001b[0m\u001b[0;34m.\u001b[0m\u001b[0mfit\u001b[0m \u001b[0;34m=\u001b[0m \u001b[0mfit\u001b[0m\u001b[0;34m\u001b[0m\u001b[0;34m\u001b[0m\u001b[0m\n",
      "\u001b[0;31mAttributeError\u001b[0m: 'NoneType' object has no attribute 'shape'"
     ]
    }
   ],
   "source": [
    "# QQ-plot\n",
    "import statsmodels.api as sm\n",
    "import matplotlib.pyplot as plt\n",
    "from bioinfokit.analys import stat\n",
    "\n",
    "# ANOVA model\n",
    "res = stat()\n",
    "res.anova_stat(df=df_sewing, res_var='Training', anova_model='Time ~ C(Training)')\n",
    "\n",
    "# Residual Distribution\n",
    "sm.qqplot(res.anova_std_residuals, line='45')\n",
    "plt.xlabel(\"Theoretical Quantiles\")\n",
    "plt.ylabel(\"Standardized Residuals\")\n",
    "plt.show()\n",
    "\n",
    "# histogram\n",
    "plt.hist(res.anova_model_out.resid, bins='auto', histtype='bar', ec='k') \n",
    "plt.xlabel(\"Residuals\")\n",
    "plt.ylabel('Frequency')\n",
    "plt.show()"
   ]
  },
  {
   "cell_type": "markdown",
   "id": "aa5b2290-94b8-4eae-819f-bebda30148a1",
   "metadata": {},
   "source": [
    "Shapiro-Wilk test can be used to check the normal distribution of residuals. Null hypothesis: data is drawn from normal distribution."
   ]
  },
  {
   "cell_type": "code",
   "execution_count": null,
   "id": "67d9ba30-9cd9-4069-930c-2426354ab732",
   "metadata": {},
   "outputs": [],
   "source": [
    "import scipy.stats as stats\n",
    "w, pvalue = stats.shapiro(model.resid)\n",
    "print(w, pvalue)\n",
    "\n",
    "# if the p value is non significant, we fail to reject null hypothesis and conclude that data is drawn from normal distribution."
   ]
  },
  {
   "cell_type": "markdown",
   "id": "1669e075-36b1-4d21-809f-7d68ac8068fd",
   "metadata": {},
   "source": [
    "As the data is drawn from normal distribution, use Bartlett’s test to check the Homogeneity of variances. Null hypothesis: samples from populations have equal variances.\n",
    "\n"
   ]
  },
  {
   "cell_type": "code",
   "execution_count": null,
   "id": "19b8a0c0-f15b-4b9c-9f17-6b15d76920b6",
   "metadata": {},
   "outputs": [],
   "source": [
    "import scipy.stats as stats\n",
    "w, pvalue = stats.bartlett(df['A'], df['B'], df['C'], df['D'])\n",
    "print(w, pvalue)\n",
    "\n",
    "\n",
    "# if you have a stacked table, you can use bioinfokit v1.0.3 or later for the bartlett's test\n",
    "from bioinfokit.analys import stat \n",
    "res = stat()\n",
    "res.bartlett(df=df_melt, res_var='value', xfac_var='treatments')\n",
    "res.bartlett_summary\n",
    "\n",
    "# If the p value is non significant, we fail to reject null hypothesis and conclude that treatments have equal variances."
   ]
  },
  {
   "cell_type": "markdown",
   "id": "19317963-5fca-413b-9b31-70e6297a3e5b",
   "metadata": {},
   "source": [
    "Levene’s test can be used to check the Homogeneity of variances when the data is not drawn from normal distribution.\n",
    "\n"
   ]
  },
  {
   "cell_type": "code",
   "execution_count": null,
   "id": "954cae1f-6000-4884-9d0c-431b9b16ef21",
   "metadata": {},
   "outputs": [],
   "source": [
    "# if you have a stacked table, you can use bioinfokit v1.0.3 or later for the Levene's test\n",
    "from bioinfokit.analys import stat \n",
    "res = stat()\n",
    "res.levene(df=df_melt, res_var='value', xfac_var='treatments')\n",
    "res.levene_summary"
   ]
  },
  {
   "cell_type": "code",
   "execution_count": 43,
   "id": "c9d44170-0f61-43c4-82e5-2e7e825e3dc9",
   "metadata": {},
   "outputs": [
    {
     "data": {
      "text/html": [
       "<div>\n",
       "<style scoped>\n",
       "    .dataframe tbody tr th:only-of-type {\n",
       "        vertical-align: middle;\n",
       "    }\n",
       "\n",
       "    .dataframe tbody tr th {\n",
       "        vertical-align: top;\n",
       "    }\n",
       "\n",
       "    .dataframe thead th {\n",
       "        text-align: right;\n",
       "    }\n",
       "</style>\n",
       "<table border=\"1\" class=\"dataframe\">\n",
       "  <thead>\n",
       "    <tr style=\"text-align: right;\">\n",
       "      <th></th>\n",
       "      <th>nhs</th>\n",
       "      <th>bib-GDM</th>\n",
       "      <th>bib-nonGDM</th>\n",
       "    </tr>\n",
       "  </thead>\n",
       "  <tbody>\n",
       "    <tr>\n",
       "      <th>0</th>\n",
       "      <td>32.0</td>\n",
       "      <td>NaN</td>\n",
       "      <td>41.0</td>\n",
       "    </tr>\n",
       "    <tr>\n",
       "      <th>1</th>\n",
       "      <td>20.0</td>\n",
       "      <td>NaN</td>\n",
       "      <td>21.0</td>\n",
       "    </tr>\n",
       "    <tr>\n",
       "      <th>2</th>\n",
       "      <td>32.0</td>\n",
       "      <td>NaN</td>\n",
       "      <td>33.0</td>\n",
       "    </tr>\n",
       "    <tr>\n",
       "      <th>3</th>\n",
       "      <td>30.0</td>\n",
       "      <td>NaN</td>\n",
       "      <td>36.0</td>\n",
       "    </tr>\n",
       "    <tr>\n",
       "      <th>4</th>\n",
       "      <td>39.0</td>\n",
       "      <td>NaN</td>\n",
       "      <td>24.0</td>\n",
       "    </tr>\n",
       "    <tr>\n",
       "      <th>...</th>\n",
       "      <td>...</td>\n",
       "      <td>...</td>\n",
       "      <td>...</td>\n",
       "    </tr>\n",
       "    <tr>\n",
       "      <th>12936</th>\n",
       "      <td>NaN</td>\n",
       "      <td>NaN</td>\n",
       "      <td>35.0</td>\n",
       "    </tr>\n",
       "    <tr>\n",
       "      <th>12948</th>\n",
       "      <td>NaN</td>\n",
       "      <td>NaN</td>\n",
       "      <td>35.0</td>\n",
       "    </tr>\n",
       "    <tr>\n",
       "      <th>12954</th>\n",
       "      <td>NaN</td>\n",
       "      <td>NaN</td>\n",
       "      <td>30.0</td>\n",
       "    </tr>\n",
       "    <tr>\n",
       "      <th>12958</th>\n",
       "      <td>NaN</td>\n",
       "      <td>NaN</td>\n",
       "      <td>27.0</td>\n",
       "    </tr>\n",
       "    <tr>\n",
       "      <th>12963</th>\n",
       "      <td>NaN</td>\n",
       "      <td>NaN</td>\n",
       "      <td>35.0</td>\n",
       "    </tr>\n",
       "  </tbody>\n",
       "</table>\n",
       "<p>10608 rows × 3 columns</p>\n",
       "</div>"
      ],
      "text/plain": [
       "        nhs  bib-GDM  bib-nonGDM\n",
       "0      32.0      NaN        41.0\n",
       "1      20.0      NaN        21.0\n",
       "2      32.0      NaN        33.0\n",
       "3      30.0      NaN        36.0\n",
       "4      39.0      NaN        24.0\n",
       "...     ...      ...         ...\n",
       "12936   NaN      NaN        35.0\n",
       "12948   NaN      NaN        35.0\n",
       "12954   NaN      NaN        30.0\n",
       "12958   NaN      NaN        27.0\n",
       "12963   NaN      NaN        35.0\n",
       "\n",
       "[10608 rows x 3 columns]"
      ]
     },
     "execution_count": 43,
     "metadata": {},
     "output_type": "execute_result"
    }
   ],
   "source": [
    "df"
   ]
  },
  {
   "cell_type": "code",
   "execution_count": 54,
   "id": "d4541470-0617-41b0-8c73-fe64dff03005",
   "metadata": {},
   "outputs": [
    {
     "data": {
      "text/html": [
       "<div>\n",
       "<style scoped>\n",
       "    .dataframe tbody tr th:only-of-type {\n",
       "        vertical-align: middle;\n",
       "    }\n",
       "\n",
       "    .dataframe tbody tr th {\n",
       "        vertical-align: top;\n",
       "    }\n",
       "\n",
       "    .dataframe thead th {\n",
       "        text-align: right;\n",
       "    }\n",
       "</style>\n",
       "<table border=\"1\" class=\"dataframe\">\n",
       "  <thead>\n",
       "    <tr style=\"text-align: right;\">\n",
       "      <th></th>\n",
       "      <th>nhs</th>\n",
       "      <th>bib-GDM</th>\n",
       "      <th>bib-nonGDM</th>\n",
       "    </tr>\n",
       "  </thead>\n",
       "  <tbody>\n",
       "    <tr>\n",
       "      <th>0</th>\n",
       "      <td>32.0</td>\n",
       "      <td>NaN</td>\n",
       "      <td>41.0</td>\n",
       "    </tr>\n",
       "    <tr>\n",
       "      <th>1</th>\n",
       "      <td>20.0</td>\n",
       "      <td>NaN</td>\n",
       "      <td>21.0</td>\n",
       "    </tr>\n",
       "    <tr>\n",
       "      <th>2</th>\n",
       "      <td>32.0</td>\n",
       "      <td>NaN</td>\n",
       "      <td>33.0</td>\n",
       "    </tr>\n",
       "    <tr>\n",
       "      <th>3</th>\n",
       "      <td>30.0</td>\n",
       "      <td>NaN</td>\n",
       "      <td>36.0</td>\n",
       "    </tr>\n",
       "    <tr>\n",
       "      <th>4</th>\n",
       "      <td>39.0</td>\n",
       "      <td>NaN</td>\n",
       "      <td>24.0</td>\n",
       "    </tr>\n",
       "    <tr>\n",
       "      <th>...</th>\n",
       "      <td>...</td>\n",
       "      <td>...</td>\n",
       "      <td>...</td>\n",
       "    </tr>\n",
       "    <tr>\n",
       "      <th>12936</th>\n",
       "      <td>NaN</td>\n",
       "      <td>NaN</td>\n",
       "      <td>35.0</td>\n",
       "    </tr>\n",
       "    <tr>\n",
       "      <th>12948</th>\n",
       "      <td>NaN</td>\n",
       "      <td>NaN</td>\n",
       "      <td>35.0</td>\n",
       "    </tr>\n",
       "    <tr>\n",
       "      <th>12954</th>\n",
       "      <td>NaN</td>\n",
       "      <td>NaN</td>\n",
       "      <td>30.0</td>\n",
       "    </tr>\n",
       "    <tr>\n",
       "      <th>12958</th>\n",
       "      <td>NaN</td>\n",
       "      <td>NaN</td>\n",
       "      <td>27.0</td>\n",
       "    </tr>\n",
       "    <tr>\n",
       "      <th>12963</th>\n",
       "      <td>NaN</td>\n",
       "      <td>NaN</td>\n",
       "      <td>35.0</td>\n",
       "    </tr>\n",
       "  </tbody>\n",
       "</table>\n",
       "<p>10608 rows × 3 columns</p>\n",
       "</div>"
      ],
      "text/plain": [
       "        nhs  bib-GDM  bib-nonGDM\n",
       "0      32.0      NaN        41.0\n",
       "1      20.0      NaN        21.0\n",
       "2      32.0      NaN        33.0\n",
       "3      30.0      NaN        36.0\n",
       "4      39.0      NaN        24.0\n",
       "...     ...      ...         ...\n",
       "12936   NaN      NaN        35.0\n",
       "12948   NaN      NaN        35.0\n",
       "12954   NaN      NaN        30.0\n",
       "12958   NaN      NaN        27.0\n",
       "12963   NaN      NaN        35.0\n",
       "\n",
       "[10608 rows x 3 columns]"
      ]
     },
     "execution_count": 54,
     "metadata": {},
     "output_type": "execute_result"
    }
   ],
   "source": [
    "import pandas as pd\n",
    "# load data file\n",
    "df = pd.concat([nhs['maternalAgeAtBirth'], bib_gdm['maternalAge'], bib_nonGdm['maternalAge']], axis=1, keys=['nhs', 'bib-GDM', 'bib-nonGDM'])\n",
    "df"
   ]
  },
  {
   "cell_type": "code",
   "execution_count": 55,
   "id": "1189e01c-e6c6-43f7-a69a-937cf384a4f5",
   "metadata": {},
   "outputs": [
    {
     "data": {
      "text/html": [
       "<div>\n",
       "<style scoped>\n",
       "    .dataframe tbody tr th:only-of-type {\n",
       "        vertical-align: middle;\n",
       "    }\n",
       "\n",
       "    .dataframe tbody tr th {\n",
       "        vertical-align: top;\n",
       "    }\n",
       "\n",
       "    .dataframe thead th {\n",
       "        text-align: right;\n",
       "    }\n",
       "</style>\n",
       "<table border=\"1\" class=\"dataframe\">\n",
       "  <thead>\n",
       "    <tr style=\"text-align: right;\">\n",
       "      <th></th>\n",
       "      <th>nhs</th>\n",
       "      <th>bib-GDM</th>\n",
       "      <th>bib-nonGDM</th>\n",
       "    </tr>\n",
       "  </thead>\n",
       "  <tbody>\n",
       "    <tr>\n",
       "      <th>0</th>\n",
       "      <td>32.0</td>\n",
       "      <td>NaN</td>\n",
       "      <td>41.0</td>\n",
       "    </tr>\n",
       "    <tr>\n",
       "      <th>1</th>\n",
       "      <td>20.0</td>\n",
       "      <td>NaN</td>\n",
       "      <td>21.0</td>\n",
       "    </tr>\n",
       "    <tr>\n",
       "      <th>2</th>\n",
       "      <td>32.0</td>\n",
       "      <td>NaN</td>\n",
       "      <td>33.0</td>\n",
       "    </tr>\n",
       "    <tr>\n",
       "      <th>3</th>\n",
       "      <td>30.0</td>\n",
       "      <td>NaN</td>\n",
       "      <td>36.0</td>\n",
       "    </tr>\n",
       "    <tr>\n",
       "      <th>4</th>\n",
       "      <td>39.0</td>\n",
       "      <td>NaN</td>\n",
       "      <td>24.0</td>\n",
       "    </tr>\n",
       "    <tr>\n",
       "      <th>...</th>\n",
       "      <td>...</td>\n",
       "      <td>...</td>\n",
       "      <td>...</td>\n",
       "    </tr>\n",
       "    <tr>\n",
       "      <th>12936</th>\n",
       "      <td>NaN</td>\n",
       "      <td>NaN</td>\n",
       "      <td>35.0</td>\n",
       "    </tr>\n",
       "    <tr>\n",
       "      <th>12948</th>\n",
       "      <td>NaN</td>\n",
       "      <td>NaN</td>\n",
       "      <td>35.0</td>\n",
       "    </tr>\n",
       "    <tr>\n",
       "      <th>12954</th>\n",
       "      <td>NaN</td>\n",
       "      <td>NaN</td>\n",
       "      <td>30.0</td>\n",
       "    </tr>\n",
       "    <tr>\n",
       "      <th>12958</th>\n",
       "      <td>NaN</td>\n",
       "      <td>NaN</td>\n",
       "      <td>27.0</td>\n",
       "    </tr>\n",
       "    <tr>\n",
       "      <th>12963</th>\n",
       "      <td>NaN</td>\n",
       "      <td>NaN</td>\n",
       "      <td>35.0</td>\n",
       "    </tr>\n",
       "  </tbody>\n",
       "</table>\n",
       "<p>10608 rows × 3 columns</p>\n",
       "</div>"
      ],
      "text/plain": [
       "        nhs  bib-GDM  bib-nonGDM\n",
       "0      32.0      NaN        41.0\n",
       "1      20.0      NaN        21.0\n",
       "2      32.0      NaN        33.0\n",
       "3      30.0      NaN        36.0\n",
       "4      39.0      NaN        24.0\n",
       "...     ...      ...         ...\n",
       "12936   NaN      NaN        35.0\n",
       "12948   NaN      NaN        35.0\n",
       "12954   NaN      NaN        30.0\n",
       "12958   NaN      NaN        27.0\n",
       "12963   NaN      NaN        35.0\n",
       "\n",
       "[10608 rows x 3 columns]"
      ]
     },
     "execution_count": 55,
     "metadata": {},
     "output_type": "execute_result"
    }
   ],
   "source": [
    "df"
   ]
  },
  {
   "cell_type": "code",
   "execution_count": 56,
   "id": "fe4a1e33-2b09-4164-8971-85b4a440dcc6",
   "metadata": {},
   "outputs": [],
   "source": [
    "# reshape the d dataframe suitable for statsmodels package \n",
    "df_melt = pd.melt(df.reset_index(), id_vars=['index'], value_vars=['nhs', 'bib-GDM', 'bib-nonGDM'])\n",
    "\n",
    "# replace column names\n",
    "df_melt.columns = ['index', 'dataset', 'value']"
   ]
  },
  {
   "cell_type": "code",
   "execution_count": 39,
   "id": "3563a4a8-3758-4d34-a2e7-f50ecd680fdd",
   "metadata": {},
   "outputs": [
    {
     "data": {
      "text/html": [
       "<div>\n",
       "<style scoped>\n",
       "    .dataframe tbody tr th:only-of-type {\n",
       "        vertical-align: middle;\n",
       "    }\n",
       "\n",
       "    .dataframe tbody tr th {\n",
       "        vertical-align: top;\n",
       "    }\n",
       "\n",
       "    .dataframe thead th {\n",
       "        text-align: right;\n",
       "    }\n",
       "</style>\n",
       "<table border=\"1\" class=\"dataframe\">\n",
       "  <thead>\n",
       "    <tr style=\"text-align: right;\">\n",
       "      <th></th>\n",
       "      <th>index</th>\n",
       "      <th>dataset</th>\n",
       "      <th>value</th>\n",
       "    </tr>\n",
       "  </thead>\n",
       "  <tbody>\n",
       "    <tr>\n",
       "      <th>0</th>\n",
       "      <td>0</td>\n",
       "      <td>nhs</td>\n",
       "      <td>32.0</td>\n",
       "    </tr>\n",
       "    <tr>\n",
       "      <th>1</th>\n",
       "      <td>1</td>\n",
       "      <td>nhs</td>\n",
       "      <td>20.0</td>\n",
       "    </tr>\n",
       "    <tr>\n",
       "      <th>2</th>\n",
       "      <td>2</td>\n",
       "      <td>nhs</td>\n",
       "      <td>32.0</td>\n",
       "    </tr>\n",
       "    <tr>\n",
       "      <th>3</th>\n",
       "      <td>3</td>\n",
       "      <td>nhs</td>\n",
       "      <td>30.0</td>\n",
       "    </tr>\n",
       "    <tr>\n",
       "      <th>4</th>\n",
       "      <td>4</td>\n",
       "      <td>nhs</td>\n",
       "      <td>39.0</td>\n",
       "    </tr>\n",
       "    <tr>\n",
       "      <th>...</th>\n",
       "      <td>...</td>\n",
       "      <td>...</td>\n",
       "      <td>...</td>\n",
       "    </tr>\n",
       "    <tr>\n",
       "      <th>31819</th>\n",
       "      <td>12936</td>\n",
       "      <td>bib-nonGDM</td>\n",
       "      <td>35.0</td>\n",
       "    </tr>\n",
       "    <tr>\n",
       "      <th>31820</th>\n",
       "      <td>12948</td>\n",
       "      <td>bib-nonGDM</td>\n",
       "      <td>35.0</td>\n",
       "    </tr>\n",
       "    <tr>\n",
       "      <th>31821</th>\n",
       "      <td>12954</td>\n",
       "      <td>bib-nonGDM</td>\n",
       "      <td>30.0</td>\n",
       "    </tr>\n",
       "    <tr>\n",
       "      <th>31822</th>\n",
       "      <td>12958</td>\n",
       "      <td>bib-nonGDM</td>\n",
       "      <td>27.0</td>\n",
       "    </tr>\n",
       "    <tr>\n",
       "      <th>31823</th>\n",
       "      <td>12963</td>\n",
       "      <td>bib-nonGDM</td>\n",
       "      <td>35.0</td>\n",
       "    </tr>\n",
       "  </tbody>\n",
       "</table>\n",
       "<p>10788 rows × 3 columns</p>\n",
       "</div>"
      ],
      "text/plain": [
       "       index     dataset  value\n",
       "0          0         nhs   32.0\n",
       "1          1         nhs   20.0\n",
       "2          2         nhs   32.0\n",
       "3          3         nhs   30.0\n",
       "4          4         nhs   39.0\n",
       "...      ...         ...    ...\n",
       "31819  12936  bib-nonGDM   35.0\n",
       "31820  12948  bib-nonGDM   35.0\n",
       "31821  12954  bib-nonGDM   30.0\n",
       "31822  12958  bib-nonGDM   27.0\n",
       "31823  12963  bib-nonGDM   35.0\n",
       "\n",
       "[10788 rows x 3 columns]"
      ]
     },
     "execution_count": 39,
     "metadata": {},
     "output_type": "execute_result"
    }
   ],
   "source": [
    "df_melt = df_melt.dropna()\n",
    "df_melt"
   ]
  },
  {
   "cell_type": "code",
   "execution_count": 60,
   "id": "ab9c0351-ad01-4024-8662-3f5d4360524e",
   "metadata": {},
   "outputs": [
    {
     "data": {
      "image/png": "[encoded data removed]",
      "text/plain": [
       "<Figure size 640x480 with 1 Axes>"
      ]
     },
     "metadata": {},
     "output_type": "display_data"
    }
   ],
   "source": [
    "# generate a boxplot to see the data distribution by treatments. Using boxplot, we can \n",
    "# easily detect the differences between different treatments\n",
    "import matplotlib.pyplot as plt\n",
    "import seaborn as sns\n",
    "ax = sns.boxplot(x='dataset', y='value', data=df_melt, color='#99c2a2')\n",
    "#ax = sns.swarmplot(x=\"dataset\", y=\"value\", data=df_melt, color='#7d0013')\n",
    "plt.show()"
   ]
  },
  {
   "cell_type": "code",
   "execution_count": 61,
   "id": "aadccbef-cd28-49b1-8383-2e8fe3901854",
   "metadata": {},
   "outputs": [
    {
     "name": "stdout",
     "output_type": "stream",
     "text": [
      "200.51561053468689 3.1418068228637043e-86\n"
     ]
    },
    {
     "data": {
      "text/html": [
       "<div>\n",
       "<style scoped>\n",
       "    .dataframe tbody tr th:only-of-type {\n",
       "        vertical-align: middle;\n",
       "    }\n",
       "\n",
       "    .dataframe tbody tr th {\n",
       "        vertical-align: top;\n",
       "    }\n",
       "\n",
       "    .dataframe thead th {\n",
       "        text-align: right;\n",
       "    }\n",
       "</style>\n",
       "<table border=\"1\" class=\"dataframe\">\n",
       "  <thead>\n",
       "    <tr style=\"text-align: right;\">\n",
       "      <th></th>\n",
       "      <th>sum_sq</th>\n",
       "      <th>df</th>\n",
       "      <th>F</th>\n",
       "      <th>PR(&gt;F)</th>\n",
       "    </tr>\n",
       "  </thead>\n",
       "  <tbody>\n",
       "    <tr>\n",
       "      <th>C(dataset)</th>\n",
       "      <td>12299.428294</td>\n",
       "      <td>2.0</td>\n",
       "      <td>200.515611</td>\n",
       "      <td>3.141807e-86</td>\n",
       "    </tr>\n",
       "    <tr>\n",
       "      <th>Residual</th>\n",
       "      <td>330770.591358</td>\n",
       "      <td>10785.0</td>\n",
       "      <td>NaN</td>\n",
       "      <td>NaN</td>\n",
       "    </tr>\n",
       "  </tbody>\n",
       "</table>\n",
       "</div>"
      ],
      "text/plain": [
       "                   sum_sq       df           F        PR(>F)\n",
       "C(dataset)   12299.428294      2.0  200.515611  3.141807e-86\n",
       "Residual    330770.591358  10785.0         NaN           NaN"
      ]
     },
     "execution_count": 61,
     "metadata": {},
     "output_type": "execute_result"
    }
   ],
   "source": [
    "import scipy.stats as stats\n",
    "# stats f_oneway functions takes the groups as input and returns ANOVA F and p value\n",
    "fvalue, pvalue = stats.f_oneway(df['nhs'].dropna(), df['bib-GDM'].dropna(), df['bib-nonGDM'].dropna())\n",
    "print(fvalue, pvalue)\n",
    "\n",
    "# get ANOVA table as R like output\n",
    "import statsmodels.api as sm\n",
    "from statsmodels.formula.api import ols\n",
    "\n",
    "# Ordinary Least Squares (OLS) model\n",
    "model = ols('value ~ C(dataset)', data=df_melt).fit()\n",
    "anova_table = sm.stats.anova_lm(model, typ=2)\n",
    "anova_table"
   ]
  },
  {
   "cell_type": "code",
   "execution_count": 62,
   "id": "672cd681-7632-4fc6-9cb2-2c2d1f3c9dd7",
   "metadata": {},
   "outputs": [
    {
     "data": {
      "text/html": [
       "<div>\n",
       "<style scoped>\n",
       "    .dataframe tbody tr th:only-of-type {\n",
       "        vertical-align: middle;\n",
       "    }\n",
       "\n",
       "    .dataframe tbody tr th {\n",
       "        vertical-align: top;\n",
       "    }\n",
       "\n",
       "    .dataframe thead th {\n",
       "        text-align: right;\n",
       "    }\n",
       "</style>\n",
       "<table border=\"1\" class=\"dataframe\">\n",
       "  <thead>\n",
       "    <tr style=\"text-align: right;\">\n",
       "      <th></th>\n",
       "      <th>df</th>\n",
       "      <th>sum_sq</th>\n",
       "      <th>mean_sq</th>\n",
       "      <th>F</th>\n",
       "      <th>PR(&gt;F)</th>\n",
       "    </tr>\n",
       "  </thead>\n",
       "  <tbody>\n",
       "    <tr>\n",
       "      <th>C(dataset)</th>\n",
       "      <td>2.0</td>\n",
       "      <td>12299.428294</td>\n",
       "      <td>6149.714147</td>\n",
       "      <td>200.515611</td>\n",
       "      <td>3.141807e-86</td>\n",
       "    </tr>\n",
       "    <tr>\n",
       "      <th>Residual</th>\n",
       "      <td>10785.0</td>\n",
       "      <td>330770.591358</td>\n",
       "      <td>30.669503</td>\n",
       "      <td>NaN</td>\n",
       "      <td>NaN</td>\n",
       "    </tr>\n",
       "  </tbody>\n",
       "</table>\n",
       "</div>"
      ],
      "text/plain": [
       "                 df         sum_sq      mean_sq           F        PR(>F)\n",
       "C(dataset)      2.0   12299.428294  6149.714147  200.515611  3.141807e-86\n",
       "Residual    10785.0  330770.591358    30.669503         NaN           NaN"
      ]
     },
     "execution_count": 62,
     "metadata": {},
     "output_type": "execute_result"
    }
   ],
   "source": [
    "# ANOVA table using bioinfokit v1.0.3 or later (it uses wrapper script for anova_lm)\n",
    "from bioinfokit.analys import stat\n",
    "res = stat()\n",
    "res.anova_stat(df=df_melt, res_var='value', anova_model='value ~ C(dataset)')\n",
    "res.anova_summary"
   ]
  },
  {
   "cell_type": "code",
   "execution_count": 63,
   "id": "9ddb6c44-9f57-4537-b267-f5ca61d13a5c",
   "metadata": {},
   "outputs": [
    {
     "name": "stderr",
     "output_type": "stream",
     "text": [
      "/Users/ssabouni/anaconda3/lib/python3.7/site-packages/bioinfokit/analys.py:402: FutureWarning: Dropping of nuisance columns in DataFrame reductions (with 'numeric_only=None') is deprecated; in a future version this will raise TypeError.  Select only valid columns before calling the reduction.\n",
      "  mult_group[ele] = df[df[xfac_var] == ele].mean().loc[res_var]\n"
     ]
    },
    {
     "data": {
      "text/html": [
       "<div>\n",
       "<style scoped>\n",
       "    .dataframe tbody tr th:only-of-type {\n",
       "        vertical-align: middle;\n",
       "    }\n",
       "\n",
       "    .dataframe tbody tr th {\n",
       "        vertical-align: top;\n",
       "    }\n",
       "\n",
       "    .dataframe thead th {\n",
       "        text-align: right;\n",
       "    }\n",
       "</style>\n",
       "<table border=\"1\" class=\"dataframe\">\n",
       "  <thead>\n",
       "    <tr style=\"text-align: right;\">\n",
       "      <th></th>\n",
       "      <th>group1</th>\n",
       "      <th>group2</th>\n",
       "      <th>Diff</th>\n",
       "      <th>Lower</th>\n",
       "      <th>Upper</th>\n",
       "      <th>q-value</th>\n",
       "      <th>p-value</th>\n",
       "    </tr>\n",
       "  </thead>\n",
       "  <tbody>\n",
       "    <tr>\n",
       "      <th>0</th>\n",
       "      <td>nhs</td>\n",
       "      <td>bib-GDM</td>\n",
       "      <td>1.392304</td>\n",
       "      <td>0.363479</td>\n",
       "      <td>2.421128</td>\n",
       "      <td>4.486124</td>\n",
       "      <td>0.004331</td>\n",
       "    </tr>\n",
       "    <tr>\n",
       "      <th>1</th>\n",
       "      <td>nhs</td>\n",
       "      <td>bib-nonGDM</td>\n",
       "      <td>4.696868</td>\n",
       "      <td>3.760356</td>\n",
       "      <td>5.633381</td>\n",
       "      <td>16.625454</td>\n",
       "      <td>0.001000</td>\n",
       "    </tr>\n",
       "    <tr>\n",
       "      <th>2</th>\n",
       "      <td>bib-GDM</td>\n",
       "      <td>bib-nonGDM</td>\n",
       "      <td>3.304565</td>\n",
       "      <td>2.839793</td>\n",
       "      <td>3.769336</td>\n",
       "      <td>23.569669</td>\n",
       "      <td>0.001000</td>\n",
       "    </tr>\n",
       "  </tbody>\n",
       "</table>\n",
       "</div>"
      ],
      "text/plain": [
       "    group1      group2      Diff     Lower     Upper    q-value   p-value\n",
       "0      nhs     bib-GDM  1.392304  0.363479  2.421128   4.486124  0.004331\n",
       "1      nhs  bib-nonGDM  4.696868  3.760356  5.633381  16.625454  0.001000\n",
       "2  bib-GDM  bib-nonGDM  3.304565  2.839793  3.769336  23.569669  0.001000"
      ]
     },
     "execution_count": 63,
     "metadata": {},
     "output_type": "execute_result"
    }
   ],
   "source": [
    "# we will use bioinfokit (v1.0.3 or later) for performing tukey HSD test\n",
    "# check documentation here https://github.com/reneshbedre/bioinfokit\n",
    "from bioinfokit.analys import stat\n",
    "# perform multiple pairwise comparison (Tukey's HSD)\n",
    "# unequal sample size data, tukey_hsd uses Tukey-Kramer test\n",
    "res = stat()\n",
    "res.tukey_hsd(df=df_melt, res_var='value', xfac_var='dataset', anova_model='value ~ C(dataset)')\n",
    "res.tukey_summary"
   ]
  },
  {
   "cell_type": "code",
   "execution_count": 47,
   "id": "4461a195-569e-4678-99e6-c2a39792baef",
   "metadata": {},
   "outputs": [
    {
     "data": {
      "image/png": "[encoded data removed]",
      "text/plain": [
       "<Figure size 640x480 with 1 Axes>"
      ]
     },
     "metadata": {},
     "output_type": "display_data"
    },
    {
     "data": {
      "image/png": "[encoded data removed]",
      "text/plain": [
       "<Figure size 640x480 with 1 Axes>"
      ]
     },
     "metadata": {},
     "output_type": "display_data"
    }
   ],
   "source": [
    "# QQ-plot\n",
    "import statsmodels.api as sm\n",
    "import matplotlib.pyplot as plt\n",
    "# res.anova_std_residuals are standardized residuals obtained from ANOVA (check above)\n",
    "sm.qqplot(res.anova_std_residuals, line='45')\n",
    "plt.xlabel(\"Theoretical Quantiles\")\n",
    "plt.ylabel(\"Standardized Residuals\")\n",
    "plt.show()\n",
    "\n",
    "# histogram\n",
    "plt.hist(res.anova_model_out.resid, bins='auto', histtype='bar', ec='k') \n",
    "plt.xlabel(\"Residuals\")\n",
    "plt.ylabel('Frequency')\n",
    "plt.show()"
   ]
  },
  {
   "cell_type": "code",
   "execution_count": 48,
   "id": "b08d3ffa-6952-4894-b9f2-ac36960a6491",
   "metadata": {},
   "outputs": [
    {
     "name": "stdout",
     "output_type": "stream",
     "text": [
      "0.9867603778839111 1.8488944393236116e-30\n"
     ]
    },
    {
     "name": "stderr",
     "output_type": "stream",
     "text": [
      "/Users/ssabouni/anaconda3/lib/python3.7/site-packages/scipy/stats/morestats.py:1760: UserWarning: p-value may not be accurate for N > 5000.\n",
      "  warnings.warn(\"p-value may not be accurate for N > 5000.\")\n"
     ]
    }
   ],
   "source": [
    "import scipy.stats as stats\n",
    "w, pvalue = stats.shapiro(model.resid)\n",
    "print(w, pvalue)"
   ]
  },
  {
   "cell_type": "code",
   "execution_count": 50,
   "id": "2dfedc23-efc0-4f58-ac38-c4dd76c8b25f",
   "metadata": {},
   "outputs": [
    {
     "name": "stdout",
     "output_type": "stream",
     "text": [
      "17.20248063230048 0.00018387758583252793\n"
     ]
    },
    {
     "data": {
      "text/html": [
       "<div>\n",
       "<style scoped>\n",
       "    .dataframe tbody tr th:only-of-type {\n",
       "        vertical-align: middle;\n",
       "    }\n",
       "\n",
       "    .dataframe tbody tr th {\n",
       "        vertical-align: top;\n",
       "    }\n",
       "\n",
       "    .dataframe thead th {\n",
       "        text-align: right;\n",
       "    }\n",
       "</style>\n",
       "<table border=\"1\" class=\"dataframe\">\n",
       "  <thead>\n",
       "    <tr style=\"text-align: right;\">\n",
       "      <th></th>\n",
       "      <th>Parameter</th>\n",
       "      <th>Value</th>\n",
       "    </tr>\n",
       "  </thead>\n",
       "  <tbody>\n",
       "    <tr>\n",
       "      <th>0</th>\n",
       "      <td>Test statistics (T)</td>\n",
       "      <td>0.5198</td>\n",
       "    </tr>\n",
       "    <tr>\n",
       "      <th>1</th>\n",
       "      <td>Degrees of freedom (Df)</td>\n",
       "      <td>2.0000</td>\n",
       "    </tr>\n",
       "    <tr>\n",
       "      <th>2</th>\n",
       "      <td>p value</td>\n",
       "      <td>0.7711</td>\n",
       "    </tr>\n",
       "  </tbody>\n",
       "</table>\n",
       "</div>"
      ],
      "text/plain": [
       "                 Parameter   Value\n",
       "0      Test statistics (T)  0.5198\n",
       "1  Degrees of freedom (Df)  2.0000\n",
       "2                  p value  0.7711"
      ]
     },
     "execution_count": 50,
     "metadata": {},
     "output_type": "execute_result"
    }
   ],
   "source": [
    "import scipy.stats as stats\n",
    "w, pvalue = stats.bartlett(df['nhs'], df['bib-GDM'], df['bib-nonGDM'])\n",
    "print(w, pvalue)\n",
    "\n",
    "# if you have a stacked table, you can use bioinfokit v1.0.3 or later for the bartlett's test\n",
    "from bioinfokit.analys import stat \n",
    "res = stat()\n",
    "res.bartlett(df=df_melt, res_var='value', xfac_var='dataset')\n",
    "res.bartlett_summary"
   ]
  },
  {
   "cell_type": "code",
   "execution_count": 52,
   "id": "4562e7ab-73d0-48f1-a7bf-55b4b6eb3cc5",
   "metadata": {},
   "outputs": [
    {
     "data": {
      "text/html": [
       "<div>\n",
       "<style scoped>\n",
       "    .dataframe tbody tr th:only-of-type {\n",
       "        vertical-align: middle;\n",
       "    }\n",
       "\n",
       "    .dataframe tbody tr th {\n",
       "        vertical-align: top;\n",
       "    }\n",
       "\n",
       "    .dataframe thead th {\n",
       "        text-align: right;\n",
       "    }\n",
       "</style>\n",
       "<table border=\"1\" class=\"dataframe\">\n",
       "  <thead>\n",
       "    <tr style=\"text-align: right;\">\n",
       "      <th></th>\n",
       "      <th>Parameter</th>\n",
       "      <th>Value</th>\n",
       "    </tr>\n",
       "  </thead>\n",
       "  <tbody>\n",
       "    <tr>\n",
       "      <th>0</th>\n",
       "      <td>Test statistics (W)</td>\n",
       "      <td>0.0521</td>\n",
       "    </tr>\n",
       "    <tr>\n",
       "      <th>1</th>\n",
       "      <td>Degrees of freedom (Df)</td>\n",
       "      <td>2.0000</td>\n",
       "    </tr>\n",
       "    <tr>\n",
       "      <th>2</th>\n",
       "      <td>p value</td>\n",
       "      <td>0.9493</td>\n",
       "    </tr>\n",
       "  </tbody>\n",
       "</table>\n",
       "</div>"
      ],
      "text/plain": [
       "                 Parameter   Value\n",
       "0      Test statistics (W)  0.0521\n",
       "1  Degrees of freedom (Df)  2.0000\n",
       "2                  p value  0.9493"
      ]
     },
     "execution_count": 52,
     "metadata": {},
     "output_type": "execute_result"
    }
   ],
   "source": [
    "# if you have a stacked table, you can use bioinfokit v1.0.3 or later for the Levene's test\n",
    "from bioinfokit.analys import stat \n",
    "res = stat()\n",
    "res.levene(df=df_melt, res_var='value', xfac_var='dataset')\n",
    "res.levene_summary"
   ]
  },
  {
   "cell_type": "markdown",
   "id": "6ec58d2d-cb39-4551-840c-d882f6ee77dc",
   "metadata": {
    "tags": []
   },
   "source": [
    "# ANOVA followed by multiple pairwise comparison (post hoc comparison) "
   ]
  },
  {
   "cell_type": "markdown",
   "id": "d3976bdf-d869-4612-996a-237fb2140134",
   "metadata": {
    "tags": []
   },
   "source": [
    "## Maternal Age"
   ]
  },
  {
   "cell_type": "code",
   "execution_count": 7,
   "id": "cf833ac3-1781-4426-ab5d-785a244eaab5",
   "metadata": {},
   "outputs": [
    {
     "name": "stdout",
     "output_type": "stream",
     "text": [
      "200.51561053468689 3.1418068228637043e-86\n",
      "ANOVA P-value is significant\n",
      "Ttest_indResult(statistic=16.655671938398914, pvalue=1.6626307508269346e-61)\n",
      "Ttest_indResult(statistic=3.2005139064919668, pvalue=0.0014132820178695293)\n",
      "Ttest_indResult(statistic=11.75307931842014, pvalue=1.103144800520243e-31)\n"
     ]
    }
   ],
   "source": [
    "import scipy.stats as stats\n",
    "\n",
    "\n",
    "# Perform the ANOVA\n",
    "fvalue, pvalue = stats.f_oneway(nhs['maternalAgeAtBirth'], bib_gdm['maternalAge'], bib_nonGdm['maternalAge'])\n",
    "print(fvalue, pvalue)\n",
    "\n",
    "if (pvalue<0.05):\n",
    "    print(\"ANOVA P-value is significant\")\n",
    "\n",
    "print(stats.ttest_ind(bib_gdm['maternalAge'], bib_nonGdm['maternalAge']))\n",
    "print(stats.ttest_ind(nhs['maternalAgeAtBirth'], bib_gdm['maternalAge']))\n",
    "print(stats.ttest_ind(nhs['maternalAgeAtBirth'], bib_nonGdm['maternalAge']))\n",
    "\n"
   ]
  },
  {
   "cell_type": "markdown",
   "id": "14bec9a4-91e3-4880-9843-eb574ced8fb4",
   "metadata": {},
   "source": [
    "## Parity"
   ]
  },
  {
   "cell_type": "code",
   "execution_count": 8,
   "id": "80cccd87-f1a7-49ed-a162-977ea3cae63d",
   "metadata": {},
   "outputs": [
    {
     "name": "stdout",
     "output_type": "stream",
     "text": [
      "72.0417686101745 8.467495541606274e-32\n",
      "ANOVA P-value is significant\n",
      "Ttest_indResult(statistic=11.328107155186242, pvalue=1.430756431092064e-29)\n",
      "Ttest_indResult(statistic=-0.8223101587580213, pvalue=0.411093335725897)\n",
      "Ttest_indResult(statistic=4.6754205044564525, pvalue=2.973678169799313e-06)\n"
     ]
    }
   ],
   "source": [
    "# Perform the ANOVA\n",
    "fvalue, pvalue = stats.f_oneway(nhs['parity'].dropna(), bib_gdm['parity'].dropna() , bib_nonGdm['parity'].dropna() )\n",
    "print(fvalue, pvalue)\n",
    "\n",
    "if (pvalue<0.05):\n",
    "    print(\"ANOVA P-value is significant\")\n",
    "\n",
    "print(stats.ttest_ind(bib_gdm['parity'].dropna(), bib_nonGdm['parity'].dropna()))\n",
    "print(stats.ttest_ind(nhs['parity'].dropna(), bib_gdm['parity'].dropna()))\n",
    "print(stats.ttest_ind(nhs['parity'].dropna(), bib_nonGdm['parity'].dropna()))\n",
    "\n"
   ]
  },
  {
   "cell_type": "markdown",
   "id": "08e6ea96-77b8-4908-8390-f38b48715e55",
   "metadata": {},
   "source": [
    "## Booking Weight"
   ]
  },
  {
   "cell_type": "code",
   "execution_count": 9,
   "id": "61b78a01-6c67-4dc2-ba8b-c195a89b861e",
   "metadata": {},
   "outputs": [
    {
     "name": "stdout",
     "output_type": "stream",
     "text": [
      "52.67981704997891 1.7207479096088986e-23\n",
      "ANOVA P-value is significant\n",
      "Ttest_indResult(statistic=7.933455950164312, pvalue=2.352998551289072e-15)\n",
      "Ttest_indResult(statistic=2.4449632463422564, pvalue=0.014656332853371085)\n",
      "Ttest_indResult(statistic=6.856757285399371, pvalue=7.475408241175878e-12)\n"
     ]
    }
   ],
   "source": [
    "# Perform the ANOVA\n",
    "fvalue, pvalue = stats.f_oneway(nhs['maternalWeightAtBooking'].dropna(), bib_gdm['bookingWeight'].dropna(), bib_nonGdm['bookingWeight'].dropna())\n",
    "print(fvalue, pvalue)\n",
    "\n",
    "if (pvalue<0.05):\n",
    "    print(\"ANOVA P-value is significant\")\n",
    "\n",
    "print(stats.ttest_ind(bib_gdm['bookingWeight'].dropna(), bib_nonGdm['bookingWeight'].dropna()))\n",
    "print(stats.ttest_ind(nhs['maternalWeightAtBooking'].dropna(), bib_gdm['bookingWeight'].dropna()))\n",
    "print(stats.ttest_ind(nhs['maternalWeightAtBooking'].dropna(), bib_nonGdm['bookingWeight'].dropna()))"
   ]
  },
  {
   "cell_type": "markdown",
   "id": "a374494e-4d3f-4af8-9340-8e5febf43b7f",
   "metadata": {},
   "source": [
    "## Booking BMI"
   ]
  },
  {
   "cell_type": "code",
   "execution_count": 10,
   "id": "e1974d10-aa3b-401a-a012-03928474b08d",
   "metadata": {},
   "outputs": [
    {
     "name": "stdout",
     "output_type": "stream",
     "text": [
      "100.46826547554149 6.340015501142879e-44\n",
      "ANOVA P-value is significant\n",
      "Ttest_indResult(statistic=11.700043539846757, pvalue=2.0647449120289695e-31)\n",
      "Ttest_indResult(statistic=2.0137556745192735, pvalue=0.04431409817064242)\n",
      "Ttest_indResult(statistic=8.518781753334364, pvalue=1.8668912079406573e-17)\n"
     ]
    }
   ],
   "source": [
    "# Perform the ANOVA\n",
    "fvalue, pvalue = stats.f_oneway(nhs['maternalBMIAtBooking'].dropna(), bib_gdm['bookingBMI'].dropna(), bib_nonGdm['bookingBMI'].dropna())\n",
    "print(fvalue, pvalue)\n",
    "\n",
    "if (pvalue<0.05):\n",
    "    print(\"ANOVA P-value is significant\")\n",
    "\n",
    "print(stats.ttest_ind(bib_gdm['bookingBMI'].dropna(), bib_nonGdm['bookingBMI'].dropna()))\n",
    "print(stats.ttest_ind(nhs['maternalBMIAtBooking'].dropna(), bib_gdm['bookingBMI'].dropna()))\n",
    "print(stats.ttest_ind(nhs['maternalBMIAtBooking'].dropna(), bib_nonGdm['bookingBMI'].dropna()))"
   ]
  },
  {
   "cell_type": "markdown",
   "id": "10f33c91-4554-41fe-8355-180d2af1e158",
   "metadata": {
    "tags": []
   },
   "source": [
    "## Maternal Height"
   ]
  },
  {
   "cell_type": "code",
   "execution_count": 11,
   "id": "32adec04-a8fe-45d8-a9c0-9140c7b41bef",
   "metadata": {},
   "outputs": [
    {
     "name": "stdout",
     "output_type": "stream",
     "text": [
      "50.82988698971816 1.0811280733225215e-22\n",
      "ANOVA P-value is significant\n",
      "Ttest_indResult(statistic=-9.38429519585713, pvalue=7.709400157159882e-21)\n",
      "Ttest_indResult(statistic=0.5699562688902845, pvalue=0.568837327741224)\n",
      "Ttest_indResult(statistic=-4.1463921683250975, pvalue=3.407115328408846e-05)\n"
     ]
    }
   ],
   "source": [
    "# Perform the ANOVA\n",
    "fvalue, pvalue = stats.f_oneway(nhs['maternalHeight'].dropna(), bib_gdm['maternalHeight'].dropna(), bib_nonGdm['maternalHeight'].dropna())\n",
    "print(fvalue, pvalue)\n",
    "\n",
    "if (pvalue<0.05):\n",
    "    print(\"ANOVA P-value is significant\")\n",
    "\n",
    "print(stats.ttest_ind(bib_gdm['maternalHeight'].dropna(), bib_nonGdm['maternalHeight'].dropna()))\n",
    "print(stats.ttest_ind(nhs['maternalHeight'].dropna(), bib_gdm['maternalHeight'].dropna()))\n",
    "print(stats.ttest_ind(nhs['maternalHeight'].dropna(), bib_nonGdm['maternalHeight'].dropna()))"
   ]
  },
  {
   "cell_type": "markdown",
   "id": "abfdf36b-dda3-4e96-814c-8dc277d46e9b",
   "metadata": {},
   "source": [
    "## Third Trimester Weight"
   ]
  },
  {
   "cell_type": "code",
   "execution_count": 12,
   "id": "8be117c2-901f-40c6-8bd9-941402e5f186",
   "metadata": {},
   "outputs": [
    {
     "name": "stdout",
     "output_type": "stream",
     "text": [
      "12.66976460922356 3.2248772955722425e-06\n",
      "ANOVA P-value is significant\n",
      "Ttest_indResult(statistic=2.1127130896154114, pvalue=0.03466538628441106)\n",
      "Ttest_indResult(statistic=2.18803377002643, pvalue=0.02917062010175143)\n",
      "Ttest_indResult(statistic=4.6428341171523915, pvalue=3.508592781197755e-06)\n"
     ]
    }
   ],
   "source": [
    "# Perform the ANOVA\n",
    "fvalue, pvalue = stats.f_oneway(nhs['maternalWeight3rdTrimester'].dropna(), bib_gdm['thirdTrimesterWeight'].dropna(), bib_nonGdm['thirdTrimesterWeight'].dropna())\n",
    "print(fvalue, pvalue)\n",
    "\n",
    "\n",
    "if (pvalue<0.05):\n",
    "    print(\"ANOVA P-value is significant\")\n",
    "\n",
    "print(stats.ttest_ind(bib_gdm['thirdTrimesterWeight'].dropna(), bib_nonGdm['thirdTrimesterWeight'].dropna()))\n",
    "print(stats.ttest_ind(nhs['maternalWeight3rdTrimester'].dropna(), bib_gdm['thirdTrimesterWeight'].dropna()))\n",
    "print(stats.ttest_ind(nhs['maternalWeight3rdTrimester'].dropna(), bib_nonGdm['thirdTrimesterWeight'].dropna()))"
   ]
  },
  {
   "cell_type": "markdown",
   "id": "27122955-6ef6-4a31-9433-4c85b76159ca",
   "metadata": {
    "tags": []
   },
   "source": [
    "## OGTT Fasting"
   ]
  },
  {
   "cell_type": "code",
   "execution_count": 13,
   "id": "54320afa-0796-45d8-bf16-831bee129961",
   "metadata": {},
   "outputs": [
    {
     "name": "stdout",
     "output_type": "stream",
     "text": [
      "1083.4143627275932 0.0\n",
      "ANOVA P-value is significant\n",
      "Ttest_indResult(statistic=42.68912060141133, pvalue=0.0)\n",
      "Ttest_indResult(statistic=0.5634295756350205, pvalue=0.5732655155243206)\n",
      "Ttest_indResult(statistic=26.766933850908643, pvalue=2.4503820237963165e-152)\n"
     ]
    }
   ],
   "source": [
    "# Perform the ANOVA\n",
    "fvalue, pvalue = stats.f_oneway(nhs['OGTTfasting'].dropna(), bib_gdm['fastingGlucose'].dropna(), bib_nonGdm['fastingGlucose'].dropna())\n",
    "print(fvalue, pvalue)\n",
    "\n",
    "if (pvalue<0.05):\n",
    "    print(\"ANOVA P-value is significant\")\n",
    "    \n",
    "print(stats.ttest_ind(bib_gdm['fastingGlucose'].dropna(), bib_nonGdm['fastingGlucose'].dropna()))\n",
    "print(stats.ttest_ind(nhs['OGTTfasting'].dropna(), bib_gdm['fastingGlucose'].dropna()))\n",
    "print(stats.ttest_ind(nhs['OGTTfasting'].dropna(), bib_nonGdm['fastingGlucose'].dropna()))"
   ]
  },
  {
   "cell_type": "markdown",
   "id": "94171a7b-5d95-44f7-ab0e-fe0e7b33b0d1",
   "metadata": {},
   "source": [
    "## OGTT 2 hour\n"
   ]
  },
  {
   "cell_type": "code",
   "execution_count": 14,
   "id": "28157864-5108-45fb-bda4-64c5f90b668c",
   "metadata": {},
   "outputs": [
    {
     "name": "stdout",
     "output_type": "stream",
     "text": [
      "4179.582924270982 0.0\n",
      "ANOVA P-value is significant\n",
      "Ttest_indResult(statistic=83.26817025507142, pvalue=0.0)\n",
      "Ttest_indResult(statistic=0.7335699006131982, pvalue=0.46337849426069955)\n",
      "Ttest_indResult(statistic=46.590567315986405, pvalue=0.0)\n"
     ]
    }
   ],
   "source": [
    "# Perform the ANOVA\n",
    "fvalue, pvalue = stats.f_oneway(nhs['OGTT2hour'].dropna(), bib_gdm['postGlucose'].dropna(), bib_nonGdm['postGlucose'].dropna())\n",
    "print(fvalue, pvalue)\n",
    "\n",
    "if (pvalue<0.05):\n",
    "    print(\"ANOVA P-value is significant\")\n",
    "\n",
    "print(stats.ttest_ind(bib_gdm['postGlucose'].dropna(), bib_nonGdm['postGlucose'].dropna()))\n",
    "print(stats.ttest_ind(nhs['OGTT2hour'].dropna(), bib_gdm['postGlucose'].dropna()))\n",
    "print(stats.ttest_ind(nhs['OGTT2hour'].dropna(), bib_nonGdm['postGlucose'].dropna()))"
   ]
  },
  {
   "cell_type": "markdown",
   "id": "57b3315a-b086-43c1-8e3d-dead19499ce8",
   "metadata": {
    "tags": []
   },
   "source": [
    "## Mean Foetal AC \n"
   ]
  },
  {
   "cell_type": "code",
   "execution_count": 15,
   "id": "e7927f5f-3e0b-440b-836f-83f860b514c1",
   "metadata": {},
   "outputs": [
    {
     "name": "stdout",
     "output_type": "stream",
     "text": [
      "378.7790098891599 1.5191878749245366e-154\n",
      "ANOVA P-value is significant\n",
      "Ttest_indResult(statistic=27.557955140822152, pvalue=4.85623344536989e-156)\n",
      "Ttest_indResult(statistic=4.608242498413068, pvalue=4.583282418505549e-06)\n",
      "Ttest_indResult(statistic=18.148313015205794, pvalue=4.175789471305625e-71)\n"
     ]
    }
   ],
   "source": [
    "# Perform the ANOVA\n",
    "fvalue, pvalue = stats.f_oneway(nhs['meanAC'].dropna(), bib_gdm['meanAbdomCirc'].dropna(), bib_nonGdm['meanAbdomCirc'].dropna())\n",
    "print(fvalue, pvalue)\n",
    "\n",
    "if (pvalue<0.05):\n",
    "    print(\"ANOVA P-value is significant\")\n",
    "\n",
    "print(stats.ttest_ind(bib_gdm['meanAbdomCirc'].dropna(), bib_nonGdm['meanAbdomCirc'].dropna()))\n",
    "print(stats.ttest_ind(nhs['meanAC'].dropna(), bib_gdm['meanAbdomCirc'].dropna()))\n",
    "print(stats.ttest_ind(nhs['meanAC'].dropna(), bib_nonGdm['meanAbdomCirc'].dropna()))"
   ]
  },
  {
   "cell_type": "markdown",
   "id": "a273fc02-d9b2-44ce-ab37-351b2aaaa39e",
   "metadata": {
    "tags": []
   },
   "source": [
    "## Max Foetal AC \n"
   ]
  },
  {
   "cell_type": "code",
   "execution_count": 16,
   "id": "2e3ebda4-b4ce-4400-9e28-b296d7761052",
   "metadata": {},
   "outputs": [
    {
     "name": "stdout",
     "output_type": "stream",
     "text": [
      "171.15596835543852 9.038454784985278e-73\n",
      "ANOVA P-value is significant\n",
      "Ttest_indResult(statistic=19.88991817145314, pvalue=7.238018454894017e-85)\n",
      "Ttest_indResult(statistic=5.714346868388638, pvalue=1.4508431264310763e-08)\n",
      "Ttest_indResult(statistic=16.053021088572088, pvalue=1.9218477910970315e-56)\n"
     ]
    }
   ],
   "source": [
    "# Perform the ANOVA\n",
    "fvalue, pvalue = stats.f_oneway(nhs['maxAC'].dropna(), bib_gdm['maxAbdomCirc'].dropna(), bib_nonGdm['maxAbdomCirc'].dropna())\n",
    "print(fvalue, pvalue)\n",
    "\n",
    "if (pvalue<0.05):\n",
    "    print(\"ANOVA P-value is significant\")\n",
    "\n",
    "print(stats.ttest_ind(bib_gdm['maxAbdomCirc'].dropna(), bib_nonGdm['maxAbdomCirc'].dropna()))\n",
    "print(stats.ttest_ind(nhs['maxAC'].dropna(), bib_gdm['maxAbdomCirc'].dropna()))\n",
    "print(stats.ttest_ind(nhs['maxAC'].dropna(), bib_nonGdm['maxAbdomCirc'].dropna()))"
   ]
  },
  {
   "cell_type": "markdown",
   "id": "00fb9b20-1f38-4540-9411-7e249a2b05c4",
   "metadata": {
    "tags": []
   },
   "source": [
    "## Min Foetal AC"
   ]
  },
  {
   "cell_type": "code",
   "execution_count": 17,
   "id": "43d8222b-9ee5-407b-a27c-cff53c257b45",
   "metadata": {},
   "outputs": [
    {
     "name": "stdout",
     "output_type": "stream",
     "text": [
      "50.804729387321316 1.3910681467950277e-22\n",
      "ANOVA P-value is significant\n",
      "Ttest_indResult(statistic=10.080193049228738, pvalue=1.1206671783731473e-23)\n",
      "Ttest_indResult(statistic=-2.0518508153815205, pvalue=0.04044309689967425)\n",
      "Ttest_indResult(statistic=2.499424490845921, pvalue=0.012474680777440206)\n"
     ]
    }
   ],
   "source": [
    "# Perform the ANOVA\n",
    "fvalue, pvalue = stats.f_oneway(nhs['minAC'].dropna(), bib_gdm['minAbdomCirc'].dropna(), bib_nonGdm['minAbdomCirc'].dropna())\n",
    "print(fvalue, pvalue)\n",
    "\n",
    "if (pvalue<0.05):\n",
    "    print(\"ANOVA P-value is significant\")\n",
    "\n",
    "\n",
    "print(stats.ttest_ind(bib_gdm['minAbdomCirc'].dropna(), bib_nonGdm['minAbdomCirc'].dropna()))\n",
    "print(stats.ttest_ind(nhs['minAC'].dropna(), bib_gdm['minAbdomCirc'].dropna()))\n",
    "print(stats.ttest_ind(nhs['minAC'].dropna(), bib_nonGdm['minAbdomCirc'].dropna()))"
   ]
  },
  {
   "cell_type": "markdown",
   "id": "cca3666e-ad16-4e6d-98b3-75af86cef982",
   "metadata": {},
   "source": [
    "## Var Foetal AC "
   ]
  },
  {
   "cell_type": "code",
   "execution_count": 18,
   "id": "0a6058fa-43bd-45f9-b3b2-7f2f1f07f85a",
   "metadata": {},
   "outputs": [
    {
     "name": "stdout",
     "output_type": "stream",
     "text": [
      "84.75709399080375 5.800568400423031e-37\n",
      "ANOVA P-value is significant\n",
      "Ttest_indResult(statistic=-13.37574442831198, pvalue=3.906652871264729e-40)\n",
      "Ttest_indResult(statistic=5.295565459906744, pvalue=1.4579435484614605e-07)\n",
      "Ttest_indResult(statistic=11.874793168478687, pvalue=4.769367366929516e-32)\n"
     ]
    }
   ],
   "source": [
    "# Perform the ANOVA\n",
    "fvalue, pvalue = stats.f_oneway(nhs['varAC'].dropna(), bib_gdm['varAbdomCirc'].dropna(), bib_nonGdm['varAbdomCirc'].dropna())\n",
    "print(fvalue, pvalue)\n",
    "\n",
    "if (pvalue<0.05):\n",
    "    print(\"ANOVA P-value is significant\")\n",
    "\n",
    "\n",
    "print(stats.ttest_ind(bib_gdm['varAbdomCirc'].dropna(), bib_nonGdm['varAbdomCirc'].dropna()))\n",
    "print(stats.ttest_ind(nhs['varAC'].dropna(), bib_gdm['varAbdomCirc'].dropna()))\n",
    "print(stats.ttest_ind(nhs['varAC'].dropna(), bib_nonGdm['varAbdomCirc'].dropna()))"
   ]
  },
  {
   "cell_type": "markdown",
   "id": "db96c1e2-7bbf-4748-b84b-e073f3693b54",
   "metadata": {},
   "source": [
    "## Range Foetal AC \n"
   ]
  },
  {
   "cell_type": "code",
   "execution_count": 19,
   "id": "9777ce16-5350-4a1a-b01d-a3e47db47e40",
   "metadata": {},
   "outputs": [
    {
     "name": "stdout",
     "output_type": "stream",
     "text": [
      "126.72116627504975 1.7115795125342286e-54\n",
      "ANOVA P-value is significant\n",
      "Ttest_indResult(statistic=8.01803147634211, pvalue=1.3198266129671479e-15)\n",
      "Ttest_indResult(statistic=6.037209982742527, pvalue=2.2043493831492845e-09)\n",
      "Ttest_indResult(statistic=14.74305584097341, pvalue=4.382309210475125e-48)\n"
     ]
    }
   ],
   "source": [
    "# Perform the ANOVA\n",
    "fvalue, pvalue = stats.f_oneway(nhs['rangeAC'].dropna(), bib_gdm['rangeAbdomCirc'].dropna(), bib_nonGdm['rangeAbdomCirc'].dropna())\n",
    "print(fvalue, pvalue)\n",
    "\n",
    "if (pvalue<0.05):\n",
    "    print(\"ANOVA P-value is significant\")\n",
    "\n",
    "\n",
    "print(stats.ttest_ind(bib_gdm['rangeAbdomCirc'].dropna(), bib_nonGdm['rangeAbdomCirc'].dropna()))\n",
    "print(stats.ttest_ind(nhs['rangeAC'].dropna(), bib_gdm['rangeAbdomCirc'].dropna()))\n",
    "print(stats.ttest_ind(nhs['rangeAC'].dropna(), bib_nonGdm['rangeAbdomCirc'].dropna()))"
   ]
  },
  {
   "cell_type": "markdown",
   "id": "e60b1741-6c53-47c5-a5a7-d4ce29f502cd",
   "metadata": {
    "tags": []
   },
   "source": [
    "## Mean EFW (g)\n"
   ]
  },
  {
   "cell_type": "code",
   "execution_count": 20,
   "id": "2efbd3c3-c90c-4617-931c-3fb7573b7b1f",
   "metadata": {},
   "outputs": [
    {
     "name": "stdout",
     "output_type": "stream",
     "text": [
      "424.7764928269454 7.383907360001639e-172\n",
      "ANOVA P-value is significant\n",
      "Ttest_indResult(statistic=26.50771224835475, pvalue=3.400177248673756e-145)\n",
      "Ttest_indResult(statistic=0.0359060205455634, pvalue=0.9713644326471151)\n",
      "Ttest_indResult(statistic=13.613853585173779, pvalue=2.1634008418925818e-41)\n"
     ]
    }
   ],
   "source": [
    "# Perform the ANOVA\n",
    "fvalue, pvalue = stats.f_oneway(nhs['meanEFW'].dropna(), bib_gdm['meanFoetalWeight'].dropna(), bib_nonGdm['meanFoetalWeight'].dropna())\n",
    "print(fvalue, pvalue)\n",
    "\n",
    "if (pvalue<0.05):\n",
    "    print(\"ANOVA P-value is significant\")\n",
    "\n",
    "\n",
    "print(stats.ttest_ind(bib_gdm['meanFoetalWeight'].dropna(), bib_nonGdm['meanFoetalWeight'].dropna()))\n",
    "print(stats.ttest_ind(nhs['meanEFW'].dropna(), bib_gdm['meanFoetalWeight'].dropna()))\n",
    "print(stats.ttest_ind(nhs['meanEFW'].dropna(), bib_nonGdm['meanFoetalWeight'].dropna()))"
   ]
  },
  {
   "cell_type": "markdown",
   "id": "09adc0ae-0ffe-4a46-82f0-941522773391",
   "metadata": {},
   "source": [
    "## Max EFW (g)"
   ]
  },
  {
   "cell_type": "code",
   "execution_count": 21,
   "id": "80b198e7-1bfd-4f58-8e33-5ae918f15af1",
   "metadata": {},
   "outputs": [
    {
     "name": "stdout",
     "output_type": "stream",
     "text": [
      "340.4747239229682 7.446507266545702e-140\n",
      "ANOVA P-value is significant\n",
      "Ttest_indResult(statistic=22.51602829600749, pvalue=3.9785713148785387e-107)\n",
      "Ttest_indResult(statistic=3.928353846752038, pvalue=9.137960636830705e-05)\n",
      "Ttest_indResult(statistic=13.849024990726663, pvalue=9.594013108484067e-43)\n"
     ]
    }
   ],
   "source": [
    "# Perform the ANOVA\n",
    "fvalue, pvalue = stats.f_oneway(nhs['maxEFW'].dropna(), bib_gdm['maxFoetalWeight'].dropna(), bib_nonGdm['maxFoetalWeight'].dropna())\n",
    "print(fvalue, pvalue)\n",
    "\n",
    "if (pvalue<0.05):\n",
    "    print(\"ANOVA P-value is significant\")\n",
    "\n",
    "\n",
    "print(stats.ttest_ind(bib_gdm['maxFoetalWeight'].dropna(), bib_nonGdm['maxFoetalWeight'].dropna()))\n",
    "print(stats.ttest_ind(nhs['maxEFW'].dropna(), bib_gdm['maxFoetalWeight'].dropna()))\n",
    "print(stats.ttest_ind(nhs['maxEFW'].dropna(), bib_nonGdm['maxFoetalWeight'].dropna()))"
   ]
  },
  {
   "cell_type": "markdown",
   "id": "b8d9a141-2b9d-4f5d-bb87-fbc32aa70258",
   "metadata": {},
   "source": [
    "## Min EFW (g)"
   ]
  },
  {
   "cell_type": "code",
   "execution_count": 22,
   "id": "6902b378-1aa2-44cc-90dc-6401ac11f2fd",
   "metadata": {},
   "outputs": [
    {
     "name": "stdout",
     "output_type": "stream",
     "text": [
      "55.213167392508026 1.849530096031253e-24\n",
      "ANOVA P-value is significant\n",
      "Ttest_indResult(statistic=10.365030986847133, pvalue=6.301848399087543e-25)\n",
      "Ttest_indResult(statistic=-1.4496000856108544, pvalue=0.14748235439249938)\n",
      "Ttest_indResult(statistic=3.519212282541474, pvalue=0.00043711046697644476)\n"
     ]
    }
   ],
   "source": [
    "# Perform the ANOVA\n",
    "fvalue, pvalue = stats.f_oneway(nhs['minEFW'].dropna(), bib_gdm['minFoetalWeight'].dropna(), bib_nonGdm['minFoetalWeight'].dropna())\n",
    "print(fvalue, pvalue)\n",
    "\n",
    "if (pvalue<0.05):\n",
    "    print(\"ANOVA P-value is significant\")\n",
    "\n",
    "print(stats.ttest_ind(bib_gdm['minFoetalWeight'].dropna(), bib_nonGdm['minFoetalWeight'].dropna()))\n",
    "print(stats.ttest_ind(nhs['minEFW'].dropna(), bib_gdm['minFoetalWeight'].dropna()))\n",
    "print(stats.ttest_ind(nhs['minEFW'].dropna(), bib_nonGdm['minFoetalWeight'].dropna()))"
   ]
  },
  {
   "cell_type": "markdown",
   "id": "ad4fe828-32a3-43d1-b043-c833ba1cd2f2",
   "metadata": {},
   "source": [
    "## Var EFW (g) "
   ]
  },
  {
   "cell_type": "code",
   "execution_count": 23,
   "id": "10c59b6a-3018-4d50-95c8-680ae48ed02d",
   "metadata": {},
   "outputs": [
    {
     "name": "stdout",
     "output_type": "stream",
     "text": [
      "40.851370002429945 2.4748952346079284e-18\n",
      "ANOVA P-value is significant\n",
      "Ttest_indResult(statistic=-8.840484619817857, pvalue=1.2902757251725637e-18)\n",
      "Ttest_indResult(statistic=4.11346167663129, pvalue=4.2171217594078206e-05)\n",
      "Ttest_indResult(statistic=-1.9273017326937025, pvalue=0.05400488671871952)\n"
     ]
    }
   ],
   "source": [
    "# Perform the ANOVA\n",
    "fvalue, pvalue = stats.f_oneway(nhs['varEFW'].dropna(), bib_gdm['varFoetalWeight'].dropna(), bib_nonGdm['varFoetalWeight'].dropna())\n",
    "print(fvalue, pvalue)\n",
    "\n",
    "if (pvalue<0.05):\n",
    "    print(\"ANOVA P-value is significant\")\n",
    "\n",
    "\n",
    "print(stats.ttest_ind(bib_gdm['varFoetalWeight'].dropna(), bib_nonGdm['varFoetalWeight'].dropna()))\n",
    "print(stats.ttest_ind(nhs['varEFW'].dropna(), bib_gdm['varFoetalWeight'].dropna()))\n",
    "print(stats.ttest_ind(nhs['varEFW'].dropna(), bib_nonGdm['varFoetalWeight'].dropna()))"
   ]
  },
  {
   "cell_type": "markdown",
   "id": "b2f25ccc-770d-434b-a05b-8f9bc76038dc",
   "metadata": {},
   "source": [
    "## Range EFW (g)"
   ]
  },
  {
   "cell_type": "code",
   "execution_count": 24,
   "id": "d9770ea0-90df-440a-81d6-821a43434575",
   "metadata": {},
   "outputs": [
    {
     "name": "stdout",
     "output_type": "stream",
     "text": [
      "150.40600593963896 2.8975091280683798e-64\n",
      "ANOVA P-value is significant\n",
      "Ttest_indResult(statistic=14.139605002593646, pvalue=1.480505672953571e-44)\n",
      "Ttest_indResult(statistic=3.715621091824535, pvalue=0.00021388869693890586)\n",
      "Ttest_indResult(statistic=10.938671739926935, pvalue=1.6659032751665974e-27)\n"
     ]
    }
   ],
   "source": [
    "# Perform the ANOVA\n",
    "fvalue, pvalue = stats.f_oneway(nhs['rangeEFW'].dropna(), bib_gdm['rangeFoetalWeight'].dropna(), bib_nonGdm['rangeFoetalWeight'].dropna())\n",
    "print(fvalue, pvalue)\n",
    "\n",
    "if (pvalue<0.05):\n",
    "    print(\"ANOVA P-value is significant\")\n",
    "\n",
    "\n",
    "print(stats.ttest_ind(bib_gdm['rangeFoetalWeight'].dropna(), bib_nonGdm['rangeFoetalWeight'].dropna()))\n",
    "print(stats.ttest_ind(nhs['rangeEFW'].dropna(), bib_gdm['rangeFoetalWeight'].dropna()))\n",
    "print(stats.ttest_ind(nhs['rangeEFW'].dropna(), bib_nonGdm['rangeFoetalWeight'].dropna()))"
   ]
  },
  {
   "cell_type": "code",
   "execution_count": null,
   "id": "e1df25eb-b723-4dde-b576-668e1f883f13",
   "metadata": {},
   "outputs": [],
   "source": []
  }
 ],
 "metadata": {
  "kernelspec": {
   "display_name": "Python 3 (ipykernel)",
   "language": "python",
   "name": "python3"
  },
  "language_info": {
   "codemirror_mode": {
    "name": "ipython",
    "version": 3
   },
   "file_extension": ".py",
   "mimetype": "text/x-python",
   "name": "python",
   "nbconvert_exporter": "python",
   "pygments_lexer": "ipython3",
   "version": "3.7.6"
  }
 },
 "nbformat": 4,
 "nbformat_minor": 5
}
