{
 "cells": [
  {
   "cell_type": "code",
   "execution_count": 26,
   "id": "787d98f5-7f01-4d38-b8d7-a1baabfbfabd",
   "metadata": {},
   "outputs": [],
   "source": [
    "# Importing the libraries\n",
    "import numpy as np\n",
    "import pandas as pd"
   ]
  },
  {
   "cell_type": "code",
   "execution_count": 27,
   "id": "67c58e11-817f-4b0d-b15a-fa943d722b8a",
   "metadata": {},
   "outputs": [],
   "source": [
    "# get datasets\n",
    "\n",
    "nhs = pd.read_csv('nhsDataFinal.csv')\n",
    "\n",
    "bib = pd.read_csv('BiBFullDataset.csv')\n",
    "\n",
    "# create new dataframe with non-GDM women only\n",
    "bib_gdm = bib[bib['gdm'] == 'Yes']\n",
    "bib_nonGdm = bib[bib['gdm'] == 'No']"
   ]
  },
  {
   "cell_type": "code",
   "execution_count": 28,
   "id": "1522dcaa-6cbd-4871-8e59-cbf256330315",
   "metadata": {},
   "outputs": [],
   "source": [
    "def constructDataFrame(nhsFeature, bibFeature):\n",
    "    import pandas as pd\n",
    "    # load data file\n",
    "    df = pd.concat([nhs[nhsFeature], bib_gdm[bibFeature], bib_nonGdm[bibFeature]], axis=1, keys=['nhs', 'bib-GDM', 'bib-nonGDM'])\n",
    "    # reshape the d dataframe suitable for statsmodels package \n",
    "    df_melt = pd.melt(df.reset_index(), id_vars=['index'], value_vars=['nhs', 'bib-GDM', 'bib-nonGDM'])\n",
    "\n",
    "    # replace column names\n",
    "    df_melt.columns = ['index', 'datasets', 'value']\n",
    "    \n",
    "    df_melt = df_melt.dropna()\n",
    "    return df, df_melt"
   ]
  },
  {
   "cell_type": "markdown",
   "id": "a0d54319-a321-464b-85df-d59cd4d09f0e",
   "metadata": {},
   "source": [
    "# ANOVA Test"
   ]
  },
  {
   "cell_type": "code",
   "execution_count": 49,
   "id": "2b609297-f72a-467e-8bc4-c8ac6947807b",
   "metadata": {},
   "outputs": [],
   "source": [
    "def ANOVA(df, df_melt):\n",
    "    import scipy.stats as stats\n",
    "    # stats f_oneway functions takes the groups as input and returns ANOVA F and p value\n",
    "    fvalue, pvalue = stats.f_oneway(df['nhs'].dropna(), df['bib-GDM'].dropna(), df['bib-nonGDM'].dropna())\n",
    "    print(fvalue, pvalue)\n",
    "\n",
    "    # get ANOVA table as R like output\n",
    "    import statsmodels.api as sm\n",
    "    from statsmodels.formula.api import ols\n",
    "\n",
    "    # Ordinary Least Squares (OLS) model\n",
    "    model = ols('value ~ C(datasets)', data=df_melt).fit()\n",
    "    anova_table = sm.stats.anova_lm(model, typ=2)\n",
    "    anova_table\n",
    "    \n",
    "    # ANOVA table using bioinfokit v1.0.3 or later (it uses wrapper script for anova_lm)\n",
    "    from bioinfokit.analys import stat\n",
    "    res = stat()\n",
    "    res.anova_stat(df=df_melt, res_var='value', anova_model='value ~ C(datasets)')\n",
    "    res.anova_summary\n",
    "    return res"
   ]
  },
  {
   "cell_type": "markdown",
   "id": "192a84a4-4dcf-4bfc-8abf-4f98cfced441",
   "metadata": {},
   "source": [
    "# Post Hoc Comparison\n",
    "Tukey’s HSD test accounts for multiple comparisons and corrects for family-wise error rate (FWER) (inflated type I error)\n"
   ]
  },
  {
   "cell_type": "code",
   "execution_count": 47,
   "id": "f2975e5f-fc7d-4066-a451-013bb832e15b",
   "metadata": {},
   "outputs": [],
   "source": [
    "def tukeyHSD(df_melt):\n",
    "    # we will use bioinfokit (v1.0.3 or later) for performing tukey HSD test\n",
    "    # check documentation here https://github.com/reneshbedre/bioinfokit\n",
    "    from bioinfokit.analys import stat\n",
    "    # perform multiple pairwise comparison (Tukey's HSD)\n",
    "    # unequal sample size data, tukey_hsd uses Tukey-Kramer test\n",
    "    res = stat()\n",
    "    res.tukey_hsd(df=df_melt, res_var='value', xfac_var='datasets', anova_model='value ~ C(datasets)')\n",
    "    res.tukey_summary"
   ]
  },
  {
   "cell_type": "markdown",
   "id": "955f0a3d-0b54-4a5a-bc12-fda32bc9d818",
   "metadata": {},
   "source": [
    "# ANOVA Assumptions\n",
    "- Residuals (experimental error) are approximately normally distributed (Shapiro-Wilks test or histogram)\n",
    "- homoscedasticity or Homogeneity of variances (variances are equal between treatment groups) (Levene’s, Bartlett’s, or Brown-Forsythe test)\n",
    "- Observations are sampled independently from each other (no relation in observations between the groups and within the groups) i.e., each subject should have only one response\n",
    "- The dependent variable should be continuous. If the dependent variable is ordinal or rank (e.g. Likert item data), it is more likely to violate the assumptions of normality and homogeneity of variances. \n",
    "\n",
    "If these assumptions are violated, you should consider the non-parametric tests (e.g. Mann-Whitney U test, Kruskal-Wallis test)."
   ]
  },
  {
   "cell_type": "markdown",
   "id": "dfbb00c0-87a5-4d2a-a41a-7f22de6431f9",
   "metadata": {},
   "source": [
    "# Test ANOVA Assumptions"
   ]
  },
  {
   "cell_type": "markdown",
   "id": "210feda1-4af8-4f32-8107-beb6d6e3caa4",
   "metadata": {},
   "source": [
    "## 1. Normal Distribution"
   ]
  },
  {
   "cell_type": "markdown",
   "id": "89aabc73-5ec4-4be9-96bb-881f1c1ae341",
   "metadata": {},
   "source": [
    "Visually - Checking for normal distribution using visual approaches such as residual plots (e.g. QQ-plots) and histograms."
   ]
  },
  {
   "cell_type": "markdown",
   "id": "40711b07-7d2c-4352-86a7-d5bbed8d2518",
   "metadata": {},
   "source": [
    "- QQ plot:\n",
    "If the standardized residuals lie around the 45-degree line, it suggests that the residuals are approximately normally distributed"
   ]
  },
  {
   "cell_type": "code",
   "execution_count": 52,
   "id": "05871414-4c49-497c-996a-149f9400bd0a",
   "metadata": {},
   "outputs": [],
   "source": [
    "def QQPlot(res):\n",
    "    # QQ-plot\n",
    "    import statsmodels.api as sm\n",
    "    import matplotlib.pyplot as plt\n",
    "    # res.anova_std_residuals are standardized residuals obtained from ANOVA (check above)\n",
    "    sm.qqplot(res.anova_std_residuals, line='45')\n",
    "    plt.xlabel(\"Theoretical Quantiles\")\n",
    "    plt.ylabel(\"Standardized Residuals\")\n",
    "    plt.show()"
   ]
  },
  {
   "cell_type": "markdown",
   "id": "6bf01ef2-6fb1-46a7-8a81-e722f1267d4d",
   "metadata": {},
   "source": [
    "- Histogram:\n",
    "In the histogram, if the distribution looks approximately normal, this suggests that residuals are approximately normally distributed"
   ]
  },
  {
   "cell_type": "code",
   "execution_count": 57,
   "id": "d0fd1c49-4ff1-40ee-b563-4b23f0a760e8",
   "metadata": {},
   "outputs": [],
   "source": [
    "def histogram(res):\n",
    "    import matplotlib.pyplot as plt\n",
    "    # histogram\n",
    "    plt.hist(res.anova_model_out.resid, bins='auto', histtype='bar', ec='k') \n",
    "    plt.xlabel(\"Residuals\")\n",
    "    plt.ylabel('Frequency')\n",
    "    plt.show()"
   ]
  },
  {
   "cell_type": "markdown",
   "id": "504e34ef-443d-4d5d-add7-2fc8cabb35ad",
   "metadata": {},
   "source": [
    "Using statistical test\n",
    "\n",
    "Shapiro-Wilk test can be used to check the normal distribution of residuals. Null hypothesis: data is drawn from normal distribution."
   ]
  },
  {
   "cell_type": "code",
   "execution_count": 40,
   "id": "00017de1-934b-484b-bf85-df4c6f4228e0",
   "metadata": {},
   "outputs": [],
   "source": [
    "# Shapiro-Wilk test can be used to check the normal distribution of residuals. \n",
    "# Null hypothesis: data is drawn from normal distribution.\n",
    "# If p value is non significant, we fail to reject null hypothesis and conclude that data is drawn from normal distribution.\n",
    "\n",
    "def shapiro():\n",
    "    import scipy.stats as stats\n",
    "    w, pvalue = stats.shapiro(model.resid)\n",
    "    print(w, pvalue)"
   ]
  },
  {
   "cell_type": "markdown",
   "id": "f4e8afdd-bcd7-482a-8421-31e8a8340820",
   "metadata": {},
   "source": [
    "## 2. Homogeneity of variances \n",
    "\n",
    "If the data is drawn from normal distribution, use Bartlett’s test to check the Homogeneity of variances. Null hypothesis: samples from populations have equal variances."
   ]
  },
  {
   "cell_type": "code",
   "execution_count": 59,
   "id": "106ede4d-01d8-4452-bf80-27342e297cf8",
   "metadata": {},
   "outputs": [],
   "source": [
    "# If the data is drawn from normal distribution, use Bartlett’s test to check the Homogeneity of variances. \n",
    "# Null hypothesis: samples from populations have equal variances.\n",
    "# If p value is non significant, we fail to reject null hypothesis and conclude that treatments have equal variances.\n",
    "\n",
    "def barlett(df, df_melt):\n",
    "    import scipy.stats as stats\n",
    "    w, pvalue = stats.bartlett(df['nhs'], df['bib-GDM'], df['bib-nonGDM'])\n",
    "    print(w, pvalue)\n",
    "\n",
    "    # if you have a stacked table, you can use bioinfokit v1.0.3 or later for the bartlett's test\n",
    "    from bioinfokit.analys import stat \n",
    "    res = stat()\n",
    "    res.bartlett(df=df_melt, res_var='value', xfac_var='datasets')\n",
    "    res.bartlett_summary"
   ]
  },
  {
   "cell_type": "markdown",
   "id": "5c1c27e7-437e-4a0d-930a-3ea99cd44ab7",
   "metadata": {},
   "source": [
    "Levene’s test can be used to check the Homogeneity of variances when the data is not drawn from normal distribution."
   ]
  },
  {
   "cell_type": "code",
   "execution_count": 60,
   "id": "9b68cc33-bee5-4048-9f13-f7031b07abee",
   "metadata": {},
   "outputs": [],
   "source": [
    "# Levene’s test can be used to check the Homogeneity of variances when the data is not drawn from normal distribution.\n",
    "\n",
    "def levene(df_melt):\n",
    "    # if you have a stacked table, you can use bioinfokit v1.0.3 or later for the Levene's test\n",
    "    from bioinfokit.analys import stat \n",
    "    res = stat()\n",
    "    res.levene(df=df_melt, res_var='value', xfac_var='datasets')\n",
    "    res.levene_summary"
   ]
  },
  {
   "cell_type": "code",
   "execution_count": 61,
   "id": "7f6f4af0-0487-4079-9570-d44728e86c01",
   "metadata": {},
   "outputs": [],
   "source": [
    "def anovaPipeline(nhsFeature, bibFeature):\n",
    "    # generate dataframe\n",
    "    df, df_melt = constructDataFrame(nhsFeature, bibFeature)\n",
    "    \n",
    "    # Do anova test and then post hoc comparison if p is significant\n",
    "    # anova test\n",
    "    res = ANOVA(df, df_melt)\n",
    "    \n",
    "    # post hoc comparison\n",
    "    tukeyHSD(df_melt)\n",
    "    \n",
    "    # check anova assumptions\n",
    "    # normal distribution\n",
    "    QQPlot(res)\n",
    "    histogram(res)\n",
    "    \n",
    "    # homogenity\n",
    "    barlett(df, df_melt)"
   ]
  },
  {
   "cell_type": "markdown",
   "id": "4c402004-d0d0-4740-a930-b01e6b43eaf6",
   "metadata": {},
   "source": [
    "## Maternal Age"
   ]
  },
  {
   "cell_type": "code",
   "execution_count": 62,
   "id": "a21dbe56-0df4-4675-ad97-e8abb41282dc",
   "metadata": {},
   "outputs": [
    {
     "name": "stdout",
     "output_type": "stream",
     "text": [
      "200.51561053468689 3.1418068228637043e-86\n"
     ]
    },
    {
     "data": {
      "image/png": "[encoded data removed]",
      "text/plain": [
       "<Figure size 640x480 with 1 Axes>"
      ]
     },
     "metadata": {},
     "output_type": "display_data"
    },
    {
     "data": {
      "image/png": "[encoded data removed]",
      "text/plain": [
       "<Figure size 640x480 with 1 Axes>"
      ]
     },
     "metadata": {},
     "output_type": "display_data"
    },
    {
     "name": "stdout",
     "output_type": "stream",
     "text": [
      "17.20248063230048 0.00018387758583252793\n"
     ]
    }
   ],
   "source": [
    "anovaPipeline(\"maternalAgeAtBirth\", \"maternalAge\")"
   ]
  },
  {
   "cell_type": "code",
   "execution_count": null,
   "id": "214d2dbb-2174-4de6-9441-9c7c7dbed3b3",
   "metadata": {},
   "outputs": [],
   "source": []
  }
 ],
 "metadata": {
  "kernelspec": {
   "display_name": "Python 3 (ipykernel)",
   "language": "python",
   "name": "python3"
  },
  "language_info": {
   "codemirror_mode": {
    "name": "ipython",
    "version": 3
   },
   "file_extension": ".py",
   "mimetype": "text/x-python",
   "name": "python",
   "nbconvert_exporter": "python",
   "pygments_lexer": "ipython3",
   "version": "3.7.6"
  }
 },
 "nbformat": 4,
 "nbformat_minor": 5
}
