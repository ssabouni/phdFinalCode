{
 "cells": [
  {
   "cell_type": "code",
   "execution_count": 1,
   "metadata": {},
   "outputs": [],
   "source": [
    "# optimal threshold for precision-recall curve with logistic regression model\n",
    "from numpy import argmax, nanargmax, arange\n",
    "from sklearn.datasets import make_classification\n",
    "from sklearn.linear_model import LogisticRegression\n",
    "from sklearn.model_selection import train_test_split\n",
    "from sklearn.metrics import precision_recall_curve\n",
    "from sklearn.metrics import f1_score\n",
    "from matplotlib import pyplot\n",
    "import pandas as pd"
   ]
  },
  {
   "cell_type": "code",
   "execution_count": 2,
   "metadata": {},
   "outputs": [
    {
     "name": "stderr",
     "output_type": "stream",
     "text": [
      "/Users/ssabouni/anaconda3/lib/python3.7/site-packages/sklearn/utils/validation.py:993: DataConversionWarning: A column-vector y was passed when a 1d array was expected. Please change the shape of y to (n_samples, ), for example using ravel().\n",
      "  y = column_or_1d(y, warn=True)\n"
     ]
    }
   ],
   "source": [
    "# read data\n",
    "X = pd.read_csv(\"featuresMatrix_Preprocessed_OHEColumnsNamed.csv\")\n",
    "y = pd.read_csv(\"dependentVariableLGAEncoded.csv\")\n",
    "\n",
    "# split into train/test sets\n",
    "trainX, testX, trainy, testy = train_test_split(X, y, test_size=0.5, random_state=2, stratify=y)\n",
    "\n",
    "# fit a model\n",
    "model = LogisticRegression(solver='lbfgs')\n",
    "model.fit(trainX, trainy)\n",
    "\n",
    "# predict probabilities\n",
    "yhat = model.predict_proba(testX)\n",
    "\n",
    "# keep probabilities for the positive outcome only\n",
    "yhat = yhat[:, 1]\n",
    "\n",
    "# calculate roc curves\n",
    "precision, recall, thresholds = precision_recall_curve(testy, yhat)"
   ]
  },
  {
   "cell_type": "code",
   "execution_count": 3,
   "metadata": {},
   "outputs": [
    {
     "name": "stderr",
     "output_type": "stream",
     "text": [
      "/Users/ssabouni/anaconda3/lib/python3.7/site-packages/ipykernel_launcher.py:2: RuntimeWarning: invalid value encountered in true_divide\n",
      "  \n"
     ]
    },
    {
     "name": "stdout",
     "output_type": "stream",
     "text": [
      "Best Threshold=0.24, F-Score=0.25\n",
      "Precision at largest F-Score=0.20, Recall at largest F-score=0.33\n"
     ]
    },
    {
     "data": {
      "image/png": "[encoded data removed]",
      "text/plain": [
       "<Figure size 432x288 with 1 Axes>"
      ]
     },
     "metadata": {
      "needs_background": "light"
     },
     "output_type": "display_data"
    }
   ],
   "source": [
    "# convert to f score\n",
    "fscore = (2 * precision * recall) / (precision + recall)\n",
    "\n",
    "# nanargmax returns the indices of the maximum values in the specified axis ignoring NaNs\n",
    "# locate the index of the largest f score\n",
    "ix = nanargmax(fscore)\n",
    "\n",
    "print('Best Threshold=%.2f, F-Score=%.2f' % (thresholds[ix], fscore[ix]))\n",
    "print('Precision at largest F-Score=%.2f, Recall at largest F-score=%.2f' % (precision[ix], recall[ix]))\n",
    "\n",
    "\n",
    "# plot the roc curve for the model\n",
    "no_skill = len(testy[testy==1]) / len(testy)\n",
    "pyplot.plot([0,1], [no_skill,no_skill], linestyle='--', label='No Skill')\n",
    "pyplot.plot(recall, precision, marker='.', label='Logistic')\n",
    "pyplot.scatter(recall[ix], precision[ix], marker='o', color='black', label='Best F-Score')\n",
    "# axis labels\n",
    "pyplot.xlabel('Recall')\n",
    "pyplot.ylabel('Precision')\n",
    "pyplot.legend()\n",
    "# show the plot\n",
    "pyplot.show()"
   ]
  },
  {
   "cell_type": "code",
   "execution_count": 4,
   "metadata": {},
   "outputs": [
    {
     "name": "stderr",
     "output_type": "stream",
     "text": [
      "/Users/ssabouni/anaconda3/lib/python3.7/site-packages/ipykernel_launcher.py:3: RuntimeWarning: invalid value encountered in true_divide\n",
      "  This is separate from the ipykernel package so we can avoid doing imports until\n"
     ]
    },
    {
     "name": "stdout",
     "output_type": "stream",
     "text": [
      "Best Threshold=0.24, F0.5-Score=0.22\n",
      "Precision at largest F05 score=0.20, Recall at largest F05 score=0.33\n"
     ]
    },
    {
     "data": {
      "image/png": "[encoded data removed]",
      "text/plain": [
       "<Figure size 432x288 with 1 Axes>"
      ]
     },
     "metadata": {
      "needs_background": "light"
     },
     "output_type": "display_data"
    }
   ],
   "source": [
    "# convert to F0.5 score\n",
    "beta = 0.5 \n",
    "f05score = ( (1 + pow(0.5, 2)) * precision * recall ) / (pow(0.5, 2)* precision + recall )\n",
    "\n",
    "# locate the index of the largest f 0.5 score\n",
    "ix = nanargmax(f05score)\n",
    "\n",
    "print('Best Threshold=%.2f, F0.5-Score=%.2f' % (thresholds[ix], f05score[ix]))\n",
    "print('Precision at largest F05 score=%.2f, Recall at largest F05 score=%.2f' % (precision[ix], recall[ix]))\n",
    "\n",
    "\n",
    "# plot the roc curve for the model\n",
    "no_skill = len(testy[testy==1]) / len(testy)\n",
    "pyplot.plot([0,1], [no_skill,no_skill], linestyle='--', label='No Skill')\n",
    "pyplot.plot(recall, precision, marker='.', label='Logistic')\n",
    "pyplot.scatter(recall[ix], precision[ix], marker='o', color='black', label='Best F0.5 Score')\n",
    "# axis labels\n",
    "pyplot.xlabel('Recall')\n",
    "pyplot.ylabel('Precision')\n",
    "pyplot.legend()\n",
    "# show the plot\n",
    "pyplot.show()"
   ]
  },
  {
   "cell_type": "code",
   "execution_count": 5,
   "metadata": {},
   "outputs": [
    {
     "name": "stdout",
     "output_type": "stream",
     "text": [
      "F-Score: 0.00\n",
      "F0.5-Score: 0.00\n"
     ]
    }
   ],
   "source": [
    "# predict labels\n",
    "yhat = model.predict(testX)\n",
    "# evaluate the model\n",
    "f1 = f1_score(testy, yhat)\n",
    "print('F-Score: %.2f' % f1)\n",
    "\n",
    "from sklearn.metrics import fbeta_score\n",
    "f05 = fbeta_score(testy, yhat, beta=0.5)\n",
    "print('F0.5-Score: %.2f' % f05)\n",
    "\n",
    "# Therefore, using a 0.5 threshold results in an F1 score of 0\n",
    "# However, tuning threshold to 0.24 results in F1 score of 0.25\n",
    "\n",
    "# Therefore, using a 0.5 threshold results in an F0.5 score of 0\n",
    "# However, tuning threshold to 0.24 results in F0.5 score of 0.22"
   ]
  },
  {
   "cell_type": "code",
   "execution_count": 6,
   "metadata": {},
   "outputs": [
    {
     "name": "stdout",
     "output_type": "stream",
     "text": [
      "F-Score: 0.00000\n",
      "Threshold=0.19, F-Score=0.25\n"
     ]
    }
   ],
   "source": [
    "# Another method to find threshold\n",
    "# Find optimal threshold for F-score\n",
    "\n",
    "# apply threshold to positive probabilities to create labels\n",
    "def to_labels(pos_probs, threshold):\n",
    "\treturn (pos_probs >= threshold).astype('int')\n",
    "\n",
    "# predict labels\n",
    "yhat = model.predict(testX)\n",
    "# evaluate the model\n",
    "score = f1_score(testy, yhat)\n",
    "print('F-Score: %.5f' % score)\n",
    "\n",
    "# predict probabilities\n",
    "yhat = model.predict_proba(testX)\n",
    "\n",
    "# keep probabilities for the positive outcome only\n",
    "probs = yhat[:, 1]\n",
    "\n",
    "# define thresholds\n",
    "thresholds = arange(0, 1, 0.001)\n",
    "\n",
    "# evaluate each threshold\n",
    "scores = [f1_score(testy, to_labels(probs, t)) for t in thresholds]\n",
    "\n",
    "# get best threshold\n",
    "ix = argmax(scores)\n",
    "print('Threshold=%.2f, F-Score=%.2f' % (thresholds[ix], scores[ix]))\n"
   ]
  },
  {
   "cell_type": "code",
   "execution_count": 7,
   "metadata": {},
   "outputs": [
    {
     "name": "stdout",
     "output_type": "stream",
     "text": [
      "F0.5-Score: 0.00\n",
      "Threshold=0.19, F0.5-Score=0.22\n"
     ]
    }
   ],
   "source": [
    "# Another method to find threshold\n",
    "# Find optimal threshold for F05 Score\n",
    "\n",
    "# apply threshold to positive probabilities to create labels\n",
    "def to_labels(pos_probs, threshold):\n",
    "\treturn (pos_probs >= threshold).astype('int')\n",
    "\n",
    "\n",
    "# predict labels\n",
    "yhat = model.predict(testX)\n",
    "# evaluate the model\n",
    "f05 = fbeta_score(testy, yhat, beta=0.5)\n",
    "print('F0.5-Score: %.2f' % f05)\n",
    "\n",
    "# predict probabilities\n",
    "yhat = model.predict_proba(testX)\n",
    "\n",
    "# keep probabilities for the positive outcome only\n",
    "probs = yhat[:, 1]\n",
    "\n",
    "# define thresholds\n",
    "thresholds = arange(0, 1, 0.001)\n",
    "\n",
    "# define f0.5 score\n",
    "from sklearn.metrics import fbeta_score\n",
    "def f05(y_true, y_pred):\n",
    "    return fbeta_score(y_true, y_pred, beta=0.5)\n",
    "\n",
    "# evaluate each threshold\n",
    "scores = [f05(testy, to_labels(probs, t)) for t in thresholds]\n",
    "\n",
    "# get best threshold\n",
    "ix = argmax(scores)\n",
    "print('Threshold=%.2f, F0.5-Score=%.2f' % (thresholds[ix], scores[ix]))"
   ]
  },
  {
   "cell_type": "code",
   "execution_count": null,
   "metadata": {},
   "outputs": [],
   "source": []
  },
  {
   "cell_type": "code",
   "execution_count": null,
   "metadata": {},
   "outputs": [],
   "source": []
  }
 ],
 "metadata": {
  "kernelspec": {
   "display_name": "Python 3",
   "language": "python",
   "name": "python3"
  },
  "language_info": {
   "codemirror_mode": {
    "name": "ipython",
    "version": 3
   },
   "file_extension": ".py",
   "mimetype": "text/x-python",
   "name": "python",
   "nbconvert_exporter": "python",
   "pygments_lexer": "ipython3",
   "version": "3.7.6"
  }
 },
 "nbformat": 4,
 "nbformat_minor": 4
}
