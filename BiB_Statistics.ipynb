{
 "cells": [
  {
   "cell_type": "code",
   "execution_count": 1,
   "id": "bb0bed1d-ab40-4d70-8e2e-823552c18862",
   "metadata": {},
   "outputs": [],
   "source": [
    "# Importing the libraries\n",
    "import numpy as np\n",
    "import pandas as pd"
   ]
  },
  {
   "cell_type": "code",
   "execution_count": 2,
   "id": "2f313bc8-b5e8-4d10-9558-ceee310f7b96",
   "metadata": {},
   "outputs": [],
   "source": [
    "bib = pd.read_csv('BiBFullDataset.csv')\n",
    "\n",
    "# create new dataframe with non-GDM women only\n",
    "bib_gdm = bib[bib['gdm'] == 'Yes']\n",
    "bib_nonGdm = bib[bib['gdm'] == 'No']"
   ]
  },
  {
   "cell_type": "code",
   "execution_count": 10,
   "id": "87a0dce7-5c1b-4cf1-88e5-315f65962af0",
   "metadata": {},
   "outputs": [
    {
     "data": {
      "text/plain": [
       "No     12039\n",
       "Yes      938\n",
       "Name: lga, dtype: int64"
      ]
     },
     "execution_count": 10,
     "metadata": {},
     "output_type": "execute_result"
    }
   ],
   "source": [
    "bib['lga'].value_counts(dropna=False)\n",
    "#bib['lga'].value_counts(normalize=True, dropna=False)*100"
   ]
  },
  {
   "cell_type": "code",
   "execution_count": 5,
   "id": "48d32902-676f-48ca-a9b1-bada43510c31",
   "metadata": {},
   "outputs": [
    {
     "data": {
      "text/plain": [
       "(9744, 34)"
      ]
     },
     "execution_count": 5,
     "metadata": {},
     "output_type": "execute_result"
    }
   ],
   "source": [
    "bib_nonGdm.shape"
   ]
  },
  {
   "cell_type": "code",
   "execution_count": 30,
   "id": "cd5548ff-f1c4-4e0c-a871-433248ea2b9f",
   "metadata": {},
   "outputs": [],
   "source": [
    "import warnings\n",
    "warnings.filterwarnings(\"ignore\")"
   ]
  },
  {
   "cell_type": "code",
   "execution_count": 57,
   "id": "3ed307a0-ed91-44bc-a56d-9f9e26a5e9f5",
   "metadata": {},
   "outputs": [],
   "source": [
    "def findStats(df):\n",
    "    print(\"n = \" , len(df.index))\n",
    "    print (\"* NUMERICAL FEATURES *\")\n",
    "    print (\"MEAN\")\n",
    "    # finding the mean\n",
    "    print(df.mean().apply(lambda x: float(\"{:.1f}\".format(x))))\n",
    "    print (\"=========================================\")\n",
    "\n",
    "    print (\"STANDARD DEVIATION\")\n",
    "    # finding the Standard deviation\n",
    "    print(df.std().apply(lambda x: float(\"{:.1f}\".format(x))))\n",
    "    print (\"=========================================\")\n",
    "\n",
    "    \n",
    "    \n",
    "    print (\"* CATEGORICAL FEATURES *\")\n",
    "    \n",
    "    print(((df['ethnicity'].value_counts(normalize=True, dropna=False)*100).apply(lambda x: float(\"{:.1f}\".format(x)))))\n",
    "    print (\"=========================================\")\n",
    "    print(((df['maternalDiabetes'].value_counts(normalize=True, dropna=False)*100).apply(lambda x: float(\"{:.1f}\".format(x)))))\n",
    "    print (\"=========================================\")\n",
    "    print(((df['fhEclampsia'].value_counts(normalize=True, dropna=False)*100).apply(lambda x: float(\"{:.1f}\".format(x)))))\n",
    "    print (\"=========================================\")\n",
    "    print(((df['gdm'].value_counts(normalize=True, dropna=False)*100).apply(lambda x: float(\"{:.1f}\".format(x)))))\n",
    "    print (\"=========================================\")\n",
    "    print(((df['gdmDiet'].value_counts(normalize=True, dropna=False)*100).apply(lambda x: float(\"{:.1f}\".format(x)))))\n",
    "    print (\"=========================================\")\n",
    "    print(((df['gdmInsulin'].value_counts(normalize=True, dropna=False)*100).apply(lambda x: float(\"{:.1f}\".format(x)))))\n",
    "    print (\"=========================================\")\n",
    "    print(((df['gdmLifestyle'].value_counts(normalize=True, dropna=False)*100).apply(lambda x: float(\"{:.1f}\".format(x)))))\n",
    "    print (\"=========================================\")\n",
    "    print(((df['gdmMetformin'].value_counts(normalize=True, dropna=False)*100).apply(lambda x: float(\"{:.1f}\".format(x)))))   \n",
    "    print (\"=========================================\")\n",
    "    print(((df['gdmNoTreatment'].value_counts(normalize=True, dropna=False)*100).apply(lambda x: float(\"{:.1f}\".format(x)))))\n",
    "    print (\"=========================================\")\n",
    "    print(((df['gdmNotDoc'].value_counts(normalize=True, dropna=False)*100).apply(lambda x: float(\"{:.1f}\".format(x)))))\n",
    "    print (\"=========================================\")\n",
    "    print(((df['gestHypertension'].value_counts(normalize=True, dropna=False)*100).apply(lambda x: float(\"{:.1f}\".format(x)))))\n",
    "    print (\"=========================================\")\n",
    "    print(((df['gestEclampsia'].value_counts(normalize=True, dropna=False)*100).apply(lambda x: float(\"{:.1f}\".format(x)))))\n",
    "    print (\"=========================================\")\n",
    "    print(((df['fhDiabetes'].value_counts(normalize=True, dropna=False)*100).apply(lambda x: float(\"{:.1f}\".format(x)))))\n",
    "    print (\"=========================================\")\n",
    "    print(((df['pregdm'].value_counts(normalize=True, dropna=False)*100).apply(lambda x: float(\"{:.1f}\".format(x)))))\n",
    "    print (\"=========================================\")\n",
    "    print(((df['premacrosomia'].value_counts(normalize=True, dropna=False)*100).apply(lambda x: float(\"{:.1f}\".format(x)))))\n",
    "    print (\"=========================================\")\n",
    "    print(((df['lga'].value_counts(normalize=True, dropna=False)*100).apply(lambda x: float(\"{:.1f}\".format(x)))))"
   ]
  },
  {
   "cell_type": "markdown",
   "id": "84046879-8dbb-4b9e-a874-6347f4e015ce",
   "metadata": {},
   "source": [
    "# BiB"
   ]
  },
  {
   "cell_type": "code",
   "execution_count": 58,
   "id": "9566d219-4fc3-4713-9334-2b1f07880bbe",
   "metadata": {},
   "outputs": [
    {
     "name": "stdout",
     "output_type": "stream",
     "text": [
      "n =  12977\n",
      "* NUMERICAL FEATURES *\n",
      "MEAN\n",
      "maternalAge                  27.5\n",
      "parity                        1.2\n",
      "bookingWeight                67.8\n",
      "bookingBMI                   26.0\n",
      "thirdTrimesterWeight         77.4\n",
      "maternalHeight              161.6\n",
      "fastingGlucose                4.5\n",
      "postGlucose                   5.7\n",
      "meanAbdomCirc               235.0\n",
      "maxAbdomCirc                293.7\n",
      "minAbdomCirc                164.6\n",
      "varAbdomCirc               6382.9\n",
      "rangeAbdomCirc              129.2\n",
      "meanFoetalWeight           1455.5\n",
      "maxFoetalWeight            2343.1\n",
      "minFoetalWeight             504.4\n",
      "varFoetalWeight         1266833.9\n",
      "rangeFoetalWeight          1838.8\n",
      "dtype: float64\n",
      "=========================================\n",
      "STANDARD DEVIATION\n",
      "maternalAge                  5.6\n",
      "parity                       1.3\n",
      "bookingWeight               15.9\n",
      "bookingBMI                   5.7\n",
      "thirdTrimesterWeight        15.4\n",
      "maternalHeight               6.5\n",
      "fastingGlucose               0.6\n",
      "postGlucose                  1.5\n",
      "meanAbdomCirc               34.1\n",
      "maxAbdomCirc                42.2\n",
      "minAbdomCirc                39.4\n",
      "varAbdomCirc              4307.2\n",
      "rangeAbdomCirc              51.6\n",
      "meanFoetalWeight           487.0\n",
      "maxFoetalWeight            716.3\n",
      "minFoetalWeight            451.1\n",
      "varFoetalWeight         909575.7\n",
      "rangeFoetalWeight          768.5\n",
      "dtype: float64\n",
      "=========================================\n",
      "* CATEGORICAL FEATURES *\n",
      "South Asian    42.5\n",
      "White          34.8\n",
      "NaN            17.5\n",
      "Other           5.2\n",
      "Name: ethnicity, dtype: float64\n",
      "=========================================\n",
      "No     95.2\n",
      "NaN     4.3\n",
      "Yes     0.5\n",
      "Name: maternalDiabetes, dtype: float64\n",
      "=========================================\n",
      "No                78.9\n",
      "NaN               18.4\n",
      "Not documented     2.1\n",
      "Yes                0.6\n",
      "Name: fhEclampsia, dtype: float64\n",
      "=========================================\n",
      "No     75.1\n",
      "NaN    18.4\n",
      "Yes     6.5\n",
      "Name: gdm, dtype: float64\n",
      "=========================================\n",
      "No     96.4\n",
      "Yes     3.6\n",
      "Name: gdmDiet, dtype: float64\n",
      "=========================================\n",
      "No     95.7\n",
      "Yes     4.3\n",
      "Name: gdmInsulin, dtype: float64\n",
      "=========================================\n",
      "No     97.5\n",
      "Yes     2.5\n",
      "Name: gdmLifestyle, dtype: float64\n",
      "=========================================\n",
      "No     99.6\n",
      "Yes     0.4\n",
      "Name: gdmMetformin, dtype: float64\n",
      "=========================================\n",
      "No     87.5\n",
      "Yes    12.5\n",
      "Name: gdmNoTreatment, dtype: float64\n",
      "=========================================\n",
      "No                99.8\n",
      "Not documented     0.2\n",
      "Name: gdmNotDoc, dtype: float64\n",
      "=========================================\n",
      "No     73.8\n",
      "NaN    18.5\n",
      "Yes     7.7\n",
      "Name: gestHypertension, dtype: float64\n",
      "=========================================\n",
      "No     79.5\n",
      "NaN    18.5\n",
      "Yes     2.0\n",
      "Name: gestEclampsia, dtype: float64\n",
      "=========================================\n",
      "No                59.4\n",
      "Yes               20.6\n",
      "NaN               18.4\n",
      "Not documented     1.6\n",
      "Name: fhDiabetes, dtype: float64\n",
      "=========================================\n",
      "NaN    64.1\n",
      "No     34.8\n",
      "Yes     1.1\n",
      "Name: pregdm, dtype: float64\n",
      "=========================================\n",
      "NaN    55.8\n",
      "No     40.5\n",
      "Yes     3.7\n",
      "Name: premacrosomia, dtype: float64\n",
      "=========================================\n",
      "No     92.8\n",
      "Yes     7.2\n",
      "Name: lga, dtype: float64\n"
     ]
    }
   ],
   "source": [
    "findStats(bib)"
   ]
  },
  {
   "cell_type": "markdown",
   "id": "a87a2b98-b765-4963-b143-b35d4289ac1d",
   "metadata": {},
   "source": [
    "# BiB-GDM"
   ]
  },
  {
   "cell_type": "code",
   "execution_count": 59,
   "id": "73807d37-6cdd-4969-9d10-27fd8b16f8f8",
   "metadata": {},
   "outputs": [
    {
     "name": "stdout",
     "output_type": "stream",
     "text": [
      "n =  848\n",
      "* NUMERICAL FEATURES *\n",
      "MEAN\n",
      "maternalAge                  30.6\n",
      "parity                        1.6\n",
      "bookingWeight                72.4\n",
      "bookingBMI                   28.4\n",
      "thirdTrimesterWeight         79.4\n",
      "maternalHeight              159.6\n",
      "fastingGlucose                5.3\n",
      "postGlucose                   9.0\n",
      "meanAbdomCirc               262.6\n",
      "maxAbdomCirc                319.5\n",
      "minAbdomCirc                176.6\n",
      "varAbdomCirc               4718.4\n",
      "rangeAbdomCirc              142.9\n",
      "meanFoetalWeight           1840.1\n",
      "maxFoetalWeight            2831.0\n",
      "minFoetalWeight             648.2\n",
      "varFoetalWeight         1037495.1\n",
      "rangeFoetalWeight          2182.8\n",
      "dtype: float64\n",
      "=========================================\n",
      "STANDARD DEVIATION\n",
      "maternalAge                  5.5\n",
      "parity                       1.6\n",
      "bookingWeight               17.0\n",
      "bookingBMI                   6.1\n",
      "thirdTrimesterWeight        15.3\n",
      "maternalHeight               6.4\n",
      "fastingGlucose               1.1\n",
      "postGlucose                  2.0\n",
      "meanAbdomCirc               24.3\n",
      "maxAbdomCirc                20.3\n",
      "minAbdomCirc                50.6\n",
      "varAbdomCirc              2687.3\n",
      "rangeAbdomCirc              51.6\n",
      "meanFoetalWeight           371.7\n",
      "maxFoetalWeight            409.7\n",
      "minFoetalWeight            600.0\n",
      "varFoetalWeight         520743.8\n",
      "rangeFoetalWeight          673.1\n",
      "dtype: float64\n",
      "=========================================\n",
      "* CATEGORICAL FEATURES *\n",
      "South Asian    66.2\n",
      "White          24.3\n",
      "Other           5.2\n",
      "NaN             4.4\n",
      "Name: ethnicity, dtype: float64\n",
      "=========================================\n",
      "No     90.9\n",
      "NaN     7.3\n",
      "Yes     1.8\n",
      "Name: maternalDiabetes, dtype: float64\n",
      "=========================================\n",
      "No                91.4\n",
      "Not documented     7.3\n",
      "Yes                1.1\n",
      "NaN                0.2\n",
      "Name: fhEclampsia, dtype: float64\n",
      "=========================================\n",
      "Yes    100.0\n",
      "Name: gdm, dtype: float64\n",
      "=========================================\n",
      "Yes    53.7\n",
      "No     46.3\n",
      "Name: gdmDiet, dtype: float64\n",
      "=========================================\n",
      "Yes    64.2\n",
      "No     35.8\n",
      "Name: gdmInsulin, dtype: float64\n",
      "=========================================\n",
      "No     63.1\n",
      "Yes    36.9\n",
      "Name: gdmLifestyle, dtype: float64\n",
      "=========================================\n",
      "No     94.1\n",
      "Yes     5.9\n",
      "Name: gdmMetformin, dtype: float64\n",
      "=========================================\n",
      "No     97.9\n",
      "Yes     2.1\n",
      "Name: gdmNoTreatment, dtype: float64\n",
      "=========================================\n",
      "No                99.3\n",
      "Not documented     0.7\n",
      "Name: gdmNotDoc, dtype: float64\n",
      "=========================================\n",
      "No     88.2\n",
      "Yes    11.7\n",
      "NaN     0.1\n",
      "Name: gestHypertension, dtype: float64\n",
      "=========================================\n",
      "No     97.3\n",
      "Yes     2.6\n",
      "NaN     0.1\n",
      "Name: gestEclampsia, dtype: float64\n",
      "=========================================\n",
      "No                60.7\n",
      "Yes               37.5\n",
      "Not documented     1.8\n",
      "Name: fhDiabetes, dtype: float64\n",
      "=========================================\n",
      "No     48.8\n",
      "NaN    43.5\n",
      "Yes     7.7\n",
      "Name: pregdm, dtype: float64\n",
      "=========================================\n",
      "No     53.4\n",
      "NaN    38.8\n",
      "Yes     7.8\n",
      "Name: premacrosomia, dtype: float64\n",
      "=========================================\n",
      "No     89.7\n",
      "Yes    10.3\n",
      "Name: lga, dtype: float64\n"
     ]
    }
   ],
   "source": [
    "findStats(bib_gdm)"
   ]
  },
  {
   "cell_type": "markdown",
   "id": "a652b35d-5177-4859-a6f6-74d8161b80cb",
   "metadata": {},
   "source": [
    "# BiB - non-GDM"
   ]
  },
  {
   "cell_type": "code",
   "execution_count": 60,
   "id": "7779a15a-1788-4d20-a2dc-5a71642f0141",
   "metadata": {},
   "outputs": [
    {
     "name": "stdout",
     "output_type": "stream",
     "text": [
      "n =  9744\n",
      "* NUMERICAL FEATURES *\n",
      "MEAN\n",
      "maternalAge                  27.3\n",
      "parity                        1.1\n",
      "bookingWeight                67.8\n",
      "bookingBMI                   25.9\n",
      "thirdTrimesterWeight         77.3\n",
      "maternalHeight              161.8\n",
      "fastingGlucose                4.5\n",
      "postGlucose                   5.4\n",
      "meanAbdomCirc               229.3\n",
      "maxAbdomCirc                289.0\n",
      "minAbdomCirc                161.7\n",
      "varAbdomCirc               6890.1\n",
      "rangeAbdomCirc              127.4\n",
      "meanFoetalWeight           1380.0\n",
      "maxFoetalWeight            2251.4\n",
      "minFoetalWeight             471.3\n",
      "varFoetalWeight         1343209.7\n",
      "rangeFoetalWeight          1780.1\n",
      "dtype: float64\n",
      "=========================================\n",
      "STANDARD DEVIATION\n",
      "maternalAge                  5.5\n",
      "parity                       1.2\n",
      "bookingWeight               15.9\n",
      "bookingBMI                   5.6\n",
      "thirdTrimesterWeight        15.4\n",
      "maternalHeight               6.5\n",
      "fastingGlucose               0.4\n",
      "postGlucose                  1.1\n",
      "meanAbdomCirc               32.8\n",
      "maxAbdomCirc                42.7\n",
      "minAbdomCirc                36.1\n",
      "varAbdomCirc              4472.0\n",
      "rangeAbdomCirc              50.4\n",
      "meanFoetalWeight           466.9\n",
      "maxFoetalWeight            710.7\n",
      "minFoetalWeight            410.1\n",
      "varFoetalWeight         957898.0\n",
      "rangeFoetalWeight          756.3\n",
      "dtype: float64\n",
      "=========================================\n",
      "* CATEGORICAL FEATURES *\n",
      "South Asian    48.3\n",
      "White          42.2\n",
      "Other           6.0\n",
      "NaN             3.5\n",
      "Name: ethnicity, dtype: float64\n",
      "=========================================\n",
      "No     96.2\n",
      "NaN     3.8\n",
      "Yes     0.0\n",
      "Name: maternalDiabetes, dtype: float64\n",
      "=========================================\n",
      "No                97.0\n",
      "Not documented     2.2\n",
      "Yes                0.7\n",
      "NaN                0.1\n",
      "Name: fhEclampsia, dtype: float64\n",
      "=========================================\n",
      "No    100.0\n",
      "Name: gdm, dtype: float64\n",
      "=========================================\n",
      "No     99.9\n",
      "Yes     0.1\n",
      "Name: gdmDiet, dtype: float64\n",
      "=========================================\n",
      "No     99.9\n",
      "Yes     0.1\n",
      "Name: gdmInsulin, dtype: float64\n",
      "=========================================\n",
      "No     99.9\n",
      "Yes     0.1\n",
      "Name: gdmLifestyle, dtype: float64\n",
      "=========================================\n",
      "No    100.0\n",
      "Name: gdmMetformin, dtype: float64\n",
      "=========================================\n",
      "No     83.6\n",
      "Yes    16.4\n",
      "Name: gdmNoTreatment, dtype: float64\n",
      "=========================================\n",
      "No                99.8\n",
      "Not documented     0.2\n",
      "Name: gdmNotDoc, dtype: float64\n",
      "=========================================\n",
      "No     90.5\n",
      "Yes     9.3\n",
      "NaN     0.2\n",
      "Name: gestHypertension, dtype: float64\n",
      "=========================================\n",
      "No     97.3\n",
      "Yes     2.5\n",
      "NaN     0.2\n",
      "Name: gestEclampsia, dtype: float64\n",
      "=========================================\n",
      "No                73.7\n",
      "Yes               24.2\n",
      "Not documented     2.0\n",
      "NaN                0.1\n",
      "Name: fhDiabetes, dtype: float64\n",
      "=========================================\n",
      "NaN    58.5\n",
      "No     40.8\n",
      "Yes     0.7\n",
      "Name: pregdm, dtype: float64\n",
      "=========================================\n",
      "NaN    48.4\n",
      "No     47.5\n",
      "Yes     4.1\n",
      "Name: premacrosomia, dtype: float64\n",
      "=========================================\n",
      "No     92.9\n",
      "Yes     7.1\n",
      "Name: lga, dtype: float64\n"
     ]
    }
   ],
   "source": [
    "findStats(bib_nonGdm)"
   ]
  },
  {
   "cell_type": "markdown",
   "id": "7b7dc8da-6d89-4e61-a268-14a474fab1a8",
   "metadata": {
    "tags": []
   },
   "source": [
    "# BiB"
   ]
  },
  {
   "cell_type": "code",
   "execution_count": 3,
   "id": "68f2b4d8-7583-4a5f-a2ee-a82f00a0ea1c",
   "metadata": {},
   "outputs": [
    {
     "data": {
      "text/html": [
       "<div>\n",
       "<style scoped>\n",
       "    .dataframe tbody tr th:only-of-type {\n",
       "        vertical-align: middle;\n",
       "    }\n",
       "\n",
       "    .dataframe tbody tr th {\n",
       "        vertical-align: top;\n",
       "    }\n",
       "\n",
       "    .dataframe thead th {\n",
       "        text-align: right;\n",
       "    }\n",
       "</style>\n",
       "<table border=\"1\" class=\"dataframe\">\n",
       "  <thead>\n",
       "    <tr style=\"text-align: right;\">\n",
       "      <th></th>\n",
       "      <th>ethnicity</th>\n",
       "      <th>maternalDiabetes</th>\n",
       "      <th>fhEclampsia</th>\n",
       "      <th>gdm</th>\n",
       "      <th>gdmDiet</th>\n",
       "      <th>gdmInsulin</th>\n",
       "      <th>gdmLifestyle</th>\n",
       "      <th>gdmMetformin</th>\n",
       "      <th>gdmNoTreatment</th>\n",
       "      <th>gdmNotDoc</th>\n",
       "      <th>...</th>\n",
       "      <th>maxAbdomCirc</th>\n",
       "      <th>minAbdomCirc</th>\n",
       "      <th>varAbdomCirc</th>\n",
       "      <th>rangeAbdomCirc</th>\n",
       "      <th>meanFoetalWeight</th>\n",
       "      <th>maxFoetalWeight</th>\n",
       "      <th>minFoetalWeight</th>\n",
       "      <th>varFoetalWeight</th>\n",
       "      <th>rangeFoetalWeight</th>\n",
       "      <th>lga</th>\n",
       "    </tr>\n",
       "  </thead>\n",
       "  <tbody>\n",
       "    <tr>\n",
       "      <th>0</th>\n",
       "      <td>White</td>\n",
       "      <td>No</td>\n",
       "      <td>No</td>\n",
       "      <td>No</td>\n",
       "      <td>No</td>\n",
       "      <td>No</td>\n",
       "      <td>No</td>\n",
       "      <td>No</td>\n",
       "      <td>Yes</td>\n",
       "      <td>No</td>\n",
       "      <td>...</td>\n",
       "      <td>358.0</td>\n",
       "      <td>256.0</td>\n",
       "      <td>2617.333333</td>\n",
       "      <td>102.0</td>\n",
       "      <td>2496.0</td>\n",
       "      <td>3664.0</td>\n",
       "      <td>1410.0</td>\n",
       "      <td>1275172.0</td>\n",
       "      <td>2254.0</td>\n",
       "      <td>Yes</td>\n",
       "    </tr>\n",
       "    <tr>\n",
       "      <th>1</th>\n",
       "      <td>South Asian</td>\n",
       "      <td>No</td>\n",
       "      <td>No</td>\n",
       "      <td>No</td>\n",
       "      <td>No</td>\n",
       "      <td>No</td>\n",
       "      <td>No</td>\n",
       "      <td>No</td>\n",
       "      <td>No</td>\n",
       "      <td>No</td>\n",
       "      <td>...</td>\n",
       "      <td>NaN</td>\n",
       "      <td>NaN</td>\n",
       "      <td>NaN</td>\n",
       "      <td>NaN</td>\n",
       "      <td>NaN</td>\n",
       "      <td>NaN</td>\n",
       "      <td>NaN</td>\n",
       "      <td>NaN</td>\n",
       "      <td>NaN</td>\n",
       "      <td>No</td>\n",
       "    </tr>\n",
       "    <tr>\n",
       "      <th>2</th>\n",
       "      <td>South Asian</td>\n",
       "      <td>No</td>\n",
       "      <td>No</td>\n",
       "      <td>No</td>\n",
       "      <td>No</td>\n",
       "      <td>No</td>\n",
       "      <td>No</td>\n",
       "      <td>No</td>\n",
       "      <td>No</td>\n",
       "      <td>No</td>\n",
       "      <td>...</td>\n",
       "      <td>NaN</td>\n",
       "      <td>NaN</td>\n",
       "      <td>NaN</td>\n",
       "      <td>NaN</td>\n",
       "      <td>NaN</td>\n",
       "      <td>NaN</td>\n",
       "      <td>NaN</td>\n",
       "      <td>NaN</td>\n",
       "      <td>NaN</td>\n",
       "      <td>No</td>\n",
       "    </tr>\n",
       "    <tr>\n",
       "      <th>3</th>\n",
       "      <td>South Asian</td>\n",
       "      <td>No</td>\n",
       "      <td>No</td>\n",
       "      <td>No</td>\n",
       "      <td>No</td>\n",
       "      <td>No</td>\n",
       "      <td>No</td>\n",
       "      <td>No</td>\n",
       "      <td>No</td>\n",
       "      <td>No</td>\n",
       "      <td>...</td>\n",
       "      <td>348.0</td>\n",
       "      <td>167.0</td>\n",
       "      <td>5038.000000</td>\n",
       "      <td>181.0</td>\n",
       "      <td>1789.4</td>\n",
       "      <td>3534.0</td>\n",
       "      <td>388.0</td>\n",
       "      <td>1526305.3</td>\n",
       "      <td>3146.0</td>\n",
       "      <td>No</td>\n",
       "    </tr>\n",
       "    <tr>\n",
       "      <th>4</th>\n",
       "      <td>South Asian</td>\n",
       "      <td>No</td>\n",
       "      <td>No</td>\n",
       "      <td>No</td>\n",
       "      <td>No</td>\n",
       "      <td>No</td>\n",
       "      <td>No</td>\n",
       "      <td>No</td>\n",
       "      <td>Yes</td>\n",
       "      <td>No</td>\n",
       "      <td>...</td>\n",
       "      <td>NaN</td>\n",
       "      <td>NaN</td>\n",
       "      <td>NaN</td>\n",
       "      <td>NaN</td>\n",
       "      <td>NaN</td>\n",
       "      <td>NaN</td>\n",
       "      <td>NaN</td>\n",
       "      <td>NaN</td>\n",
       "      <td>NaN</td>\n",
       "      <td>No</td>\n",
       "    </tr>\n",
       "  </tbody>\n",
       "</table>\n",
       "<p>5 rows × 34 columns</p>\n",
       "</div>"
      ],
      "text/plain": [
       "     ethnicity maternalDiabetes fhEclampsia gdm gdmDiet gdmInsulin  \\\n",
       "0        White               No          No  No      No         No   \n",
       "1  South Asian               No          No  No      No         No   \n",
       "2  South Asian               No          No  No      No         No   \n",
       "3  South Asian               No          No  No      No         No   \n",
       "4  South Asian               No          No  No      No         No   \n",
       "\n",
       "  gdmLifestyle gdmMetformin gdmNoTreatment gdmNotDoc  ... maxAbdomCirc  \\\n",
       "0           No           No            Yes        No  ...        358.0   \n",
       "1           No           No             No        No  ...          NaN   \n",
       "2           No           No             No        No  ...          NaN   \n",
       "3           No           No             No        No  ...        348.0   \n",
       "4           No           No            Yes        No  ...          NaN   \n",
       "\n",
       "  minAbdomCirc varAbdomCirc rangeAbdomCirc meanFoetalWeight  maxFoetalWeight  \\\n",
       "0        256.0  2617.333333          102.0           2496.0           3664.0   \n",
       "1          NaN          NaN            NaN              NaN              NaN   \n",
       "2          NaN          NaN            NaN              NaN              NaN   \n",
       "3        167.0  5038.000000          181.0           1789.4           3534.0   \n",
       "4          NaN          NaN            NaN              NaN              NaN   \n",
       "\n",
       "   minFoetalWeight  varFoetalWeight  rangeFoetalWeight  lga  \n",
       "0           1410.0        1275172.0             2254.0  Yes  \n",
       "1              NaN              NaN                NaN   No  \n",
       "2              NaN              NaN                NaN   No  \n",
       "3            388.0        1526305.3             3146.0   No  \n",
       "4              NaN              NaN                NaN   No  \n",
       "\n",
       "[5 rows x 34 columns]"
      ]
     },
     "execution_count": 4,
     "metadata": {},
     "output_type": "execute_result"
    }
   ],
   "source": [
    "df.head()"
   ]
  },
  {
   "cell_type": "code",
   "execution_count": 12,
   "id": "98dc90aa-972d-4f34-8fc9-f1240be45dd0",
   "metadata": {},
   "outputs": [
    {
     "name": "stdout",
     "output_type": "stream",
     "text": [
      "maternalAge                  27.5\n",
      "parity                        1.2\n",
      "bookingWeight                67.8\n",
      "bookingBMI                   26.0\n",
      "thirdTrimesterWeight         77.4\n",
      "maternalHeight              161.6\n",
      "fastingGlucose                4.5\n",
      "postGlucose                   5.7\n",
      "meanAbdomCirc               235.0\n",
      "maxAbdomCirc                293.7\n",
      "minAbdomCirc                164.6\n",
      "varAbdomCirc               6382.9\n",
      "rangeAbdomCirc              129.2\n",
      "meanFoetalWeight           1455.5\n",
      "maxFoetalWeight            2343.1\n",
      "minFoetalWeight             504.4\n",
      "varFoetalWeight         1266833.9\n",
      "rangeFoetalWeight          1838.8\n",
      "dtype: float64\n"
     ]
    },
    {
     "name": "stderr",
     "output_type": "stream",
     "text": [
      "/Users/ssabouni/anaconda3/lib/python3.7/site-packages/ipykernel_launcher.py:2: FutureWarning: Dropping of nuisance columns in DataFrame reductions (with 'numeric_only=None') is deprecated; in a future version this will raise TypeError.  Select only valid columns before calling the reduction.\n",
      "  \n"
     ]
    }
   ],
   "source": [
    "# finding the mean\n",
    "print(df.mean().apply(lambda x: float(\"{:.1f}\".format(x))))"
   ]
  },
  {
   "cell_type": "code",
   "execution_count": 13,
   "id": "bc87bd9b-6b3a-4221-9ae8-efc9400c558e",
   "metadata": {},
   "outputs": [
    {
     "name": "stdout",
     "output_type": "stream",
     "text": [
      "maternalAge                  5.6\n",
      "parity                       1.3\n",
      "bookingWeight               15.9\n",
      "bookingBMI                   5.7\n",
      "thirdTrimesterWeight        15.4\n",
      "maternalHeight               6.5\n",
      "fastingGlucose               0.6\n",
      "postGlucose                  1.5\n",
      "meanAbdomCirc               34.1\n",
      "maxAbdomCirc                42.2\n",
      "minAbdomCirc                39.4\n",
      "varAbdomCirc              4307.2\n",
      "rangeAbdomCirc              51.6\n",
      "meanFoetalWeight           487.0\n",
      "maxFoetalWeight            716.3\n",
      "minFoetalWeight            451.1\n",
      "varFoetalWeight         909575.7\n",
      "rangeFoetalWeight          768.5\n",
      "dtype: float64\n"
     ]
    },
    {
     "name": "stderr",
     "output_type": "stream",
     "text": [
      "/Users/ssabouni/anaconda3/lib/python3.7/site-packages/ipykernel_launcher.py:2: FutureWarning: Dropping of nuisance columns in DataFrame reductions (with 'numeric_only=None') is deprecated; in a future version this will raise TypeError.  Select only valid columns before calling the reduction.\n",
      "  \n"
     ]
    }
   ],
   "source": [
    "# finding the Standard deviation\n",
    "print(df.std().apply(lambda x: float(\"{:.1f}\".format(x))))"
   ]
  },
  {
   "cell_type": "code",
   "execution_count": 14,
   "id": "8c1d0d41-fcbe-42d0-b808-f14d1649e77a",
   "metadata": {},
   "outputs": [
    {
     "name": "stdout",
     "output_type": "stream",
     "text": [
      "<class 'pandas.core.frame.DataFrame'>\n",
      "RangeIndex: 12977 entries, 0 to 12976\n",
      "Data columns (total 34 columns):\n",
      " #   Column                Non-Null Count  Dtype  \n",
      "---  ------                --------------  -----  \n",
      " 0   ethnicity             10706 non-null  object \n",
      " 1   maternalDiabetes      12422 non-null  object \n",
      " 2   fhEclampsia           10594 non-null  object \n",
      " 3   gdm                   10592 non-null  object \n",
      " 4   gdmDiet               12977 non-null  object \n",
      " 5   gdmInsulin            12977 non-null  object \n",
      " 6   gdmLifestyle          12977 non-null  object \n",
      " 7   gdmMetformin          12977 non-null  object \n",
      " 8   gdmNoTreatment        12977 non-null  object \n",
      " 9   gdmNotDoc             12977 non-null  object \n",
      " 10  gestHypertension      10582 non-null  object \n",
      " 11  gestEclampsia         10582 non-null  object \n",
      " 12  fhDiabetes            10594 non-null  object \n",
      " 13  pregdm                4653 non-null   object \n",
      " 14  premacrosomia         5740 non-null   object \n",
      " 15  maternalAge           12977 non-null  int64  \n",
      " 16  parity                12507 non-null  float64\n",
      " 17  bookingWeight         12541 non-null  float64\n",
      " 18  bookingBMI            10199 non-null  float64\n",
      " 19  thirdTrimesterWeight  6179 non-null   float64\n",
      " 20  maternalHeight        10494 non-null  float64\n",
      " 21  fastingGlucose        11622 non-null  float64\n",
      " 22  postGlucose           11604 non-null  float64\n",
      " 23  meanAbdomCirc         6129 non-null   float64\n",
      " 24  maxAbdomCirc          6129 non-null   float64\n",
      " 25  minAbdomCirc          6129 non-null   float64\n",
      " 26  varAbdomCirc          6129 non-null   float64\n",
      " 27  rangeAbdomCirc        6129 non-null   float64\n",
      " 28  meanFoetalWeight      6104 non-null   float64\n",
      " 29  maxFoetalWeight       6104 non-null   float64\n",
      " 30  minFoetalWeight       6104 non-null   float64\n",
      " 31  varFoetalWeight       6104 non-null   float64\n",
      " 32  rangeFoetalWeight     6104 non-null   float64\n",
      " 33  lga                   12977 non-null  object \n",
      "dtypes: float64(17), int64(1), object(16)\n",
      "memory usage: 3.4+ MB\n"
     ]
    }
   ],
   "source": [
    "df.info()"
   ]
  },
  {
   "cell_type": "code",
   "execution_count": 12,
   "id": "45a5ba12-4e59-4b3f-b6c2-d38327fc22b5",
   "metadata": {},
   "outputs": [
    {
     "data": {
      "text/plain": [
       "South Asian    42.5\n",
       "White          34.8\n",
       "NaN            17.5\n",
       "Other           5.2\n",
       "Name: ethnicity, dtype: float64"
      ]
     },
     "execution_count": 12,
     "metadata": {},
     "output_type": "execute_result"
    }
   ],
   "source": [
    "(bib['ethnicity'].value_counts(normalize=True, dropna=False)*100).apply(lambda x: float(\"{:.1f}\".format(x)))"
   ]
  },
  {
   "cell_type": "code",
   "execution_count": 21,
   "id": "9bed9f1c-8417-4c49-907a-46e1e2e84301",
   "metadata": {},
   "outputs": [
    {
     "data": {
      "text/plain": [
       "No     95.2\n",
       "NaN     4.3\n",
       "Yes     0.5\n",
       "Name: maternalDiabetes, dtype: float64"
      ]
     },
     "execution_count": 21,
     "metadata": {},
     "output_type": "execute_result"
    }
   ],
   "source": [
    "(df['maternalDiabetes'].value_counts(normalize=True, dropna=False)*100).apply(lambda x: float(\"{:.1f}\".format(x)))"
   ]
  },
  {
   "cell_type": "code",
   "execution_count": 22,
   "id": "5ea69c88-f328-42cd-96fa-e9fe65a53119",
   "metadata": {},
   "outputs": [
    {
     "data": {
      "text/plain": [
       "No                78.9\n",
       "NaN               18.4\n",
       "Not documented     2.1\n",
       "Yes                0.6\n",
       "Name: fhEclampsia, dtype: float64"
      ]
     },
     "execution_count": 22,
     "metadata": {},
     "output_type": "execute_result"
    }
   ],
   "source": [
    "(df['fhEclampsia'].value_counts(normalize=True, dropna=False)*100).apply(lambda x: float(\"{:.1f}\".format(x)))"
   ]
  },
  {
   "cell_type": "code",
   "execution_count": 23,
   "id": "d8081306-66c4-477a-92a0-0a0bd9094ab6",
   "metadata": {},
   "outputs": [
    {
     "data": {
      "text/plain": [
       "No     75.1\n",
       "NaN    18.4\n",
       "Yes     6.5\n",
       "Name: gdm, dtype: float64"
      ]
     },
     "execution_count": 23,
     "metadata": {},
     "output_type": "execute_result"
    }
   ],
   "source": [
    "(df['gdm'].value_counts(normalize=True, dropna=False)*100).apply(lambda x: float(\"{:.1f}\".format(x)))"
   ]
  },
  {
   "cell_type": "code",
   "execution_count": 24,
   "id": "b2a13747-0908-4fbb-8e69-c3d08f2f3d15",
   "metadata": {},
   "outputs": [
    {
     "data": {
      "text/plain": [
       "No     96.4\n",
       "Yes     3.6\n",
       "Name: gdmDiet, dtype: float64"
      ]
     },
     "execution_count": 24,
     "metadata": {},
     "output_type": "execute_result"
    }
   ],
   "source": [
    "(df['gdmDiet'].value_counts(normalize=True, dropna=False)*100).apply(lambda x: float(\"{:.1f}\".format(x)))"
   ]
  },
  {
   "cell_type": "code",
   "execution_count": 25,
   "id": "63446966-0e7f-4f14-868e-a598d69722db",
   "metadata": {},
   "outputs": [
    {
     "data": {
      "text/plain": [
       "No     95.7\n",
       "Yes     4.3\n",
       "Name: gdmInsulin, dtype: float64"
      ]
     },
     "execution_count": 25,
     "metadata": {},
     "output_type": "execute_result"
    }
   ],
   "source": [
    "(df['gdmInsulin'].value_counts(normalize=True, dropna=False)*100).apply(lambda x: float(\"{:.1f}\".format(x)))"
   ]
  },
  {
   "cell_type": "code",
   "execution_count": 26,
   "id": "695f961b-04a2-47c6-a32c-c9815ee4dca6",
   "metadata": {},
   "outputs": [
    {
     "data": {
      "text/plain": [
       "No     97.5\n",
       "Yes     2.5\n",
       "Name: gdmLifestyle, dtype: float64"
      ]
     },
     "execution_count": 26,
     "metadata": {},
     "output_type": "execute_result"
    }
   ],
   "source": [
    "(df['gdmLifestyle'].value_counts(normalize=True, dropna=False)*100).apply(lambda x: float(\"{:.1f}\".format(x)))"
   ]
  },
  {
   "cell_type": "code",
   "execution_count": 27,
   "id": "b545cd3b-9899-4dff-9942-ad3ac54111de",
   "metadata": {},
   "outputs": [
    {
     "data": {
      "text/plain": [
       "No     99.6\n",
       "Yes     0.4\n",
       "Name: gdmMetformin, dtype: float64"
      ]
     },
     "execution_count": 27,
     "metadata": {},
     "output_type": "execute_result"
    }
   ],
   "source": [
    "(df['gdmMetformin'].value_counts(normalize=True, dropna=False)*100).apply(lambda x: float(\"{:.1f}\".format(x)))"
   ]
  },
  {
   "cell_type": "code",
   "execution_count": 28,
   "id": "b3ae4a55-d030-42c8-ad5a-965491d7ed1b",
   "metadata": {},
   "outputs": [
    {
     "data": {
      "text/plain": [
       "No     87.5\n",
       "Yes    12.5\n",
       "Name: gdmNoTreatment, dtype: float64"
      ]
     },
     "execution_count": 28,
     "metadata": {},
     "output_type": "execute_result"
    }
   ],
   "source": [
    "(df['gdmNoTreatment'].value_counts(normalize=True, dropna=False)*100).apply(lambda x: float(\"{:.1f}\".format(x)))"
   ]
  },
  {
   "cell_type": "code",
   "execution_count": 29,
   "id": "d7845bf0-d028-47e3-b397-54fbe2a030e4",
   "metadata": {},
   "outputs": [
    {
     "data": {
      "text/plain": [
       "No                99.8\n",
       "Not documented     0.2\n",
       "Name: gdmNotDoc, dtype: float64"
      ]
     },
     "execution_count": 29,
     "metadata": {},
     "output_type": "execute_result"
    }
   ],
   "source": [
    "(df['gdmNotDoc'].value_counts(normalize=True, dropna=False)*100).apply(lambda x: float(\"{:.1f}\".format(x)))"
   ]
  },
  {
   "cell_type": "code",
   "execution_count": 30,
   "id": "8d919025-bca0-4e02-aead-a6ac28c3fa4b",
   "metadata": {},
   "outputs": [
    {
     "data": {
      "text/plain": [
       "No     73.8\n",
       "NaN    18.5\n",
       "Yes     7.7\n",
       "Name: gestHypertension, dtype: float64"
      ]
     },
     "execution_count": 30,
     "metadata": {},
     "output_type": "execute_result"
    }
   ],
   "source": [
    "(df['gestHypertension'].value_counts(normalize=True, dropna=False)*100).apply(lambda x: float(\"{:.1f}\".format(x)))"
   ]
  },
  {
   "cell_type": "code",
   "execution_count": 31,
   "id": "cb38b3a2-2f33-4e31-86f5-87d599ef2453",
   "metadata": {},
   "outputs": [
    {
     "data": {
      "text/plain": [
       "No     79.5\n",
       "NaN    18.5\n",
       "Yes     2.0\n",
       "Name: gestEclampsia, dtype: float64"
      ]
     },
     "execution_count": 31,
     "metadata": {},
     "output_type": "execute_result"
    }
   ],
   "source": [
    "(df['gestEclampsia'].value_counts(normalize=True, dropna=False)*100).apply(lambda x: float(\"{:.1f}\".format(x)))"
   ]
  },
  {
   "cell_type": "code",
   "execution_count": 32,
   "id": "40485608-4729-46ab-90c5-e82a75c33a64",
   "metadata": {},
   "outputs": [
    {
     "data": {
      "text/plain": [
       "No                59.4\n",
       "Yes               20.6\n",
       "NaN               18.4\n",
       "Not documented     1.6\n",
       "Name: fhDiabetes, dtype: float64"
      ]
     },
     "execution_count": 32,
     "metadata": {},
     "output_type": "execute_result"
    }
   ],
   "source": [
    "(df['fhDiabetes'].value_counts(normalize=True, dropna=False)*100).apply(lambda x: float(\"{:.1f}\".format(x)))"
   ]
  },
  {
   "cell_type": "code",
   "execution_count": 33,
   "id": "e229b7f8-c198-4d51-885b-e6d3810da065",
   "metadata": {},
   "outputs": [
    {
     "data": {
      "text/plain": [
       "NaN    64.1\n",
       "No     34.8\n",
       "Yes     1.1\n",
       "Name: pregdm, dtype: float64"
      ]
     },
     "execution_count": 33,
     "metadata": {},
     "output_type": "execute_result"
    }
   ],
   "source": [
    "(df['pregdm'].value_counts(normalize=True, dropna=False)*100).apply(lambda x: float(\"{:.1f}\".format(x)))"
   ]
  },
  {
   "cell_type": "code",
   "execution_count": 34,
   "id": "e8112346-468e-440b-bf05-e1160dcb4ecb",
   "metadata": {},
   "outputs": [
    {
     "data": {
      "text/plain": [
       "NaN    55.8\n",
       "No     40.5\n",
       "Yes     3.7\n",
       "Name: premacrosomia, dtype: float64"
      ]
     },
     "execution_count": 34,
     "metadata": {},
     "output_type": "execute_result"
    }
   ],
   "source": [
    "(df['premacrosomia'].value_counts(normalize=True, dropna=False)*100).apply(lambda x: float(\"{:.1f}\".format(x)))"
   ]
  },
  {
   "cell_type": "code",
   "execution_count": 39,
   "id": "2b520f83-c174-4c87-9b2c-17c0f7d54060",
   "metadata": {},
   "outputs": [
    {
     "data": {
      "text/plain": [
       "No     92.8\n",
       "Yes     7.2\n",
       "Name: lga, dtype: float64"
      ]
     },
     "execution_count": 39,
     "metadata": {},
     "output_type": "execute_result"
    }
   ],
   "source": [
    "(df['lga'].value_counts(normalize=True, dropna=False)*100).apply(lambda x: float(\"{:.1f}\".format(x)))"
   ]
  },
  {
   "cell_type": "markdown",
   "id": "af871bf1-58dd-4559-b492-4e3f1d9e738d",
   "metadata": {},
   "source": [
    "# BiB-GDM"
   ]
  },
  {
   "cell_type": "code",
   "execution_count": null,
   "id": "2f921b11-0193-4d6e-af74-49015b39b8f4",
   "metadata": {},
   "outputs": [],
   "source": []
  }
 ],
 "metadata": {
  "kernelspec": {
   "display_name": "Python 3 (ipykernel)",
   "language": "python",
   "name": "python3"
  },
  "language_info": {
   "codemirror_mode": {
    "name": "ipython",
    "version": 3
   },
   "file_extension": ".py",
   "mimetype": "text/x-python",
   "name": "python",
   "nbconvert_exporter": "python",
   "pygments_lexer": "ipython3",
   "version": "3.7.6"
  }
 },
 "nbformat": 4,
 "nbformat_minor": 5
}
