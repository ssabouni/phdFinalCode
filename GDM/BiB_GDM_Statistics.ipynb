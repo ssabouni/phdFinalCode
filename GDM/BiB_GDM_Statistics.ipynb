{
 "cells": [
  {
   "cell_type": "code",
   "execution_count": 1,
   "id": "61bb6e1e-1eb9-41aa-a99f-b8659ab1ab0d",
   "metadata": {},
   "outputs": [],
   "source": [
    "# Importing the libraries\n",
    "import numpy as np\n",
    "import pandas as pd"
   ]
  },
  {
   "cell_type": "code",
   "execution_count": 3,
   "id": "69387b15-a69c-4f11-89f4-e0bc91a63cab",
   "metadata": {},
   "outputs": [],
   "source": [
    "df = pd.read_csv('BibGDMFullDataset.csv')"
   ]
  },
  {
   "cell_type": "code",
   "execution_count": 4,
   "id": "c072546f-3d4e-4837-9f19-5795de2b0b9b",
   "metadata": {},
   "outputs": [
    {
     "name": "stdout",
     "output_type": "stream",
     "text": [
      "<class 'pandas.core.frame.DataFrame'>\n",
      "RangeIndex: 848 entries, 0 to 847\n",
      "Data columns (total 34 columns):\n",
      " #   Column                Non-Null Count  Dtype  \n",
      "---  ------                --------------  -----  \n",
      " 0   ethnicity             811 non-null    object \n",
      " 1   maternalDiabetes      786 non-null    object \n",
      " 2   fhEclampsia           846 non-null    object \n",
      " 3   gdm                   848 non-null    object \n",
      " 4   gdmDiet               848 non-null    object \n",
      " 5   gdmInsulin            848 non-null    object \n",
      " 6   gdmLifestyle          848 non-null    object \n",
      " 7   gdmMetformin          848 non-null    object \n",
      " 8   gdmNoTreatment        848 non-null    object \n",
      " 9   gdmNotDoc             848 non-null    object \n",
      " 10  gestHypertension      847 non-null    object \n",
      " 11  gestEclampsia         847 non-null    object \n",
      " 12  fhDiabetes            848 non-null    object \n",
      " 13  pregdm                479 non-null    object \n",
      " 14  premacrosomia         519 non-null    object \n",
      " 15  maternalAge           848 non-null    int64  \n",
      " 16  parity                822 non-null    float64\n",
      " 17  bookingWeight         818 non-null    float64\n",
      " 18  bookingBMI            765 non-null    float64\n",
      " 19  thirdTrimesterWeight  265 non-null    float64\n",
      " 20  maternalHeight        791 non-null    float64\n",
      " 21  fastingGlucose        832 non-null    float64\n",
      " 22  postGlucose           832 non-null    float64\n",
      " 23  meanAbdomCirc         810 non-null    float64\n",
      " 24  maxAbdomCirc          810 non-null    float64\n",
      " 25  minAbdomCirc          810 non-null    float64\n",
      " 26  varAbdomCirc          810 non-null    float64\n",
      " 27  rangeAbdomCirc        810 non-null    float64\n",
      " 28  meanFoetalWeight      810 non-null    float64\n",
      " 29  maxFoetalWeight       810 non-null    float64\n",
      " 30  minFoetalWeight       810 non-null    float64\n",
      " 31  varFoetalWeight       810 non-null    float64\n",
      " 32  rangeFoetalWeight     810 non-null    float64\n",
      " 33  lga                   848 non-null    object \n",
      "dtypes: float64(17), int64(1), object(16)\n",
      "memory usage: 225.4+ KB\n"
     ]
    }
   ],
   "source": [
    "df.info()"
   ]
  },
  {
   "cell_type": "code",
   "execution_count": 5,
   "id": "e83edae7-6b6d-494f-9722-b0548b2e253c",
   "metadata": {},
   "outputs": [
    {
     "name": "stdout",
     "output_type": "stream",
     "text": [
      "maternalAge                  30.6\n",
      "parity                        1.6\n",
      "bookingWeight                72.4\n",
      "bookingBMI                   28.4\n",
      "thirdTrimesterWeight         79.4\n",
      "maternalHeight              159.6\n",
      "fastingGlucose                5.3\n",
      "postGlucose                   9.0\n",
      "meanAbdomCirc               262.6\n",
      "maxAbdomCirc                319.5\n",
      "minAbdomCirc                176.6\n",
      "varAbdomCirc               4718.4\n",
      "rangeAbdomCirc              142.9\n",
      "meanFoetalWeight           1840.1\n",
      "maxFoetalWeight            2831.0\n",
      "minFoetalWeight             648.2\n",
      "varFoetalWeight         1037495.1\n",
      "rangeFoetalWeight          2182.8\n",
      "dtype: float64\n"
     ]
    },
    {
     "name": "stderr",
     "output_type": "stream",
     "text": [
      "/Users/ssabouni/anaconda3/lib/python3.7/site-packages/ipykernel_launcher.py:2: FutureWarning: Dropping of nuisance columns in DataFrame reductions (with 'numeric_only=None') is deprecated; in a future version this will raise TypeError.  Select only valid columns before calling the reduction.\n",
      "  \n"
     ]
    }
   ],
   "source": [
    "# finding the mean\n",
    "print(df.mean().apply(lambda x: float(\"{:.1f}\".format(x))))"
   ]
  },
  {
   "cell_type": "code",
   "execution_count": 6,
   "id": "1f517e5c-550a-4259-9faf-64de036e98bc",
   "metadata": {},
   "outputs": [
    {
     "name": "stdout",
     "output_type": "stream",
     "text": [
      "maternalAge                  5.5\n",
      "parity                       1.6\n",
      "bookingWeight               17.0\n",
      "bookingBMI                   6.1\n",
      "thirdTrimesterWeight        15.3\n",
      "maternalHeight               6.4\n",
      "fastingGlucose               1.1\n",
      "postGlucose                  2.0\n",
      "meanAbdomCirc               24.3\n",
      "maxAbdomCirc                20.3\n",
      "minAbdomCirc                50.6\n",
      "varAbdomCirc              2687.3\n",
      "rangeAbdomCirc              51.6\n",
      "meanFoetalWeight           371.7\n",
      "maxFoetalWeight            409.7\n",
      "minFoetalWeight            600.0\n",
      "varFoetalWeight         520743.8\n",
      "rangeFoetalWeight          673.1\n",
      "dtype: float64\n"
     ]
    },
    {
     "name": "stderr",
     "output_type": "stream",
     "text": [
      "/Users/ssabouni/anaconda3/lib/python3.7/site-packages/ipykernel_launcher.py:2: FutureWarning: Dropping of nuisance columns in DataFrame reductions (with 'numeric_only=None') is deprecated; in a future version this will raise TypeError.  Select only valid columns before calling the reduction.\n",
      "  \n"
     ]
    }
   ],
   "source": [
    "# finding the Standard deviation\n",
    "print(df.std().apply(lambda x: float(\"{:.1f}\".format(x))))"
   ]
  },
  {
   "cell_type": "code",
   "execution_count": 10,
   "id": "17f89847-9f23-419f-990f-5fd9cf9dece0",
   "metadata": {},
   "outputs": [
    {
     "name": "stdout",
     "output_type": "stream",
     "text": [
      "<class 'pandas.core.frame.DataFrame'>\n",
      "RangeIndex: 848 entries, 0 to 847\n",
      "Data columns (total 34 columns):\n",
      " #   Column                Non-Null Count  Dtype  \n",
      "---  ------                --------------  -----  \n",
      " 0   ethnicity             811 non-null    object \n",
      " 1   maternalDiabetes      786 non-null    object \n",
      " 2   fhEclampsia           846 non-null    object \n",
      " 3   gdm                   848 non-null    object \n",
      " 4   gdmDiet               848 non-null    object \n",
      " 5   gdmInsulin            848 non-null    object \n",
      " 6   gdmLifestyle          848 non-null    object \n",
      " 7   gdmMetformin          848 non-null    object \n",
      " 8   gdmNoTreatment        848 non-null    object \n",
      " 9   gdmNotDoc             848 non-null    object \n",
      " 10  gestHypertension      847 non-null    object \n",
      " 11  gestEclampsia         847 non-null    object \n",
      " 12  fhDiabetes            848 non-null    object \n",
      " 13  pregdm                479 non-null    object \n",
      " 14  premacrosomia         519 non-null    object \n",
      " 15  maternalAge           848 non-null    int64  \n",
      " 16  parity                822 non-null    float64\n",
      " 17  bookingWeight         818 non-null    float64\n",
      " 18  bookingBMI            765 non-null    float64\n",
      " 19  thirdTrimesterWeight  265 non-null    float64\n",
      " 20  maternalHeight        791 non-null    float64\n",
      " 21  fastingGlucose        832 non-null    float64\n",
      " 22  postGlucose           832 non-null    float64\n",
      " 23  meanAbdomCirc         810 non-null    float64\n",
      " 24  maxAbdomCirc          810 non-null    float64\n",
      " 25  minAbdomCirc          810 non-null    float64\n",
      " 26  varAbdomCirc          810 non-null    float64\n",
      " 27  rangeAbdomCirc        810 non-null    float64\n",
      " 28  meanFoetalWeight      810 non-null    float64\n",
      " 29  maxFoetalWeight       810 non-null    float64\n",
      " 30  minFoetalWeight       810 non-null    float64\n",
      " 31  varFoetalWeight       810 non-null    float64\n",
      " 32  rangeFoetalWeight     810 non-null    float64\n",
      " 33  lga                   848 non-null    object \n",
      "dtypes: float64(17), int64(1), object(16)\n",
      "memory usage: 225.4+ KB\n"
     ]
    }
   ],
   "source": [
    "df.info()"
   ]
  },
  {
   "cell_type": "code",
   "execution_count": 11,
   "id": "86a4f295-2fd2-421c-9071-a81bd1c65f74",
   "metadata": {},
   "outputs": [
    {
     "data": {
      "text/plain": [
       "South Asian    66.2\n",
       "White          24.3\n",
       "Other           5.2\n",
       "NaN             4.4\n",
       "Name: ethnicity, dtype: float64"
      ]
     },
     "execution_count": 11,
     "metadata": {},
     "output_type": "execute_result"
    }
   ],
   "source": [
    "(df['ethnicity'].value_counts(normalize=True, dropna=False)*100).apply(lambda x: float(\"{:.1f}\".format(x)))"
   ]
  },
  {
   "cell_type": "code",
   "execution_count": 12,
   "id": "e9fd482e-5e08-4484-8366-28505944e999",
   "metadata": {},
   "outputs": [
    {
     "data": {
      "text/plain": [
       "No     90.9\n",
       "NaN     7.3\n",
       "Yes     1.8\n",
       "Name: maternalDiabetes, dtype: float64"
      ]
     },
     "execution_count": 12,
     "metadata": {},
     "output_type": "execute_result"
    }
   ],
   "source": [
    "(df['maternalDiabetes'].value_counts(normalize=True, dropna=False)*100).apply(lambda x: float(\"{:.1f}\".format(x)))"
   ]
  },
  {
   "cell_type": "code",
   "execution_count": 13,
   "id": "e05a3936-778b-42a2-82ff-d3ae05533b10",
   "metadata": {},
   "outputs": [
    {
     "data": {
      "text/plain": [
       "No                91.4\n",
       "Not documented     7.3\n",
       "Yes                1.1\n",
       "NaN                0.2\n",
       "Name: fhEclampsia, dtype: float64"
      ]
     },
     "execution_count": 13,
     "metadata": {},
     "output_type": "execute_result"
    }
   ],
   "source": [
    "(df['fhEclampsia'].value_counts(normalize=True, dropna=False)*100).apply(lambda x: float(\"{:.1f}\".format(x)))"
   ]
  },
  {
   "cell_type": "code",
   "execution_count": 14,
   "id": "3f902aab-e528-4325-8af9-bc0475987928",
   "metadata": {},
   "outputs": [
    {
     "data": {
      "text/plain": [
       "Yes    100.0\n",
       "Name: gdm, dtype: float64"
      ]
     },
     "execution_count": 14,
     "metadata": {},
     "output_type": "execute_result"
    }
   ],
   "source": [
    "(df['gdm'].value_counts(normalize=True, dropna=False)*100).apply(lambda x: float(\"{:.1f}\".format(x)))"
   ]
  },
  {
   "cell_type": "code",
   "execution_count": 15,
   "id": "acb288ad-fa79-4792-ae81-20a39946319e",
   "metadata": {},
   "outputs": [
    {
     "data": {
      "text/plain": [
       "Yes    53.7\n",
       "No     46.3\n",
       "Name: gdmDiet, dtype: float64"
      ]
     },
     "execution_count": 15,
     "metadata": {},
     "output_type": "execute_result"
    }
   ],
   "source": [
    "(df['gdmDiet'].value_counts(normalize=True, dropna=False)*100).apply(lambda x: float(\"{:.1f}\".format(x)))"
   ]
  },
  {
   "cell_type": "code",
   "execution_count": 16,
   "id": "65d9fdc5-d322-4f51-9f68-891962dabb35",
   "metadata": {},
   "outputs": [
    {
     "data": {
      "text/plain": [
       "Yes    64.2\n",
       "No     35.8\n",
       "Name: gdmInsulin, dtype: float64"
      ]
     },
     "execution_count": 16,
     "metadata": {},
     "output_type": "execute_result"
    }
   ],
   "source": [
    "(df['gdmInsulin'].value_counts(normalize=True, dropna=False)*100).apply(lambda x: float(\"{:.1f}\".format(x)))"
   ]
  },
  {
   "cell_type": "code",
   "execution_count": 17,
   "id": "4f502f2f-cd72-4c5f-9793-7a7f28e585b0",
   "metadata": {},
   "outputs": [
    {
     "data": {
      "text/plain": [
       "No     63.1\n",
       "Yes    36.9\n",
       "Name: gdmLifestyle, dtype: float64"
      ]
     },
     "execution_count": 17,
     "metadata": {},
     "output_type": "execute_result"
    }
   ],
   "source": [
    "(df['gdmLifestyle'].value_counts(normalize=True, dropna=False)*100).apply(lambda x: float(\"{:.1f}\".format(x)))"
   ]
  },
  {
   "cell_type": "code",
   "execution_count": 18,
   "id": "9b5a7626-9e5e-4903-bc4f-d73559fbaa78",
   "metadata": {},
   "outputs": [
    {
     "data": {
      "text/plain": [
       "No     94.1\n",
       "Yes     5.9\n",
       "Name: gdmMetformin, dtype: float64"
      ]
     },
     "execution_count": 18,
     "metadata": {},
     "output_type": "execute_result"
    }
   ],
   "source": [
    "(df['gdmMetformin'].value_counts(normalize=True, dropna=False)*100).apply(lambda x: float(\"{:.1f}\".format(x)))"
   ]
  },
  {
   "cell_type": "code",
   "execution_count": 26,
   "id": "db2d985d-a02c-42fb-8113-a4c08a5d721a",
   "metadata": {},
   "outputs": [
    {
     "data": {
      "text/plain": [
       "No     97.9\n",
       "Yes     2.1\n",
       "Name: gdmNoTreatment, dtype: float64"
      ]
     },
     "execution_count": 26,
     "metadata": {},
     "output_type": "execute_result"
    }
   ],
   "source": [
    "(df['gdmNoTreatment'].value_counts(normalize=True, dropna=False)*100).apply(lambda x: float(\"{:.1f}\".format(x)))"
   ]
  },
  {
   "cell_type": "code",
   "execution_count": 20,
   "id": "9f65f5d3-d380-4426-b229-028f07808a10",
   "metadata": {},
   "outputs": [
    {
     "data": {
      "text/plain": [
       "No                99.3\n",
       "Not documented     0.7\n",
       "Name: gdmNotDoc, dtype: float64"
      ]
     },
     "execution_count": 20,
     "metadata": {},
     "output_type": "execute_result"
    }
   ],
   "source": [
    "(df['gdmNotDoc'].value_counts(normalize=True, dropna=False)*100).apply(lambda x: float(\"{:.1f}\".format(x)))"
   ]
  },
  {
   "cell_type": "code",
   "execution_count": 21,
   "id": "388276ff-5375-4bcb-a295-dedee5adb5da",
   "metadata": {},
   "outputs": [
    {
     "data": {
      "text/plain": [
       "No     88.2\n",
       "Yes    11.7\n",
       "NaN     0.1\n",
       "Name: gestHypertension, dtype: float64"
      ]
     },
     "execution_count": 21,
     "metadata": {},
     "output_type": "execute_result"
    }
   ],
   "source": [
    "(df['gestHypertension'].value_counts(normalize=True, dropna=False)*100).apply(lambda x: float(\"{:.1f}\".format(x)))"
   ]
  },
  {
   "cell_type": "code",
   "execution_count": 22,
   "id": "5f171e67-c4bc-4fd0-afb2-2275acc88701",
   "metadata": {},
   "outputs": [
    {
     "data": {
      "text/plain": [
       "No     97.3\n",
       "Yes     2.6\n",
       "NaN     0.1\n",
       "Name: gestEclampsia, dtype: float64"
      ]
     },
     "execution_count": 22,
     "metadata": {},
     "output_type": "execute_result"
    }
   ],
   "source": [
    "(df['gestEclampsia'].value_counts(normalize=True, dropna=False)*100).apply(lambda x: float(\"{:.1f}\".format(x)))"
   ]
  },
  {
   "cell_type": "code",
   "execution_count": 23,
   "id": "247fb39b-d2f6-4483-b65f-20b370bd1644",
   "metadata": {},
   "outputs": [
    {
     "data": {
      "text/plain": [
       "No                60.7\n",
       "Yes               37.5\n",
       "Not documented     1.8\n",
       "Name: fhDiabetes, dtype: float64"
      ]
     },
     "execution_count": 23,
     "metadata": {},
     "output_type": "execute_result"
    }
   ],
   "source": [
    "(df['fhDiabetes'].value_counts(normalize=True, dropna=False)*100).apply(lambda x: float(\"{:.1f}\".format(x)))"
   ]
  },
  {
   "cell_type": "code",
   "execution_count": 24,
   "id": "52af17d6-1a7a-406b-9dcd-7244581a53f5",
   "metadata": {},
   "outputs": [
    {
     "data": {
      "text/plain": [
       "No     48.8\n",
       "NaN    43.5\n",
       "Yes     7.7\n",
       "Name: pregdm, dtype: float64"
      ]
     },
     "execution_count": 24,
     "metadata": {},
     "output_type": "execute_result"
    }
   ],
   "source": [
    "(df['pregdm'].value_counts(normalize=True, dropna=False)*100).apply(lambda x: float(\"{:.1f}\".format(x)))"
   ]
  },
  {
   "cell_type": "code",
   "execution_count": 25,
   "id": "84641c78-79fd-4ba8-98b3-acdb7dec3764",
   "metadata": {},
   "outputs": [
    {
     "data": {
      "text/plain": [
       "No     53.4\n",
       "NaN    38.8\n",
       "Yes     7.8\n",
       "Name: premacrosomia, dtype: float64"
      ]
     },
     "execution_count": 25,
     "metadata": {},
     "output_type": "execute_result"
    }
   ],
   "source": [
    "(df['premacrosomia'].value_counts(normalize=True, dropna=False)*100).apply(lambda x: float(\"{:.1f}\".format(x)))"
   ]
  },
  {
   "cell_type": "code",
   "execution_count": 27,
   "id": "6728deea-4647-4759-afc3-5416c6b1f36b",
   "metadata": {},
   "outputs": [
    {
     "data": {
      "text/plain": [
       "No     89.7\n",
       "Yes    10.3\n",
       "Name: lga, dtype: float64"
      ]
     },
     "execution_count": 27,
     "metadata": {},
     "output_type": "execute_result"
    }
   ],
   "source": [
    "(df['lga'].value_counts(normalize=True, dropna=False)*100).apply(lambda x: float(\"{:.1f}\".format(x)))"
   ]
  },
  {
   "cell_type": "code",
   "execution_count": null,
   "id": "3265dc2a-da09-4a35-a2a8-ccc1aefe363c",
   "metadata": {},
   "outputs": [],
   "source": []
  }
 ],
 "metadata": {
  "kernelspec": {
   "display_name": "Python 3 (ipykernel)",
   "language": "python",
   "name": "python3"
  },
  "language_info": {
   "codemirror_mode": {
    "name": "ipython",
    "version": 3
   },
   "file_extension": ".py",
   "mimetype": "text/x-python",
   "name": "python",
   "nbconvert_exporter": "python",
   "pygments_lexer": "ipython3",
   "version": "3.7.6"
  }
 },
 "nbformat": 4,
 "nbformat_minor": 5
}
