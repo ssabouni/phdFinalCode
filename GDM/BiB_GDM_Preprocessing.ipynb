{
 "cells": [
  {
   "cell_type": "markdown",
   "metadata": {},
   "source": [
    "Create dataset with GDM only pregnancies"
   ]
  },
  {
   "cell_type": "code",
   "execution_count": 1,
   "metadata": {},
   "outputs": [],
   "source": [
    "# Importing the libraries\n",
    "import numpy as np\n",
    "import pandas as pd\n",
    "from sklearn.compose import ColumnTransformer, make_column_selector as selector\n",
    "from sklearn.impute import KNNImputer\n",
    "from sklearn.preprocessing import StandardScaler, OneHotEncoder\n",
    "from sklearn.impute import SimpleImputer\n",
    "from sklearn.pipeline import Pipeline\n",
    "from sklearn.model_selection import train_test_split\n",
    "from sklearn.feature_selection import SelectKBest, f_classif, chi2, mutual_info_classif\n",
    "from matplotlib import pyplot\n",
    "from sklearn.linear_model import LogisticRegression\n",
    "from sklearn.metrics import recall_score, precision_score\n",
    "from sklearn.svm import SVC\n",
    "from sklearn.model_selection import cross_val_score\n",
    "from sklearn.model_selection import GridSearchCV\n"
   ]
  },
  {
   "cell_type": "code",
   "execution_count": 2,
   "metadata": {},
   "outputs": [
    {
     "name": "stdout",
     "output_type": "stream",
     "text": [
      "<class 'pandas.core.frame.DataFrame'>\n",
      "Int64Index: 12950 entries, 0 to 12976\n",
      "Data columns (total 34 columns):\n",
      " #   Column                Non-Null Count  Dtype  \n",
      "---  ------                --------------  -----  \n",
      " 0   ethnicity             10706 non-null  object \n",
      " 1   maternalDiabetes      12396 non-null  object \n",
      " 2   fhEclampsia           10594 non-null  object \n",
      " 3   gdm                   10592 non-null  object \n",
      " 4   gdmDiet               12950 non-null  object \n",
      " 5   gdmInsulin            12950 non-null  object \n",
      " 6   gdmLifestyle          12950 non-null  object \n",
      " 7   gdmMetformin          12950 non-null  object \n",
      " 8   gdmNoTreatment        12950 non-null  object \n",
      " 9   gdmNotDoc             12950 non-null  object \n",
      " 10  gestHypertension      10582 non-null  object \n",
      " 11  gestEclampsia         10582 non-null  object \n",
      " 12  fhDiabetes            10594 non-null  object \n",
      " 13  pregdm                4653 non-null   object \n",
      " 14  premacrosomia         5740 non-null   object \n",
      " 15  maternalAge           12950 non-null  int64  \n",
      " 16  parity                12480 non-null  float64\n",
      " 17  bookingWeight         12520 non-null  float64\n",
      " 18  bookingBMI            10199 non-null  float64\n",
      " 19  thirdTrimesterWeight  6179 non-null   float64\n",
      " 20  maternalHeight        10494 non-null  float64\n",
      " 21  fastingGlucose        11622 non-null  float64\n",
      " 22  postGlucose           11604 non-null  float64\n",
      " 23  meanAbdomCirc         6129 non-null   float64\n",
      " 24  maxAbdomCirc          6129 non-null   float64\n",
      " 25  minAbdomCirc          6129 non-null   float64\n",
      " 26  varAbdomCirc          6129 non-null   float64\n",
      " 27  rangeAbdomCirc        6129 non-null   float64\n",
      " 28  meanFoetalWeight      6104 non-null   float64\n",
      " 29  maxFoetalWeight       6104 non-null   float64\n",
      " 30  minFoetalWeight       6104 non-null   float64\n",
      " 31  varFoetalWeight       6104 non-null   float64\n",
      " 32  rangeFoetalWeight     6104 non-null   float64\n",
      " 33  lga                   12950 non-null  object \n",
      "dtypes: float64(17), int64(1), object(16)\n",
      "memory usage: 3.5+ MB\n"
     ]
    }
   ],
   "source": [
    "df= pd.read_csv('BibFullDataset.csv')\n",
    "df=df.drop_duplicates()\n",
    "df.info()"
   ]
  },
  {
   "cell_type": "markdown",
   "metadata": {},
   "source": [
    "# Keep GDM pregnancies only"
   ]
  },
  {
   "cell_type": "code",
   "execution_count": 11,
   "metadata": {},
   "outputs": [
    {
     "data": {
      "text/plain": [
       "No     75.2\n",
       "NaN    18.2\n",
       "Yes     6.5\n",
       "Name: gdm, dtype: float64"
      ]
     },
     "execution_count": 11,
     "metadata": {},
     "output_type": "execute_result"
    }
   ],
   "source": [
    "# see how many women have GDM\n",
    "(df['gdm'].value_counts(normalize=True, dropna=False)*100).apply(lambda x: float(\"{:.1f}\".format(x)))"
   ]
  },
  {
   "cell_type": "code",
   "execution_count": 14,
   "metadata": {},
   "outputs": [
    {
     "data": {
      "image/png": "[encoded data removed]",
      "text/plain": [
       "<Figure size 640x480 with 1 Axes>"
      ]
     },
     "metadata": {},
     "output_type": "display_data"
    }
   ],
   "source": [
    "#df.groupby('gdm').size().plot(kind='pie', autopct='%.2f')\n",
    "import matplotlib.pyplot as plt\n",
    "fig, ax = plt.subplots()\n",
    "plt.title('Women with GDM in BiB Dataset')\n",
    "mylabels = [\"No\", \"Missing\", \"Yes\"]\n",
    "(df['gdm'].value_counts(normalize=True, dropna=False)*100).plot(kind='pie', autopct='%1.1f%%', labels = mylabels)\n",
    "fig.savefig('figures/bib_GDM_piechart.svg', format='svg', dpi=1200)"
   ]
  },
  {
   "cell_type": "code",
   "execution_count": 5,
   "metadata": {},
   "outputs": [],
   "source": [
    "# create new dataset with GDM women only\n",
    "df_gdm = df[df['gdm'] == 'Yes']"
   ]
  },
  {
   "cell_type": "code",
   "execution_count": 6,
   "metadata": {},
   "outputs": [
    {
     "data": {
      "text/plain": [
       "(848, 34)"
      ]
     },
     "execution_count": 6,
     "metadata": {},
     "output_type": "execute_result"
    }
   ],
   "source": [
    "df_gdm.shape"
   ]
  },
  {
   "cell_type": "code",
   "execution_count": 7,
   "metadata": {},
   "outputs": [
    {
     "name": "stdout",
     "output_type": "stream",
     "text": [
      "<class 'pandas.core.frame.DataFrame'>\n",
      "Int64Index: 848 entries, 7 to 12891\n",
      "Data columns (total 34 columns):\n",
      " #   Column                Non-Null Count  Dtype  \n",
      "---  ------                --------------  -----  \n",
      " 0   ethnicity             811 non-null    object \n",
      " 1   maternalDiabetes      786 non-null    object \n",
      " 2   fhEclampsia           846 non-null    object \n",
      " 3   gdm                   848 non-null    object \n",
      " 4   gdmDiet               848 non-null    object \n",
      " 5   gdmInsulin            848 non-null    object \n",
      " 6   gdmLifestyle          848 non-null    object \n",
      " 7   gdmMetformin          848 non-null    object \n",
      " 8   gdmNoTreatment        848 non-null    object \n",
      " 9   gdmNotDoc             848 non-null    object \n",
      " 10  gestHypertension      847 non-null    object \n",
      " 11  gestEclampsia         847 non-null    object \n",
      " 12  fhDiabetes            848 non-null    object \n",
      " 13  pregdm                479 non-null    object \n",
      " 14  premacrosomia         519 non-null    object \n",
      " 15  maternalAge           848 non-null    int64  \n",
      " 16  parity                822 non-null    float64\n",
      " 17  bookingWeight         818 non-null    float64\n",
      " 18  bookingBMI            765 non-null    float64\n",
      " 19  thirdTrimesterWeight  265 non-null    float64\n",
      " 20  maternalHeight        791 non-null    float64\n",
      " 21  fastingGlucose        832 non-null    float64\n",
      " 22  postGlucose           832 non-null    float64\n",
      " 23  meanAbdomCirc         810 non-null    float64\n",
      " 24  maxAbdomCirc          810 non-null    float64\n",
      " 25  minAbdomCirc          810 non-null    float64\n",
      " 26  varAbdomCirc          810 non-null    float64\n",
      " 27  rangeAbdomCirc        810 non-null    float64\n",
      " 28  meanFoetalWeight      810 non-null    float64\n",
      " 29  maxFoetalWeight       810 non-null    float64\n",
      " 30  minFoetalWeight       810 non-null    float64\n",
      " 31  varFoetalWeight       810 non-null    float64\n",
      " 32  rangeFoetalWeight     810 non-null    float64\n",
      " 33  lga                   848 non-null    object \n",
      "dtypes: float64(17), int64(1), object(16)\n",
      "memory usage: 231.9+ KB\n"
     ]
    }
   ],
   "source": [
    "df_gdm.info()"
   ]
  },
  {
   "cell_type": "code",
   "execution_count": 8,
   "metadata": {},
   "outputs": [
    {
     "data": {
      "text/plain": [
       "No     89.740566\n",
       "Yes    10.259434\n",
       "Name: lga, dtype: float64"
      ]
     },
     "execution_count": 8,
     "metadata": {},
     "output_type": "execute_result"
    }
   ],
   "source": [
    "# find percentage of LGA infants in GDM dataset\n",
    "df_gdm['lga'].value_counts(normalize=True, dropna=False)*100"
   ]
  },
  {
   "cell_type": "code",
   "execution_count": 9,
   "metadata": {},
   "outputs": [
    {
     "data": {
      "text/plain": [
       "No     761\n",
       "Yes     87\n",
       "Name: lga, dtype: int64"
      ]
     },
     "execution_count": 9,
     "metadata": {},
     "output_type": "execute_result"
    }
   ],
   "source": [
    "df_gdm['lga'].value_counts()\n"
   ]
  },
  {
   "cell_type": "code",
   "execution_count": 10,
   "metadata": {},
   "outputs": [],
   "source": [
    "# save BiB-GDM datatset\n",
    "df_gdm.to_csv('BibGDMFullDataset.csv', index=False)"
   ]
  },
  {
   "cell_type": "code",
   "execution_count": 12,
   "metadata": {},
   "outputs": [
    {
     "data": {
      "image/png": "[encoded data removed]",
      "text/plain": [
       "<Figure size 504x432 with 1 Axes>"
      ]
     },
     "metadata": {
      "needs_background": "light"
     },
     "output_type": "display_data"
    }
   ],
   "source": [
    "import matplotlib.pyplot as plt\n",
    "fig, ax = plt.subplots()\n",
    "\n",
    "total_infants = df_gdm['lga'].size\n",
    "\n",
    "\n",
    "# compute percentage of LGA/ non-LGA infants\n",
    "df1=pd.DataFrame()\n",
    "df1['Percentage'] = df_gdm['lga'].value_counts(normalize=True, dropna=False)*100\n",
    "df1['Percentage'][1]\n",
    "\n",
    "\n",
    "# plot bar chart of LGA/ non-LGA infants\n",
    "ax = df_gdm['lga'].value_counts().plot(kind='bar', figsize=(7, 6), rot=0)\n",
    "plt.xlabel(\"LGA Infants\", labelpad=14)\n",
    "plt.ylabel(\"Count\", labelpad=14)\n",
    "plt.title(\"Count of LGA/ non-LGA infants in BiB-GDM dataset\", y=1.02);\n",
    "\n",
    "\n",
    "# print percentage of LGA/ non-LGA infants over each bar\n",
    "i = 0\n",
    "for p in ax.patches:\n",
    "\n",
    "    width = p.get_width()\n",
    "    height = p.get_height()\n",
    "    x, y = p.get_xy()\n",
    "    plt.text(x+width/2,\n",
    "             y+height*1.01,\n",
    "             str(\"{:.1f}\".format(df1.Percentage[i]))+'%',\n",
    "             ha='center',\n",
    "             weight='bold')\n",
    "    i+=1\n",
    "fig.savefig('figures/bib_GDM_LGA_nonLGA_barchart.svg', format='svg', dpi=1200)\n",
    "plt.show()"
   ]
  },
  {
   "cell_type": "markdown",
   "metadata": {},
   "source": [
    "# Make feature and target dataframes"
   ]
  },
  {
   "cell_type": "code",
   "execution_count": 8,
   "metadata": {},
   "outputs": [],
   "source": [
    "# make feature matrix and target matrix\n",
    "X = df_gdm.drop(columns=['lga'])\n",
    "y = df_gdm['lga']\n",
    "\n",
    "X.to_csv('BibGDMFeaturesMatrix.csv', index=False)\n",
    "y.to_csv(\"BibGDMDependentVariableLGA.csv\", index=False)\n"
   ]
  },
  {
   "cell_type": "code",
   "execution_count": 9,
   "metadata": {},
   "outputs": [],
   "source": [
    "# encode target variable \n",
    "from sklearn.preprocessing import LabelEncoder\n",
    "le = LabelEncoder()\n",
    "y = le.fit_transform(y)\n",
    "#print(y)"
   ]
  },
  {
   "cell_type": "code",
   "execution_count": 10,
   "metadata": {},
   "outputs": [],
   "source": [
    "# define categorical and numeric transformers\n",
    "numeric_transformer = Pipeline(steps=[\n",
    "    ('knnImputer', KNNImputer(n_neighbors=2, weights=\"uniform\")),\n",
    "    ('scaler', StandardScaler())])\n",
    "\n",
    "categorical_transformer = Pipeline(steps=[\n",
    "    ('imputer', SimpleImputer(strategy='constant', fill_value='missing')),\n",
    "    ('onehot', OneHotEncoder(handle_unknown='ignore'))])\n",
    "\n",
    "#  dispatch object columns to the categorical_transformer and remaining columns to numerical_transformer\n",
    "preprocessor = ColumnTransformer(transformers=[\n",
    "    ('cat', categorical_transformer, selector(dtype_include=['object'])),\n",
    "    ('num', numeric_transformer, selector(dtype_include=['float64','int64']))\n",
    "])\n",
    "\n",
    "X = pd.DataFrame(preprocessor.fit_transform(X))"
   ]
  },
  {
   "cell_type": "markdown",
   "metadata": {},
   "source": [
    "# Rename Feature columns after Preprocessing and OHE"
   ]
  },
  {
   "cell_type": "code",
   "execution_count": 11,
   "metadata": {},
   "outputs": [],
   "source": [
    "def get_column_names_from_ColumnTransformer(column_transformer):    \n",
    "    col_name = []\n",
    "\n",
    "    for transformer_in_columns in column_transformer.transformers_[:-1]: #the last transformer is ColumnTransformer's 'remainder'\n",
    "        print('\\n\\ntransformer: ', transformer_in_columns[0])\n",
    "        \n",
    "        raw_col_name = list(transformer_in_columns[2])\n",
    "        \n",
    "        if isinstance(transformer_in_columns[1], Pipeline): \n",
    "            # if pipeline, get the last transformer\n",
    "            transformer = transformer_in_columns[1].steps[-1][1]\n",
    "        else:\n",
    "            transformer = transformer_in_columns[1]\n",
    "            \n",
    "        try:\n",
    "          if isinstance(transformer, OneHotEncoder):\n",
    "            names = list(transformer.get_feature_names_out(raw_col_name))\n",
    "            \n",
    "          elif isinstance(transformer, SimpleImputer) and transformer.add_indicator:\n",
    "            missing_indicator_indices = transformer.indicator_.features_\n",
    "            missing_indicators = [raw_col_name[idx] + '_missing_flag' for idx in missing_indicator_indices]\n",
    "\n",
    "            names = raw_col_name + missing_indicators\n",
    "            \n",
    "          else:\n",
    "            names = list(transformer.get_feature_names_out())\n",
    "          \n",
    "        except AttributeError as error:\n",
    "          names = raw_col_name\n",
    "        \n",
    "        print(names)    \n",
    "        \n",
    "        col_name.extend(names)\n",
    "            \n",
    "    return col_name"
   ]
  },
  {
   "cell_type": "code",
   "execution_count": 12,
   "metadata": {},
   "outputs": [
    {
     "name": "stdout",
     "output_type": "stream",
     "text": [
      "\n",
      "\n",
      "transformer:  cat\n",
      "['ethnicity_Other', 'ethnicity_South Asian', 'ethnicity_White', 'ethnicity_missing', 'maternalDiabetes_No', 'maternalDiabetes_Yes', 'maternalDiabetes_missing', 'fhEclampsia_No', 'fhEclampsia_Not documented', 'fhEclampsia_Yes', 'fhEclampsia_missing', 'gdm_Yes', 'gdmDiet_No', 'gdmDiet_Yes', 'gdmInsulin_No', 'gdmInsulin_Yes', 'gdmLifestyle_No', 'gdmLifestyle_Yes', 'gdmMetformin_No', 'gdmMetformin_Yes', 'gdmNoTreatment_No', 'gdmNoTreatment_Yes', 'gdmNotDoc_No', 'gdmNotDoc_Not documented', 'gestHypertension_No', 'gestHypertension_Yes', 'gestHypertension_missing', 'gestEclampsia_No', 'gestEclampsia_Yes', 'gestEclampsia_missing', 'fhDiabetes_No', 'fhDiabetes_Not documented', 'fhDiabetes_Yes', 'pregdm_No', 'pregdm_Yes', 'pregdm_missing', 'premacrosomia_No', 'premacrosomia_Yes', 'premacrosomia_missing']\n"
     ]
    }
   ],
   "source": [
    "newColNames=get_column_names_from_ColumnTransformer(preprocessor)"
   ]
  },
  {
   "cell_type": "code",
   "execution_count": 13,
   "metadata": {},
   "outputs": [
    {
     "data": {
      "text/plain": [
       "['ethnicity_Other',\n",
       " 'ethnicity_South Asian',\n",
       " 'ethnicity_White',\n",
       " 'ethnicity_missing',\n",
       " 'maternalDiabetes_No',\n",
       " 'maternalDiabetes_Yes',\n",
       " 'maternalDiabetes_missing',\n",
       " 'fhEclampsia_No',\n",
       " 'fhEclampsia_Not documented',\n",
       " 'fhEclampsia_Yes',\n",
       " 'fhEclampsia_missing',\n",
       " 'gdm_Yes',\n",
       " 'gdmDiet_No',\n",
       " 'gdmDiet_Yes',\n",
       " 'gdmInsulin_No',\n",
       " 'gdmInsulin_Yes',\n",
       " 'gdmLifestyle_No',\n",
       " 'gdmLifestyle_Yes',\n",
       " 'gdmMetformin_No',\n",
       " 'gdmMetformin_Yes',\n",
       " 'gdmNoTreatment_No',\n",
       " 'gdmNoTreatment_Yes',\n",
       " 'gdmNotDoc_No',\n",
       " 'gdmNotDoc_Not documented',\n",
       " 'gestHypertension_No',\n",
       " 'gestHypertension_Yes',\n",
       " 'gestHypertension_missing',\n",
       " 'gestEclampsia_No',\n",
       " 'gestEclampsia_Yes',\n",
       " 'gestEclampsia_missing',\n",
       " 'fhDiabetes_No',\n",
       " 'fhDiabetes_Not documented',\n",
       " 'fhDiabetes_Yes',\n",
       " 'pregdm_No',\n",
       " 'pregdm_Yes',\n",
       " 'pregdm_missing',\n",
       " 'premacrosomia_No',\n",
       " 'premacrosomia_Yes',\n",
       " 'premacrosomia_missing']"
      ]
     },
     "execution_count": 13,
     "metadata": {},
     "output_type": "execute_result"
    }
   ],
   "source": [
    "newColNames"
   ]
  },
  {
   "cell_type": "code",
   "execution_count": 14,
   "metadata": {},
   "outputs": [],
   "source": [
    "newColNames.extend(('maternalAge','parity', 'bookingWeight', 'bookingBMI','thirdTrimesterWeight','maternalHeight',\n",
    "                    'fastingGlucose', 'postGlucose',\n",
    "                    'meanAbdomCirc', 'maxAbdomCirc', 'minAbdomCirc','varAbdomCirc', 'rangeAbdomCirc',\n",
    "                    'meanFoetalWeight', 'maxFoetalWeight', 'minFoetalWeight','varFoetalWeight', 'rangeFoetalWeight'))"
   ]
  },
  {
   "cell_type": "code",
   "execution_count": 15,
   "metadata": {},
   "outputs": [
    {
     "name": "stdout",
     "output_type": "stream",
     "text": [
      "<class 'pandas.core.frame.DataFrame'>\n",
      "RangeIndex: 848 entries, 0 to 847\n",
      "Data columns (total 57 columns):\n",
      " #   Column                      Non-Null Count  Dtype  \n",
      "---  ------                      --------------  -----  \n",
      " 0   ethnicity_Other             848 non-null    float64\n",
      " 1   ethnicity_South Asian       848 non-null    float64\n",
      " 2   ethnicity_White             848 non-null    float64\n",
      " 3   ethnicity_missing           848 non-null    float64\n",
      " 4   maternalDiabetes_No         848 non-null    float64\n",
      " 5   maternalDiabetes_Yes        848 non-null    float64\n",
      " 6   maternalDiabetes_missing    848 non-null    float64\n",
      " 7   fhEclampsia_No              848 non-null    float64\n",
      " 8   fhEclampsia_Not documented  848 non-null    float64\n",
      " 9   fhEclampsia_Yes             848 non-null    float64\n",
      " 10  fhEclampsia_missing         848 non-null    float64\n",
      " 11  gdm_Yes                     848 non-null    float64\n",
      " 12  gdmDiet_No                  848 non-null    float64\n",
      " 13  gdmDiet_Yes                 848 non-null    float64\n",
      " 14  gdmInsulin_No               848 non-null    float64\n",
      " 15  gdmInsulin_Yes              848 non-null    float64\n",
      " 16  gdmLifestyle_No             848 non-null    float64\n",
      " 17  gdmLifestyle_Yes            848 non-null    float64\n",
      " 18  gdmMetformin_No             848 non-null    float64\n",
      " 19  gdmMetformin_Yes            848 non-null    float64\n",
      " 20  gdmNoTreatment_No           848 non-null    float64\n",
      " 21  gdmNoTreatment_Yes          848 non-null    float64\n",
      " 22  gdmNotDoc_No                848 non-null    float64\n",
      " 23  gdmNotDoc_Not documented    848 non-null    float64\n",
      " 24  gestHypertension_No         848 non-null    float64\n",
      " 25  gestHypertension_Yes        848 non-null    float64\n",
      " 26  gestHypertension_missing    848 non-null    float64\n",
      " 27  gestEclampsia_No            848 non-null    float64\n",
      " 28  gestEclampsia_Yes           848 non-null    float64\n",
      " 29  gestEclampsia_missing       848 non-null    float64\n",
      " 30  fhDiabetes_No               848 non-null    float64\n",
      " 31  fhDiabetes_Not documented   848 non-null    float64\n",
      " 32  fhDiabetes_Yes              848 non-null    float64\n",
      " 33  pregdm_No                   848 non-null    float64\n",
      " 34  pregdm_Yes                  848 non-null    float64\n",
      " 35  pregdm_missing              848 non-null    float64\n",
      " 36  premacrosomia_No            848 non-null    float64\n",
      " 37  premacrosomia_Yes           848 non-null    float64\n",
      " 38  premacrosomia_missing       848 non-null    float64\n",
      " 39  maternalAge                 848 non-null    float64\n",
      " 40  parity                      848 non-null    float64\n",
      " 41  bookingWeight               848 non-null    float64\n",
      " 42  bookingBMI                  848 non-null    float64\n",
      " 43  thirdTrimesterWeight        848 non-null    float64\n",
      " 44  maternalHeight              848 non-null    float64\n",
      " 45  fastingGlucose              848 non-null    float64\n",
      " 46  postGlucose                 848 non-null    float64\n",
      " 47  meanAbdomCirc               848 non-null    float64\n",
      " 48  maxAbdomCirc                848 non-null    float64\n",
      " 49  minAbdomCirc                848 non-null    float64\n",
      " 50  varAbdomCirc                848 non-null    float64\n",
      " 51  rangeAbdomCirc              848 non-null    float64\n",
      " 52  meanFoetalWeight            848 non-null    float64\n",
      " 53  maxFoetalWeight             848 non-null    float64\n",
      " 54  minFoetalWeight             848 non-null    float64\n",
      " 55  varFoetalWeight             848 non-null    float64\n",
      " 56  rangeFoetalWeight           848 non-null    float64\n",
      "dtypes: float64(57)\n",
      "memory usage: 377.8 KB\n"
     ]
    }
   ],
   "source": [
    "X.columns = newColNames\n",
    "X.info()"
   ]
  },
  {
   "cell_type": "code",
   "execution_count": 16,
   "metadata": {},
   "outputs": [],
   "source": [
    "X.to_csv('BibGDMFeaturesMatrix_Preprocessed_OHEColumnsNamed.csv', index=False)\n",
    "y = pd.DataFrame(y)\n",
    "y.to_csv(\"BibGDMDependentVariableLGAEncoded.csv\", index=False)"
   ]
  },
  {
   "cell_type": "code",
   "execution_count": null,
   "metadata": {},
   "outputs": [],
   "source": []
  },
  {
   "cell_type": "code",
   "execution_count": null,
   "metadata": {},
   "outputs": [],
   "source": []
  }
 ],
 "metadata": {
  "kernelspec": {
   "display_name": "Python 3 (ipykernel)",
   "language": "python",
   "name": "python3"
  },
  "language_info": {
   "codemirror_mode": {
    "name": "ipython",
    "version": 3
   },
   "file_extension": ".py",
   "mimetype": "text/x-python",
   "name": "python",
   "nbconvert_exporter": "python",
   "pygments_lexer": "ipython3",
   "version": "3.7.6"
  }
 },
 "nbformat": 4,
 "nbformat_minor": 4
}
