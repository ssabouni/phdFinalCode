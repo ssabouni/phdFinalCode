{
 "cells": [
  {
   "cell_type": "markdown",
   "metadata": {},
   "source": [
    "Merge data from all data files"
   ]
  },
  {
   "cell_type": "code",
   "execution_count": 79,
   "metadata": {},
   "outputs": [],
   "source": [
    "# Importing the libraries\n",
    "import numpy as np\n",
    "import pandas as pd\n",
    "from sklearn.compose import ColumnTransformer, make_column_selector as selector\n",
    "from sklearn.impute import KNNImputer\n",
    "from sklearn.preprocessing import StandardScaler, OneHotEncoder\n",
    "from sklearn.impute import SimpleImputer\n",
    "from sklearn.pipeline import Pipeline\n",
    "from sklearn.model_selection import train_test_split\n",
    "from sklearn.feature_selection import SelectKBest, f_classif, chi2, mutual_info_classif\n",
    "from matplotlib import pyplot\n",
    "from sklearn.linear_model import LogisticRegression\n",
    "from sklearn.metrics import recall_score, precision_score\n",
    "from sklearn.svm import SVC\n",
    "from sklearn.model_selection import cross_val_score\n",
    "from sklearn.model_selection import GridSearchCV\n"
   ]
  },
  {
   "cell_type": "code",
   "execution_count": 80,
   "metadata": {},
   "outputs": [],
   "source": [
    "df= pd.read_csv('Bib_1.csv')\n",
    "df=df.drop_duplicates()\n",
    "df1 = df[['ChildID','PregnancyID', 'MotherID', 'admincdobagemy','eth0eth9gp', 'eclregpart',\n",
    "          'bkfmumbkwt','mms0height','mms0mbkbmi', 'prnbp3rdtriw',\n",
    "          'bkfdiabete', 'prnprexconeclampsia','prnprexconhighbp','prnprfhistecl',\n",
    "          'gttfastglu', 'gttpostglu','ecllgaukwho', 'eclsgaukwho','eclgestwks']]\n"
   ]
  },
  {
   "cell_type": "code",
   "execution_count": 81,
   "metadata": {},
   "outputs": [],
   "source": [
    "df= pd.read_csv('Bib_2.csv')\n",
    "df=df.drop_duplicates()\n",
    "df2 = df[['ChildID','PregnancyID', 'MotherID', 'prnbpgdm','prnbpgdmt_diet',\n",
    "               'prnbpgdmt_insulin','prnbpgdmt_lifestyle','prnbpgdmt_metformin','prnbpgdmt_none',\n",
    "               'prnbpgdmt_notdoc','prnbpgestht','prnbppreeclampsia']]"
   ]
  },
  {
   "cell_type": "code",
   "execution_count": 82,
   "metadata": {},
   "outputs": [],
   "source": [
    "df= pd.read_csv('Bib_5.csv')\n",
    "df=df.drop_duplicates()\n",
    "df3 = df[['ChildID','PregnancyID', 'MotherID','prnprfhistdiab']]"
   ]
  },
  {
   "cell_type": "code",
   "execution_count": 83,
   "metadata": {},
   "outputs": [],
   "source": [
    "# Previous GDM diagnosis, Previous macrosomic infant\n",
    "df4 = pd.read_csv('previous_GDM_withNaN.csv')\n",
    "df5 = pd.read_csv('previous_macrosomia.csv')\n",
    "\n",
    "# abdomcirc and foetal weight measurment features\n",
    "df6 = pd.read_csv('abdomCircStatistics.csv')\n",
    "df7 = pd.read_csv('foetalWeightStatistics.csv')\n"
   ]
  },
  {
   "cell_type": "code",
   "execution_count": 84,
   "metadata": {},
   "outputs": [],
   "source": [
    "from functools import reduce\n",
    "df = reduce(lambda x,y: pd.merge(x,y, on=('ChildID','PregnancyID', 'MotherID'), how='outer'), \n",
    "       [df1, df2, df3, df4, df5, df6, df7])"
   ]
  },
  {
   "cell_type": "code",
   "execution_count": 85,
   "metadata": {},
   "outputs": [
    {
     "name": "stdout",
     "output_type": "stream",
     "text": [
      "<class 'pandas.core.frame.DataFrame'>\n",
      "Int64Index: 13858 entries, 0 to 14476\n",
      "Data columns (total 41 columns):\n",
      " #   Column               Non-Null Count  Dtype  \n",
      "---  ------               --------------  -----  \n",
      " 0   ChildID              13858 non-null  int64  \n",
      " 1   PregnancyID          13858 non-null  object \n",
      " 2   MotherID             13858 non-null  int64  \n",
      " 3   admincdobagemy       13858 non-null  int64  \n",
      " 4   eth0eth9gp           11450 non-null  object \n",
      " 5   eclregpart           13029 non-null  float64\n",
      " 6   bkfmumbkwt           13053 non-null  float64\n",
      " 7   mms0height           11221 non-null  float64\n",
      " 8   mms0mbkbmi           10625 non-null  float64\n",
      " 9   prnbp3rdtriw         6236 non-null   float64\n",
      " 10  bkfdiabete           12934 non-null  object \n",
      " 11  prnprexconeclampsia  1933 non-null   object \n",
      " 12  prnprexconhighbp     2045 non-null   object \n",
      " 13  prnprfhistecl        11059 non-null  object \n",
      " 14  gttfastglu           12401 non-null  float64\n",
      " 15  gttpostglu           12383 non-null  float64\n",
      " 16  ecllgaukwho          13194 non-null  object \n",
      " 17  eclsgaukwho          13194 non-null  object \n",
      " 18  eclgestwks           13526 non-null  float64\n",
      " 19  prnbpgdm             11063 non-null  object \n",
      " 20  prnbpgdmt_diet       494 non-null    object \n",
      " 21  prnbpgdmt_insulin    596 non-null    object \n",
      " 22  prnbpgdmt_lifestyle  340 non-null    object \n",
      " 23  prnbpgdmt_metformin  50 non-null     object \n",
      " 24  prnbpgdmt_none       1686 non-null   object \n",
      " 25  prnbpgdmt_notdoc     25 non-null     object \n",
      " 26  prnbpgestht          11035 non-null  object \n",
      " 27  prnbppreeclampsia    11035 non-null  object \n",
      " 28  prnprfhistdiab       11063 non-null  object \n",
      " 29  pregdm               4845 non-null   object \n",
      " 30  premacrosomia        5985 non-null   object \n",
      " 31  meanAbdomCirc        6659 non-null   float64\n",
      " 32  maxAbdomCirc         6659 non-null   float64\n",
      " 33  minAbdomCirc         6659 non-null   float64\n",
      " 34  varAbdomCirc         6659 non-null   float64\n",
      " 35  rangeAbdomCirc       6659 non-null   float64\n",
      " 36  meanFoetalWeight     6633 non-null   float64\n",
      " 37  maxFoetalWeight      6633 non-null   float64\n",
      " 38  minFoetalWeight      6633 non-null   float64\n",
      " 39  varFoetalWeight      6633 non-null   float64\n",
      " 40  rangeFoetalWeight    6633 non-null   float64\n",
      "dtypes: float64(18), int64(3), object(20)\n",
      "memory usage: 4.4+ MB\n"
     ]
    }
   ],
   "source": [
    "df=df.drop_duplicates()\n",
    "\n",
    "df.info()"
   ]
  },
  {
   "cell_type": "markdown",
   "metadata": {},
   "source": [
    "# Drop twin and triplet data (children with same PregnancyID)"
   ]
  },
  {
   "cell_type": "code",
   "execution_count": 86,
   "metadata": {},
   "outputs": [
    {
     "data": {
      "text/plain": [
       "(13495, 41)"
      ]
     },
     "execution_count": 86,
     "metadata": {},
     "output_type": "execute_result"
    }
   ],
   "source": [
    "# remove twin and triplet data\n",
    "df = df.drop_duplicates(subset='PregnancyID', keep=False)\n",
    "df.shape\n",
    "\n",
    "# 363 children dropped (BiB contains 354 twins and 9 triplets)"
   ]
  },
  {
   "cell_type": "markdown",
   "metadata": {},
   "source": [
    "# Drop rows with missing values for lga"
   ]
  },
  {
   "cell_type": "code",
   "execution_count": 87,
   "metadata": {},
   "outputs": [
    {
     "data": {
      "text/plain": [
       "301"
      ]
     },
     "execution_count": 87,
     "metadata": {},
     "output_type": "execute_result"
    }
   ],
   "source": [
    "df['ecllgaukwho'].isna().sum()"
   ]
  },
  {
   "cell_type": "code",
   "execution_count": 88,
   "metadata": {},
   "outputs": [
    {
     "name": "stdout",
     "output_type": "stream",
     "text": [
      "(13194, 41)\n"
     ]
    }
   ],
   "source": [
    "# drop rows with missing value for target variable lga\n",
    "df = df.dropna(subset=['ecllgaukwho'])\n",
    "print(df.shape)"
   ]
  },
  {
   "cell_type": "markdown",
   "metadata": {},
   "source": [
    "# Drop premature infants born <34 weeks"
   ]
  },
  {
   "cell_type": "code",
   "execution_count": 89,
   "metadata": {},
   "outputs": [
    {
     "data": {
      "text/plain": [
       "217"
      ]
     },
     "execution_count": 89,
     "metadata": {},
     "output_type": "execute_result"
    }
   ],
   "source": [
    "# see how many GDM women gave birth to premature babies <34 weeks\n",
    "len(df[df['eclgestwks']<34])"
   ]
  },
  {
   "cell_type": "code",
   "execution_count": 90,
   "metadata": {},
   "outputs": [
    {
     "data": {
      "text/plain": [
       "(12977, 41)"
      ]
     },
     "execution_count": 90,
     "metadata": {},
     "output_type": "execute_result"
    }
   ],
   "source": [
    "# keep women whose infants were born after 33 weeks\n",
    "df = df[df['eclgestwks']>33]\n",
    "df.shape"
   ]
  },
  {
   "cell_type": "code",
   "execution_count": 91,
   "metadata": {},
   "outputs": [
    {
     "data": {
      "text/plain": [
       "Pakistani                      45.404446\n",
       "White British                  39.519895\n",
       "Indian                          3.820288\n",
       "Other                           2.708761\n",
       "White Other                     2.662059\n",
       "Bangladeshi                     2.335139\n",
       "Black                           2.008220\n",
       "Mixed-White and Black           0.962077\n",
       "Mixed-White and South Asian     0.579115\n",
       "Name: eth0eth9gp, dtype: float64"
      ]
     },
     "execution_count": 91,
     "metadata": {},
     "output_type": "execute_result"
    }
   ],
   "source": [
    "df['eth0eth9gp'].value_counts(normalize =True)*100"
   ]
  },
  {
   "cell_type": "markdown",
   "metadata": {},
   "source": [
    "# Replace missing values in Sparse features with 'No'"
   ]
  },
  {
   "cell_type": "code",
   "execution_count": 92,
   "metadata": {},
   "outputs": [],
   "source": [
    "df[[\"prnbpgdmt_diet\", \"prnbpgdmt_insulin\", \"prnbpgdmt_lifestyle\",\n",
    "    \"prnbpgdmt_metformin\",\"prnbpgdmt_none\", \"prnbpgdmt_notdoc\"]]= df[[\"prnbpgdmt_diet\", \"prnbpgdmt_insulin\", \"prnbpgdmt_lifestyle\", \"prnbpgdmt_metformin\",\n",
    "  \"prnbpgdmt_none\", \"prnbpgdmt_notdoc\"]].replace(np.NaN, 'No')"
   ]
  },
  {
   "cell_type": "code",
   "execution_count": 93,
   "metadata": {},
   "outputs": [
    {
     "name": "stdout",
     "output_type": "stream",
     "text": [
      "<class 'pandas.core.frame.DataFrame'>\n",
      "Int64Index: 12977 entries, 0 to 14380\n",
      "Data columns (total 41 columns):\n",
      " #   Column               Non-Null Count  Dtype  \n",
      "---  ------               --------------  -----  \n",
      " 0   ChildID              12977 non-null  int64  \n",
      " 1   PregnancyID          12977 non-null  object \n",
      " 2   MotherID             12977 non-null  int64  \n",
      " 3   admincdobagemy       12977 non-null  int64  \n",
      " 4   eth0eth9gp           10706 non-null  object \n",
      " 5   eclregpart           12507 non-null  float64\n",
      " 6   bkfmumbkwt           12541 non-null  float64\n",
      " 7   mms0height           10494 non-null  float64\n",
      " 8   mms0mbkbmi           10199 non-null  float64\n",
      " 9   prnbp3rdtriw         6179 non-null   float64\n",
      " 10  bkfdiabete           12422 non-null  object \n",
      " 11  prnprexconeclampsia  1834 non-null   object \n",
      " 12  prnprexconhighbp     1940 non-null   object \n",
      " 13  prnprfhistecl        10594 non-null  object \n",
      " 14  gttfastglu           11622 non-null  float64\n",
      " 15  gttpostglu           11604 non-null  float64\n",
      " 16  ecllgaukwho          12977 non-null  object \n",
      " 17  eclsgaukwho          12977 non-null  object \n",
      " 18  eclgestwks           12977 non-null  float64\n",
      " 19  prnbpgdm             10592 non-null  object \n",
      " 20  prnbpgdmt_diet       12977 non-null  object \n",
      " 21  prnbpgdmt_insulin    12977 non-null  object \n",
      " 22  prnbpgdmt_lifestyle  12977 non-null  object \n",
      " 23  prnbpgdmt_metformin  12977 non-null  object \n",
      " 24  prnbpgdmt_none       12977 non-null  object \n",
      " 25  prnbpgdmt_notdoc     12977 non-null  object \n",
      " 26  prnbpgestht          10582 non-null  object \n",
      " 27  prnbppreeclampsia    10582 non-null  object \n",
      " 28  prnprfhistdiab       10594 non-null  object \n",
      " 29  pregdm               4653 non-null   object \n",
      " 30  premacrosomia        5740 non-null   object \n",
      " 31  meanAbdomCirc        6129 non-null   float64\n",
      " 32  maxAbdomCirc         6129 non-null   float64\n",
      " 33  minAbdomCirc         6129 non-null   float64\n",
      " 34  varAbdomCirc         6129 non-null   float64\n",
      " 35  rangeAbdomCirc       6129 non-null   float64\n",
      " 36  meanFoetalWeight     6104 non-null   float64\n",
      " 37  maxFoetalWeight      6104 non-null   float64\n",
      " 38  minFoetalWeight      6104 non-null   float64\n",
      " 39  varFoetalWeight      6104 non-null   float64\n",
      " 40  rangeFoetalWeight    6104 non-null   float64\n",
      "dtypes: float64(18), int64(3), object(20)\n",
      "memory usage: 4.2+ MB\n"
     ]
    }
   ],
   "source": [
    "df.info()"
   ]
  },
  {
   "cell_type": "code",
   "execution_count": 94,
   "metadata": {},
   "outputs": [
    {
     "name": "stdout",
     "output_type": "stream",
     "text": [
      "['Not documented' 'No' nan 'Yes']\n"
     ]
    }
   ],
   "source": [
    "print(df['prnprexconeclampsia'].unique())"
   ]
  },
  {
   "cell_type": "markdown",
   "metadata": {},
   "source": [
    "# Drop Features with high percentage of missing values"
   ]
  },
  {
   "cell_type": "code",
   "execution_count": 95,
   "metadata": {},
   "outputs": [],
   "source": [
    "# calculate percentage of missing data\n",
    "missing_values = (df.isna().mean().round(4) * 100)"
   ]
  },
  {
   "cell_type": "code",
   "execution_count": 96,
   "metadata": {},
   "outputs": [
    {
     "data": {
      "text/plain": [
       "ChildID                 0.00\n",
       "PregnancyID             0.00\n",
       "MotherID                0.00\n",
       "admincdobagemy          0.00\n",
       "eth0eth9gp             17.50\n",
       "eclregpart              3.62\n",
       "bkfmumbkwt              3.36\n",
       "mms0height             19.13\n",
       "mms0mbkbmi             21.41\n",
       "prnbp3rdtriw           52.38\n",
       "bkfdiabete              4.28\n",
       "prnprexconeclampsia    85.87\n",
       "prnprexconhighbp       85.05\n",
       "prnprfhistecl          18.36\n",
       "gttfastglu             10.44\n",
       "gttpostglu             10.58\n",
       "ecllgaukwho             0.00\n",
       "eclsgaukwho             0.00\n",
       "eclgestwks              0.00\n",
       "prnbpgdm               18.38\n",
       "prnbpgdmt_diet          0.00\n",
       "prnbpgdmt_insulin       0.00\n",
       "prnbpgdmt_lifestyle     0.00\n",
       "prnbpgdmt_metformin     0.00\n",
       "prnbpgdmt_none          0.00\n",
       "prnbpgdmt_notdoc        0.00\n",
       "prnbpgestht            18.46\n",
       "prnbppreeclampsia      18.46\n",
       "prnprfhistdiab         18.36\n",
       "pregdm                 64.14\n",
       "premacrosomia          55.77\n",
       "meanAbdomCirc          52.77\n",
       "maxAbdomCirc           52.77\n",
       "minAbdomCirc           52.77\n",
       "varAbdomCirc           52.77\n",
       "rangeAbdomCirc         52.77\n",
       "meanFoetalWeight       52.96\n",
       "maxFoetalWeight        52.96\n",
       "minFoetalWeight        52.96\n",
       "varFoetalWeight        52.96\n",
       "rangeFoetalWeight      52.96\n",
       "dtype: float64"
      ]
     },
     "execution_count": 96,
     "metadata": {},
     "output_type": "execute_result"
    }
   ],
   "source": [
    "missing_values"
   ]
  },
  {
   "cell_type": "code",
   "execution_count": 97,
   "metadata": {},
   "outputs": [
    {
     "name": "stdout",
     "output_type": "stream",
     "text": [
      "[11, 12]\n"
     ]
    }
   ],
   "source": [
    "# drop features with % missing values > 65% (was going to go qith 50% but want to keep ma)\n",
    "\n",
    "dropList = []\n",
    "for i in range(len(missing_values)):\n",
    "    if (missing_values[i]>65 ):\n",
    "        dropList.append(i)\n",
    "\n",
    "print(dropList)\n",
    "\n",
    "\n",
    "# Dropped prnprexconeclampsia (Previous eclampsia), prnprexconhighbp (Pre-existing high blood pressure) CHECK THESE ARENT SPARSELY CODED"
   ]
  },
  {
   "cell_type": "code",
   "execution_count": 98,
   "metadata": {},
   "outputs": [],
   "source": [
    "df = df.drop(df.columns[dropList], axis=1)"
   ]
  },
  {
   "cell_type": "code",
   "execution_count": 99,
   "metadata": {},
   "outputs": [
    {
     "name": "stdout",
     "output_type": "stream",
     "text": [
      "<class 'pandas.core.frame.DataFrame'>\n",
      "Int64Index: 12977 entries, 0 to 14380\n",
      "Data columns (total 39 columns):\n",
      " #   Column               Non-Null Count  Dtype  \n",
      "---  ------               --------------  -----  \n",
      " 0   ChildID              12977 non-null  int64  \n",
      " 1   PregnancyID          12977 non-null  object \n",
      " 2   MotherID             12977 non-null  int64  \n",
      " 3   admincdobagemy       12977 non-null  int64  \n",
      " 4   eth0eth9gp           10706 non-null  object \n",
      " 5   eclregpart           12507 non-null  float64\n",
      " 6   bkfmumbkwt           12541 non-null  float64\n",
      " 7   mms0height           10494 non-null  float64\n",
      " 8   mms0mbkbmi           10199 non-null  float64\n",
      " 9   prnbp3rdtriw         6179 non-null   float64\n",
      " 10  bkfdiabete           12422 non-null  object \n",
      " 11  prnprfhistecl        10594 non-null  object \n",
      " 12  gttfastglu           11622 non-null  float64\n",
      " 13  gttpostglu           11604 non-null  float64\n",
      " 14  ecllgaukwho          12977 non-null  object \n",
      " 15  eclsgaukwho          12977 non-null  object \n",
      " 16  eclgestwks           12977 non-null  float64\n",
      " 17  prnbpgdm             10592 non-null  object \n",
      " 18  prnbpgdmt_diet       12977 non-null  object \n",
      " 19  prnbpgdmt_insulin    12977 non-null  object \n",
      " 20  prnbpgdmt_lifestyle  12977 non-null  object \n",
      " 21  prnbpgdmt_metformin  12977 non-null  object \n",
      " 22  prnbpgdmt_none       12977 non-null  object \n",
      " 23  prnbpgdmt_notdoc     12977 non-null  object \n",
      " 24  prnbpgestht          10582 non-null  object \n",
      " 25  prnbppreeclampsia    10582 non-null  object \n",
      " 26  prnprfhistdiab       10594 non-null  object \n",
      " 27  pregdm               4653 non-null   object \n",
      " 28  premacrosomia        5740 non-null   object \n",
      " 29  meanAbdomCirc        6129 non-null   float64\n",
      " 30  maxAbdomCirc         6129 non-null   float64\n",
      " 31  minAbdomCirc         6129 non-null   float64\n",
      " 32  varAbdomCirc         6129 non-null   float64\n",
      " 33  rangeAbdomCirc       6129 non-null   float64\n",
      " 34  meanFoetalWeight     6104 non-null   float64\n",
      " 35  maxFoetalWeight      6104 non-null   float64\n",
      " 36  minFoetalWeight      6104 non-null   float64\n",
      " 37  varFoetalWeight      6104 non-null   float64\n",
      " 38  rangeFoetalWeight    6104 non-null   float64\n",
      "dtypes: float64(18), int64(3), object(18)\n",
      "memory usage: 4.0+ MB\n"
     ]
    }
   ],
   "source": [
    "df.info()"
   ]
  },
  {
   "cell_type": "markdown",
   "metadata": {},
   "source": [
    "# Rename columns in New Dataset"
   ]
  },
  {
   "cell_type": "code",
   "execution_count": 100,
   "metadata": {},
   "outputs": [
    {
     "data": {
      "text/plain": [
       "Index(['ChildID', 'PregnancyID', 'MotherID', 'admincdobagemy', 'eth0eth9gp',\n",
       "       'eclregpart', 'bkfmumbkwt', 'mms0height', 'mms0mbkbmi', 'prnbp3rdtriw',\n",
       "       'bkfdiabete', 'prnprfhistecl', 'gttfastglu', 'gttpostglu',\n",
       "       'ecllgaukwho', 'eclsgaukwho', 'eclgestwks', 'prnbpgdm',\n",
       "       'prnbpgdmt_diet', 'prnbpgdmt_insulin', 'prnbpgdmt_lifestyle',\n",
       "       'prnbpgdmt_metformin', 'prnbpgdmt_none', 'prnbpgdmt_notdoc',\n",
       "       'prnbpgestht', 'prnbppreeclampsia', 'prnprfhistdiab', 'pregdm',\n",
       "       'premacrosomia', 'meanAbdomCirc', 'maxAbdomCirc', 'minAbdomCirc',\n",
       "       'varAbdomCirc', 'rangeAbdomCirc', 'meanFoetalWeight', 'maxFoetalWeight',\n",
       "       'minFoetalWeight', 'varFoetalWeight', 'rangeFoetalWeight'],\n",
       "      dtype='object')"
      ]
     },
     "execution_count": 100,
     "metadata": {},
     "output_type": "execute_result"
    }
   ],
   "source": [
    "df.columns"
   ]
  },
  {
   "cell_type": "code",
   "execution_count": 101,
   "metadata": {},
   "outputs": [],
   "source": [
    "df=df.rename(columns={'admincdobagemy':'maternalAge','eth0eth9gp':'ethnicity', 'eclregpart':'parity',\n",
    "                      'bkfmumbkwt':'bookingWeight', 'mms0height':'maternalHeight','mms0mbkbmi':'bookingBMI',\n",
    "                      'prnbp3rdtriw':'thirdTrimesterWeight',\n",
    "                      'bkfdiabete':'maternalDiabetes', 'prnprfhistecl':'fhEclampsia',\n",
    "                      'gttfastglu':'fastingGlucose','gttpostglu': 'postGlucose', 'ecllgaukwho':'lga',\n",
    "                      'prnbpgdm':'gdm', 'prnbpgdmt_diet':'gdmDiet','prnbpgdmt_insulin':'gdmInsulin' ,\n",
    "                      'prnbpgdmt_lifestyle':'gdmLifestyle' , 'prnbpgdmt_metformin':'gdmMetformin',\n",
    "                      'prnbpgdmt_none':'gdmNoTreatment', 'prnbpgdmt_notdoc':'gdmNotDoc',\n",
    "                      'prnbpgestht':'gestHypertension','prnbppreeclampsia':'gestEclampsia', 'prnprfhistdiab':'fhDiabetes'})"
   ]
  },
  {
   "cell_type": "markdown",
   "metadata": {},
   "source": [
    "# Rearrange columns \n",
    "such that categorical features are first followed by numerical features"
   ]
  },
  {
   "cell_type": "code",
   "execution_count": 102,
   "metadata": {},
   "outputs": [],
   "source": [
    "df= df[['ChildID', 'PregnancyID', 'MotherID','ethnicity','maternalDiabetes','fhEclampsia',\n",
    "       'gdm','gdmDiet','gdmInsulin','gdmLifestyle','gdmMetformin','gdmNoTreatment','gdmNotDoc',\n",
    "        'gestHypertension','gestEclampsia','fhDiabetes','pregdm','premacrosomia',\n",
    "        'maternalAge','parity','bookingWeight', 'bookingBMI','thirdTrimesterWeight', 'maternalHeight', \n",
    "        'fastingGlucose', 'postGlucose',\n",
    "        'meanAbdomCirc','maxAbdomCirc', 'minAbdomCirc', 'varAbdomCirc', 'rangeAbdomCirc',\n",
    "        'meanFoetalWeight', 'maxFoetalWeight', 'minFoetalWeight','varFoetalWeight', 'rangeFoetalWeight','lga']]"
   ]
  },
  {
   "cell_type": "code",
   "execution_count": 103,
   "metadata": {},
   "outputs": [
    {
     "name": "stdout",
     "output_type": "stream",
     "text": [
      "<class 'pandas.core.frame.DataFrame'>\n",
      "Int64Index: 12977 entries, 0 to 14380\n",
      "Data columns (total 37 columns):\n",
      " #   Column                Non-Null Count  Dtype  \n",
      "---  ------                --------------  -----  \n",
      " 0   ChildID               12977 non-null  int64  \n",
      " 1   PregnancyID           12977 non-null  object \n",
      " 2   MotherID              12977 non-null  int64  \n",
      " 3   ethnicity             10706 non-null  object \n",
      " 4   maternalDiabetes      12422 non-null  object \n",
      " 5   fhEclampsia           10594 non-null  object \n",
      " 6   gdm                   10592 non-null  object \n",
      " 7   gdmDiet               12977 non-null  object \n",
      " 8   gdmInsulin            12977 non-null  object \n",
      " 9   gdmLifestyle          12977 non-null  object \n",
      " 10  gdmMetformin          12977 non-null  object \n",
      " 11  gdmNoTreatment        12977 non-null  object \n",
      " 12  gdmNotDoc             12977 non-null  object \n",
      " 13  gestHypertension      10582 non-null  object \n",
      " 14  gestEclampsia         10582 non-null  object \n",
      " 15  fhDiabetes            10594 non-null  object \n",
      " 16  pregdm                4653 non-null   object \n",
      " 17  premacrosomia         5740 non-null   object \n",
      " 18  maternalAge           12977 non-null  int64  \n",
      " 19  parity                12507 non-null  float64\n",
      " 20  bookingWeight         12541 non-null  float64\n",
      " 21  bookingBMI            10199 non-null  float64\n",
      " 22  thirdTrimesterWeight  6179 non-null   float64\n",
      " 23  maternalHeight        10494 non-null  float64\n",
      " 24  fastingGlucose        11622 non-null  float64\n",
      " 25  postGlucose           11604 non-null  float64\n",
      " 26  meanAbdomCirc         6129 non-null   float64\n",
      " 27  maxAbdomCirc          6129 non-null   float64\n",
      " 28  minAbdomCirc          6129 non-null   float64\n",
      " 29  varAbdomCirc          6129 non-null   float64\n",
      " 30  rangeAbdomCirc        6129 non-null   float64\n",
      " 31  meanFoetalWeight      6104 non-null   float64\n",
      " 32  maxFoetalWeight       6104 non-null   float64\n",
      " 33  minFoetalWeight       6104 non-null   float64\n",
      " 34  varFoetalWeight       6104 non-null   float64\n",
      " 35  rangeFoetalWeight     6104 non-null   float64\n",
      " 36  lga                   12977 non-null  object \n",
      "dtypes: float64(17), int64(3), object(17)\n",
      "memory usage: 3.8+ MB\n"
     ]
    }
   ],
   "source": [
    "df.info()"
   ]
  },
  {
   "cell_type": "code",
   "execution_count": 104,
   "metadata": {},
   "outputs": [
    {
     "data": {
      "text/plain": [
       "No     92.771827\n",
       "Yes     7.228173\n",
       "Name: lga, dtype: float64"
      ]
     },
     "execution_count": 104,
     "metadata": {},
     "output_type": "execute_result"
    }
   ],
   "source": [
    "# what percentage of children are LGA\n",
    "df['lga'].value_counts(normalize =True)*100\n",
    "#df['lga'].value_counts()"
   ]
  },
  {
   "cell_type": "markdown",
   "metadata": {},
   "source": [
    "# Group Ethnicity Data"
   ]
  },
  {
   "cell_type": "code",
   "execution_count": 105,
   "metadata": {},
   "outputs": [
    {
     "data": {
      "text/plain": [
       "17.5"
      ]
     },
     "execution_count": 105,
     "metadata": {},
     "output_type": "execute_result"
    }
   ],
   "source": [
    "# first see % missing values in ethnicity\n",
    "df['ethnicity'].isna().mean().round(4) * 100"
   ]
  },
  {
   "cell_type": "code",
   "execution_count": 106,
   "metadata": {},
   "outputs": [
    {
     "data": {
      "text/plain": [
       "Pakistani                      37.458581\n",
       "White British                  32.603838\n",
       "NaN                            17.500193\n",
       "Indian                          3.151730\n",
       "Other                           2.234723\n",
       "White Other                     2.196193\n",
       "Bangladeshi                     1.926485\n",
       "Black                           1.656777\n",
       "Mixed-White and Black           0.793712\n",
       "Mixed-White and South Asian     0.477768\n",
       "Name: ethnicity, dtype: float64"
      ]
     },
     "execution_count": 106,
     "metadata": {},
     "output_type": "execute_result"
    }
   ],
   "source": [
    "# add dropna=False for NaNs to be tallied \n",
    "df['ethnicity'].value_counts(normalize=True, dropna=False)*100"
   ]
  },
  {
   "cell_type": "code",
   "execution_count": 107,
   "metadata": {},
   "outputs": [],
   "source": [
    "col         = 'ethnicity'\n",
    "conditions  = [ (df[col].isin(['White British', 'White Other'])),\n",
    "               (df[col].isin(['Indian', 'Pakistani', 'Bangladeshi'])),\n",
    "               (df[col].isin(['Other', 'Black', 'Mixed-White and Black', 'Mixed-White and South Asian']))]\n",
    "choices     = ['White', 'South Asian', 'Other']\n",
    "    \n",
    "df['ethnicity'] = np.select(conditions, choices, default=np.nan)\n",
    "#df5.to_csv('ethnicity.csv', index=False)"
   ]
  },
  {
   "cell_type": "code",
   "execution_count": 108,
   "metadata": {},
   "outputs": [
    {
     "data": {
      "text/plain": [
       "South Asian    42.536796\n",
       "White          34.800031\n",
       "nan            17.500193\n",
       "Other           5.162981\n",
       "Name: ethnicity, dtype: float64"
      ]
     },
     "execution_count": 108,
     "metadata": {},
     "output_type": "execute_result"
    }
   ],
   "source": [
    "df['ethnicity'].value_counts(normalize=True)*100\n",
    "\n",
    "# nan column is missing value column"
   ]
  },
  {
   "cell_type": "code",
   "execution_count": 109,
   "metadata": {},
   "outputs": [
    {
     "data": {
      "text/plain": [
       "No     92.771827\n",
       "Yes     7.228173\n",
       "Name: lga, dtype: float64"
      ]
     },
     "execution_count": 109,
     "metadata": {},
     "output_type": "execute_result"
    }
   ],
   "source": [
    "df['lga'].value_counts(normalize=True, dropna=False)*100\n"
   ]
  },
  {
   "cell_type": "code",
   "execution_count": 117,
   "metadata": {},
   "outputs": [
    {
     "data": {
      "image/png": "[encoded data removed]",
      "text/plain": [
       "<Figure size 504x432 with 1 Axes>"
      ]
     },
     "metadata": {
      "needs_background": "light"
     },
     "output_type": "display_data"
    }
   ],
   "source": [
    "#import seaborn as sns\n",
    "#sns.set(font_scale=1.4)\n",
    "import matplotlib.pyplot as plt\n",
    "fig, ax = plt.subplots()\n",
    "\n",
    "total_infants = df['lga'].size\n",
    "\n",
    "\n",
    "# compute percentage of LGA/ non-LGA infants\n",
    "df1=pd.DataFrame()\n",
    "df1['Percentage'] = df['lga'].value_counts(normalize=True, dropna=False)*100\n",
    "df1['Percentage'][1]\n",
    "\n",
    "\n",
    "# plot bar chart of LGA/ non-LGA infants\n",
    "ax = df['lga'].value_counts().plot(kind='bar', figsize=(7, 6), rot=0)\n",
    "plt.xlabel(\"LGA Infants\", labelpad=14)\n",
    "plt.ylabel(\"Count\", labelpad=14)\n",
    "plt.title(\"Count of LGA/ non-LGA infants in BiB dataset\", y=1.02);\n",
    "\n",
    "\n",
    "# print percentage of LGA/ non-LGA infants over each bar\n",
    "i = 0\n",
    "for p in ax.patches:\n",
    "\n",
    "    width = p.get_width()\n",
    "    height = p.get_height()\n",
    "    x, y = p.get_xy()\n",
    "    plt.text(x+width/2,\n",
    "             y+height*1.01,\n",
    "             str(\"{:.1f}\".format(df1.Percentage[i]))+'%',\n",
    "             ha='center',\n",
    "             weight='bold')\n",
    "    i+=1\n",
    "fig.savefig('figures/bib_LGA_nonLGA_barchart.svg', format='svg', dpi=1200)\n",
    "plt.show()"
   ]
  },
  {
   "cell_type": "markdown",
   "metadata": {},
   "source": [
    "# Make feature and target dataframes"
   ]
  },
  {
   "cell_type": "code",
   "execution_count": 69,
   "metadata": {},
   "outputs": [],
   "source": [
    "# import full dataset before preprocessing\n",
    "\n",
    "df1 = df.drop(columns=['ChildID', 'PregnancyID','MotherID'])\n",
    "df1.to_csv('BibFullDataset.csv', index=False)\n",
    "#df1.info()"
   ]
  },
  {
   "cell_type": "code",
   "execution_count": 70,
   "metadata": {},
   "outputs": [],
   "source": [
    "# make feature matrix and target matrix\n",
    "X = df.drop(columns=['lga','ChildID', 'PregnancyID','MotherID'])\n",
    "y = df['lga']\n",
    "\n",
    "X.to_csv('BibFeaturesMatrix.csv', index=False)\n",
    "y.to_csv(\"BibDependentVariableLGA.csv\", index=False)\n"
   ]
  },
  {
   "cell_type": "code",
   "execution_count": 71,
   "metadata": {},
   "outputs": [],
   "source": [
    "# encode target variable \n",
    "from sklearn.preprocessing import LabelEncoder\n",
    "le = LabelEncoder()\n",
    "y = le.fit_transform(y)\n",
    "#print(y)"
   ]
  },
  {
   "cell_type": "code",
   "execution_count": 72,
   "metadata": {},
   "outputs": [],
   "source": [
    "# define categorical and numeric transformers\n",
    "numeric_transformer = Pipeline(steps=[\n",
    "    ('knnImputer', KNNImputer(n_neighbors=2, weights=\"uniform\")),\n",
    "    ('scaler', StandardScaler())])\n",
    "\n",
    "categorical_transformer = Pipeline(steps=[\n",
    "    ('imputer', SimpleImputer(strategy='constant', fill_value='missing')),\n",
    "    ('onehot', OneHotEncoder(handle_unknown='ignore'))])\n",
    "\n",
    "#  dispatch object columns to the categorical_transformer and remaining columns to numerical_transformer\n",
    "preprocessor = ColumnTransformer(transformers=[\n",
    "    ('cat', categorical_transformer, selector(dtype_include=['object'])),\n",
    "    ('num', numeric_transformer, selector(dtype_include=['float64','int64']))\n",
    "])\n",
    "\n",
    "X = pd.DataFrame(preprocessor.fit_transform(X))"
   ]
  },
  {
   "cell_type": "markdown",
   "metadata": {},
   "source": [
    "# Rename Feature columns after Preprocessing and OHE"
   ]
  },
  {
   "cell_type": "code",
   "execution_count": 73,
   "metadata": {},
   "outputs": [],
   "source": [
    "def get_column_names_from_ColumnTransformer(column_transformer):    \n",
    "    col_name = []\n",
    "\n",
    "    for transformer_in_columns in column_transformer.transformers_[:-1]: #the last transformer is ColumnTransformer's 'remainder'\n",
    "        print('\\n\\ntransformer: ', transformer_in_columns[0])\n",
    "        \n",
    "        raw_col_name = list(transformer_in_columns[2])\n",
    "        \n",
    "        if isinstance(transformer_in_columns[1], Pipeline): \n",
    "            # if pipeline, get the last transformer\n",
    "            transformer = transformer_in_columns[1].steps[-1][1]\n",
    "        else:\n",
    "            transformer = transformer_in_columns[1]\n",
    "            \n",
    "        try:\n",
    "          if isinstance(transformer, OneHotEncoder):\n",
    "            names = list(transformer.get_feature_names_out(raw_col_name))\n",
    "            \n",
    "          elif isinstance(transformer, SimpleImputer) and transformer.add_indicator:\n",
    "            missing_indicator_indices = transformer.indicator_.features_\n",
    "            missing_indicators = [raw_col_name[idx] + '_missing_flag' for idx in missing_indicator_indices]\n",
    "\n",
    "            names = raw_col_name + missing_indicators\n",
    "            \n",
    "          else:\n",
    "            names = list(transformer.get_feature_names_out())\n",
    "          \n",
    "        except AttributeError as error:\n",
    "          names = raw_col_name\n",
    "        \n",
    "        print(names)    \n",
    "        \n",
    "        col_name.extend(names)\n",
    "            \n",
    "    return col_name"
   ]
  },
  {
   "cell_type": "code",
   "execution_count": 74,
   "metadata": {},
   "outputs": [
    {
     "name": "stdout",
     "output_type": "stream",
     "text": [
      "\n",
      "\n",
      "transformer:  cat\n",
      "['ethnicity_Other', 'ethnicity_South Asian', 'ethnicity_White', 'ethnicity_nan', 'maternalDiabetes_No', 'maternalDiabetes_Yes', 'maternalDiabetes_missing', 'fhEclampsia_No', 'fhEclampsia_Not documented', 'fhEclampsia_Yes', 'fhEclampsia_missing', 'gdm_No', 'gdm_Yes', 'gdm_missing', 'gdmDiet_No', 'gdmDiet_Yes', 'gdmInsulin_No', 'gdmInsulin_Yes', 'gdmLifestyle_No', 'gdmLifestyle_Yes', 'gdmMetformin_No', 'gdmMetformin_Yes', 'gdmNoTreatment_No', 'gdmNoTreatment_Yes', 'gdmNotDoc_No', 'gdmNotDoc_Not documented', 'gestHypertension_No', 'gestHypertension_Yes', 'gestHypertension_missing', 'gestEclampsia_No', 'gestEclampsia_Yes', 'gestEclampsia_missing', 'fhDiabetes_No', 'fhDiabetes_Not documented', 'fhDiabetes_Yes', 'fhDiabetes_missing', 'pregdm_No', 'pregdm_Yes', 'pregdm_missing', 'premacrosomia_No', 'premacrosomia_Yes', 'premacrosomia_missing']\n"
     ]
    }
   ],
   "source": [
    "newColNames=get_column_names_from_ColumnTransformer(preprocessor)"
   ]
  },
  {
   "cell_type": "code",
   "execution_count": 75,
   "metadata": {},
   "outputs": [
    {
     "data": {
      "text/plain": [
       "['ethnicity_Other',\n",
       " 'ethnicity_South Asian',\n",
       " 'ethnicity_White',\n",
       " 'ethnicity_nan',\n",
       " 'maternalDiabetes_No',\n",
       " 'maternalDiabetes_Yes',\n",
       " 'maternalDiabetes_missing',\n",
       " 'fhEclampsia_No',\n",
       " 'fhEclampsia_Not documented',\n",
       " 'fhEclampsia_Yes',\n",
       " 'fhEclampsia_missing',\n",
       " 'gdm_No',\n",
       " 'gdm_Yes',\n",
       " 'gdm_missing',\n",
       " 'gdmDiet_No',\n",
       " 'gdmDiet_Yes',\n",
       " 'gdmInsulin_No',\n",
       " 'gdmInsulin_Yes',\n",
       " 'gdmLifestyle_No',\n",
       " 'gdmLifestyle_Yes',\n",
       " 'gdmMetformin_No',\n",
       " 'gdmMetformin_Yes',\n",
       " 'gdmNoTreatment_No',\n",
       " 'gdmNoTreatment_Yes',\n",
       " 'gdmNotDoc_No',\n",
       " 'gdmNotDoc_Not documented',\n",
       " 'gestHypertension_No',\n",
       " 'gestHypertension_Yes',\n",
       " 'gestHypertension_missing',\n",
       " 'gestEclampsia_No',\n",
       " 'gestEclampsia_Yes',\n",
       " 'gestEclampsia_missing',\n",
       " 'fhDiabetes_No',\n",
       " 'fhDiabetes_Not documented',\n",
       " 'fhDiabetes_Yes',\n",
       " 'fhDiabetes_missing',\n",
       " 'pregdm_No',\n",
       " 'pregdm_Yes',\n",
       " 'pregdm_missing',\n",
       " 'premacrosomia_No',\n",
       " 'premacrosomia_Yes',\n",
       " 'premacrosomia_missing']"
      ]
     },
     "execution_count": 75,
     "metadata": {},
     "output_type": "execute_result"
    }
   ],
   "source": [
    "newColNames"
   ]
  },
  {
   "cell_type": "code",
   "execution_count": 76,
   "metadata": {},
   "outputs": [],
   "source": [
    "newColNames.extend(('maternalAge','parity', 'bookingWeight', 'bookingBMI','thirdTrimesterWeight','maternalHeight',\n",
    "                    'fastingGlucose', 'postGlucose',\n",
    "                    'meanAbdomCirc', 'maxAbdomCirc', 'minAbdomCirc','varAbdomCirc', 'rangeAbdomCirc',\n",
    "                    'meanFoetalWeight', 'maxFoetalWeight', 'minFoetalWeight','varFoetalWeight', 'rangeFoetalWeight'))"
   ]
  },
  {
   "cell_type": "code",
   "execution_count": 77,
   "metadata": {},
   "outputs": [
    {
     "name": "stdout",
     "output_type": "stream",
     "text": [
      "<class 'pandas.core.frame.DataFrame'>\n",
      "RangeIndex: 12977 entries, 0 to 12976\n",
      "Data columns (total 60 columns):\n",
      " #   Column                      Non-Null Count  Dtype  \n",
      "---  ------                      --------------  -----  \n",
      " 0   ethnicity_Other             12977 non-null  float64\n",
      " 1   ethnicity_South Asian       12977 non-null  float64\n",
      " 2   ethnicity_White             12977 non-null  float64\n",
      " 3   ethnicity_nan               12977 non-null  float64\n",
      " 4   maternalDiabetes_No         12977 non-null  float64\n",
      " 5   maternalDiabetes_Yes        12977 non-null  float64\n",
      " 6   maternalDiabetes_missing    12977 non-null  float64\n",
      " 7   fhEclampsia_No              12977 non-null  float64\n",
      " 8   fhEclampsia_Not documented  12977 non-null  float64\n",
      " 9   fhEclampsia_Yes             12977 non-null  float64\n",
      " 10  fhEclampsia_missing         12977 non-null  float64\n",
      " 11  gdm_No                      12977 non-null  float64\n",
      " 12  gdm_Yes                     12977 non-null  float64\n",
      " 13  gdm_missing                 12977 non-null  float64\n",
      " 14  gdmDiet_No                  12977 non-null  float64\n",
      " 15  gdmDiet_Yes                 12977 non-null  float64\n",
      " 16  gdmInsulin_No               12977 non-null  float64\n",
      " 17  gdmInsulin_Yes              12977 non-null  float64\n",
      " 18  gdmLifestyle_No             12977 non-null  float64\n",
      " 19  gdmLifestyle_Yes            12977 non-null  float64\n",
      " 20  gdmMetformin_No             12977 non-null  float64\n",
      " 21  gdmMetformin_Yes            12977 non-null  float64\n",
      " 22  gdmNoTreatment_No           12977 non-null  float64\n",
      " 23  gdmNoTreatment_Yes          12977 non-null  float64\n",
      " 24  gdmNotDoc_No                12977 non-null  float64\n",
      " 25  gdmNotDoc_Not documented    12977 non-null  float64\n",
      " 26  gestHypertension_No         12977 non-null  float64\n",
      " 27  gestHypertension_Yes        12977 non-null  float64\n",
      " 28  gestHypertension_missing    12977 non-null  float64\n",
      " 29  gestEclampsia_No            12977 non-null  float64\n",
      " 30  gestEclampsia_Yes           12977 non-null  float64\n",
      " 31  gestEclampsia_missing       12977 non-null  float64\n",
      " 32  fhDiabetes_No               12977 non-null  float64\n",
      " 33  fhDiabetes_Not documented   12977 non-null  float64\n",
      " 34  fhDiabetes_Yes              12977 non-null  float64\n",
      " 35  fhDiabetes_missing          12977 non-null  float64\n",
      " 36  pregdm_No                   12977 non-null  float64\n",
      " 37  pregdm_Yes                  12977 non-null  float64\n",
      " 38  pregdm_missing              12977 non-null  float64\n",
      " 39  premacrosomia_No            12977 non-null  float64\n",
      " 40  premacrosomia_Yes           12977 non-null  float64\n",
      " 41  premacrosomia_missing       12977 non-null  float64\n",
      " 42  maternalAge                 12977 non-null  float64\n",
      " 43  parity                      12977 non-null  float64\n",
      " 44  bookingWeight               12977 non-null  float64\n",
      " 45  bookingBMI                  12977 non-null  float64\n",
      " 46  thirdTrimesterWeight        12977 non-null  float64\n",
      " 47  maternalHeight              12977 non-null  float64\n",
      " 48  fastingGlucose              12977 non-null  float64\n",
      " 49  postGlucose                 12977 non-null  float64\n",
      " 50  meanAbdomCirc               12977 non-null  float64\n",
      " 51  maxAbdomCirc                12977 non-null  float64\n",
      " 52  minAbdomCirc                12977 non-null  float64\n",
      " 53  varAbdomCirc                12977 non-null  float64\n",
      " 54  rangeAbdomCirc              12977 non-null  float64\n",
      " 55  meanFoetalWeight            12977 non-null  float64\n",
      " 56  maxFoetalWeight             12977 non-null  float64\n",
      " 57  minFoetalWeight             12977 non-null  float64\n",
      " 58  varFoetalWeight             12977 non-null  float64\n",
      " 59  rangeFoetalWeight           12977 non-null  float64\n",
      "dtypes: float64(60)\n",
      "memory usage: 5.9 MB\n"
     ]
    }
   ],
   "source": [
    "X.columns = newColNames\n",
    "X.info()"
   ]
  },
  {
   "cell_type": "code",
   "execution_count": 78,
   "metadata": {},
   "outputs": [],
   "source": [
    "X.to_csv('BibFeaturesMatrix_Preprocessed_OHEColumnsNamed.csv', index=False)\n",
    "y = pd.DataFrame(y)\n",
    "y.to_csv(\"BibDependentVariableLGAEncoded.csv\", index=False)"
   ]
  },
  {
   "cell_type": "code",
   "execution_count": null,
   "metadata": {},
   "outputs": [],
   "source": []
  }
 ],
 "metadata": {
  "kernelspec": {
   "display_name": "Python 3 (ipykernel)",
   "language": "python",
   "name": "python3"
  },
  "language_info": {
   "codemirror_mode": {
    "name": "ipython",
    "version": 3
   },
   "file_extension": ".py",
   "mimetype": "text/x-python",
   "name": "python",
   "nbconvert_exporter": "python",
   "pygments_lexer": "ipython3",
   "version": "3.7.6"
  }
 },
 "nbformat": 4,
 "nbformat_minor": 4
}
