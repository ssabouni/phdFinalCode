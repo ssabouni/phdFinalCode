{
 "cells": [
  {
   "cell_type": "code",
   "execution_count": 2,
   "id": "bb0bed1d-ab40-4d70-8e2e-823552c18862",
   "metadata": {},
   "outputs": [],
   "source": [
    "# Importing the libraries\n",
    "import numpy as np\n",
    "import pandas as pd"
   ]
  },
  {
   "cell_type": "code",
   "execution_count": 3,
   "id": "8b14275a-c61d-46c7-8806-0e2be6323cbd",
   "metadata": {},
   "outputs": [],
   "source": [
    "df = pd.read_csv('nhsDataFinal.csv')"
   ]
  },
  {
   "cell_type": "code",
   "execution_count": 4,
   "id": "ca15890c-9b7a-49e7-8495-83ff9f82bda0",
   "metadata": {},
   "outputs": [
    {
     "name": "stdout",
     "output_type": "stream",
     "text": [
      "<class 'pandas.core.frame.DataFrame'>\n",
      "RangeIndex: 196 entries, 0 to 195\n",
      "Data columns (total 55 columns):\n",
      " #   Column                           Non-Null Count  Dtype  \n",
      "---  ------                           --------------  -----  \n",
      " 0   Participant ID                   196 non-null    object \n",
      " 1   GDMDiagnosisDate                 196 non-null    object \n",
      " 2   estimatedDeliveryDate            196 non-null    object \n",
      " 3   maternalAgeAtBirth               196 non-null    int64  \n",
      " 4   OGTTfasting                      196 non-null    float64\n",
      " 5   OGTT2hour                        196 non-null    float64\n",
      " 6   maternalWeightAtBooking          196 non-null    float64\n",
      " 7   maternalHeight                   196 non-null    int64  \n",
      " 8   maternalBMIAtBooking             196 non-null    float64\n",
      " 9   maternalWeight3rdTrimester       196 non-null    float64\n",
      " 10  prevMacrosomia                   196 non-null    object \n",
      " 11  eclampsiaFH                      196 non-null    object \n",
      " 12  gestationalPre-eclampsia         196 non-null    object \n",
      " 13  pcos                             196 non-null    object \n",
      " 14  hypertensionFH                   196 non-null    object \n",
      " 15  gestationalHypertension          196 non-null    object \n",
      " 16  ethnicity                        196 non-null    object \n",
      " 17  gestationalAgeAtGDMDiagnosis     196 non-null    int64  \n",
      " 18  gravidity                        196 non-null    int64  \n",
      " 19  parity                           196 non-null    int64  \n",
      " 20  previousGDM                      196 non-null    object \n",
      " 21  familyHistoryDiabetes            196 non-null    object \n",
      " 22  familyHistoryGDM                 196 non-null    object \n",
      " 23  GDMLifestyleGestWeek             196 non-null    int64  \n",
      " 24  GDMDietGestWeek                  196 non-null    int64  \n",
      " 25  GDMMetforminGestWeek             51 non-null     float64\n",
      " 26  GDMInsulinGestWeek               53 non-null     float64\n",
      " 27  metforminFlag                    196 non-null    object \n",
      " 28  insulinFlag                      196 non-null    object \n",
      " 29  meanBG                           196 non-null    float64\n",
      " 30  maxBG                            196 non-null    float64\n",
      " 31  minBG                            196 non-null    float64\n",
      " 32  varBG                            194 non-null    float64\n",
      " 33  countBG                          196 non-null    int64  \n",
      " 34  stdBG                            194 non-null    float64\n",
      " 35  lowBG                            196 non-null    float64\n",
      " 36  normalBG                         196 non-null    float64\n",
      " 37  highBG                           196 non-null    float64\n",
      " 38  meanAC                           196 non-null    float64\n",
      " 39  maxAC                            196 non-null    float64\n",
      " 40  minAC                            196 non-null    float64\n",
      " 41  varAC                            195 non-null    float64\n",
      " 42  rangeAC                          196 non-null    float64\n",
      " 43  meanEFW                          196 non-null    float64\n",
      " 44  maxEFW                           196 non-null    int64  \n",
      " 45  minEFW                           196 non-null    float64\n",
      " 46  varEFW                           195 non-null    float64\n",
      " 47  rangeEFW                         196 non-null    float64\n",
      " 48  foetalDOB                        196 non-null    object \n",
      " 49  vaginalBirth                     196 non-null    object \n",
      " 50  caesareanBirth                   196 non-null    object \n",
      " 51  foetalSex                        196 non-null    object \n",
      " 52  foetalWeightInGrams              196 non-null    int64  \n",
      " 53  gestationalAgeAtDeliveryInWeeks  196 non-null    int64  \n",
      " 54  lga                              196 non-null    object \n",
      "dtypes: float64(24), int64(11), object(20)\n",
      "memory usage: 84.3+ KB\n"
     ]
    }
   ],
   "source": [
    "df.info()"
   ]
  },
  {
   "cell_type": "code",
   "execution_count": 5,
   "id": "2f313bc8-b5e8-4d10-9558-ceee310f7b96",
   "metadata": {},
   "outputs": [
    {
     "ename": "KeyError",
     "evalue": "\"['birthOutcome' 'sga'] not found in axis\"",
     "output_type": "error",
     "traceback": [
      "\u001b[0;31m---------------------------------------------------------------------------\u001b[0m",
      "\u001b[0;31mKeyError\u001b[0m                                  Traceback (most recent call last)",
      "\u001b[0;32m/var/folders/4q/z12sygps24zfmyncnf31fmdw0000gn/T/ipykernel_60289/3611966295.py\u001b[0m in \u001b[0;36m<module>\u001b[0;34m\u001b[0m\n\u001b[1;32m      4\u001b[0m                       \u001b[0;34m'foetalSex'\u001b[0m\u001b[0;34m,\u001b[0m \u001b[0;34m'foetalWeightInGrams'\u001b[0m\u001b[0;34m,\u001b[0m\u001b[0;34m\u001b[0m\u001b[0;34m\u001b[0m\u001b[0m\n\u001b[1;32m      5\u001b[0m                        \u001b[0;34m'gestationalAgeAtDeliveryInWeeks'\u001b[0m\u001b[0;34m,\u001b[0m \u001b[0;34m'birthOutcome'\u001b[0m\u001b[0;34m,\u001b[0m\u001b[0;34m\u001b[0m\u001b[0;34m\u001b[0m\u001b[0m\n\u001b[0;32m----> 6\u001b[0;31m                        'GDMDiagnosisDate','GDMDiagnosisDate', 'lga','sga'])\n\u001b[0m",
      "\u001b[0;32m~/anaconda3/lib/python3.7/site-packages/pandas/util/_decorators.py\u001b[0m in \u001b[0;36mwrapper\u001b[0;34m(*args, **kwargs)\u001b[0m\n\u001b[1;32m    309\u001b[0m                     \u001b[0mstacklevel\u001b[0m\u001b[0;34m=\u001b[0m\u001b[0mstacklevel\u001b[0m\u001b[0;34m,\u001b[0m\u001b[0;34m\u001b[0m\u001b[0;34m\u001b[0m\u001b[0m\n\u001b[1;32m    310\u001b[0m                 )\n\u001b[0;32m--> 311\u001b[0;31m             \u001b[0;32mreturn\u001b[0m \u001b[0mfunc\u001b[0m\u001b[0;34m(\u001b[0m\u001b[0;34m*\u001b[0m\u001b[0margs\u001b[0m\u001b[0;34m,\u001b[0m \u001b[0;34m**\u001b[0m\u001b[0mkwargs\u001b[0m\u001b[0;34m)\u001b[0m\u001b[0;34m\u001b[0m\u001b[0;34m\u001b[0m\u001b[0m\n\u001b[0m\u001b[1;32m    312\u001b[0m \u001b[0;34m\u001b[0m\u001b[0m\n\u001b[1;32m    313\u001b[0m         \u001b[0;32mreturn\u001b[0m \u001b[0mwrapper\u001b[0m\u001b[0;34m\u001b[0m\u001b[0;34m\u001b[0m\u001b[0m\n",
      "\u001b[0;32m~/anaconda3/lib/python3.7/site-packages/pandas/core/frame.py\u001b[0m in \u001b[0;36mdrop\u001b[0;34m(self, labels, axis, index, columns, level, inplace, errors)\u001b[0m\n\u001b[1;32m   4911\u001b[0m             \u001b[0mlevel\u001b[0m\u001b[0;34m=\u001b[0m\u001b[0mlevel\u001b[0m\u001b[0;34m,\u001b[0m\u001b[0;34m\u001b[0m\u001b[0;34m\u001b[0m\u001b[0m\n\u001b[1;32m   4912\u001b[0m             \u001b[0minplace\u001b[0m\u001b[0;34m=\u001b[0m\u001b[0minplace\u001b[0m\u001b[0;34m,\u001b[0m\u001b[0;34m\u001b[0m\u001b[0;34m\u001b[0m\u001b[0m\n\u001b[0;32m-> 4913\u001b[0;31m             \u001b[0merrors\u001b[0m\u001b[0;34m=\u001b[0m\u001b[0merrors\u001b[0m\u001b[0;34m,\u001b[0m\u001b[0;34m\u001b[0m\u001b[0;34m\u001b[0m\u001b[0m\n\u001b[0m\u001b[1;32m   4914\u001b[0m         )\n\u001b[1;32m   4915\u001b[0m \u001b[0;34m\u001b[0m\u001b[0m\n",
      "\u001b[0;32m~/anaconda3/lib/python3.7/site-packages/pandas/core/generic.py\u001b[0m in \u001b[0;36mdrop\u001b[0;34m(self, labels, axis, index, columns, level, inplace, errors)\u001b[0m\n\u001b[1;32m   4148\u001b[0m         \u001b[0;32mfor\u001b[0m \u001b[0maxis\u001b[0m\u001b[0;34m,\u001b[0m \u001b[0mlabels\u001b[0m \u001b[0;32min\u001b[0m \u001b[0maxes\u001b[0m\u001b[0;34m.\u001b[0m\u001b[0mitems\u001b[0m\u001b[0;34m(\u001b[0m\u001b[0;34m)\u001b[0m\u001b[0;34m:\u001b[0m\u001b[0;34m\u001b[0m\u001b[0;34m\u001b[0m\u001b[0m\n\u001b[1;32m   4149\u001b[0m             \u001b[0;32mif\u001b[0m \u001b[0mlabels\u001b[0m \u001b[0;32mis\u001b[0m \u001b[0;32mnot\u001b[0m \u001b[0;32mNone\u001b[0m\u001b[0;34m:\u001b[0m\u001b[0;34m\u001b[0m\u001b[0;34m\u001b[0m\u001b[0m\n\u001b[0;32m-> 4150\u001b[0;31m                 \u001b[0mobj\u001b[0m \u001b[0;34m=\u001b[0m \u001b[0mobj\u001b[0m\u001b[0;34m.\u001b[0m\u001b[0m_drop_axis\u001b[0m\u001b[0;34m(\u001b[0m\u001b[0mlabels\u001b[0m\u001b[0;34m,\u001b[0m \u001b[0maxis\u001b[0m\u001b[0;34m,\u001b[0m \u001b[0mlevel\u001b[0m\u001b[0;34m=\u001b[0m\u001b[0mlevel\u001b[0m\u001b[0;34m,\u001b[0m \u001b[0merrors\u001b[0m\u001b[0;34m=\u001b[0m\u001b[0merrors\u001b[0m\u001b[0;34m)\u001b[0m\u001b[0;34m\u001b[0m\u001b[0;34m\u001b[0m\u001b[0m\n\u001b[0m\u001b[1;32m   4151\u001b[0m \u001b[0;34m\u001b[0m\u001b[0m\n\u001b[1;32m   4152\u001b[0m         \u001b[0;32mif\u001b[0m \u001b[0minplace\u001b[0m\u001b[0;34m:\u001b[0m\u001b[0;34m\u001b[0m\u001b[0;34m\u001b[0m\u001b[0m\n",
      "\u001b[0;32m~/anaconda3/lib/python3.7/site-packages/pandas/core/generic.py\u001b[0m in \u001b[0;36m_drop_axis\u001b[0;34m(self, labels, axis, level, errors)\u001b[0m\n\u001b[1;32m   4183\u001b[0m                 \u001b[0mnew_axis\u001b[0m \u001b[0;34m=\u001b[0m \u001b[0maxis\u001b[0m\u001b[0;34m.\u001b[0m\u001b[0mdrop\u001b[0m\u001b[0;34m(\u001b[0m\u001b[0mlabels\u001b[0m\u001b[0;34m,\u001b[0m \u001b[0mlevel\u001b[0m\u001b[0;34m=\u001b[0m\u001b[0mlevel\u001b[0m\u001b[0;34m,\u001b[0m \u001b[0merrors\u001b[0m\u001b[0;34m=\u001b[0m\u001b[0merrors\u001b[0m\u001b[0;34m)\u001b[0m\u001b[0;34m\u001b[0m\u001b[0;34m\u001b[0m\u001b[0m\n\u001b[1;32m   4184\u001b[0m             \u001b[0;32melse\u001b[0m\u001b[0;34m:\u001b[0m\u001b[0;34m\u001b[0m\u001b[0;34m\u001b[0m\u001b[0m\n\u001b[0;32m-> 4185\u001b[0;31m                 \u001b[0mnew_axis\u001b[0m \u001b[0;34m=\u001b[0m \u001b[0maxis\u001b[0m\u001b[0;34m.\u001b[0m\u001b[0mdrop\u001b[0m\u001b[0;34m(\u001b[0m\u001b[0mlabels\u001b[0m\u001b[0;34m,\u001b[0m \u001b[0merrors\u001b[0m\u001b[0;34m=\u001b[0m\u001b[0merrors\u001b[0m\u001b[0;34m)\u001b[0m\u001b[0;34m\u001b[0m\u001b[0;34m\u001b[0m\u001b[0m\n\u001b[0m\u001b[1;32m   4186\u001b[0m             \u001b[0mresult\u001b[0m \u001b[0;34m=\u001b[0m \u001b[0mself\u001b[0m\u001b[0;34m.\u001b[0m\u001b[0mreindex\u001b[0m\u001b[0;34m(\u001b[0m\u001b[0;34m**\u001b[0m\u001b[0;34m{\u001b[0m\u001b[0maxis_name\u001b[0m\u001b[0;34m:\u001b[0m \u001b[0mnew_axis\u001b[0m\u001b[0;34m}\u001b[0m\u001b[0;34m)\u001b[0m\u001b[0;34m\u001b[0m\u001b[0;34m\u001b[0m\u001b[0m\n\u001b[1;32m   4187\u001b[0m \u001b[0;34m\u001b[0m\u001b[0m\n",
      "\u001b[0;32m~/anaconda3/lib/python3.7/site-packages/pandas/core/indexes/base.py\u001b[0m in \u001b[0;36mdrop\u001b[0;34m(self, labels, errors)\u001b[0m\n\u001b[1;32m   6015\u001b[0m         \u001b[0;32mif\u001b[0m \u001b[0mmask\u001b[0m\u001b[0;34m.\u001b[0m\u001b[0many\u001b[0m\u001b[0;34m(\u001b[0m\u001b[0;34m)\u001b[0m\u001b[0;34m:\u001b[0m\u001b[0;34m\u001b[0m\u001b[0;34m\u001b[0m\u001b[0m\n\u001b[1;32m   6016\u001b[0m             \u001b[0;32mif\u001b[0m \u001b[0merrors\u001b[0m \u001b[0;34m!=\u001b[0m \u001b[0;34m\"ignore\"\u001b[0m\u001b[0;34m:\u001b[0m\u001b[0;34m\u001b[0m\u001b[0;34m\u001b[0m\u001b[0m\n\u001b[0;32m-> 6017\u001b[0;31m                 \u001b[0;32mraise\u001b[0m \u001b[0mKeyError\u001b[0m\u001b[0;34m(\u001b[0m\u001b[0;34mf\"{labels[mask]} not found in axis\"\u001b[0m\u001b[0;34m)\u001b[0m\u001b[0;34m\u001b[0m\u001b[0;34m\u001b[0m\u001b[0m\n\u001b[0m\u001b[1;32m   6018\u001b[0m             \u001b[0mindexer\u001b[0m \u001b[0;34m=\u001b[0m \u001b[0mindexer\u001b[0m\u001b[0;34m[\u001b[0m\u001b[0;34m~\u001b[0m\u001b[0mmask\u001b[0m\u001b[0;34m]\u001b[0m\u001b[0;34m\u001b[0m\u001b[0;34m\u001b[0m\u001b[0m\n\u001b[1;32m   6019\u001b[0m         \u001b[0;32mreturn\u001b[0m \u001b[0mself\u001b[0m\u001b[0;34m.\u001b[0m\u001b[0mdelete\u001b[0m\u001b[0;34m(\u001b[0m\u001b[0mindexer\u001b[0m\u001b[0;34m)\u001b[0m\u001b[0;34m\u001b[0m\u001b[0;34m\u001b[0m\u001b[0m\n",
      "\u001b[0;31mKeyError\u001b[0m: \"['birthOutcome' 'sga'] not found in axis\""
     ]
    }
   ],
   "source": [
    "# Drop unwanted features\n",
    "\n",
    "df = df.drop(columns =['foetalDOB', 'vaginalBirth', 'caesareanBirth',\n",
    "                      'foetalSex', 'foetalWeightInGrams', \n",
    "                       'gestationalAgeAtDeliveryInWeeks', 'birthOutcome',\n",
    "                       'GDMDiagnosisDate','GDMDiagnosisDate', 'lga','sga'])\n"
   ]
  },
  {
   "cell_type": "code",
   "execution_count": 12,
   "id": "68f2b4d8-7583-4a5f-a2ee-a82f00a0ea1c",
   "metadata": {},
   "outputs": [
    {
     "name": "stdout",
     "output_type": "stream",
     "text": [
      "<class 'pandas.core.frame.DataFrame'>\n",
      "RangeIndex: 196 entries, 0 to 195\n",
      "Data columns (total 47 columns):\n",
      " #   Column                        Non-Null Count  Dtype  \n",
      "---  ------                        --------------  -----  \n",
      " 0   Participant ID                196 non-null    object \n",
      " 1   estimatedDeliveryDate         196 non-null    object \n",
      " 2   maternalAgeAtBirth            196 non-null    int64  \n",
      " 3   OGTTfasting                   196 non-null    float64\n",
      " 4   OGTT2hour                     196 non-null    float64\n",
      " 5   maternalWeightAtBooking       196 non-null    float64\n",
      " 6   maternalHeight                196 non-null    int64  \n",
      " 7   maternalBMIAtBooking          196 non-null    float64\n",
      " 8   maternalWeight3rdTrimester    196 non-null    float64\n",
      " 9   prevMacrosomia                196 non-null    object \n",
      " 10  eclampsiaFH                   196 non-null    object \n",
      " 11  gestationalPre-eclampsia      196 non-null    object \n",
      " 12  pcos                          196 non-null    object \n",
      " 13  hypertensionFH                196 non-null    object \n",
      " 14  gestationalHypertension       196 non-null    object \n",
      " 15  ethnicity                     196 non-null    object \n",
      " 16  gestationalAgeAtGDMDiagnosis  196 non-null    int64  \n",
      " 17  gravidity                     196 non-null    int64  \n",
      " 18  parity                        196 non-null    int64  \n",
      " 19  previousGDM                   196 non-null    object \n",
      " 20  familyHistoryDiabetes         196 non-null    object \n",
      " 21  familyHistoryGDM              196 non-null    object \n",
      " 22  GDMLifestyleGestWeek          196 non-null    int64  \n",
      " 23  GDMDietGestWeek               196 non-null    int64  \n",
      " 24  GDMMetforminGestWeek          51 non-null     float64\n",
      " 25  GDMInsulinGestWeek            53 non-null     float64\n",
      " 26  metforminFlag                 196 non-null    object \n",
      " 27  insulinFlag                   196 non-null    object \n",
      " 28  meanBG                        196 non-null    float64\n",
      " 29  maxBG                         196 non-null    float64\n",
      " 30  minBG                         196 non-null    float64\n",
      " 31  varBG                         194 non-null    float64\n",
      " 32  countBG                       196 non-null    int64  \n",
      " 33  stdBG                         194 non-null    float64\n",
      " 34  lowBG                         196 non-null    float64\n",
      " 35  normalBG                      196 non-null    float64\n",
      " 36  highBG                        196 non-null    float64\n",
      " 37  meanAC                        196 non-null    float64\n",
      " 38  maxAC                         196 non-null    float64\n",
      " 39  minAC                         196 non-null    float64\n",
      " 40  varAC                         195 non-null    float64\n",
      " 41  rangeAC                       196 non-null    float64\n",
      " 42  meanEFW                       196 non-null    float64\n",
      " 43  maxEFW                        196 non-null    float64\n",
      " 44  minEFW                        196 non-null    float64\n",
      " 45  varEFW                        195 non-null    float64\n",
      " 46  rangeEFW                      196 non-null    float64\n",
      "dtypes: float64(25), int64(8), object(14)\n",
      "memory usage: 72.1+ KB\n"
     ]
    }
   ],
   "source": [
    "df.info()"
   ]
  },
  {
   "cell_type": "code",
   "execution_count": 30,
   "id": "98dc90aa-972d-4f34-8fc9-f1240be45dd0",
   "metadata": {},
   "outputs": [
    {
     "name": "stdout",
     "output_type": "stream",
     "text": [
      "maternalAgeAtBirth                   31.99\n",
      "OGTTfasting                           5.30\n",
      "OGTT2hour                             9.07\n",
      "maternalWeightAtBooking              75.68\n",
      "maternalHeight                      159.86\n",
      "maternalBMIAtBooking                 29.33\n",
      "maternalWeight3rdTrimester           82.54\n",
      "gestationalAgeAtGDMDiagnosis         25.65\n",
      "gravidity                             2.79\n",
      "parity                                1.49\n",
      "GDMLifestyleGestWeek                 28.01\n",
      "GDMDietGestWeek                      26.85\n",
      "GDMMetforminGestWeek                 31.16\n",
      "GDMInsulinGestWeek                   28.98\n",
      "meanBG                                6.21\n",
      "maxBG                                11.56\n",
      "minBG                                 3.19\n",
      "varBG                                 2.97\n",
      "countBG                             121.87\n",
      "stdBG                                 1.60\n",
      "lowBG                                 0.05\n",
      "normalBG                              0.81\n",
      "highBG                                0.15\n",
      "meanAC                              286.58\n",
      "maxAC                               419.03\n",
      "minAC                               168.37\n",
      "varAC                             78103.48\n",
      "rangeAC                             250.67\n",
      "meanEFW                            1841.18\n",
      "maxEFW                             2960.27\n",
      "minEFW                              579.13\n",
      "varEFW                          1210024.20\n",
      "rangeEFW                           2381.14\n",
      "dtype: float64\n"
     ]
    },
    {
     "name": "stderr",
     "output_type": "stream",
     "text": [
      "/Users/ssabouni/anaconda3/lib/python3.7/site-packages/ipykernel_launcher.py:2: FutureWarning: Dropping of nuisance columns in DataFrame reductions (with 'numeric_only=None') is deprecated; in a future version this will raise TypeError.  Select only valid columns before calling the reduction.\n",
      "  \n"
     ]
    }
   ],
   "source": [
    "# finding the mean\n",
    "print(df.mean().apply(lambda x: float(\"{:.2f}\".format(x))))"
   ]
  },
  {
   "cell_type": "code",
   "execution_count": 15,
   "id": "bc87bd9b-6b3a-4221-9ae8-efc9400c558e",
   "metadata": {},
   "outputs": [
    {
     "name": "stdout",
     "output_type": "stream",
     "text": [
      "maternalAgeAtBirth                   5.3\n",
      "OGTTfasting                          0.9\n",
      "OGTT2hour                            1.7\n",
      "maternalWeightAtBooking             15.4\n",
      "maternalHeight                       7.6\n",
      "maternalBMIAtBooking                 5.4\n",
      "maternalWeight3rdTrimester          15.2\n",
      "gestationalAgeAtGDMDiagnosis         3.9\n",
      "gravidity                            1.8\n",
      "parity                               1.5\n",
      "GDMLifestyleGestWeek                 4.0\n",
      "GDMDietGestWeek                      3.9\n",
      "GDMMetforminGestWeek                 2.1\n",
      "GDMInsulinGestWeek                   5.0\n",
      "meanBG                               0.7\n",
      "maxBG                                4.2\n",
      "minBG                                1.3\n",
      "varBG                                3.4\n",
      "countBG                            104.4\n",
      "stdBG                                0.6\n",
      "lowBG                                0.1\n",
      "normalBG                             0.1\n",
      "highBG                               0.1\n",
      "meanAC                             139.7\n",
      "maxAC                              494.9\n",
      "minAC                               49.6\n",
      "varAC                           394984.1\n",
      "rangeAC                            498.0\n",
      "meanEFW                            388.4\n",
      "maxEFW                             428.9\n",
      "minEFW                             590.6\n",
      "varEFW                          546447.2\n",
      "rangeEFW                           659.9\n",
      "dtype: float64\n"
     ]
    },
    {
     "name": "stderr",
     "output_type": "stream",
     "text": [
      "/Users/ssabouni/anaconda3/lib/python3.7/site-packages/ipykernel_launcher.py:2: FutureWarning: Dropping of nuisance columns in DataFrame reductions (with 'numeric_only=None') is deprecated; in a future version this will raise TypeError.  Select only valid columns before calling the reduction.\n",
      "  \n"
     ]
    }
   ],
   "source": [
    "# finding the Standard deviation\n",
    "print(df.std().apply(lambda x: float(\"{:.1f}\".format(x))))"
   ]
  },
  {
   "cell_type": "code",
   "execution_count": 16,
   "id": "8c1d0d41-fcbe-42d0-b808-f14d1649e77a",
   "metadata": {},
   "outputs": [
    {
     "name": "stdout",
     "output_type": "stream",
     "text": [
      "<class 'pandas.core.frame.DataFrame'>\n",
      "RangeIndex: 196 entries, 0 to 195\n",
      "Data columns (total 47 columns):\n",
      " #   Column                        Non-Null Count  Dtype  \n",
      "---  ------                        --------------  -----  \n",
      " 0   Participant ID                196 non-null    object \n",
      " 1   estimatedDeliveryDate         196 non-null    object \n",
      " 2   maternalAgeAtBirth            196 non-null    int64  \n",
      " 3   OGTTfasting                   196 non-null    float64\n",
      " 4   OGTT2hour                     196 non-null    float64\n",
      " 5   maternalWeightAtBooking       196 non-null    float64\n",
      " 6   maternalHeight                196 non-null    int64  \n",
      " 7   maternalBMIAtBooking          196 non-null    float64\n",
      " 8   maternalWeight3rdTrimester    196 non-null    float64\n",
      " 9   prevMacrosomia                196 non-null    object \n",
      " 10  eclampsiaFH                   196 non-null    object \n",
      " 11  gestationalPre-eclampsia      196 non-null    object \n",
      " 12  pcos                          196 non-null    object \n",
      " 13  hypertensionFH                196 non-null    object \n",
      " 14  gestationalHypertension       196 non-null    object \n",
      " 15  ethnicity                     196 non-null    object \n",
      " 16  gestationalAgeAtGDMDiagnosis  196 non-null    int64  \n",
      " 17  gravidity                     196 non-null    int64  \n",
      " 18  parity                        196 non-null    int64  \n",
      " 19  previousGDM                   196 non-null    object \n",
      " 20  familyHistoryDiabetes         196 non-null    object \n",
      " 21  familyHistoryGDM              196 non-null    object \n",
      " 22  GDMLifestyleGestWeek          196 non-null    int64  \n",
      " 23  GDMDietGestWeek               196 non-null    int64  \n",
      " 24  GDMMetforminGestWeek          51 non-null     float64\n",
      " 25  GDMInsulinGestWeek            53 non-null     float64\n",
      " 26  metforminFlag                 196 non-null    object \n",
      " 27  insulinFlag                   196 non-null    object \n",
      " 28  meanBG                        196 non-null    float64\n",
      " 29  maxBG                         196 non-null    float64\n",
      " 30  minBG                         196 non-null    float64\n",
      " 31  varBG                         194 non-null    float64\n",
      " 32  countBG                       196 non-null    int64  \n",
      " 33  stdBG                         194 non-null    float64\n",
      " 34  lowBG                         196 non-null    float64\n",
      " 35  normalBG                      196 non-null    float64\n",
      " 36  highBG                        196 non-null    float64\n",
      " 37  meanAC                        196 non-null    float64\n",
      " 38  maxAC                         196 non-null    float64\n",
      " 39  minAC                         196 non-null    float64\n",
      " 40  varAC                         195 non-null    float64\n",
      " 41  rangeAC                       196 non-null    float64\n",
      " 42  meanEFW                       196 non-null    float64\n",
      " 43  maxEFW                        196 non-null    float64\n",
      " 44  minEFW                        196 non-null    float64\n",
      " 45  varEFW                        195 non-null    float64\n",
      " 46  rangeEFW                      196 non-null    float64\n",
      "dtypes: float64(25), int64(8), object(14)\n",
      "memory usage: 72.1+ KB\n"
     ]
    }
   ],
   "source": [
    "df.info()"
   ]
  },
  {
   "cell_type": "code",
   "execution_count": 17,
   "id": "941ec2f3-8689-45d4-9749-e8d833e00eb4",
   "metadata": {},
   "outputs": [
    {
     "data": {
      "text/plain": [
       "South Asian    74.0\n",
       "White          21.9\n",
       "Other           4.1\n",
       "Name: ethnicity, dtype: float64"
      ]
     },
     "execution_count": 17,
     "metadata": {},
     "output_type": "execute_result"
    }
   ],
   "source": [
    "(df['ethnicity'].value_counts(normalize=True, dropna=False)*100).apply(lambda x: float(\"{:.1f}\".format(x)))"
   ]
  },
  {
   "cell_type": "code",
   "execution_count": 18,
   "id": "b30b23ed-3c1c-4de1-99dc-0ec82cd2723a",
   "metadata": {},
   "outputs": [
    {
     "data": {
      "text/plain": [
       "YES    61.2\n",
       "NO     38.8\n",
       "Name: familyHistoryDiabetes, dtype: float64"
      ]
     },
     "execution_count": 18,
     "metadata": {},
     "output_type": "execute_result"
    }
   ],
   "source": [
    "(df['familyHistoryDiabetes'].value_counts(normalize=True, dropna=False)*100).apply(lambda x: float(\"{:.1f}\".format(x)))"
   ]
  },
  {
   "cell_type": "code",
   "execution_count": 19,
   "id": "c3e2f354-13aa-4f93-a6c6-9a697481a419",
   "metadata": {},
   "outputs": [
    {
     "data": {
      "text/plain": [
       "NO     98.0\n",
       "YES     2.0\n",
       "Name: familyHistoryGDM, dtype: float64"
      ]
     },
     "execution_count": 19,
     "metadata": {},
     "output_type": "execute_result"
    }
   ],
   "source": [
    "(df['familyHistoryGDM'].value_counts(normalize=True, dropna=False)*100).apply(lambda x: float(\"{:.1f}\".format(x)))"
   ]
  },
  {
   "cell_type": "code",
   "execution_count": 20,
   "id": "4e412fdc-e637-45b9-96a3-153325e3e850",
   "metadata": {},
   "outputs": [
    {
     "data": {
      "text/plain": [
       "NO    100.0\n",
       "Name: eclampsiaFH, dtype: float64"
      ]
     },
     "execution_count": 20,
     "metadata": {},
     "output_type": "execute_result"
    }
   ],
   "source": [
    "(df['eclampsiaFH'].value_counts(normalize=True, dropna=False)*100).apply(lambda x: float(\"{:.1f}\".format(x)))"
   ]
  },
  {
   "cell_type": "code",
   "execution_count": 21,
   "id": "a2b7f360-4625-4e7b-a7b0-95108aee9503",
   "metadata": {},
   "outputs": [
    {
     "data": {
      "text/plain": [
       "NO     80.6\n",
       "YES    19.4\n",
       "Name: hypertensionFH, dtype: float64"
      ]
     },
     "execution_count": 21,
     "metadata": {},
     "output_type": "execute_result"
    }
   ],
   "source": [
    "(df['hypertensionFH'].value_counts(normalize=True, dropna=False)*100).apply(lambda x: float(\"{:.1f}\".format(x)))"
   ]
  },
  {
   "cell_type": "code",
   "execution_count": 22,
   "id": "cbb7fdd5-3e1a-4752-ad5c-8c56962d3b60",
   "metadata": {},
   "outputs": [
    {
     "data": {
      "text/plain": [
       "NO     73.0\n",
       "YES    27.0\n",
       "Name: insulinFlag, dtype: float64"
      ]
     },
     "execution_count": 22,
     "metadata": {},
     "output_type": "execute_result"
    }
   ],
   "source": [
    "(df['insulinFlag'].value_counts(normalize=True, dropna=False)*100).apply(lambda x: float(\"{:.1f}\".format(x)))"
   ]
  },
  {
   "cell_type": "code",
   "execution_count": 23,
   "id": "7a3e0dd0-f92f-4ad0-ba21-962e2523a317",
   "metadata": {},
   "outputs": [
    {
     "data": {
      "text/plain": [
       "NO     74.0\n",
       "YES    26.0\n",
       "Name: metforminFlag, dtype: float64"
      ]
     },
     "execution_count": 23,
     "metadata": {},
     "output_type": "execute_result"
    }
   ],
   "source": [
    "(df['metforminFlag'].value_counts(normalize=True, dropna=False)*100).apply(lambda x: float(\"{:.1f}\".format(x)))"
   ]
  },
  {
   "cell_type": "code",
   "execution_count": 25,
   "id": "6211ac07-20d4-4e83-881a-ff8897ee49f4",
   "metadata": {},
   "outputs": [
    {
     "data": {
      "text/plain": [
       "NO     99.0\n",
       "YES     1.0\n",
       "Name: gestationalHypertension, dtype: float64"
      ]
     },
     "execution_count": 25,
     "metadata": {},
     "output_type": "execute_result"
    }
   ],
   "source": [
    "(df['gestationalHypertension'].value_counts(normalize=True, dropna=False)*100).apply(lambda x: float(\"{:.1f}\".format(x)))"
   ]
  },
  {
   "cell_type": "code",
   "execution_count": 24,
   "id": "258b1b0f-c21f-4e6d-ae57-02586f78840a",
   "metadata": {},
   "outputs": [
    {
     "data": {
      "text/plain": [
       "NO     98.5\n",
       "YES     1.5\n",
       "Name: gestationalPre-eclampsia, dtype: float64"
      ]
     },
     "execution_count": 24,
     "metadata": {},
     "output_type": "execute_result"
    }
   ],
   "source": [
    "(df['gestationalPre-eclampsia'].value_counts(normalize=True, dropna=False)*100).apply(lambda x: float(\"{:.1f}\".format(x)))"
   ]
  },
  {
   "cell_type": "code",
   "execution_count": 26,
   "id": "15f1198b-bf9f-41fa-af42-db914b685c28",
   "metadata": {},
   "outputs": [
    {
     "data": {
      "text/plain": [
       "NO     93.4\n",
       "YES     6.6\n",
       "Name: pcos, dtype: float64"
      ]
     },
     "execution_count": 26,
     "metadata": {},
     "output_type": "execute_result"
    }
   ],
   "source": [
    "(df['pcos'].value_counts(normalize=True, dropna=False)*100).apply(lambda x: float(\"{:.1f}\".format(x)))"
   ]
  },
  {
   "cell_type": "code",
   "execution_count": 27,
   "id": "d3d0cba8-da1e-42be-a9dd-41af02c43038",
   "metadata": {},
   "outputs": [
    {
     "data": {
      "text/plain": [
       "No     80.1\n",
       "Yes    19.9\n",
       "Name: previousGDM, dtype: float64"
      ]
     },
     "execution_count": 27,
     "metadata": {},
     "output_type": "execute_result"
    }
   ],
   "source": [
    "(df['previousGDM'].value_counts(normalize=True, dropna=False)*100).apply(lambda x: float(\"{:.1f}\".format(x)))"
   ]
  },
  {
   "cell_type": "code",
   "execution_count": 28,
   "id": "7c8afe8e-d080-4236-9233-ece4fdec36fe",
   "metadata": {},
   "outputs": [
    {
     "data": {
      "text/plain": [
       "NO     99.5\n",
       "YES     0.5\n",
       "Name: prevMacrosomia, dtype: float64"
      ]
     },
     "execution_count": 28,
     "metadata": {},
     "output_type": "execute_result"
    }
   ],
   "source": [
    "(df['prevMacrosomia'].value_counts(normalize=True, dropna=False)*100).apply(lambda x: float(\"{:.1f}\".format(x)))"
   ]
  },
  {
   "cell_type": "code",
   "execution_count": 31,
   "id": "e978e74c-7bb7-4c57-8300-5ffa4f68a6c7",
   "metadata": {},
   "outputs": [],
   "source": [
    "df = pd.read_csv('nhsDataFinal_strictLGA.csv')"
   ]
  },
  {
   "cell_type": "code",
   "execution_count": 33,
   "id": "99de781a-c933-425f-94be-fc45b09d5f02",
   "metadata": {},
   "outputs": [
    {
     "name": "stdout",
     "output_type": "stream",
     "text": [
      "maternalAgeAtBirth                   32.0\n",
      "OGTTfasting                           5.3\n",
      "OGTT2hour                             9.1\n",
      "maternalWeightAtBooking              75.7\n",
      "maternalHeight                      159.9\n",
      "maternalBMIAtBooking                 29.3\n",
      "maternalWeight3rdTrimester           82.5\n",
      "gestationalAgeAtGDMDiagnosis         25.7\n",
      "gravidity                             2.8\n",
      "parity                                1.5\n",
      "GDMLifestyleGestWeek                 28.0\n",
      "GDMDietGestWeek                      26.9\n",
      "GDMMetforminGestWeek                 31.2\n",
      "GDMInsulinGestWeek                   29.0\n",
      "meanBG                                6.2\n",
      "maxBG                                11.6\n",
      "minBG                                 3.2\n",
      "varBG                                 3.0\n",
      "countBG                             121.9\n",
      "stdBG                                 1.6\n",
      "lowBG                                 0.0\n",
      "normalBG                              0.8\n",
      "highBG                                0.1\n",
      "AC_20Weeks                          148.2\n",
      "EFW_20Weeks                         327.5\n",
      "AC_28Weeks                          238.9\n",
      "EFW_28Weeks                        1231.9\n",
      "AC_30Weeks                          291.8\n",
      "EFW_30Weeks                        1591.7\n",
      "AC_32Weeks                          327.9\n",
      "EFW_32Weeks                        2023.4\n",
      "AC_34Weeks                          405.5\n",
      "EFW_34Weeks                        2458.1\n",
      "AC_36Weeks                          339.1\n",
      "EFW_36Weeks                        2913.6\n",
      "AC_38Weeks                          333.6\n",
      "EFW_38Weeks                        3186.1\n",
      "foetalWeightInGrams                3272.6\n",
      "gestationalAgeAtDeliveryInWeeks      38.3\n",
      "dtype: float64\n"
     ]
    },
    {
     "name": "stderr",
     "output_type": "stream",
     "text": [
      "/Users/ssabouni/anaconda3/lib/python3.7/site-packages/ipykernel_launcher.py:2: FutureWarning: Dropping of nuisance columns in DataFrame reductions (with 'numeric_only=None') is deprecated; in a future version this will raise TypeError.  Select only valid columns before calling the reduction.\n",
      "  \n"
     ]
    }
   ],
   "source": [
    "# finding the mean\n",
    "print(df.mean().apply(lambda x: float(\"{:.1f}\".format(x))))"
   ]
  },
  {
   "cell_type": "code",
   "execution_count": 34,
   "id": "d25320a6-a8a8-49e0-83f4-e5c0bacc95d2",
   "metadata": {},
   "outputs": [
    {
     "data": {
      "text/plain": [
       "NO     96.9\n",
       "YES     3.1\n",
       "Name: lga, dtype: float64"
      ]
     },
     "execution_count": 34,
     "metadata": {},
     "output_type": "execute_result"
    }
   ],
   "source": [
    "(df['lga'].value_counts(normalize=True, dropna=False)*100).apply(lambda x: float(\"{:.1f}\".format(x)))"
   ]
  },
  {
   "cell_type": "code",
   "execution_count": null,
   "id": "d19a9387-7726-4d77-924c-a6d592d73a99",
   "metadata": {},
   "outputs": [],
   "source": []
  }
 ],
 "metadata": {
  "kernelspec": {
   "display_name": "Python 3 (ipykernel)",
   "language": "python",
   "name": "python3"
  },
  "language_info": {
   "codemirror_mode": {
    "name": "ipython",
    "version": 3
   },
   "file_extension": ".py",
   "mimetype": "text/x-python",
   "name": "python",
   "nbconvert_exporter": "python",
   "pygments_lexer": "ipython3",
   "version": "3.7.6"
  }
 },
 "nbformat": 4,
 "nbformat_minor": 5
}
