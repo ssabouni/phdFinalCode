{
 "cells": [
  {
   "cell_type": "code",
   "execution_count": 1,
   "metadata": {},
   "outputs": [],
   "source": [
    "# Importing the libraries\n",
    "import numpy as np\n",
    "import pandas as pd"
   ]
  },
  {
   "cell_type": "code",
   "execution_count": 2,
   "metadata": {},
   "outputs": [],
   "source": [
    "demo_df= pd.read_csv('demographics.csv')\n"
   ]
  },
  {
   "cell_type": "code",
   "execution_count": 3,
   "metadata": {},
   "outputs": [
    {
     "data": {
      "text/html": [
       "<div>\n",
       "<style scoped>\n",
       "    .dataframe tbody tr th:only-of-type {\n",
       "        vertical-align: middle;\n",
       "    }\n",
       "\n",
       "    .dataframe tbody tr th {\n",
       "        vertical-align: top;\n",
       "    }\n",
       "\n",
       "    .dataframe thead th {\n",
       "        text-align: right;\n",
       "    }\n",
       "</style>\n",
       "<table border=\"1\" class=\"dataframe\">\n",
       "  <thead>\n",
       "    <tr style=\"text-align: right;\">\n",
       "      <th></th>\n",
       "      <th>Participant ID</th>\n",
       "      <th>ETHNICITY</th>\n",
       "      <th>Date of GDM Diagnosis</th>\n",
       "      <th>Estimated Date of Delivery</th>\n",
       "      <th>Maternal age at childs date of birth (years)</th>\n",
       "      <th>Gestational age at GDM Diagnosis (weeks)</th>\n",
       "      <th>OGTT fasting blood glucose \\nmmol/l</th>\n",
       "      <th>OGTT 2-hour postload blood glucose\\nmmol/l</th>\n",
       "      <th>Registerable parity</th>\n",
       "      <th>Mother's weight at start of pregnancy (booking appointment)</th>\n",
       "      <th>...</th>\n",
       "      <th>Gestational pre-eclampsia YES/NO</th>\n",
       "      <th>History of PCOS YES/NO</th>\n",
       "      <th>Family history of hypertension YES/NO</th>\n",
       "      <th>Gestational Hypertension YES/NO</th>\n",
       "      <th>Family History of Diabetes/GDM YES/NO</th>\n",
       "      <th>GDM lifestyle changes treatment YES/NO</th>\n",
       "      <th>Gestational age at GDM lifetsyle changes treatment (weeks)</th>\n",
       "      <th>Gestational age at GDM diet treatment (weeks)</th>\n",
       "      <th>Gestational age at GDM metformin treatment (weeks)</th>\n",
       "      <th>Gestational age at GDM insulin treatment (weeks)</th>\n",
       "    </tr>\n",
       "  </thead>\n",
       "  <tbody>\n",
       "    <tr>\n",
       "      <th>0</th>\n",
       "      <td>BRA001</td>\n",
       "      <td>Pakistani</td>\n",
       "      <td>04/06/2019</td>\n",
       "      <td>12/11/2019</td>\n",
       "      <td>32</td>\n",
       "      <td>17</td>\n",
       "      <td>6.1</td>\n",
       "      <td>5.2</td>\n",
       "      <td>g4p3</td>\n",
       "      <td>76.8</td>\n",
       "      <td>...</td>\n",
       "      <td>NO</td>\n",
       "      <td>NO</td>\n",
       "      <td>NO</td>\n",
       "      <td>NO</td>\n",
       "      <td>YES - Father Diabetic</td>\n",
       "      <td>YES-Dietician Review 18/6/2019</td>\n",
       "      <td>19</td>\n",
       "      <td>19</td>\n",
       "      <td>NaN</td>\n",
       "      <td>NaN</td>\n",
       "    </tr>\n",
       "    <tr>\n",
       "      <th>1</th>\n",
       "      <td>BRA002</td>\n",
       "      <td>Pakistani</td>\n",
       "      <td>30/05/2019</td>\n",
       "      <td>31/08/2019</td>\n",
       "      <td>20</td>\n",
       "      <td>27+1</td>\n",
       "      <td>5.1</td>\n",
       "      <td>7.8</td>\n",
       "      <td>g2p0</td>\n",
       "      <td>62.0</td>\n",
       "      <td>...</td>\n",
       "      <td>NO</td>\n",
       "      <td>NO</td>\n",
       "      <td>NO</td>\n",
       "      <td>NO</td>\n",
       "      <td>YES - Grandmother T2DM</td>\n",
       "      <td>YES-Dietician Review 21/6/2019</td>\n",
       "      <td>30+2</td>\n",
       "      <td>30+2</td>\n",
       "      <td>NaN</td>\n",
       "      <td>NaN</td>\n",
       "    </tr>\n",
       "    <tr>\n",
       "      <th>2</th>\n",
       "      <td>BRA003</td>\n",
       "      <td>Pakistani</td>\n",
       "      <td>03/06/2019</td>\n",
       "      <td>02/09/2019</td>\n",
       "      <td>32</td>\n",
       "      <td>29+4</td>\n",
       "      <td>6.6</td>\n",
       "      <td>10.4</td>\n",
       "      <td>g7p2</td>\n",
       "      <td>84.0</td>\n",
       "      <td>...</td>\n",
       "      <td>NO</td>\n",
       "      <td>NO</td>\n",
       "      <td>NO</td>\n",
       "      <td>NO</td>\n",
       "      <td>YES-Grandfather/Aunties T2DM</td>\n",
       "      <td>YES-Dietician Review 21/6/2019</td>\n",
       "      <td>32+1</td>\n",
       "      <td>32+1</td>\n",
       "      <td>NaN</td>\n",
       "      <td>33</td>\n",
       "    </tr>\n",
       "    <tr>\n",
       "      <th>3</th>\n",
       "      <td>BRA004</td>\n",
       "      <td>White British</td>\n",
       "      <td>05/06/2019</td>\n",
       "      <td>08/09/2019</td>\n",
       "      <td>30</td>\n",
       "      <td>28</td>\n",
       "      <td>4.3</td>\n",
       "      <td>8.4</td>\n",
       "      <td>g2p0</td>\n",
       "      <td>63.5</td>\n",
       "      <td>...</td>\n",
       "      <td>NO</td>\n",
       "      <td>NO</td>\n",
       "      <td>NO</td>\n",
       "      <td>NO</td>\n",
       "      <td>NO FAMILY HISTORY OF DIABETES</td>\n",
       "      <td>YES-Dietician Review 21/6/2019</td>\n",
       "      <td>30+2</td>\n",
       "      <td>30+2</td>\n",
       "      <td>NaN</td>\n",
       "      <td>NaN</td>\n",
       "    </tr>\n",
       "    <tr>\n",
       "      <th>4</th>\n",
       "      <td>BRA005</td>\n",
       "      <td>Pakistani</td>\n",
       "      <td>10/06/2019</td>\n",
       "      <td>18/10/2019</td>\n",
       "      <td>39</td>\n",
       "      <td>21+3</td>\n",
       "      <td>4.8</td>\n",
       "      <td>9.0</td>\n",
       "      <td>g7p6</td>\n",
       "      <td>86.2</td>\n",
       "      <td>...</td>\n",
       "      <td>NO</td>\n",
       "      <td>NO</td>\n",
       "      <td>YES</td>\n",
       "      <td>NO</td>\n",
       "      <td>NO FAMILY HISTORY OF DIABETES</td>\n",
       "      <td>YES-Dietician Review 21/6/2019</td>\n",
       "      <td>23</td>\n",
       "      <td>23</td>\n",
       "      <td>NaN</td>\n",
       "      <td>NaN</td>\n",
       "    </tr>\n",
       "  </tbody>\n",
       "</table>\n",
       "<p>5 rows × 26 columns</p>\n",
       "</div>"
      ],
      "text/plain": [
       "  Participant ID      ETHNICITY Date of GDM Diagnosis  \\\n",
       "0         BRA001      Pakistani            04/06/2019   \n",
       "1         BRA002      Pakistani            30/05/2019   \n",
       "2         BRA003      Pakistani            03/06/2019   \n",
       "3         BRA004  White British            05/06/2019   \n",
       "4         BRA005      Pakistani            10/06/2019   \n",
       "\n",
       "  Estimated Date of Delivery  Maternal age at childs date of birth (years)  \\\n",
       "0                 12/11/2019                                            32   \n",
       "1                 31/08/2019                                            20   \n",
       "2                 02/09/2019                                            32   \n",
       "3                 08/09/2019                                            30   \n",
       "4                 18/10/2019                                            39   \n",
       "\n",
       "  Gestational age at GDM Diagnosis (weeks)  \\\n",
       "0                                       17   \n",
       "1                                     27+1   \n",
       "2                                     29+4   \n",
       "3                                       28   \n",
       "4                                     21+3   \n",
       "\n",
       "   OGTT fasting blood glucose \\nmmol/l  \\\n",
       "0                                  6.1   \n",
       "1                                  5.1   \n",
       "2                                  6.6   \n",
       "3                                  4.3   \n",
       "4                                  4.8   \n",
       "\n",
       "   OGTT 2-hour postload blood glucose\\nmmol/l Registerable parity  \\\n",
       "0                                         5.2                g4p3   \n",
       "1                                         7.8                g2p0   \n",
       "2                                        10.4                g7p2   \n",
       "3                                         8.4                g2p0   \n",
       "4                                         9.0                g7p6   \n",
       "\n",
       "   Mother's weight at start of pregnancy (booking appointment)  ...  \\\n",
       "0                                               76.8            ...   \n",
       "1                                               62.0            ...   \n",
       "2                                               84.0            ...   \n",
       "3                                               63.5            ...   \n",
       "4                                               86.2            ...   \n",
       "\n",
       "   Gestational pre-eclampsia YES/NO  History of PCOS YES/NO  \\\n",
       "0                                NO                      NO   \n",
       "1                                NO                      NO   \n",
       "2                                NO                      NO   \n",
       "3                                NO                      NO   \n",
       "4                                NO                      NO   \n",
       "\n",
       "   Family history of hypertension YES/NO Gestational Hypertension YES/NO  \\\n",
       "0                                     NO                              NO   \n",
       "1                                     NO                              NO   \n",
       "2                                     NO                              NO   \n",
       "3                                     NO                              NO   \n",
       "4                                    YES                              NO   \n",
       "\n",
       "  Family History of Diabetes/GDM YES/NO  \\\n",
       "0                 YES - Father Diabetic   \n",
       "1                YES - Grandmother T2DM   \n",
       "2          YES-Grandfather/Aunties T2DM   \n",
       "3         NO FAMILY HISTORY OF DIABETES   \n",
       "4         NO FAMILY HISTORY OF DIABETES   \n",
       "\n",
       "  GDM lifestyle changes treatment YES/NO  \\\n",
       "0         YES-Dietician Review 18/6/2019   \n",
       "1         YES-Dietician Review 21/6/2019   \n",
       "2         YES-Dietician Review 21/6/2019   \n",
       "3         YES-Dietician Review 21/6/2019   \n",
       "4         YES-Dietician Review 21/6/2019   \n",
       "\n",
       "  Gestational age at GDM lifetsyle changes treatment (weeks)  \\\n",
       "0                                                 19           \n",
       "1                                               30+2           \n",
       "2                                               32+1           \n",
       "3                                               30+2           \n",
       "4                                                 23           \n",
       "\n",
       "  Gestational age at GDM diet treatment (weeks)  \\\n",
       "0                                            19   \n",
       "1                                          30+2   \n",
       "2                                          32+1   \n",
       "3                                          30+2   \n",
       "4                                            23   \n",
       "\n",
       "  Gestational age at GDM metformin treatment (weeks)  \\\n",
       "0                                                NaN   \n",
       "1                                                NaN   \n",
       "2                                                NaN   \n",
       "3                                                NaN   \n",
       "4                                                NaN   \n",
       "\n",
       "  Gestational age at GDM insulin treatment (weeks)  \n",
       "0                                              NaN  \n",
       "1                                              NaN  \n",
       "2                                               33  \n",
       "3                                              NaN  \n",
       "4                                              NaN  \n",
       "\n",
       "[5 rows x 26 columns]"
      ]
     },
     "execution_count": 3,
     "metadata": {},
     "output_type": "execute_result"
    }
   ],
   "source": [
    "demo_df.head()"
   ]
  },
  {
   "cell_type": "markdown",
   "metadata": {},
   "source": [
    "# Ethnicity"
   ]
  },
  {
   "cell_type": "code",
   "execution_count": 4,
   "metadata": {},
   "outputs": [
    {
     "name": "stdout",
     "output_type": "stream",
     "text": [
      "['Pakistani' 'White British' 'pakistani' 'Indian' 'indian' 'Arabic'\n",
      " 'Rominian' 'Bangladeshi' 'slovakian' 'polish' 'other/Afghan' 'Gambian'\n",
      " 'Kosovan' 'Lithuanian' 'British' 'White/African' 'Bengali'\n",
      " 'White/Black African' 'African' 'Kurdish' 'Russian' 'Hungarian' 'Other']\n"
     ]
    }
   ],
   "source": [
    "print(demo_df[\"ETHNICITY\"].unique())"
   ]
  },
  {
   "cell_type": "markdown",
   "metadata": {},
   "source": [
    "group ehtnicities to:\n",
    "\n",
    "South Asian: Pakistani, pakistani, Indian, indian, Bangladeshi, bangladeshi, Bengali, other/Afghan\n",
    "\n",
    "White: White British, British, Rominian, slovakian, polish, Russian, Hungarian, 'Kosovan' 'Lithuanian' \n",
    "\n",
    "Other: Arabic, Gambian, White/African, White/Black African, African, Kurdish, Other"
   ]
  },
  {
   "cell_type": "code",
   "execution_count": 5,
   "metadata": {},
   "outputs": [],
   "source": [
    "col         = 'ETHNICITY'\n",
    "conditions  = [ (demo_df[col].isin(['Pakistani', 'pakistani', 'Indian', 'indian',\n",
    "                               'Bangladeshi', 'bangladeshi', 'Bengali', 'other/Afghan'])),\n",
    "               (demo_df[col].isin(['White British', 'British', 'Rominian', 'slovakian',\n",
    "                              'polish', 'Russian', 'Hungarian', 'Kosovan', 'Lithuanian'])),\n",
    "               (demo_df[col].isin(['Arabic', 'Gambian', 'White/African', 'White/Black African', \n",
    "                              'African', 'Kurdish', 'Other']))]\n",
    "                              \n",
    "choices     = ['South Asian', 'White', 'Other']\n",
    "    \n",
    "demo_df['ethnicity'] = np.select(conditions, choices, default=np.nan)\n",
    "\n",
    "#df5.to_csv('ethnicity.csv', index=False)\n"
   ]
  },
  {
   "cell_type": "code",
   "execution_count": 6,
   "metadata": {},
   "outputs": [
    {
     "name": "stdout",
     "output_type": "stream",
     "text": [
      "['South Asian' 'White' 'Other']\n"
     ]
    }
   ],
   "source": [
    "print(demo_df[\"ethnicity\"].unique())"
   ]
  },
  {
   "cell_type": "code",
   "execution_count": 7,
   "metadata": {},
   "outputs": [
    {
     "data": {
      "text/plain": [
       "South Asian    147\n",
       "White           45\n",
       "Other            8\n",
       "Name: ethnicity, dtype: int64"
      ]
     },
     "execution_count": 7,
     "metadata": {},
     "output_type": "execute_result"
    }
   ],
   "source": [
    "demo_df[\"ethnicity\"].value_counts(dropna=False)"
   ]
  },
  {
   "cell_type": "code",
   "execution_count": 8,
   "metadata": {},
   "outputs": [],
   "source": [
    "# Drop old Ethnicity column\n",
    "demo_df=demo_df.drop(columns=[\"ETHNICITY\"])"
   ]
  },
  {
   "cell_type": "markdown",
   "metadata": {},
   "source": [
    "# Gestational Age"
   ]
  },
  {
   "cell_type": "code",
   "execution_count": 9,
   "metadata": {},
   "outputs": [
    {
     "name": "stdout",
     "output_type": "stream",
     "text": [
      "27\n"
     ]
    }
   ],
   "source": [
    "string = \"27+1\"\n",
    "substring=string.split(\"+\",1)\n",
    "print(substring[0])"
   ]
  },
  {
   "cell_type": "code",
   "execution_count": 10,
   "metadata": {},
   "outputs": [
    {
     "data": {
      "text/plain": [
       "0      17\n",
       "1      27\n",
       "2      29\n",
       "3      28\n",
       "4      21\n",
       "       ..\n",
       "195    28\n",
       "196    16\n",
       "197    25\n",
       "198    25\n",
       "199    25\n",
       "Name: gestationalAgeAtGDMDiagnosis, Length: 200, dtype: object"
      ]
     },
     "execution_count": 10,
     "metadata": {},
     "output_type": "execute_result"
    }
   ],
   "source": [
    "substring = (demo_df[\"Gestational age at GDM Diagnosis (weeks)\"].str.split(\"+\", n = 1, expand = True))\n",
    "demo_df[\"gestationalAgeAtGDMDiagnosis\"] = substring[0]\n",
    "demo_df[\"gestationalAgeAtGDMDiagnosis\"]"
   ]
  },
  {
   "cell_type": "code",
   "execution_count": 11,
   "metadata": {},
   "outputs": [],
   "source": [
    "# Drop old Gestational age at GDM Diagnosis (weeks) column\n",
    "demo_df=demo_df.drop(columns=[\"Gestational age at GDM Diagnosis (weeks)\"])"
   ]
  },
  {
   "cell_type": "markdown",
   "metadata": {},
   "source": [
    "# parity and gravidity"
   ]
  },
  {
   "cell_type": "code",
   "execution_count": 12,
   "metadata": {},
   "outputs": [
    {
     "data": {
      "text/plain": [
       "0      g4p3\n",
       "1      g2p0\n",
       "2      g7p2\n",
       "3      g2p0\n",
       "4      g7p6\n",
       "       ... \n",
       "195    g3p1\n",
       "196    g4p3\n",
       "197    g1p0\n",
       "198    g1p0\n",
       "199    g4p3\n",
       "Name: Registerable parity, Length: 200, dtype: object"
      ]
     },
     "execution_count": 12,
     "metadata": {},
     "output_type": "execute_result"
    }
   ],
   "source": [
    "demo_df['Registerable parity'] "
   ]
  },
  {
   "cell_type": "code",
   "execution_count": 13,
   "metadata": {},
   "outputs": [],
   "source": [
    "demo_df[['gravidity','parity']] = demo_df['Registerable parity'].str.extract(r'g(\\d+)p(\\d+)')"
   ]
  },
  {
   "cell_type": "code",
   "execution_count": 14,
   "metadata": {},
   "outputs": [
    {
     "data": {
      "text/plain": [
       "0      4\n",
       "1      2\n",
       "2      7\n",
       "3      2\n",
       "4      7\n",
       "      ..\n",
       "195    3\n",
       "196    4\n",
       "197    1\n",
       "198    1\n",
       "199    4\n",
       "Name: gravidity, Length: 200, dtype: object"
      ]
     },
     "execution_count": 14,
     "metadata": {},
     "output_type": "execute_result"
    }
   ],
   "source": [
    "demo_df['gravidity']"
   ]
  },
  {
   "cell_type": "code",
   "execution_count": 15,
   "metadata": {},
   "outputs": [
    {
     "data": {
      "text/plain": [
       "0      3\n",
       "1      0\n",
       "2      2\n",
       "3      0\n",
       "4      6\n",
       "      ..\n",
       "195    1\n",
       "196    3\n",
       "197    0\n",
       "198    0\n",
       "199    3\n",
       "Name: parity, Length: 200, dtype: object"
      ]
     },
     "execution_count": 15,
     "metadata": {},
     "output_type": "execute_result"
    }
   ],
   "source": [
    "demo_df['parity']"
   ]
  },
  {
   "cell_type": "code",
   "execution_count": 16,
   "metadata": {},
   "outputs": [],
   "source": [
    "# Drop old Registable parity column\n",
    "demo_df=demo_df.drop(columns=[\"Registerable parity\"])"
   ]
  },
  {
   "cell_type": "markdown",
   "metadata": {},
   "source": [
    "# Previous GDM Diagnosis\n",
    "\n",
    "If 'YES' is in string, change it to 1, otherwise, chnage to '0'"
   ]
  },
  {
   "cell_type": "code",
   "execution_count": 17,
   "metadata": {},
   "outputs": [],
   "source": [
    "demo_df['previousGDM'] = demo_df['Previous GDM Diagnosis YES/NO'].apply(lambda x: 'Yes' if 'YES' in x else 'No')"
   ]
  },
  {
   "cell_type": "code",
   "execution_count": 18,
   "metadata": {},
   "outputs": [
    {
     "data": {
      "text/plain": [
       "0      Yes\n",
       "1       No\n",
       "2       No\n",
       "3       No\n",
       "4      Yes\n",
       "      ... \n",
       "195     No\n",
       "196    Yes\n",
       "197     No\n",
       "198     No\n",
       "199    Yes\n",
       "Name: previousGDM, Length: 200, dtype: object"
      ]
     },
     "execution_count": 18,
     "metadata": {},
     "output_type": "execute_result"
    }
   ],
   "source": [
    "demo_df['previousGDM']"
   ]
  },
  {
   "cell_type": "code",
   "execution_count": 19,
   "metadata": {},
   "outputs": [],
   "source": [
    "# Drop old Previous GDM Diagnosis column\n",
    "demo_df=demo_df.drop(columns=[\"Previous GDM Diagnosis YES/NO\"])"
   ]
  },
  {
   "cell_type": "markdown",
   "metadata": {},
   "source": [
    "# Family History of Diabetes/GDM YES/NO\n"
   ]
  },
  {
   "cell_type": "code",
   "execution_count": 20,
   "metadata": {},
   "outputs": [],
   "source": [
    "#demo_df['familyHistoryDiabetes'] = demo_df['Family History of Diabetes/GDM YES/NO'].apply(lambda x: 'Yes' if 'YES' in x else 'No')#\n",
    "#demo_df['familyHistoryDiabetes'] "
   ]
  },
  {
   "cell_type": "code",
   "execution_count": 21,
   "metadata": {},
   "outputs": [],
   "source": [
    "#if 'MICHAEL89'.casefold() in map(str.casefold, USERNAMES):\n",
    "\n",
    "\n",
    "#demo_df['familyHistoryDiabetes'] = demo_df['Family History of Diabetes/GDM YES/NO'].apply(lambda x: 'Yes' \n",
    "#                                                                                if 'YES'.casefold() in map(str.casefold, x)\n",
    "#                                                                                else 'No')\n",
    "\n",
    "\n"
   ]
  },
  {
   "cell_type": "code",
   "execution_count": 22,
   "metadata": {},
   "outputs": [
    {
     "data": {
      "text/plain": [
       "0      YES\n",
       "1      YES\n",
       "2      YES\n",
       "3       NO\n",
       "4       NO\n",
       "      ... \n",
       "195     NO\n",
       "196    YES\n",
       "197    YES\n",
       "198    YES\n",
       "199     NO\n",
       "Name: familyHistoryDiabetes, Length: 200, dtype: object"
      ]
     },
     "execution_count": 22,
     "metadata": {},
     "output_type": "execute_result"
    }
   ],
   "source": [
    "demo_df['familyHistoryDiabetes'] = np.where(demo_df['Family History of Diabetes/GDM YES/NO'].str.contains('Yes',case = False),\n",
    "                     'YES', \n",
    "                     'NO')\n",
    "demo_df['familyHistoryDiabetes'] "
   ]
  },
  {
   "cell_type": "code",
   "execution_count": 23,
   "metadata": {},
   "outputs": [
    {
     "data": {
      "text/plain": [
       "0      NO\n",
       "1      NO\n",
       "2      NO\n",
       "3      NO\n",
       "4      NO\n",
       "       ..\n",
       "195    NO\n",
       "196    NO\n",
       "197    NO\n",
       "198    NO\n",
       "199    NO\n",
       "Name: familyHistoryGDM, Length: 200, dtype: object"
      ]
     },
     "execution_count": 23,
     "metadata": {},
     "output_type": "execute_result"
    }
   ],
   "source": [
    "#pd.set_option('display.max_rows', None)\n",
    "\n",
    "demo_df['familyHistoryGDM']= demo_df['Family History of Diabetes/GDM YES/NO'].apply(lambda x: 'YES' if 'GDM' in x else 'NO')\n",
    "demo_df['familyHistoryGDM']"
   ]
  },
  {
   "cell_type": "code",
   "execution_count": 24,
   "metadata": {},
   "outputs": [],
   "source": [
    "# Drop old Family History of Diabetes Diagnosis column\n",
    "demo_df=demo_df.drop(columns=[\"Family History of Diabetes/GDM YES/NO\"])"
   ]
  },
  {
   "cell_type": "markdown",
   "metadata": {},
   "source": [
    "    # GDM lifestyle changes treatment YES/NO"
   ]
  },
  {
   "cell_type": "code",
   "execution_count": 25,
   "metadata": {},
   "outputs": [],
   "source": [
    "demo_df=demo_df.drop(columns=[\"GDM lifestyle changes treatment YES/NO\"])"
   ]
  },
  {
   "cell_type": "markdown",
   "metadata": {},
   "source": [
    "REMOVE COLUMN, ALL VALUES 'YES', MEANING THERE IS NO VARIANCE IN DATA AND THEREFORE NO INFORMATION"
   ]
  },
  {
   "cell_type": "markdown",
   "metadata": {},
   "source": [
    "# Gestational age at GDM lifetsyle changes treatment (weeks)"
   ]
  },
  {
   "cell_type": "code",
   "execution_count": 26,
   "metadata": {},
   "outputs": [
    {
     "data": {
      "text/plain": [
       "0      19\n",
       "1      30\n",
       "2      32\n",
       "3      30\n",
       "4      23\n",
       "       ..\n",
       "195    30\n",
       "196    18\n",
       "197    27\n",
       "198    27\n",
       "199    27\n",
       "Name: GDMLifestyleGestWeek, Length: 200, dtype: object"
      ]
     },
     "execution_count": 26,
     "metadata": {},
     "output_type": "execute_result"
    }
   ],
   "source": [
    "substring = (demo_df[\"Gestational age at GDM lifetsyle changes treatment (weeks)\"].str.split(\"+\", n = 1, expand = True))\n",
    "demo_df[\"GDMLifestyleGestWeek\"] = substring[0]\n",
    "demo_df[\"GDMLifestyleGestWeek\"]"
   ]
  },
  {
   "cell_type": "code",
   "execution_count": 27,
   "metadata": {},
   "outputs": [],
   "source": [
    "# Drop old Gestational age at GDM lifetsyle changes treatment (weeks) column\n",
    "demo_df=demo_df.drop(columns=[\"Gestational age at GDM lifetsyle changes treatment (weeks)\"])"
   ]
  },
  {
   "cell_type": "markdown",
   "metadata": {},
   "source": [
    "# Gestational age at GDM diet treatment (weeks)"
   ]
  },
  {
   "cell_type": "code",
   "execution_count": 28,
   "metadata": {},
   "outputs": [
    {
     "data": {
      "text/plain": [
       "0      19\n",
       "1      30\n",
       "2      32\n",
       "3      30\n",
       "4      23\n",
       "       ..\n",
       "195    30\n",
       "196    18\n",
       "197    27\n",
       "198    27\n",
       "199    27\n",
       "Name: GDMDietGestWeek, Length: 200, dtype: object"
      ]
     },
     "execution_count": 28,
     "metadata": {},
     "output_type": "execute_result"
    }
   ],
   "source": [
    "substring = (demo_df[\"Gestational age at GDM diet treatment (weeks)\"].str.split(\"+\", n = 1, expand = True))\n",
    "demo_df[\"GDMDietGestWeek\"] = substring[0]\n",
    "demo_df[\"GDMDietGestWeek\"]"
   ]
  },
  {
   "cell_type": "code",
   "execution_count": 29,
   "metadata": {},
   "outputs": [],
   "source": [
    "# Drop old Gestational age at GDM diet treatment (weeks) column\n",
    "demo_df=demo_df.drop(columns=[\"Gestational age at GDM diet treatment (weeks)\"])"
   ]
  },
  {
   "cell_type": "markdown",
   "metadata": {},
   "source": [
    "# Gestational age at GDM metformin treatment (weeks)"
   ]
  },
  {
   "cell_type": "code",
   "execution_count": 30,
   "metadata": {},
   "outputs": [
    {
     "data": {
      "text/plain": [
       "0      NaN\n",
       "1      NaN\n",
       "2      NaN\n",
       "3      NaN\n",
       "4      NaN\n",
       "      ... \n",
       "195    NaN\n",
       "196    NaN\n",
       "197     28\n",
       "198    NaN\n",
       "199    NaN\n",
       "Name: GDMMetforminGestWeek, Length: 200, dtype: object"
      ]
     },
     "execution_count": 30,
     "metadata": {},
     "output_type": "execute_result"
    }
   ],
   "source": [
    "substring = (demo_df[\"Gestational age at GDM metformin treatment (weeks)\"].str.split(\"+\", n = 1, expand = True))\n",
    "demo_df[\"GDMMetforminGestWeek\"] = substring[0]\n",
    "demo_df[\"GDMMetforminGestWeek\"]"
   ]
  },
  {
   "cell_type": "code",
   "execution_count": 31,
   "metadata": {},
   "outputs": [],
   "source": [
    "# Drop old Gestational age at GDM metformin treatment (weeks) column\n",
    "demo_df=demo_df.drop(columns=[\"Gestational age at GDM metformin treatment (weeks)\"])"
   ]
  },
  {
   "cell_type": "markdown",
   "metadata": {},
   "source": [
    "# Gestational age at GDM insulin treatment (weeks)"
   ]
  },
  {
   "cell_type": "code",
   "execution_count": 32,
   "metadata": {},
   "outputs": [
    {
     "data": {
      "text/plain": [
       "0      NaN\n",
       "1      NaN\n",
       "2       33\n",
       "3      NaN\n",
       "4      NaN\n",
       "      ... \n",
       "195    NaN\n",
       "196     28\n",
       "197    NaN\n",
       "198     28\n",
       "199    NaN\n",
       "Name: GDMInsulinGestWeek, Length: 200, dtype: object"
      ]
     },
     "execution_count": 32,
     "metadata": {},
     "output_type": "execute_result"
    }
   ],
   "source": [
    "substring = (demo_df[\"Gestational age at GDM insulin treatment (weeks)\"].str.split(\"+\", n = 1, expand = True))\n",
    "demo_df[\"GDMInsulinGestWeek\"] = substring[0]\n",
    "\n",
    "#pd.set_option('display.max_rows', None)\n",
    "demo_df[\"GDMInsulinGestWeek\"]"
   ]
  },
  {
   "cell_type": "code",
   "execution_count": 33,
   "metadata": {},
   "outputs": [],
   "source": [
    "# Drop old Gestational age at GDM insulin treatment (weeks) column\n",
    "demo_df=demo_df.drop(columns=[\"Gestational age at GDM insulin treatment (weeks)\"])"
   ]
  },
  {
   "cell_type": "markdown",
   "metadata": {},
   "source": [
    "# Create flag features for GDM Insulin/ Metformin treatment "
   ]
  },
  {
   "cell_type": "code",
   "execution_count": 34,
   "metadata": {},
   "outputs": [
    {
     "data": {
      "text/plain": [
       "149"
      ]
     },
     "execution_count": 34,
     "metadata": {},
     "output_type": "execute_result"
    }
   ],
   "source": [
    "demo_df['GDMMetforminGestWeek'].isna().sum()"
   ]
  },
  {
   "cell_type": "code",
   "execution_count": 35,
   "metadata": {},
   "outputs": [
    {
     "data": {
      "text/plain": [
       "NO     149\n",
       "YES     51\n",
       "Name: metforminFlag, dtype: int64"
      ]
     },
     "execution_count": 35,
     "metadata": {},
     "output_type": "execute_result"
    }
   ],
   "source": [
    "# yes if prescribed, no if not\n",
    "demo_df['metforminFlag'] = demo_df['GDMMetforminGestWeek'].apply(lambda x: 'NO' if pd.isna(x) else 'YES')\n",
    "demo_df['metforminFlag'].value_counts()"
   ]
  },
  {
   "cell_type": "code",
   "execution_count": 36,
   "metadata": {},
   "outputs": [
    {
     "data": {
      "text/plain": [
       "145"
      ]
     },
     "execution_count": 36,
     "metadata": {},
     "output_type": "execute_result"
    }
   ],
   "source": [
    "demo_df['GDMInsulinGestWeek'].isna().sum()"
   ]
  },
  {
   "cell_type": "code",
   "execution_count": 37,
   "metadata": {},
   "outputs": [
    {
     "data": {
      "text/plain": [
       "NO     145\n",
       "YES     55\n",
       "Name: insulinFlag, dtype: int64"
      ]
     },
     "execution_count": 37,
     "metadata": {},
     "output_type": "execute_result"
    }
   ],
   "source": [
    "# yes if prescribed, no if not\n",
    "demo_df['insulinFlag'] = demo_df['GDMInsulinGestWeek'].apply(lambda x: 'NO' if pd.isna(x) else 'YES')\n",
    "demo_df['insulinFlag'].value_counts()"
   ]
  },
  {
   "cell_type": "markdown",
   "metadata": {},
   "source": [
    "# convert all dates to datetime\n"
   ]
  },
  {
   "cell_type": "code",
   "execution_count": 38,
   "metadata": {},
   "outputs": [],
   "source": [
    "#convert all dates to datetime\n",
    "demo_df['Date of GDM Diagnosis'] = pd.to_datetime(demo_df['Date of GDM Diagnosis'], dayfirst=True)\n",
    "demo_df['Estimated Date of Delivery'] = pd.to_datetime(demo_df['Estimated Date of Delivery'], dayfirst=True)"
   ]
  },
  {
   "cell_type": "code",
   "execution_count": 39,
   "metadata": {},
   "outputs": [
    {
     "name": "stdout",
     "output_type": "stream",
     "text": [
      "<class 'pandas.core.frame.DataFrame'>\n",
      "RangeIndex: 200 entries, 0 to 199\n",
      "Data columns (total 29 columns):\n",
      " #   Column                                                       Non-Null Count  Dtype         \n",
      "---  ------                                                       --------------  -----         \n",
      " 0   Participant ID                                               200 non-null    object        \n",
      " 1   Date of GDM Diagnosis                                        200 non-null    datetime64[ns]\n",
      " 2   Estimated Date of Delivery                                   200 non-null    datetime64[ns]\n",
      " 3   Maternal age at childs date of birth (years)                 200 non-null    int64         \n",
      " 4   OGTT fasting blood glucose \n",
      "mmol/l                           200 non-null    float64       \n",
      " 5   OGTT 2-hour postload blood glucose\n",
      "mmol/l                    200 non-null    float64       \n",
      " 6   Mother's weight at start of pregnancy (booking appointment)  200 non-null    float64       \n",
      " 7   Mother's Height (cm)                                         200 non-null    int64         \n",
      " 8   Mother's booking BMI                                         200 non-null    float64       \n",
      " 9   Mother's weight in 3rd trimester (kg)                        200 non-null    float64       \n",
      " 10  Previous macrosomic infant YES/NO                            200 non-null    object        \n",
      " 11  Family history of eclampsia YES/NO                           200 non-null    object        \n",
      " 12  Gestational pre-eclampsia YES/NO                             200 non-null    object        \n",
      " 13  History of PCOS YES/NO                                       200 non-null    object        \n",
      " 14  Family history of hypertension YES/NO                        200 non-null    object        \n",
      " 15  Gestational Hypertension YES/NO                              200 non-null    object        \n",
      " 16  ethnicity                                                    200 non-null    object        \n",
      " 17  gestationalAgeAtGDMDiagnosis                                 200 non-null    object        \n",
      " 18  gravidity                                                    200 non-null    object        \n",
      " 19  parity                                                       200 non-null    object        \n",
      " 20  previousGDM                                                  200 non-null    object        \n",
      " 21  familyHistoryDiabetes                                        200 non-null    object        \n",
      " 22  familyHistoryGDM                                             200 non-null    object        \n",
      " 23  GDMLifestyleGestWeek                                         200 non-null    object        \n",
      " 24  GDMDietGestWeek                                              200 non-null    object        \n",
      " 25  GDMMetforminGestWeek                                         51 non-null     object        \n",
      " 26  GDMInsulinGestWeek                                           55 non-null     object        \n",
      " 27  metforminFlag                                                200 non-null    object        \n",
      " 28  insulinFlag                                                  200 non-null    object        \n",
      "dtypes: datetime64[ns](2), float64(5), int64(2), object(20)\n",
      "memory usage: 45.4+ KB\n"
     ]
    }
   ],
   "source": [
    "demo_df.info()"
   ]
  },
  {
   "cell_type": "code",
   "execution_count": 40,
   "metadata": {},
   "outputs": [],
   "source": [
    "# convert YES/NO columns to all uppercase\n",
    "demo_df['Previous macrosomic infant YES/NO'] = demo_df['Previous macrosomic infant YES/NO'].str.upper()\n",
    "demo_df['Family history of eclampsia YES/NO'] = demo_df['Family history of eclampsia YES/NO'].str.upper()\n",
    "demo_df['Gestational pre-eclampsia YES/NO'] = demo_df['Gestational pre-eclampsia YES/NO'].str.upper()\n",
    "demo_df['History of PCOS YES/NO'] = demo_df['History of PCOS YES/NO'].str.upper()\n",
    "demo_df['Family history of hypertension YES/NO'] = demo_df['Family history of hypertension YES/NO'].str.upper()\n",
    "demo_df['Gestational Hypertension YES/NO']= demo_df['Gestational Hypertension YES/NO'].str.upper()\n",
    "\n",
    "\n",
    "#print(demo_df['Gestational Hypertension YES/NO'].unique())"
   ]
  },
  {
   "cell_type": "code",
   "execution_count": 41,
   "metadata": {},
   "outputs": [],
   "source": [
    "# Rename features\n",
    "demo_df=demo_df.rename(columns={\"Date of GDM Diagnosis\":\"GDMDiagnosisDate\", \"Estimated Date of Delivery\":\"estimatedDeliveryDate\",\n",
    "                               \"Maternal age at childs date of birth (years)\": \"maternalAgeAtBirth\", \n",
    "                               \"OGTT fasting blood glucose \\nmmol/l\": \"OGTTfasting\", \n",
    "                                \"OGTT 2-hour postload blood glucose\\nmmol/l\": \"OGTT2hour\",\n",
    "                               \"Mother's weight at start of pregnancy (booking appointment)\": \"maternalWeightAtBooking\",\n",
    "                               \"Mother's Height (cm)\": \"maternalHeight\", \"Mother's booking BMI\": \"maternalBMIAtBooking\",\n",
    "                               \"Mother's weight in 3rd trimester (kg) \": \"maternalWeight3rdTrimester\", \n",
    "                               \"Previous macrosomic infant YES/NO\": \"prevMacrosomia\",\n",
    "                               \"Family history of eclampsia YES/NO\": \"eclampsiaFH\",\n",
    "                                \"Gestational pre-eclampsia YES/NO\": \"gestationalPre-eclampsia\",\n",
    "                                \"History of PCOS YES/NO\": \"pcos\",\n",
    "                               \"Family history of hypertension YES/NO\": \"hypertensionFH\", \n",
    "                               \"Gestational Hypertension YES/NO\": \"gestationalHypertension\",\n",
    "                               })"
   ]
  },
  {
   "cell_type": "code",
   "execution_count": 42,
   "metadata": {},
   "outputs": [
    {
     "data": {
      "text/html": [
       "<div>\n",
       "<style scoped>\n",
       "    .dataframe tbody tr th:only-of-type {\n",
       "        vertical-align: middle;\n",
       "    }\n",
       "\n",
       "    .dataframe tbody tr th {\n",
       "        vertical-align: top;\n",
       "    }\n",
       "\n",
       "    .dataframe thead th {\n",
       "        text-align: right;\n",
       "    }\n",
       "</style>\n",
       "<table border=\"1\" class=\"dataframe\">\n",
       "  <thead>\n",
       "    <tr style=\"text-align: right;\">\n",
       "      <th></th>\n",
       "      <th>Participant ID</th>\n",
       "      <th>GDMDiagnosisDate</th>\n",
       "      <th>estimatedDeliveryDate</th>\n",
       "      <th>maternalAgeAtBirth</th>\n",
       "      <th>OGTTfasting</th>\n",
       "      <th>OGTT2hour</th>\n",
       "      <th>maternalWeightAtBooking</th>\n",
       "      <th>maternalHeight</th>\n",
       "      <th>maternalBMIAtBooking</th>\n",
       "      <th>maternalWeight3rdTrimester</th>\n",
       "      <th>...</th>\n",
       "      <th>parity</th>\n",
       "      <th>previousGDM</th>\n",
       "      <th>familyHistoryDiabetes</th>\n",
       "      <th>familyHistoryGDM</th>\n",
       "      <th>GDMLifestyleGestWeek</th>\n",
       "      <th>GDMDietGestWeek</th>\n",
       "      <th>GDMMetforminGestWeek</th>\n",
       "      <th>GDMInsulinGestWeek</th>\n",
       "      <th>metforminFlag</th>\n",
       "      <th>insulinFlag</th>\n",
       "    </tr>\n",
       "  </thead>\n",
       "  <tbody>\n",
       "    <tr>\n",
       "      <th>0</th>\n",
       "      <td>BRA001</td>\n",
       "      <td>2019-06-04</td>\n",
       "      <td>2019-11-12</td>\n",
       "      <td>32</td>\n",
       "      <td>6.1</td>\n",
       "      <td>5.2</td>\n",
       "      <td>76.8</td>\n",
       "      <td>167</td>\n",
       "      <td>26.9</td>\n",
       "      <td>84.1</td>\n",
       "      <td>...</td>\n",
       "      <td>3</td>\n",
       "      <td>Yes</td>\n",
       "      <td>YES</td>\n",
       "      <td>NO</td>\n",
       "      <td>19</td>\n",
       "      <td>19</td>\n",
       "      <td>NaN</td>\n",
       "      <td>NaN</td>\n",
       "      <td>NO</td>\n",
       "      <td>NO</td>\n",
       "    </tr>\n",
       "    <tr>\n",
       "      <th>1</th>\n",
       "      <td>BRA002</td>\n",
       "      <td>2019-05-30</td>\n",
       "      <td>2019-08-31</td>\n",
       "      <td>20</td>\n",
       "      <td>5.1</td>\n",
       "      <td>7.8</td>\n",
       "      <td>62.0</td>\n",
       "      <td>163</td>\n",
       "      <td>23.0</td>\n",
       "      <td>69.2</td>\n",
       "      <td>...</td>\n",
       "      <td>0</td>\n",
       "      <td>No</td>\n",
       "      <td>YES</td>\n",
       "      <td>NO</td>\n",
       "      <td>30</td>\n",
       "      <td>30</td>\n",
       "      <td>NaN</td>\n",
       "      <td>NaN</td>\n",
       "      <td>NO</td>\n",
       "      <td>NO</td>\n",
       "    </tr>\n",
       "    <tr>\n",
       "      <th>2</th>\n",
       "      <td>BRA003</td>\n",
       "      <td>2019-06-03</td>\n",
       "      <td>2019-09-02</td>\n",
       "      <td>32</td>\n",
       "      <td>6.6</td>\n",
       "      <td>10.4</td>\n",
       "      <td>84.0</td>\n",
       "      <td>159</td>\n",
       "      <td>33.2</td>\n",
       "      <td>93.5</td>\n",
       "      <td>...</td>\n",
       "      <td>2</td>\n",
       "      <td>No</td>\n",
       "      <td>YES</td>\n",
       "      <td>NO</td>\n",
       "      <td>32</td>\n",
       "      <td>32</td>\n",
       "      <td>NaN</td>\n",
       "      <td>33</td>\n",
       "      <td>NO</td>\n",
       "      <td>YES</td>\n",
       "    </tr>\n",
       "    <tr>\n",
       "      <th>3</th>\n",
       "      <td>BRA004</td>\n",
       "      <td>2019-06-05</td>\n",
       "      <td>2019-09-08</td>\n",
       "      <td>30</td>\n",
       "      <td>4.3</td>\n",
       "      <td>8.4</td>\n",
       "      <td>63.5</td>\n",
       "      <td>163</td>\n",
       "      <td>23.9</td>\n",
       "      <td>68.3</td>\n",
       "      <td>...</td>\n",
       "      <td>0</td>\n",
       "      <td>No</td>\n",
       "      <td>NO</td>\n",
       "      <td>NO</td>\n",
       "      <td>30</td>\n",
       "      <td>30</td>\n",
       "      <td>NaN</td>\n",
       "      <td>NaN</td>\n",
       "      <td>NO</td>\n",
       "      <td>NO</td>\n",
       "    </tr>\n",
       "    <tr>\n",
       "      <th>4</th>\n",
       "      <td>BRA005</td>\n",
       "      <td>2019-06-10</td>\n",
       "      <td>2019-10-18</td>\n",
       "      <td>39</td>\n",
       "      <td>4.8</td>\n",
       "      <td>9.0</td>\n",
       "      <td>86.2</td>\n",
       "      <td>162</td>\n",
       "      <td>32.8</td>\n",
       "      <td>93.5</td>\n",
       "      <td>...</td>\n",
       "      <td>6</td>\n",
       "      <td>Yes</td>\n",
       "      <td>NO</td>\n",
       "      <td>NO</td>\n",
       "      <td>23</td>\n",
       "      <td>23</td>\n",
       "      <td>NaN</td>\n",
       "      <td>NaN</td>\n",
       "      <td>NO</td>\n",
       "      <td>NO</td>\n",
       "    </tr>\n",
       "  </tbody>\n",
       "</table>\n",
       "<p>5 rows × 29 columns</p>\n",
       "</div>"
      ],
      "text/plain": [
       "  Participant ID GDMDiagnosisDate estimatedDeliveryDate  maternalAgeAtBirth  \\\n",
       "0         BRA001       2019-06-04            2019-11-12                  32   \n",
       "1         BRA002       2019-05-30            2019-08-31                  20   \n",
       "2         BRA003       2019-06-03            2019-09-02                  32   \n",
       "3         BRA004       2019-06-05            2019-09-08                  30   \n",
       "4         BRA005       2019-06-10            2019-10-18                  39   \n",
       "\n",
       "   OGTTfasting  OGTT2hour  maternalWeightAtBooking  maternalHeight  \\\n",
       "0          6.1        5.2                     76.8             167   \n",
       "1          5.1        7.8                     62.0             163   \n",
       "2          6.6       10.4                     84.0             159   \n",
       "3          4.3        8.4                     63.5             163   \n",
       "4          4.8        9.0                     86.2             162   \n",
       "\n",
       "   maternalBMIAtBooking  maternalWeight3rdTrimester  ... parity previousGDM  \\\n",
       "0                  26.9                        84.1  ...      3         Yes   \n",
       "1                  23.0                        69.2  ...      0          No   \n",
       "2                  33.2                        93.5  ...      2          No   \n",
       "3                  23.9                        68.3  ...      0          No   \n",
       "4                  32.8                        93.5  ...      6         Yes   \n",
       "\n",
       "  familyHistoryDiabetes familyHistoryGDM GDMLifestyleGestWeek GDMDietGestWeek  \\\n",
       "0                   YES               NO                   19              19   \n",
       "1                   YES               NO                   30              30   \n",
       "2                   YES               NO                   32              32   \n",
       "3                    NO               NO                   30              30   \n",
       "4                    NO               NO                   23              23   \n",
       "\n",
       "  GDMMetforminGestWeek GDMInsulinGestWeek metforminFlag insulinFlag  \n",
       "0                  NaN                NaN            NO          NO  \n",
       "1                  NaN                NaN            NO          NO  \n",
       "2                  NaN                 33            NO         YES  \n",
       "3                  NaN                NaN            NO          NO  \n",
       "4                  NaN                NaN            NO          NO  \n",
       "\n",
       "[5 rows x 29 columns]"
      ]
     },
     "execution_count": 42,
     "metadata": {},
     "output_type": "execute_result"
    }
   ],
   "source": [
    "demo_df.head()"
   ]
  },
  {
   "cell_type": "code",
   "execution_count": 43,
   "metadata": {},
   "outputs": [
    {
     "name": "stdout",
     "output_type": "stream",
     "text": [
      "<class 'pandas.core.frame.DataFrame'>\n",
      "RangeIndex: 200 entries, 0 to 199\n",
      "Data columns (total 29 columns):\n",
      " #   Column                        Non-Null Count  Dtype         \n",
      "---  ------                        --------------  -----         \n",
      " 0   Participant ID                200 non-null    object        \n",
      " 1   GDMDiagnosisDate              200 non-null    datetime64[ns]\n",
      " 2   estimatedDeliveryDate         200 non-null    datetime64[ns]\n",
      " 3   maternalAgeAtBirth            200 non-null    int64         \n",
      " 4   OGTTfasting                   200 non-null    float64       \n",
      " 5   OGTT2hour                     200 non-null    float64       \n",
      " 6   maternalWeightAtBooking       200 non-null    float64       \n",
      " 7   maternalHeight                200 non-null    int64         \n",
      " 8   maternalBMIAtBooking          200 non-null    float64       \n",
      " 9   maternalWeight3rdTrimester    200 non-null    float64       \n",
      " 10  prevMacrosomia                200 non-null    object        \n",
      " 11  eclampsiaFH                   200 non-null    object        \n",
      " 12  gestationalPre-eclampsia      200 non-null    object        \n",
      " 13  pcos                          200 non-null    object        \n",
      " 14  hypertensionFH                200 non-null    object        \n",
      " 15  gestationalHypertension       200 non-null    object        \n",
      " 16  ethnicity                     200 non-null    object        \n",
      " 17  gestationalAgeAtGDMDiagnosis  200 non-null    object        \n",
      " 18  gravidity                     200 non-null    object        \n",
      " 19  parity                        200 non-null    object        \n",
      " 20  previousGDM                   200 non-null    object        \n",
      " 21  familyHistoryDiabetes         200 non-null    object        \n",
      " 22  familyHistoryGDM              200 non-null    object        \n",
      " 23  GDMLifestyleGestWeek          200 non-null    object        \n",
      " 24  GDMDietGestWeek               200 non-null    object        \n",
      " 25  GDMMetforminGestWeek          51 non-null     object        \n",
      " 26  GDMInsulinGestWeek            55 non-null     object        \n",
      " 27  metforminFlag                 200 non-null    object        \n",
      " 28  insulinFlag                   200 non-null    object        \n",
      "dtypes: datetime64[ns](2), float64(5), int64(2), object(20)\n",
      "memory usage: 45.4+ KB\n"
     ]
    }
   ],
   "source": [
    "demo_df.info()"
   ]
  },
  {
   "cell_type": "code",
   "execution_count": 44,
   "metadata": {},
   "outputs": [],
   "source": [
    "demo_df.to_csv('demographics_cleaned.csv', index=False)"
   ]
  },
  {
   "cell_type": "markdown",
   "metadata": {},
   "source": [
    "# Ultrasound Data File"
   ]
  },
  {
   "cell_type": "code",
   "execution_count": 116,
   "metadata": {},
   "outputs": [],
   "source": [
    "# manually edited ultrasound.csv to rename and fix heirarchical index issue\n",
    "# manually removed \"1\" from unnamed columns at end of dataframe\n",
    "us_df= pd.read_csv('ultrasoundscans.csv')\n"
   ]
  },
  {
   "cell_type": "code",
   "execution_count": 117,
   "metadata": {},
   "outputs": [
    {
     "data": {
      "text/html": [
       "<div>\n",
       "<style scoped>\n",
       "    .dataframe tbody tr th:only-of-type {\n",
       "        vertical-align: middle;\n",
       "    }\n",
       "\n",
       "    .dataframe tbody tr th {\n",
       "        vertical-align: top;\n",
       "    }\n",
       "\n",
       "    .dataframe thead th {\n",
       "        text-align: right;\n",
       "    }\n",
       "</style>\n",
       "<table border=\"1\" class=\"dataframe\">\n",
       "  <thead>\n",
       "    <tr style=\"text-align: right;\">\n",
       "      <th></th>\n",
       "      <th>Participant ID</th>\n",
       "      <th>AC_20Weeks</th>\n",
       "      <th>EFW_20Weeks</th>\n",
       "      <th>AC_28Weeks</th>\n",
       "      <th>EFW_28Weeks</th>\n",
       "      <th>AC_30Weeks</th>\n",
       "      <th>EFW_30Weeks</th>\n",
       "      <th>AC_32Weeks</th>\n",
       "      <th>EFW_32Weeks</th>\n",
       "      <th>AC_34Weeks</th>\n",
       "      <th>EFW_34Weeks</th>\n",
       "      <th>AC_36Weeks</th>\n",
       "      <th>EFW_36Weeks</th>\n",
       "      <th>AC_38Weeks</th>\n",
       "      <th>EFW_38Weeks</th>\n",
       "    </tr>\n",
       "  </thead>\n",
       "  <tbody>\n",
       "    <tr>\n",
       "      <th>0</th>\n",
       "      <td>BRA001</td>\n",
       "      <td>137.6</td>\n",
       "      <td>281g</td>\n",
       "      <td>230.1</td>\n",
       "      <td>1184g</td>\n",
       "      <td>No data</td>\n",
       "      <td>No data</td>\n",
       "      <td>265</td>\n",
       "      <td>1828g</td>\n",
       "      <td>No data</td>\n",
       "      <td>No data</td>\n",
       "      <td>308.7</td>\n",
       "      <td>2651g</td>\n",
       "      <td>No Data</td>\n",
       "      <td>No data</td>\n",
       "    </tr>\n",
       "    <tr>\n",
       "      <th>1</th>\n",
       "      <td>BRA002</td>\n",
       "      <td>133.5</td>\n",
       "      <td>264g</td>\n",
       "      <td>No Data</td>\n",
       "      <td>No Data</td>\n",
       "      <td>272</td>\n",
       "      <td>1665g</td>\n",
       "      <td>No Data</td>\n",
       "      <td>No Data</td>\n",
       "      <td>292</td>\n",
       "      <td>2260g</td>\n",
       "      <td>No Data</td>\n",
       "      <td>No Data</td>\n",
       "      <td>319.9</td>\n",
       "      <td>2927</td>\n",
       "    </tr>\n",
       "    <tr>\n",
       "      <th>2</th>\n",
       "      <td>BRA003</td>\n",
       "      <td>142</td>\n",
       "      <td>308g</td>\n",
       "      <td>No Data</td>\n",
       "      <td>No Data</td>\n",
       "      <td>264</td>\n",
       "      <td>1673g</td>\n",
       "      <td>No Data</td>\n",
       "      <td>No Data</td>\n",
       "      <td>318.4</td>\n",
       "      <td>2759g</td>\n",
       "      <td>No Data</td>\n",
       "      <td>No Data</td>\n",
       "      <td>328.7</td>\n",
       "      <td>3265g</td>\n",
       "    </tr>\n",
       "    <tr>\n",
       "      <th>3</th>\n",
       "      <td>BRA004</td>\n",
       "      <td>153.7</td>\n",
       "      <td>362g</td>\n",
       "      <td>238</td>\n",
       "      <td>1239g</td>\n",
       "      <td>272.7</td>\n",
       "      <td>1744g</td>\n",
       "      <td>No Data</td>\n",
       "      <td>No Data</td>\n",
       "      <td>318.8</td>\n",
       "      <td>2640g</td>\n",
       "      <td>No Data</td>\n",
       "      <td>No Data</td>\n",
       "      <td>342</td>\n",
       "      <td>3271g</td>\n",
       "    </tr>\n",
       "    <tr>\n",
       "      <th>4</th>\n",
       "      <td>BRA005</td>\n",
       "      <td>152.8</td>\n",
       "      <td>336g</td>\n",
       "      <td>228.7</td>\n",
       "      <td>1073g</td>\n",
       "      <td>No data</td>\n",
       "      <td>No data</td>\n",
       "      <td>274.3</td>\n",
       "      <td>1909g</td>\n",
       "      <td>No data</td>\n",
       "      <td>No data</td>\n",
       "      <td>324.3</td>\n",
       "      <td>2944g</td>\n",
       "      <td>No Data</td>\n",
       "      <td>No data</td>\n",
       "    </tr>\n",
       "  </tbody>\n",
       "</table>\n",
       "</div>"
      ],
      "text/plain": [
       "  Participant ID AC_20Weeks EFW_20Weeks AC_28Weeks EFW_28Weeks AC_30Weeks  \\\n",
       "0         BRA001      137.6        281g      230.1       1184g    No data   \n",
       "1         BRA002      133.5        264g    No Data     No Data        272   \n",
       "2         BRA003        142        308g    No Data     No Data        264   \n",
       "3         BRA004      153.7        362g        238       1239g      272.7   \n",
       "4         BRA005      152.8        336g      228.7       1073g    No data   \n",
       "\n",
       "  EFW_30Weeks AC_32Weeks EFW_32Weeks AC_34Weeks EFW_34Weeks AC_36Weeks  \\\n",
       "0     No data        265       1828g    No data     No data      308.7   \n",
       "1       1665g    No Data     No Data        292       2260g    No Data   \n",
       "2       1673g    No Data     No Data      318.4       2759g    No Data   \n",
       "3       1744g    No Data     No Data      318.8       2640g    No Data   \n",
       "4     No data      274.3       1909g    No data     No data      324.3   \n",
       "\n",
       "  EFW_36Weeks AC_38Weeks EFW_38Weeks  \n",
       "0       2651g    No Data     No data  \n",
       "1     No Data      319.9        2927  \n",
       "2     No Data      328.7       3265g  \n",
       "3     No Data        342       3271g  \n",
       "4       2944g    No Data     No data  "
      ]
     },
     "execution_count": 117,
     "metadata": {},
     "output_type": "execute_result"
    }
   ],
   "source": [
    "us_df.head()"
   ]
  },
  {
   "cell_type": "code",
   "execution_count": 118,
   "metadata": {},
   "outputs": [],
   "source": [
    "# us.replace('No Data', np.nan) case sensitive\n",
    "\n",
    "us_df = us_df.replace('(?i)No Data', np.nan, regex=True)"
   ]
  },
  {
   "cell_type": "code",
   "execution_count": 119,
   "metadata": {},
   "outputs": [],
   "source": [
    "#remove 'g' from measurments\n",
    "us_df = us_df.apply(lambda x: x.str.rstrip('g'))\n"
   ]
  },
  {
   "cell_type": "code",
   "execution_count": 120,
   "metadata": {},
   "outputs": [
    {
     "data": {
      "text/html": [
       "<div>\n",
       "<style scoped>\n",
       "    .dataframe tbody tr th:only-of-type {\n",
       "        vertical-align: middle;\n",
       "    }\n",
       "\n",
       "    .dataframe tbody tr th {\n",
       "        vertical-align: top;\n",
       "    }\n",
       "\n",
       "    .dataframe thead th {\n",
       "        text-align: right;\n",
       "    }\n",
       "</style>\n",
       "<table border=\"1\" class=\"dataframe\">\n",
       "  <thead>\n",
       "    <tr style=\"text-align: right;\">\n",
       "      <th></th>\n",
       "      <th>Participant ID</th>\n",
       "      <th>AC_20Weeks</th>\n",
       "      <th>EFW_20Weeks</th>\n",
       "      <th>AC_28Weeks</th>\n",
       "      <th>EFW_28Weeks</th>\n",
       "      <th>AC_30Weeks</th>\n",
       "      <th>EFW_30Weeks</th>\n",
       "      <th>AC_32Weeks</th>\n",
       "      <th>EFW_32Weeks</th>\n",
       "      <th>AC_34Weeks</th>\n",
       "      <th>EFW_34Weeks</th>\n",
       "      <th>AC_36Weeks</th>\n",
       "      <th>EFW_36Weeks</th>\n",
       "      <th>AC_38Weeks</th>\n",
       "      <th>EFW_38Weeks</th>\n",
       "    </tr>\n",
       "  </thead>\n",
       "  <tbody>\n",
       "    <tr>\n",
       "      <th>0</th>\n",
       "      <td>BRA001</td>\n",
       "      <td>137.6</td>\n",
       "      <td>281</td>\n",
       "      <td>230.1</td>\n",
       "      <td>1184</td>\n",
       "      <td>NaN</td>\n",
       "      <td>NaN</td>\n",
       "      <td>265</td>\n",
       "      <td>1828</td>\n",
       "      <td>NaN</td>\n",
       "      <td>NaN</td>\n",
       "      <td>308.7</td>\n",
       "      <td>2651</td>\n",
       "      <td>NaN</td>\n",
       "      <td>NaN</td>\n",
       "    </tr>\n",
       "    <tr>\n",
       "      <th>1</th>\n",
       "      <td>BRA002</td>\n",
       "      <td>133.5</td>\n",
       "      <td>264</td>\n",
       "      <td>NaN</td>\n",
       "      <td>NaN</td>\n",
       "      <td>272</td>\n",
       "      <td>1665</td>\n",
       "      <td>NaN</td>\n",
       "      <td>NaN</td>\n",
       "      <td>292</td>\n",
       "      <td>2260</td>\n",
       "      <td>NaN</td>\n",
       "      <td>NaN</td>\n",
       "      <td>319.9</td>\n",
       "      <td>2927</td>\n",
       "    </tr>\n",
       "    <tr>\n",
       "      <th>2</th>\n",
       "      <td>BRA003</td>\n",
       "      <td>142</td>\n",
       "      <td>308</td>\n",
       "      <td>NaN</td>\n",
       "      <td>NaN</td>\n",
       "      <td>264</td>\n",
       "      <td>1673</td>\n",
       "      <td>NaN</td>\n",
       "      <td>NaN</td>\n",
       "      <td>318.4</td>\n",
       "      <td>2759</td>\n",
       "      <td>NaN</td>\n",
       "      <td>NaN</td>\n",
       "      <td>328.7</td>\n",
       "      <td>3265</td>\n",
       "    </tr>\n",
       "    <tr>\n",
       "      <th>3</th>\n",
       "      <td>BRA004</td>\n",
       "      <td>153.7</td>\n",
       "      <td>362</td>\n",
       "      <td>238</td>\n",
       "      <td>1239</td>\n",
       "      <td>272.7</td>\n",
       "      <td>1744</td>\n",
       "      <td>NaN</td>\n",
       "      <td>NaN</td>\n",
       "      <td>318.8</td>\n",
       "      <td>2640</td>\n",
       "      <td>NaN</td>\n",
       "      <td>NaN</td>\n",
       "      <td>342</td>\n",
       "      <td>3271</td>\n",
       "    </tr>\n",
       "    <tr>\n",
       "      <th>4</th>\n",
       "      <td>BRA005</td>\n",
       "      <td>152.8</td>\n",
       "      <td>336</td>\n",
       "      <td>228.7</td>\n",
       "      <td>1073</td>\n",
       "      <td>NaN</td>\n",
       "      <td>NaN</td>\n",
       "      <td>274.3</td>\n",
       "      <td>1909</td>\n",
       "      <td>NaN</td>\n",
       "      <td>NaN</td>\n",
       "      <td>324.3</td>\n",
       "      <td>2944</td>\n",
       "      <td>NaN</td>\n",
       "      <td>NaN</td>\n",
       "    </tr>\n",
       "  </tbody>\n",
       "</table>\n",
       "</div>"
      ],
      "text/plain": [
       "  Participant ID AC_20Weeks EFW_20Weeks AC_28Weeks EFW_28Weeks AC_30Weeks  \\\n",
       "0         BRA001      137.6         281      230.1        1184        NaN   \n",
       "1         BRA002      133.5         264        NaN         NaN        272   \n",
       "2         BRA003        142         308        NaN         NaN        264   \n",
       "3         BRA004      153.7         362        238        1239      272.7   \n",
       "4         BRA005      152.8         336      228.7        1073        NaN   \n",
       "\n",
       "  EFW_30Weeks AC_32Weeks EFW_32Weeks AC_34Weeks EFW_34Weeks AC_36Weeks  \\\n",
       "0         NaN        265        1828        NaN         NaN      308.7   \n",
       "1        1665        NaN         NaN        292        2260        NaN   \n",
       "2        1673        NaN         NaN      318.4        2759        NaN   \n",
       "3        1744        NaN         NaN      318.8        2640        NaN   \n",
       "4         NaN      274.3        1909        NaN         NaN      324.3   \n",
       "\n",
       "  EFW_36Weeks AC_38Weeks EFW_38Weeks  \n",
       "0        2651        NaN         NaN  \n",
       "1         NaN      319.9        2927  \n",
       "2         NaN      328.7        3265  \n",
       "3         NaN        342        3271  \n",
       "4        2944        NaN         NaN  "
      ]
     },
     "execution_count": 120,
     "metadata": {},
     "output_type": "execute_result"
    }
   ],
   "source": [
    "us_df.head()"
   ]
  },
  {
   "cell_type": "code",
   "execution_count": 121,
   "metadata": {},
   "outputs": [],
   "source": [
    "#change cols from object to numeric\n",
    "cols = us_df.columns.drop('Participant ID')\n",
    "us_df[cols] = us_df[cols].apply(pd.to_numeric, errors='coerce')"
   ]
  },
  {
   "cell_type": "code",
   "execution_count": 122,
   "metadata": {},
   "outputs": [
    {
     "name": "stdout",
     "output_type": "stream",
     "text": [
      "<class 'pandas.core.frame.DataFrame'>\n",
      "RangeIndex: 200 entries, 0 to 199\n",
      "Data columns (total 15 columns):\n",
      " #   Column          Non-Null Count  Dtype  \n",
      "---  ------          --------------  -----  \n",
      " 0   Participant ID  200 non-null    object \n",
      " 1   AC_20Weeks      163 non-null    float64\n",
      " 2   EFW_20Weeks     163 non-null    float64\n",
      " 3   AC_28Weeks      101 non-null    float64\n",
      " 4   EFW_28Weeks     101 non-null    float64\n",
      " 5   AC_30Weeks      80 non-null     float64\n",
      " 6   EFW_30Weeks     80 non-null     float64\n",
      " 7   AC_32Weeks      126 non-null    float64\n",
      " 8   EFW_32Weeks     125 non-null    float64\n",
      " 9   AC_34Weeks      81 non-null     float64\n",
      " 10  EFW_34Weeks     81 non-null     float64\n",
      " 11  AC_36Weeks      149 non-null    float64\n",
      " 12  EFW_36Weeks     149 non-null    float64\n",
      " 13  AC_38Weeks      51 non-null     float64\n",
      " 14  EFW_38Weeks     51 non-null     float64\n",
      "dtypes: float64(14), object(1)\n",
      "memory usage: 23.6+ KB\n"
     ]
    }
   ],
   "source": [
    "us_df.info()"
   ]
  },
  {
   "cell_type": "code",
   "execution_count": 123,
   "metadata": {},
   "outputs": [],
   "source": [
    "AC_cols = [\"AC_20Weeks\", \"AC_28Weeks\", \"AC_30Weeks\",\"AC_32Weeks\",\"AC_34Weeks\",\"AC_36Weeks\",\"AC_38Weeks\"]\n",
    "EFW_cols = [\"EFW_20Weeks\", \"EFW_28Weeks\", \"EFW_30Weeks\",\"EFW_32Weeks\",\"EFW_34Weeks\",\"EFW_36Weeks\",\"EFW_38Weeks\"]"
   ]
  },
  {
   "cell_type": "code",
   "execution_count": 124,
   "metadata": {},
   "outputs": [],
   "source": [
    "us_df[\"meanAC\"] = us_df[AC_cols].mean(axis=1)\n",
    "us_df[\"maxAC\"] = us_df[AC_cols].max(axis=1)\n",
    "us_df[\"minAC\"] = us_df[AC_cols].min(axis=1)\n",
    "us_df[\"varAC\"] = us_df[AC_cols].var(axis=1)\n",
    "\n",
    "us_df[\"rangeAC\"] = us_df[\"maxAC\"]- us_df[\"minAC\"]"
   ]
  },
  {
   "cell_type": "code",
   "execution_count": 126,
   "metadata": {},
   "outputs": [],
   "source": [
    "us_df[\"meanEFW\"] = us_df[EFW_cols].mean(axis=1)\n",
    "us_df[\"maxEFW\"] = us_df[EFW_cols].max(axis=1)\n",
    "us_df[\"minEFW\"] = us_df[EFW_cols].min(axis=1)\n",
    "us_df[\"varEFW\"] = us_df[EFW_cols].var(axis=1)\n",
    "\n",
    "us_df[\"rangeEFW\"] = us_df[\"maxEFW\"]- us_df[\"minEFW\"]\n"
   ]
  },
  {
   "cell_type": "code",
   "execution_count": 127,
   "metadata": {},
   "outputs": [
    {
     "data": {
      "text/html": [
       "<div>\n",
       "<style scoped>\n",
       "    .dataframe tbody tr th:only-of-type {\n",
       "        vertical-align: middle;\n",
       "    }\n",
       "\n",
       "    .dataframe tbody tr th {\n",
       "        vertical-align: top;\n",
       "    }\n",
       "\n",
       "    .dataframe thead th {\n",
       "        text-align: right;\n",
       "    }\n",
       "</style>\n",
       "<table border=\"1\" class=\"dataframe\">\n",
       "  <thead>\n",
       "    <tr style=\"text-align: right;\">\n",
       "      <th></th>\n",
       "      <th>Participant ID</th>\n",
       "      <th>AC_20Weeks</th>\n",
       "      <th>EFW_20Weeks</th>\n",
       "      <th>AC_28Weeks</th>\n",
       "      <th>EFW_28Weeks</th>\n",
       "      <th>AC_30Weeks</th>\n",
       "      <th>EFW_30Weeks</th>\n",
       "      <th>AC_32Weeks</th>\n",
       "      <th>EFW_32Weeks</th>\n",
       "      <th>AC_34Weeks</th>\n",
       "      <th>...</th>\n",
       "      <th>meanAC</th>\n",
       "      <th>maxAC</th>\n",
       "      <th>minAC</th>\n",
       "      <th>varAC</th>\n",
       "      <th>rangeAC</th>\n",
       "      <th>meanEFW</th>\n",
       "      <th>maxEFW</th>\n",
       "      <th>minEFW</th>\n",
       "      <th>varEFW</th>\n",
       "      <th>rangeEFW</th>\n",
       "    </tr>\n",
       "  </thead>\n",
       "  <tbody>\n",
       "    <tr>\n",
       "      <th>0</th>\n",
       "      <td>BRA001</td>\n",
       "      <td>137.6</td>\n",
       "      <td>281.0</td>\n",
       "      <td>230.1</td>\n",
       "      <td>1184.0</td>\n",
       "      <td>NaN</td>\n",
       "      <td>NaN</td>\n",
       "      <td>265.0</td>\n",
       "      <td>1828.0</td>\n",
       "      <td>NaN</td>\n",
       "      <td>...</td>\n",
       "      <td>235.350</td>\n",
       "      <td>308.7</td>\n",
       "      <td>137.6</td>\n",
       "      <td>5280.656667</td>\n",
       "      <td>171.1</td>\n",
       "      <td>1486.00</td>\n",
       "      <td>2651.0</td>\n",
       "      <td>281.0</td>\n",
       "      <td>1.005806e+06</td>\n",
       "      <td>2370.0</td>\n",
       "    </tr>\n",
       "    <tr>\n",
       "      <th>1</th>\n",
       "      <td>BRA002</td>\n",
       "      <td>133.5</td>\n",
       "      <td>264.0</td>\n",
       "      <td>NaN</td>\n",
       "      <td>NaN</td>\n",
       "      <td>272.0</td>\n",
       "      <td>1665.0</td>\n",
       "      <td>NaN</td>\n",
       "      <td>NaN</td>\n",
       "      <td>292.0</td>\n",
       "      <td>...</td>\n",
       "      <td>254.350</td>\n",
       "      <td>319.9</td>\n",
       "      <td>133.5</td>\n",
       "      <td>6876.856667</td>\n",
       "      <td>186.4</td>\n",
       "      <td>1779.00</td>\n",
       "      <td>2927.0</td>\n",
       "      <td>264.0</td>\n",
       "      <td>1.285829e+06</td>\n",
       "      <td>2663.0</td>\n",
       "    </tr>\n",
       "    <tr>\n",
       "      <th>2</th>\n",
       "      <td>BRA003</td>\n",
       "      <td>142.0</td>\n",
       "      <td>308.0</td>\n",
       "      <td>NaN</td>\n",
       "      <td>NaN</td>\n",
       "      <td>264.0</td>\n",
       "      <td>1673.0</td>\n",
       "      <td>NaN</td>\n",
       "      <td>NaN</td>\n",
       "      <td>318.4</td>\n",
       "      <td>...</td>\n",
       "      <td>263.275</td>\n",
       "      <td>328.7</td>\n",
       "      <td>142.0</td>\n",
       "      <td>7342.449167</td>\n",
       "      <td>186.7</td>\n",
       "      <td>2001.25</td>\n",
       "      <td>3265.0</td>\n",
       "      <td>308.0</td>\n",
       "      <td>1.715364e+06</td>\n",
       "      <td>2957.0</td>\n",
       "    </tr>\n",
       "    <tr>\n",
       "      <th>3</th>\n",
       "      <td>BRA004</td>\n",
       "      <td>153.7</td>\n",
       "      <td>362.0</td>\n",
       "      <td>238.0</td>\n",
       "      <td>1239.0</td>\n",
       "      <td>272.7</td>\n",
       "      <td>1744.0</td>\n",
       "      <td>NaN</td>\n",
       "      <td>NaN</td>\n",
       "      <td>318.8</td>\n",
       "      <td>...</td>\n",
       "      <td>265.040</td>\n",
       "      <td>342.0</td>\n",
       "      <td>153.7</td>\n",
       "      <td>5499.853000</td>\n",
       "      <td>188.3</td>\n",
       "      <td>1851.20</td>\n",
       "      <td>3271.0</td>\n",
       "      <td>362.0</td>\n",
       "      <td>1.310509e+06</td>\n",
       "      <td>2909.0</td>\n",
       "    </tr>\n",
       "    <tr>\n",
       "      <th>4</th>\n",
       "      <td>BRA005</td>\n",
       "      <td>152.8</td>\n",
       "      <td>336.0</td>\n",
       "      <td>228.7</td>\n",
       "      <td>1073.0</td>\n",
       "      <td>NaN</td>\n",
       "      <td>NaN</td>\n",
       "      <td>274.3</td>\n",
       "      <td>1909.0</td>\n",
       "      <td>NaN</td>\n",
       "      <td>...</td>\n",
       "      <td>245.025</td>\n",
       "      <td>324.3</td>\n",
       "      <td>152.8</td>\n",
       "      <td>5304.502500</td>\n",
       "      <td>171.5</td>\n",
       "      <td>1565.50</td>\n",
       "      <td>2944.0</td>\n",
       "      <td>336.0</td>\n",
       "      <td>1.257494e+06</td>\n",
       "      <td>2608.0</td>\n",
       "    </tr>\n",
       "  </tbody>\n",
       "</table>\n",
       "<p>5 rows × 25 columns</p>\n",
       "</div>"
      ],
      "text/plain": [
       "  Participant ID  AC_20Weeks  EFW_20Weeks  AC_28Weeks  EFW_28Weeks  \\\n",
       "0         BRA001       137.6        281.0       230.1       1184.0   \n",
       "1         BRA002       133.5        264.0         NaN          NaN   \n",
       "2         BRA003       142.0        308.0         NaN          NaN   \n",
       "3         BRA004       153.7        362.0       238.0       1239.0   \n",
       "4         BRA005       152.8        336.0       228.7       1073.0   \n",
       "\n",
       "   AC_30Weeks  EFW_30Weeks  AC_32Weeks  EFW_32Weeks  AC_34Weeks  ...   meanAC  \\\n",
       "0         NaN          NaN       265.0       1828.0         NaN  ...  235.350   \n",
       "1       272.0       1665.0         NaN          NaN       292.0  ...  254.350   \n",
       "2       264.0       1673.0         NaN          NaN       318.4  ...  263.275   \n",
       "3       272.7       1744.0         NaN          NaN       318.8  ...  265.040   \n",
       "4         NaN          NaN       274.3       1909.0         NaN  ...  245.025   \n",
       "\n",
       "   maxAC  minAC        varAC  rangeAC  meanEFW  maxEFW  minEFW        varEFW  \\\n",
       "0  308.7  137.6  5280.656667    171.1  1486.00  2651.0   281.0  1.005806e+06   \n",
       "1  319.9  133.5  6876.856667    186.4  1779.00  2927.0   264.0  1.285829e+06   \n",
       "2  328.7  142.0  7342.449167    186.7  2001.25  3265.0   308.0  1.715364e+06   \n",
       "3  342.0  153.7  5499.853000    188.3  1851.20  3271.0   362.0  1.310509e+06   \n",
       "4  324.3  152.8  5304.502500    171.5  1565.50  2944.0   336.0  1.257494e+06   \n",
       "\n",
       "   rangeEFW  \n",
       "0    2370.0  \n",
       "1    2663.0  \n",
       "2    2957.0  \n",
       "3    2909.0  \n",
       "4    2608.0  \n",
       "\n",
       "[5 rows x 25 columns]"
      ]
     },
     "execution_count": 127,
     "metadata": {},
     "output_type": "execute_result"
    }
   ],
   "source": [
    "us_df.head()"
   ]
  },
  {
   "cell_type": "code",
   "execution_count": 128,
   "metadata": {},
   "outputs": [
    {
     "data": {
      "text/html": [
       "<div>\n",
       "<style scoped>\n",
       "    .dataframe tbody tr th:only-of-type {\n",
       "        vertical-align: middle;\n",
       "    }\n",
       "\n",
       "    .dataframe tbody tr th {\n",
       "        vertical-align: top;\n",
       "    }\n",
       "\n",
       "    .dataframe thead th {\n",
       "        text-align: right;\n",
       "    }\n",
       "</style>\n",
       "<table border=\"1\" class=\"dataframe\">\n",
       "  <thead>\n",
       "    <tr style=\"text-align: right;\">\n",
       "      <th></th>\n",
       "      <th>Participant ID</th>\n",
       "      <th>meanAC</th>\n",
       "      <th>maxAC</th>\n",
       "      <th>minAC</th>\n",
       "      <th>varAC</th>\n",
       "      <th>rangeAC</th>\n",
       "      <th>meanEFW</th>\n",
       "      <th>maxEFW</th>\n",
       "      <th>minEFW</th>\n",
       "      <th>varEFW</th>\n",
       "      <th>rangeEFW</th>\n",
       "    </tr>\n",
       "  </thead>\n",
       "  <tbody>\n",
       "    <tr>\n",
       "      <th>0</th>\n",
       "      <td>BRA001</td>\n",
       "      <td>235.350</td>\n",
       "      <td>308.7</td>\n",
       "      <td>137.6</td>\n",
       "      <td>5280.656667</td>\n",
       "      <td>171.1</td>\n",
       "      <td>1486.00</td>\n",
       "      <td>2651.0</td>\n",
       "      <td>281.0</td>\n",
       "      <td>1.005806e+06</td>\n",
       "      <td>2370.0</td>\n",
       "    </tr>\n",
       "    <tr>\n",
       "      <th>1</th>\n",
       "      <td>BRA002</td>\n",
       "      <td>254.350</td>\n",
       "      <td>319.9</td>\n",
       "      <td>133.5</td>\n",
       "      <td>6876.856667</td>\n",
       "      <td>186.4</td>\n",
       "      <td>1779.00</td>\n",
       "      <td>2927.0</td>\n",
       "      <td>264.0</td>\n",
       "      <td>1.285829e+06</td>\n",
       "      <td>2663.0</td>\n",
       "    </tr>\n",
       "    <tr>\n",
       "      <th>2</th>\n",
       "      <td>BRA003</td>\n",
       "      <td>263.275</td>\n",
       "      <td>328.7</td>\n",
       "      <td>142.0</td>\n",
       "      <td>7342.449167</td>\n",
       "      <td>186.7</td>\n",
       "      <td>2001.25</td>\n",
       "      <td>3265.0</td>\n",
       "      <td>308.0</td>\n",
       "      <td>1.715364e+06</td>\n",
       "      <td>2957.0</td>\n",
       "    </tr>\n",
       "    <tr>\n",
       "      <th>3</th>\n",
       "      <td>BRA004</td>\n",
       "      <td>265.040</td>\n",
       "      <td>342.0</td>\n",
       "      <td>153.7</td>\n",
       "      <td>5499.853000</td>\n",
       "      <td>188.3</td>\n",
       "      <td>1851.20</td>\n",
       "      <td>3271.0</td>\n",
       "      <td>362.0</td>\n",
       "      <td>1.310509e+06</td>\n",
       "      <td>2909.0</td>\n",
       "    </tr>\n",
       "    <tr>\n",
       "      <th>4</th>\n",
       "      <td>BRA005</td>\n",
       "      <td>245.025</td>\n",
       "      <td>324.3</td>\n",
       "      <td>152.8</td>\n",
       "      <td>5304.502500</td>\n",
       "      <td>171.5</td>\n",
       "      <td>1565.50</td>\n",
       "      <td>2944.0</td>\n",
       "      <td>336.0</td>\n",
       "      <td>1.257494e+06</td>\n",
       "      <td>2608.0</td>\n",
       "    </tr>\n",
       "  </tbody>\n",
       "</table>\n",
       "</div>"
      ],
      "text/plain": [
       "  Participant ID   meanAC  maxAC  minAC        varAC  rangeAC  meanEFW  \\\n",
       "0         BRA001  235.350  308.7  137.6  5280.656667    171.1  1486.00   \n",
       "1         BRA002  254.350  319.9  133.5  6876.856667    186.4  1779.00   \n",
       "2         BRA003  263.275  328.7  142.0  7342.449167    186.7  2001.25   \n",
       "3         BRA004  265.040  342.0  153.7  5499.853000    188.3  1851.20   \n",
       "4         BRA005  245.025  324.3  152.8  5304.502500    171.5  1565.50   \n",
       "\n",
       "   maxEFW  minEFW        varEFW  rangeEFW  \n",
       "0  2651.0   281.0  1.005806e+06    2370.0  \n",
       "1  2927.0   264.0  1.285829e+06    2663.0  \n",
       "2  3265.0   308.0  1.715364e+06    2957.0  \n",
       "3  3271.0   362.0  1.310509e+06    2909.0  \n",
       "4  2944.0   336.0  1.257494e+06    2608.0  "
      ]
     },
     "execution_count": 128,
     "metadata": {},
     "output_type": "execute_result"
    }
   ],
   "source": [
    "# drop non-summary ultrasound features\n",
    "us_df = us_df.drop(AC_cols,axis=1)\n",
    "us_df = us_df.drop(EFW_cols,axis=1)\n",
    "us_df.head()"
   ]
  },
  {
   "cell_type": "code",
   "execution_count": 129,
   "metadata": {},
   "outputs": [],
   "source": [
    "us_df.to_csv(\"ultrasound_statistics.csv\", index=False)"
   ]
  },
  {
   "cell_type": "markdown",
   "metadata": {},
   "source": [
    "# Feotal Data File"
   ]
  },
  {
   "cell_type": "code",
   "execution_count": 130,
   "metadata": {},
   "outputs": [],
   "source": [
    "# manually edited livebirth and stillbirth columns,\n",
    "# removed extra info in column and added it to new feature called \"extra info\""
   ]
  },
  {
   "cell_type": "code",
   "execution_count": 131,
   "metadata": {},
   "outputs": [],
   "source": [
    "foetal_df = pd.read_csv('foetal.csv')"
   ]
  },
  {
   "cell_type": "code",
   "execution_count": 132,
   "metadata": {},
   "outputs": [
    {
     "data": {
      "text/html": [
       "<div>\n",
       "<style scoped>\n",
       "    .dataframe tbody tr th:only-of-type {\n",
       "        vertical-align: middle;\n",
       "    }\n",
       "\n",
       "    .dataframe tbody tr th {\n",
       "        vertical-align: top;\n",
       "    }\n",
       "\n",
       "    .dataframe thead th {\n",
       "        text-align: right;\n",
       "    }\n",
       "</style>\n",
       "<table border=\"1\" class=\"dataframe\">\n",
       "  <thead>\n",
       "    <tr style=\"text-align: right;\">\n",
       "      <th></th>\n",
       "      <th>Participant ID</th>\n",
       "      <th>DATE OF BIRTH</th>\n",
       "      <th>VAGINAL BIRTH</th>\n",
       "      <th>CESARIAN BIRTH</th>\n",
       "      <th>SEX</th>\n",
       "      <th>WEIGHT (grms)</th>\n",
       "      <th>Gestational age at delivery (weeks)</th>\n",
       "      <th>Large for gestational age (&gt;90th centile)</th>\n",
       "      <th>Small for gestational age (&lt;10th centile)</th>\n",
       "      <th>Outcome of Birth: LIVEBIRTH or STILLBIRTH</th>\n",
       "      <th>Extra Information</th>\n",
       "    </tr>\n",
       "  </thead>\n",
       "  <tbody>\n",
       "    <tr>\n",
       "      <th>0</th>\n",
       "      <td>BRA001</td>\n",
       "      <td>10/11/2019</td>\n",
       "      <td>Y</td>\n",
       "      <td>NaN</td>\n",
       "      <td>female</td>\n",
       "      <td>3490</td>\n",
       "      <td>40+1</td>\n",
       "      <td>NaN</td>\n",
       "      <td>NaN</td>\n",
       "      <td>LIVEBIRTH</td>\n",
       "      <td>NaN</td>\n",
       "    </tr>\n",
       "    <tr>\n",
       "      <th>1</th>\n",
       "      <td>BRA002</td>\n",
       "      <td>02/09/2019</td>\n",
       "      <td>Y</td>\n",
       "      <td>NaN</td>\n",
       "      <td>female</td>\n",
       "      <td>3980</td>\n",
       "      <td>40+5</td>\n",
       "      <td>NaN</td>\n",
       "      <td>NaN</td>\n",
       "      <td>LIVEBIRTH</td>\n",
       "      <td>NaN</td>\n",
       "    </tr>\n",
       "    <tr>\n",
       "      <th>2</th>\n",
       "      <td>BRA003</td>\n",
       "      <td>19/08/2019</td>\n",
       "      <td>Y</td>\n",
       "      <td>NaN</td>\n",
       "      <td>female</td>\n",
       "      <td>2960</td>\n",
       "      <td>38</td>\n",
       "      <td>NaN</td>\n",
       "      <td>NaN</td>\n",
       "      <td>LIVEBIRTH</td>\n",
       "      <td>NaN</td>\n",
       "    </tr>\n",
       "    <tr>\n",
       "      <th>3</th>\n",
       "      <td>BRA004</td>\n",
       "      <td>24/08/2019</td>\n",
       "      <td>NaN</td>\n",
       "      <td>Y</td>\n",
       "      <td>Male</td>\n",
       "      <td>3400</td>\n",
       "      <td>39+3</td>\n",
       "      <td>NaN</td>\n",
       "      <td>NaN</td>\n",
       "      <td>LIVEBIRTH</td>\n",
       "      <td>NaN</td>\n",
       "    </tr>\n",
       "    <tr>\n",
       "      <th>4</th>\n",
       "      <td>BRA005</td>\n",
       "      <td>10/10/2019</td>\n",
       "      <td>Y</td>\n",
       "      <td>NaN</td>\n",
       "      <td>Female</td>\n",
       "      <td>3330</td>\n",
       "      <td>38+2</td>\n",
       "      <td>NaN</td>\n",
       "      <td>NaN</td>\n",
       "      <td>LIVEBIRTH</td>\n",
       "      <td>NaN</td>\n",
       "    </tr>\n",
       "  </tbody>\n",
       "</table>\n",
       "</div>"
      ],
      "text/plain": [
       "  Participant ID DATE OF BIRTH VAGINAL BIRTH CESARIAN BIRTH     SEX  \\\n",
       "0         BRA001    10/11/2019             Y            NaN  female   \n",
       "1         BRA002    02/09/2019             Y            NaN  female   \n",
       "2         BRA003    19/08/2019             Y            NaN  female   \n",
       "3         BRA004    24/08/2019           NaN              Y    Male   \n",
       "4         BRA005    10/10/2019             Y            NaN  Female   \n",
       "\n",
       "   WEIGHT (grms) Gestational age at delivery (weeks)  \\\n",
       "0           3490                                40+1   \n",
       "1           3980                                40+5   \n",
       "2           2960                                  38   \n",
       "3           3400                                39+3   \n",
       "4           3330                                38+2   \n",
       "\n",
       "   Large for gestational age (>90th centile)  \\\n",
       "0                                        NaN   \n",
       "1                                        NaN   \n",
       "2                                        NaN   \n",
       "3                                        NaN   \n",
       "4                                        NaN   \n",
       "\n",
       "   Small for gestational age (<10th centile)  \\\n",
       "0                                        NaN   \n",
       "1                                        NaN   \n",
       "2                                        NaN   \n",
       "3                                        NaN   \n",
       "4                                        NaN   \n",
       "\n",
       "  Outcome of Birth: LIVEBIRTH or STILLBIRTH Extra Information  \n",
       "0                                 LIVEBIRTH               NaN  \n",
       "1                                 LIVEBIRTH               NaN  \n",
       "2                                 LIVEBIRTH               NaN  \n",
       "3                                 LIVEBIRTH               NaN  \n",
       "4                                 LIVEBIRTH               NaN  "
      ]
     },
     "execution_count": 132,
     "metadata": {},
     "output_type": "execute_result"
    }
   ],
   "source": [
    "foetal_df.head()"
   ]
  },
  {
   "cell_type": "code",
   "execution_count": 133,
   "metadata": {},
   "outputs": [],
   "source": [
    "# drop extra information column for now\n",
    "foetal_df = foetal_df.drop(columns={'Extra Information'})"
   ]
  },
  {
   "cell_type": "code",
   "execution_count": 134,
   "metadata": {},
   "outputs": [],
   "source": [
    "# fill blanks with 'NO'\n",
    "# make yes and no capital similar to demographics.csv\n",
    "\n",
    "foetal_df['VAGINAL BIRTH'] = foetal_df['VAGINAL BIRTH'].replace('(?i)y', 'YES', regex=True)\n",
    "foetal_df['VAGINAL BIRTH']=foetal_df['VAGINAL BIRTH'].fillna('NO')\n",
    "\n",
    "foetal_df['CESARIAN BIRTH'] = foetal_df['CESARIAN BIRTH'].replace('(?i)y', 'YES', regex=True)\n",
    "foetal_df['CESARIAN BIRTH']=foetal_df['CESARIAN BIRTH'].fillna('NO')\n"
   ]
  },
  {
   "cell_type": "code",
   "execution_count": 135,
   "metadata": {},
   "outputs": [
    {
     "data": {
      "text/html": [
       "<div>\n",
       "<style scoped>\n",
       "    .dataframe tbody tr th:only-of-type {\n",
       "        vertical-align: middle;\n",
       "    }\n",
       "\n",
       "    .dataframe tbody tr th {\n",
       "        vertical-align: top;\n",
       "    }\n",
       "\n",
       "    .dataframe thead th {\n",
       "        text-align: right;\n",
       "    }\n",
       "</style>\n",
       "<table border=\"1\" class=\"dataframe\">\n",
       "  <thead>\n",
       "    <tr style=\"text-align: right;\">\n",
       "      <th></th>\n",
       "      <th>Participant ID</th>\n",
       "      <th>DATE OF BIRTH</th>\n",
       "      <th>VAGINAL BIRTH</th>\n",
       "      <th>CESARIAN BIRTH</th>\n",
       "      <th>SEX</th>\n",
       "      <th>WEIGHT (grms)</th>\n",
       "      <th>Gestational age at delivery (weeks)</th>\n",
       "      <th>Large for gestational age (&gt;90th centile)</th>\n",
       "      <th>Small for gestational age (&lt;10th centile)</th>\n",
       "      <th>Outcome of Birth: LIVEBIRTH or STILLBIRTH</th>\n",
       "    </tr>\n",
       "  </thead>\n",
       "  <tbody>\n",
       "    <tr>\n",
       "      <th>0</th>\n",
       "      <td>BRA001</td>\n",
       "      <td>10/11/2019</td>\n",
       "      <td>YES</td>\n",
       "      <td>NO</td>\n",
       "      <td>female</td>\n",
       "      <td>3490</td>\n",
       "      <td>40+1</td>\n",
       "      <td>NaN</td>\n",
       "      <td>NaN</td>\n",
       "      <td>LIVEBIRTH</td>\n",
       "    </tr>\n",
       "    <tr>\n",
       "      <th>1</th>\n",
       "      <td>BRA002</td>\n",
       "      <td>02/09/2019</td>\n",
       "      <td>YES</td>\n",
       "      <td>NO</td>\n",
       "      <td>female</td>\n",
       "      <td>3980</td>\n",
       "      <td>40+5</td>\n",
       "      <td>NaN</td>\n",
       "      <td>NaN</td>\n",
       "      <td>LIVEBIRTH</td>\n",
       "    </tr>\n",
       "    <tr>\n",
       "      <th>2</th>\n",
       "      <td>BRA003</td>\n",
       "      <td>19/08/2019</td>\n",
       "      <td>YES</td>\n",
       "      <td>NO</td>\n",
       "      <td>female</td>\n",
       "      <td>2960</td>\n",
       "      <td>38</td>\n",
       "      <td>NaN</td>\n",
       "      <td>NaN</td>\n",
       "      <td>LIVEBIRTH</td>\n",
       "    </tr>\n",
       "    <tr>\n",
       "      <th>3</th>\n",
       "      <td>BRA004</td>\n",
       "      <td>24/08/2019</td>\n",
       "      <td>NO</td>\n",
       "      <td>YES</td>\n",
       "      <td>Male</td>\n",
       "      <td>3400</td>\n",
       "      <td>39+3</td>\n",
       "      <td>NaN</td>\n",
       "      <td>NaN</td>\n",
       "      <td>LIVEBIRTH</td>\n",
       "    </tr>\n",
       "    <tr>\n",
       "      <th>4</th>\n",
       "      <td>BRA005</td>\n",
       "      <td>10/10/2019</td>\n",
       "      <td>YES</td>\n",
       "      <td>NO</td>\n",
       "      <td>Female</td>\n",
       "      <td>3330</td>\n",
       "      <td>38+2</td>\n",
       "      <td>NaN</td>\n",
       "      <td>NaN</td>\n",
       "      <td>LIVEBIRTH</td>\n",
       "    </tr>\n",
       "  </tbody>\n",
       "</table>\n",
       "</div>"
      ],
      "text/plain": [
       "  Participant ID DATE OF BIRTH VAGINAL BIRTH CESARIAN BIRTH     SEX  \\\n",
       "0         BRA001    10/11/2019           YES             NO  female   \n",
       "1         BRA002    02/09/2019           YES             NO  female   \n",
       "2         BRA003    19/08/2019           YES             NO  female   \n",
       "3         BRA004    24/08/2019            NO            YES    Male   \n",
       "4         BRA005    10/10/2019           YES             NO  Female   \n",
       "\n",
       "   WEIGHT (grms) Gestational age at delivery (weeks)  \\\n",
       "0           3490                                40+1   \n",
       "1           3980                                40+5   \n",
       "2           2960                                  38   \n",
       "3           3400                                39+3   \n",
       "4           3330                                38+2   \n",
       "\n",
       "   Large for gestational age (>90th centile)  \\\n",
       "0                                        NaN   \n",
       "1                                        NaN   \n",
       "2                                        NaN   \n",
       "3                                        NaN   \n",
       "4                                        NaN   \n",
       "\n",
       "   Small for gestational age (<10th centile)  \\\n",
       "0                                        NaN   \n",
       "1                                        NaN   \n",
       "2                                        NaN   \n",
       "3                                        NaN   \n",
       "4                                        NaN   \n",
       "\n",
       "  Outcome of Birth: LIVEBIRTH or STILLBIRTH  \n",
       "0                                 LIVEBIRTH  \n",
       "1                                 LIVEBIRTH  \n",
       "2                                 LIVEBIRTH  \n",
       "3                                 LIVEBIRTH  \n",
       "4                                 LIVEBIRTH  "
      ]
     },
     "execution_count": 135,
     "metadata": {},
     "output_type": "execute_result"
    }
   ],
   "source": [
    "foetal_df.head()"
   ]
  },
  {
   "cell_type": "code",
   "execution_count": 136,
   "metadata": {},
   "outputs": [
    {
     "name": "stdout",
     "output_type": "stream",
     "text": [
      "['YES' 'NO']\n",
      "['NO' 'YES']\n"
     ]
    }
   ],
   "source": [
    "print(foetal_df['VAGINAL BIRTH'].unique())\n",
    "print(foetal_df['CESARIAN BIRTH'].unique())\n"
   ]
  },
  {
   "cell_type": "code",
   "execution_count": 137,
   "metadata": {},
   "outputs": [
    {
     "data": {
      "text/plain": [
       "array(['female', 'Male', 'Female', 'male'], dtype=object)"
      ]
     },
     "execution_count": 137,
     "metadata": {},
     "output_type": "execute_result"
    }
   ],
   "source": [
    "# change SEX to only M, F\n",
    "foetal_df['SEX'].unique()"
   ]
  },
  {
   "cell_type": "code",
   "execution_count": 138,
   "metadata": {},
   "outputs": [],
   "source": [
    "foetal_df['SEX'] = np.where(foetal_df['SEX'].str.contains('female',case = False),\n",
    "                     'F', \n",
    "                     'M')"
   ]
  },
  {
   "cell_type": "code",
   "execution_count": 139,
   "metadata": {},
   "outputs": [
    {
     "data": {
      "text/plain": [
       "array(['F', 'M'], dtype=object)"
      ]
     },
     "execution_count": 139,
     "metadata": {},
     "output_type": "execute_result"
    }
   ],
   "source": [
    "foetal_df['SEX'].unique()"
   ]
  },
  {
   "cell_type": "code",
   "execution_count": 140,
   "metadata": {},
   "outputs": [
    {
     "data": {
      "text/plain": [
       "0      40\n",
       "1      40\n",
       "2      38\n",
       "3      39\n",
       "4      38\n",
       "       ..\n",
       "195    39\n",
       "196    38\n",
       "197    38\n",
       "198    38\n",
       "199    36\n",
       "Name: Gestational age at delivery (weeks), Length: 200, dtype: object"
      ]
     },
     "execution_count": 140,
     "metadata": {},
     "output_type": "execute_result"
    }
   ],
   "source": [
    "# make Gestational age at delivery (weeks) full weeks only\n",
    "substring = (foetal_df[\"Gestational age at delivery (weeks)\"].str.split(\"+\", n = 1, expand = True))\n",
    "foetal_df[\"Gestational age at delivery (weeks)\"] = substring[0]\n",
    "foetal_df[\"Gestational age at delivery (weeks)\"]"
   ]
  },
  {
   "cell_type": "code",
   "execution_count": 141,
   "metadata": {},
   "outputs": [
    {
     "data": {
      "text/html": [
       "<div>\n",
       "<style scoped>\n",
       "    .dataframe tbody tr th:only-of-type {\n",
       "        vertical-align: middle;\n",
       "    }\n",
       "\n",
       "    .dataframe tbody tr th {\n",
       "        vertical-align: top;\n",
       "    }\n",
       "\n",
       "    .dataframe thead th {\n",
       "        text-align: right;\n",
       "    }\n",
       "</style>\n",
       "<table border=\"1\" class=\"dataframe\">\n",
       "  <thead>\n",
       "    <tr style=\"text-align: right;\">\n",
       "      <th></th>\n",
       "      <th>Participant ID</th>\n",
       "      <th>DATE OF BIRTH</th>\n",
       "      <th>VAGINAL BIRTH</th>\n",
       "      <th>CESARIAN BIRTH</th>\n",
       "      <th>SEX</th>\n",
       "      <th>WEIGHT (grms)</th>\n",
       "      <th>Gestational age at delivery (weeks)</th>\n",
       "      <th>Large for gestational age (&gt;90th centile)</th>\n",
       "      <th>Small for gestational age (&lt;10th centile)</th>\n",
       "      <th>Outcome of Birth: LIVEBIRTH or STILLBIRTH</th>\n",
       "    </tr>\n",
       "  </thead>\n",
       "  <tbody>\n",
       "    <tr>\n",
       "      <th>0</th>\n",
       "      <td>BRA001</td>\n",
       "      <td>10/11/2019</td>\n",
       "      <td>YES</td>\n",
       "      <td>NO</td>\n",
       "      <td>F</td>\n",
       "      <td>3490</td>\n",
       "      <td>40</td>\n",
       "      <td>NaN</td>\n",
       "      <td>NaN</td>\n",
       "      <td>LIVEBIRTH</td>\n",
       "    </tr>\n",
       "    <tr>\n",
       "      <th>1</th>\n",
       "      <td>BRA002</td>\n",
       "      <td>02/09/2019</td>\n",
       "      <td>YES</td>\n",
       "      <td>NO</td>\n",
       "      <td>F</td>\n",
       "      <td>3980</td>\n",
       "      <td>40</td>\n",
       "      <td>NaN</td>\n",
       "      <td>NaN</td>\n",
       "      <td>LIVEBIRTH</td>\n",
       "    </tr>\n",
       "    <tr>\n",
       "      <th>2</th>\n",
       "      <td>BRA003</td>\n",
       "      <td>19/08/2019</td>\n",
       "      <td>YES</td>\n",
       "      <td>NO</td>\n",
       "      <td>F</td>\n",
       "      <td>2960</td>\n",
       "      <td>38</td>\n",
       "      <td>NaN</td>\n",
       "      <td>NaN</td>\n",
       "      <td>LIVEBIRTH</td>\n",
       "    </tr>\n",
       "    <tr>\n",
       "      <th>3</th>\n",
       "      <td>BRA004</td>\n",
       "      <td>24/08/2019</td>\n",
       "      <td>NO</td>\n",
       "      <td>YES</td>\n",
       "      <td>M</td>\n",
       "      <td>3400</td>\n",
       "      <td>39</td>\n",
       "      <td>NaN</td>\n",
       "      <td>NaN</td>\n",
       "      <td>LIVEBIRTH</td>\n",
       "    </tr>\n",
       "    <tr>\n",
       "      <th>4</th>\n",
       "      <td>BRA005</td>\n",
       "      <td>10/10/2019</td>\n",
       "      <td>YES</td>\n",
       "      <td>NO</td>\n",
       "      <td>F</td>\n",
       "      <td>3330</td>\n",
       "      <td>38</td>\n",
       "      <td>NaN</td>\n",
       "      <td>NaN</td>\n",
       "      <td>LIVEBIRTH</td>\n",
       "    </tr>\n",
       "  </tbody>\n",
       "</table>\n",
       "</div>"
      ],
      "text/plain": [
       "  Participant ID DATE OF BIRTH VAGINAL BIRTH CESARIAN BIRTH SEX  \\\n",
       "0         BRA001    10/11/2019           YES             NO   F   \n",
       "1         BRA002    02/09/2019           YES             NO   F   \n",
       "2         BRA003    19/08/2019           YES             NO   F   \n",
       "3         BRA004    24/08/2019            NO            YES   M   \n",
       "4         BRA005    10/10/2019           YES             NO   F   \n",
       "\n",
       "   WEIGHT (grms) Gestational age at delivery (weeks)  \\\n",
       "0           3490                                  40   \n",
       "1           3980                                  40   \n",
       "2           2960                                  38   \n",
       "3           3400                                  39   \n",
       "4           3330                                  38   \n",
       "\n",
       "   Large for gestational age (>90th centile)  \\\n",
       "0                                        NaN   \n",
       "1                                        NaN   \n",
       "2                                        NaN   \n",
       "3                                        NaN   \n",
       "4                                        NaN   \n",
       "\n",
       "   Small for gestational age (<10th centile)  \\\n",
       "0                                        NaN   \n",
       "1                                        NaN   \n",
       "2                                        NaN   \n",
       "3                                        NaN   \n",
       "4                                        NaN   \n",
       "\n",
       "  Outcome of Birth: LIVEBIRTH or STILLBIRTH  \n",
       "0                                 LIVEBIRTH  \n",
       "1                                 LIVEBIRTH  \n",
       "2                                 LIVEBIRTH  \n",
       "3                                 LIVEBIRTH  \n",
       "4                                 LIVEBIRTH  "
      ]
     },
     "execution_count": 141,
     "metadata": {},
     "output_type": "execute_result"
    }
   ],
   "source": [
    "foetal_df.head()"
   ]
  },
  {
   "cell_type": "code",
   "execution_count": 142,
   "metadata": {},
   "outputs": [],
   "source": [
    "# change DATE OF BIRTH to datetime\n",
    "foetal_df['DATE OF BIRTH'] = pd.to_datetime(foetal_df['DATE OF BIRTH'], dayfirst=True)"
   ]
  },
  {
   "cell_type": "code",
   "execution_count": 143,
   "metadata": {},
   "outputs": [
    {
     "name": "stdout",
     "output_type": "stream",
     "text": [
      "<class 'pandas.core.frame.DataFrame'>\n",
      "RangeIndex: 200 entries, 0 to 199\n",
      "Data columns (total 10 columns):\n",
      " #   Column                                     Non-Null Count  Dtype         \n",
      "---  ------                                     --------------  -----         \n",
      " 0   Participant ID                             200 non-null    object        \n",
      " 1   DATE OF BIRTH                              200 non-null    datetime64[ns]\n",
      " 2   VAGINAL BIRTH                              200 non-null    object        \n",
      " 3   CESARIAN BIRTH                             200 non-null    object        \n",
      " 4   SEX                                        200 non-null    object        \n",
      " 5   WEIGHT (grms)                              200 non-null    int64         \n",
      " 6   Gestational age at delivery (weeks)        200 non-null    object        \n",
      " 7   Large for gestational age (>90th centile)  0 non-null      float64       \n",
      " 8   Small for gestational age (<10th centile)  0 non-null      float64       \n",
      " 9   Outcome of Birth: LIVEBIRTH or STILLBIRTH  200 non-null    object        \n",
      "dtypes: datetime64[ns](1), float64(2), int64(1), object(6)\n",
      "memory usage: 15.8+ KB\n"
     ]
    }
   ],
   "source": [
    "foetal_df.info()"
   ]
  },
  {
   "cell_type": "code",
   "execution_count": 144,
   "metadata": {},
   "outputs": [
    {
     "data": {
      "text/html": [
       "<div>\n",
       "<style scoped>\n",
       "    .dataframe tbody tr th:only-of-type {\n",
       "        vertical-align: middle;\n",
       "    }\n",
       "\n",
       "    .dataframe tbody tr th {\n",
       "        vertical-align: top;\n",
       "    }\n",
       "\n",
       "    .dataframe thead th {\n",
       "        text-align: right;\n",
       "    }\n",
       "</style>\n",
       "<table border=\"1\" class=\"dataframe\">\n",
       "  <thead>\n",
       "    <tr style=\"text-align: right;\">\n",
       "      <th></th>\n",
       "      <th>Participant ID</th>\n",
       "      <th>DATE OF BIRTH</th>\n",
       "      <th>VAGINAL BIRTH</th>\n",
       "      <th>CESARIAN BIRTH</th>\n",
       "      <th>SEX</th>\n",
       "      <th>WEIGHT (grms)</th>\n",
       "      <th>Gestational age at delivery (weeks)</th>\n",
       "      <th>Large for gestational age (&gt;90th centile)</th>\n",
       "      <th>Small for gestational age (&lt;10th centile)</th>\n",
       "      <th>Outcome of Birth: LIVEBIRTH or STILLBIRTH</th>\n",
       "    </tr>\n",
       "  </thead>\n",
       "  <tbody>\n",
       "    <tr>\n",
       "      <th>0</th>\n",
       "      <td>BRA001</td>\n",
       "      <td>2019-11-10</td>\n",
       "      <td>YES</td>\n",
       "      <td>NO</td>\n",
       "      <td>F</td>\n",
       "      <td>3490</td>\n",
       "      <td>40</td>\n",
       "      <td>NaN</td>\n",
       "      <td>NaN</td>\n",
       "      <td>LIVEBIRTH</td>\n",
       "    </tr>\n",
       "    <tr>\n",
       "      <th>1</th>\n",
       "      <td>BRA002</td>\n",
       "      <td>2019-09-02</td>\n",
       "      <td>YES</td>\n",
       "      <td>NO</td>\n",
       "      <td>F</td>\n",
       "      <td>3980</td>\n",
       "      <td>40</td>\n",
       "      <td>NaN</td>\n",
       "      <td>NaN</td>\n",
       "      <td>LIVEBIRTH</td>\n",
       "    </tr>\n",
       "    <tr>\n",
       "      <th>2</th>\n",
       "      <td>BRA003</td>\n",
       "      <td>2019-08-19</td>\n",
       "      <td>YES</td>\n",
       "      <td>NO</td>\n",
       "      <td>F</td>\n",
       "      <td>2960</td>\n",
       "      <td>38</td>\n",
       "      <td>NaN</td>\n",
       "      <td>NaN</td>\n",
       "      <td>LIVEBIRTH</td>\n",
       "    </tr>\n",
       "    <tr>\n",
       "      <th>3</th>\n",
       "      <td>BRA004</td>\n",
       "      <td>2019-08-24</td>\n",
       "      <td>NO</td>\n",
       "      <td>YES</td>\n",
       "      <td>M</td>\n",
       "      <td>3400</td>\n",
       "      <td>39</td>\n",
       "      <td>NaN</td>\n",
       "      <td>NaN</td>\n",
       "      <td>LIVEBIRTH</td>\n",
       "    </tr>\n",
       "    <tr>\n",
       "      <th>4</th>\n",
       "      <td>BRA005</td>\n",
       "      <td>2019-10-10</td>\n",
       "      <td>YES</td>\n",
       "      <td>NO</td>\n",
       "      <td>F</td>\n",
       "      <td>3330</td>\n",
       "      <td>38</td>\n",
       "      <td>NaN</td>\n",
       "      <td>NaN</td>\n",
       "      <td>LIVEBIRTH</td>\n",
       "    </tr>\n",
       "  </tbody>\n",
       "</table>\n",
       "</div>"
      ],
      "text/plain": [
       "  Participant ID DATE OF BIRTH VAGINAL BIRTH CESARIAN BIRTH SEX  \\\n",
       "0         BRA001    2019-11-10           YES             NO   F   \n",
       "1         BRA002    2019-09-02           YES             NO   F   \n",
       "2         BRA003    2019-08-19           YES             NO   F   \n",
       "3         BRA004    2019-08-24            NO            YES   M   \n",
       "4         BRA005    2019-10-10           YES             NO   F   \n",
       "\n",
       "   WEIGHT (grms) Gestational age at delivery (weeks)  \\\n",
       "0           3490                                  40   \n",
       "1           3980                                  40   \n",
       "2           2960                                  38   \n",
       "3           3400                                  39   \n",
       "4           3330                                  38   \n",
       "\n",
       "   Large for gestational age (>90th centile)  \\\n",
       "0                                        NaN   \n",
       "1                                        NaN   \n",
       "2                                        NaN   \n",
       "3                                        NaN   \n",
       "4                                        NaN   \n",
       "\n",
       "   Small for gestational age (<10th centile)  \\\n",
       "0                                        NaN   \n",
       "1                                        NaN   \n",
       "2                                        NaN   \n",
       "3                                        NaN   \n",
       "4                                        NaN   \n",
       "\n",
       "  Outcome of Birth: LIVEBIRTH or STILLBIRTH  \n",
       "0                                 LIVEBIRTH  \n",
       "1                                 LIVEBIRTH  \n",
       "2                                 LIVEBIRTH  \n",
       "3                                 LIVEBIRTH  \n",
       "4                                 LIVEBIRTH  "
      ]
     },
     "execution_count": 144,
     "metadata": {},
     "output_type": "execute_result"
    }
   ],
   "source": [
    "foetal_df.head()"
   ]
  },
  {
   "cell_type": "code",
   "execution_count": 145,
   "metadata": {},
   "outputs": [
    {
     "data": {
      "text/plain": [
       "array(['LIVEBIRTH', 'STILLBIRTH'], dtype=object)"
      ]
     },
     "execution_count": 145,
     "metadata": {},
     "output_type": "execute_result"
    }
   ],
   "source": [
    "foetal_df['Outcome of Birth: LIVEBIRTH or STILLBIRTH'].unique()"
   ]
  },
  {
   "cell_type": "code",
   "execution_count": 146,
   "metadata": {},
   "outputs": [],
   "source": [
    "# Rename features\n",
    "\n",
    "foetal_df = foetal_df.rename (columns={\"DATE OF BIRTH\":\"foetalDOB\",\"VAGINAL BIRTH\":\"vaginalBirth\", \n",
    "                                       \"CESARIAN BIRTH\": \"caesareanBirth\", \"SEX\": \"foetalSex\", \"WEIGHT (grms)\":\"foetalWeightInGrams\",\n",
    "                                      \"Gestational age at delivery (weeks)\": \"gestationalAgeAtDeliveryInWeeks\",\n",
    "                                      \"Large for gestational age (>90th centile)\":\"lga\", \n",
    "                                       \"Small for gestational age (<10th centile)\":\"sga\",\n",
    "                                      \"Outcome of Birth: LIVEBIRTH or STILLBIRTH\": \"birthOutcome\"})"
   ]
  },
  {
   "cell_type": "code",
   "execution_count": 147,
   "metadata": {},
   "outputs": [
    {
     "data": {
      "text/html": [
       "<div>\n",
       "<style scoped>\n",
       "    .dataframe tbody tr th:only-of-type {\n",
       "        vertical-align: middle;\n",
       "    }\n",
       "\n",
       "    .dataframe tbody tr th {\n",
       "        vertical-align: top;\n",
       "    }\n",
       "\n",
       "    .dataframe thead th {\n",
       "        text-align: right;\n",
       "    }\n",
       "</style>\n",
       "<table border=\"1\" class=\"dataframe\">\n",
       "  <thead>\n",
       "    <tr style=\"text-align: right;\">\n",
       "      <th></th>\n",
       "      <th>Participant ID</th>\n",
       "      <th>foetalDOB</th>\n",
       "      <th>vaginalBirth</th>\n",
       "      <th>caesareanBirth</th>\n",
       "      <th>foetalSex</th>\n",
       "      <th>foetalWeightInGrams</th>\n",
       "      <th>gestationalAgeAtDeliveryInWeeks</th>\n",
       "      <th>lga</th>\n",
       "      <th>sga</th>\n",
       "      <th>birthOutcome</th>\n",
       "    </tr>\n",
       "  </thead>\n",
       "  <tbody>\n",
       "    <tr>\n",
       "      <th>0</th>\n",
       "      <td>BRA001</td>\n",
       "      <td>2019-11-10</td>\n",
       "      <td>YES</td>\n",
       "      <td>NO</td>\n",
       "      <td>F</td>\n",
       "      <td>3490</td>\n",
       "      <td>40</td>\n",
       "      <td>NaN</td>\n",
       "      <td>NaN</td>\n",
       "      <td>LIVEBIRTH</td>\n",
       "    </tr>\n",
       "    <tr>\n",
       "      <th>1</th>\n",
       "      <td>BRA002</td>\n",
       "      <td>2019-09-02</td>\n",
       "      <td>YES</td>\n",
       "      <td>NO</td>\n",
       "      <td>F</td>\n",
       "      <td>3980</td>\n",
       "      <td>40</td>\n",
       "      <td>NaN</td>\n",
       "      <td>NaN</td>\n",
       "      <td>LIVEBIRTH</td>\n",
       "    </tr>\n",
       "    <tr>\n",
       "      <th>2</th>\n",
       "      <td>BRA003</td>\n",
       "      <td>2019-08-19</td>\n",
       "      <td>YES</td>\n",
       "      <td>NO</td>\n",
       "      <td>F</td>\n",
       "      <td>2960</td>\n",
       "      <td>38</td>\n",
       "      <td>NaN</td>\n",
       "      <td>NaN</td>\n",
       "      <td>LIVEBIRTH</td>\n",
       "    </tr>\n",
       "    <tr>\n",
       "      <th>3</th>\n",
       "      <td>BRA004</td>\n",
       "      <td>2019-08-24</td>\n",
       "      <td>NO</td>\n",
       "      <td>YES</td>\n",
       "      <td>M</td>\n",
       "      <td>3400</td>\n",
       "      <td>39</td>\n",
       "      <td>NaN</td>\n",
       "      <td>NaN</td>\n",
       "      <td>LIVEBIRTH</td>\n",
       "    </tr>\n",
       "    <tr>\n",
       "      <th>4</th>\n",
       "      <td>BRA005</td>\n",
       "      <td>2019-10-10</td>\n",
       "      <td>YES</td>\n",
       "      <td>NO</td>\n",
       "      <td>F</td>\n",
       "      <td>3330</td>\n",
       "      <td>38</td>\n",
       "      <td>NaN</td>\n",
       "      <td>NaN</td>\n",
       "      <td>LIVEBIRTH</td>\n",
       "    </tr>\n",
       "  </tbody>\n",
       "</table>\n",
       "</div>"
      ],
      "text/plain": [
       "  Participant ID  foetalDOB vaginalBirth caesareanBirth foetalSex  \\\n",
       "0         BRA001 2019-11-10          YES             NO         F   \n",
       "1         BRA002 2019-09-02          YES             NO         F   \n",
       "2         BRA003 2019-08-19          YES             NO         F   \n",
       "3         BRA004 2019-08-24           NO            YES         M   \n",
       "4         BRA005 2019-10-10          YES             NO         F   \n",
       "\n",
       "   foetalWeightInGrams gestationalAgeAtDeliveryInWeeks  lga  sga birthOutcome  \n",
       "0                 3490                              40  NaN  NaN    LIVEBIRTH  \n",
       "1                 3980                              40  NaN  NaN    LIVEBIRTH  \n",
       "2                 2960                              38  NaN  NaN    LIVEBIRTH  \n",
       "3                 3400                              39  NaN  NaN    LIVEBIRTH  \n",
       "4                 3330                              38  NaN  NaN    LIVEBIRTH  "
      ]
     },
     "execution_count": 147,
     "metadata": {},
     "output_type": "execute_result"
    }
   ],
   "source": [
    "foetal_df.head()"
   ]
  },
  {
   "cell_type": "code",
   "execution_count": 148,
   "metadata": {},
   "outputs": [],
   "source": [
    "foetal_df.to_csv(\"foetal_cleaned.csv\", index=False)"
   ]
  },
  {
   "cell_type": "markdown",
   "metadata": {},
   "source": [
    "# MERGE ALL DATA IN ONE DATAFRAME"
   ]
  },
  {
   "cell_type": "code",
   "execution_count": 149,
   "metadata": {},
   "outputs": [
    {
     "name": "stdout",
     "output_type": "stream",
     "text": [
      "<class 'pandas.core.frame.DataFrame'>\n",
      "RangeIndex: 200 entries, 0 to 199\n",
      "Data columns (total 10 columns):\n",
      " #   Column          Non-Null Count  Dtype  \n",
      "---  ------          --------------  -----  \n",
      " 0   Participant ID  200 non-null    object \n",
      " 1   meanBG          200 non-null    float64\n",
      " 2   maxBG           200 non-null    float64\n",
      " 3   minBG           200 non-null    float64\n",
      " 4   varBG           198 non-null    float64\n",
      " 5   countBG         200 non-null    int64  \n",
      " 6   stdBG           198 non-null    float64\n",
      " 7   lowBG           200 non-null    float64\n",
      " 8   normalBG        200 non-null    float64\n",
      " 9   highBG          200 non-null    float64\n",
      "dtypes: float64(8), int64(1), object(1)\n",
      "memory usage: 15.8+ KB\n"
     ]
    }
   ],
   "source": [
    "# import BG summary data and rename columns\n",
    "bg_df = pd.read_csv('bloodGlucoseSummary.csv')\n",
    "bg_df=bg_df.rename(columns={\"patientID\":\"Participant ID\", \"mean\":\"meanBG\", \"max\":\"maxBG\"\n",
    "                           , \"min\":\"minBG\", \"var\":\"varBG\", \"count\":\"countBG\", \"std\":\"stdBG\"\n",
    "                           , \"low\":\"lowBG\", \"normal\":\"normalBG\", \"high\":\"highBG\"})\n",
    "bg_df.info()"
   ]
  },
  {
   "cell_type": "code",
   "execution_count": 151,
   "metadata": {},
   "outputs": [],
   "source": [
    "# Some PARTICIPANT IDs contain spaces at the end, which will prevent proper merging, to correct this remove these spaces as such\n",
    "\n",
    "#df[\"Participant ID\"] = df[\"Participant ID\"].str.rstrip()\n",
    "demo_df[\"Participant ID\"] = demo_df[\"Participant ID\"].str.rstrip()\n",
    "bg_df[\"Participant ID\"] = bg_df[\"Participant ID\"].str.rstrip()\n",
    "us_df[\"Participant ID\"] = us_df[\"Participant ID\"].str.rstrip()\n",
    "foetal_df[\"Participant ID\"] = foetal_df[\"Participant ID\"].str.rstrip()"
   ]
  },
  {
   "cell_type": "code",
   "execution_count": 152,
   "metadata": {},
   "outputs": [],
   "source": [
    "df = pd.merge(demo_df, bg_df, on=('Participant ID'),  how='left')\n",
    "df = pd.merge(df, us_df, on=('Participant ID'),  how='left')\n",
    "df = pd.merge(df, foetal_df, on=('Participant ID'),  how='left')\n"
   ]
  },
  {
   "cell_type": "code",
   "execution_count": 153,
   "metadata": {},
   "outputs": [
    {
     "name": "stdout",
     "output_type": "stream",
     "text": [
      "<class 'pandas.core.frame.DataFrame'>\n",
      "Int64Index: 200 entries, 0 to 199\n",
      "Data columns (total 57 columns):\n",
      " #   Column                           Non-Null Count  Dtype         \n",
      "---  ------                           --------------  -----         \n",
      " 0   Participant ID                   200 non-null    object        \n",
      " 1   GDMDiagnosisDate                 200 non-null    datetime64[ns]\n",
      " 2   estimatedDeliveryDate            200 non-null    datetime64[ns]\n",
      " 3   maternalAgeAtBirth               200 non-null    int64         \n",
      " 4   OGTTfasting                      200 non-null    float64       \n",
      " 5   OGTT2hour                        200 non-null    float64       \n",
      " 6   maternalWeightAtBooking          200 non-null    float64       \n",
      " 7   maternalHeight                   200 non-null    int64         \n",
      " 8   maternalBMIAtBooking             200 non-null    float64       \n",
      " 9   maternalWeight3rdTrimester       200 non-null    float64       \n",
      " 10  prevMacrosomia                   200 non-null    object        \n",
      " 11  eclampsiaFH                      200 non-null    object        \n",
      " 12  gestationalPre-eclampsia         200 non-null    object        \n",
      " 13  pcos                             200 non-null    object        \n",
      " 14  hypertensionFH                   200 non-null    object        \n",
      " 15  gestationalHypertension          200 non-null    object        \n",
      " 16  ethnicity                        200 non-null    object        \n",
      " 17  gestationalAgeAtGDMDiagnosis     200 non-null    object        \n",
      " 18  gravidity                        200 non-null    object        \n",
      " 19  parity                           200 non-null    object        \n",
      " 20  previousGDM                      200 non-null    object        \n",
      " 21  familyHistoryDiabetes            200 non-null    object        \n",
      " 22  familyHistoryGDM                 200 non-null    object        \n",
      " 23  GDMLifestyleGestWeek             200 non-null    object        \n",
      " 24  GDMDietGestWeek                  200 non-null    object        \n",
      " 25  GDMMetforminGestWeek             51 non-null     object        \n",
      " 26  GDMInsulinGestWeek               55 non-null     object        \n",
      " 27  metforminFlag                    200 non-null    object        \n",
      " 28  insulinFlag                      200 non-null    object        \n",
      " 29  meanBG                           200 non-null    float64       \n",
      " 30  maxBG                            200 non-null    float64       \n",
      " 31  minBG                            200 non-null    float64       \n",
      " 32  varBG                            198 non-null    float64       \n",
      " 33  countBG                          200 non-null    int64         \n",
      " 34  stdBG                            198 non-null    float64       \n",
      " 35  lowBG                            200 non-null    float64       \n",
      " 36  normalBG                         200 non-null    float64       \n",
      " 37  highBG                           200 non-null    float64       \n",
      " 38  meanAC                           200 non-null    float64       \n",
      " 39  maxAC                            200 non-null    float64       \n",
      " 40  minAC                            200 non-null    float64       \n",
      " 41  varAC                            199 non-null    float64       \n",
      " 42  rangeAC                          200 non-null    float64       \n",
      " 43  meanEFW                          200 non-null    float64       \n",
      " 44  maxEFW                           200 non-null    float64       \n",
      " 45  minEFW                           200 non-null    float64       \n",
      " 46  varEFW                           199 non-null    float64       \n",
      " 47  rangeEFW                         200 non-null    float64       \n",
      " 48  foetalDOB                        200 non-null    datetime64[ns]\n",
      " 49  vaginalBirth                     200 non-null    object        \n",
      " 50  caesareanBirth                   200 non-null    object        \n",
      " 51  foetalSex                        200 non-null    object        \n",
      " 52  foetalWeightInGrams              200 non-null    int64         \n",
      " 53  gestationalAgeAtDeliveryInWeeks  200 non-null    object        \n",
      " 54  lga                              0 non-null      float64       \n",
      " 55  sga                              0 non-null      float64       \n",
      " 56  birthOutcome                     200 non-null    object        \n",
      "dtypes: datetime64[ns](3), float64(25), int64(4), object(25)\n",
      "memory usage: 90.6+ KB\n"
     ]
    }
   ],
   "source": [
    "df.info()"
   ]
  },
  {
   "cell_type": "markdown",
   "metadata": {},
   "source": [
    "# convert all following to numeric:\n",
    "gravidity\n",
    "parity \n",
    "gestationalAgeAtDeliveryInWeeks \n",
    "GDMLifestyleGestWeek\n",
    "GDMDietGestWeek                  \n",
    "GDMMetforminGestWeek\n",
    "GDMInsulinGestWeek\n",
    "GestationalAgeAtGDMDiagnosis\n"
   ]
  },
  {
   "cell_type": "code",
   "execution_count": 154,
   "metadata": {},
   "outputs": [],
   "source": [
    "cols = [\"gravidity\", \"parity\", \"gestationalAgeAtDeliveryInWeeks\",\n",
    "        \"GDMLifestyleGestWeek\", \"GDMDietGestWeek\", \"GDMMetforminGestWeek\", \n",
    "        \"GDMInsulinGestWeek\", \"gestationalAgeAtGDMDiagnosis\"]\n",
    "df[cols] = df[cols].apply(pd.to_numeric, errors='coerce')"
   ]
  },
  {
   "cell_type": "code",
   "execution_count": 155,
   "metadata": {},
   "outputs": [
    {
     "name": "stdout",
     "output_type": "stream",
     "text": [
      "<class 'pandas.core.frame.DataFrame'>\n",
      "Int64Index: 200 entries, 0 to 199\n",
      "Data columns (total 57 columns):\n",
      " #   Column                           Non-Null Count  Dtype         \n",
      "---  ------                           --------------  -----         \n",
      " 0   Participant ID                   200 non-null    object        \n",
      " 1   GDMDiagnosisDate                 200 non-null    datetime64[ns]\n",
      " 2   estimatedDeliveryDate            200 non-null    datetime64[ns]\n",
      " 3   maternalAgeAtBirth               200 non-null    int64         \n",
      " 4   OGTTfasting                      200 non-null    float64       \n",
      " 5   OGTT2hour                        200 non-null    float64       \n",
      " 6   maternalWeightAtBooking          200 non-null    float64       \n",
      " 7   maternalHeight                   200 non-null    int64         \n",
      " 8   maternalBMIAtBooking             200 non-null    float64       \n",
      " 9   maternalWeight3rdTrimester       200 non-null    float64       \n",
      " 10  prevMacrosomia                   200 non-null    object        \n",
      " 11  eclampsiaFH                      200 non-null    object        \n",
      " 12  gestationalPre-eclampsia         200 non-null    object        \n",
      " 13  pcos                             200 non-null    object        \n",
      " 14  hypertensionFH                   200 non-null    object        \n",
      " 15  gestationalHypertension          200 non-null    object        \n",
      " 16  ethnicity                        200 non-null    object        \n",
      " 17  gestationalAgeAtGDMDiagnosis     200 non-null    int64         \n",
      " 18  gravidity                        200 non-null    int64         \n",
      " 19  parity                           200 non-null    int64         \n",
      " 20  previousGDM                      200 non-null    object        \n",
      " 21  familyHistoryDiabetes            200 non-null    object        \n",
      " 22  familyHistoryGDM                 200 non-null    object        \n",
      " 23  GDMLifestyleGestWeek             200 non-null    int64         \n",
      " 24  GDMDietGestWeek                  200 non-null    int64         \n",
      " 25  GDMMetforminGestWeek             51 non-null     float64       \n",
      " 26  GDMInsulinGestWeek               55 non-null     float64       \n",
      " 27  metforminFlag                    200 non-null    object        \n",
      " 28  insulinFlag                      200 non-null    object        \n",
      " 29  meanBG                           200 non-null    float64       \n",
      " 30  maxBG                            200 non-null    float64       \n",
      " 31  minBG                            200 non-null    float64       \n",
      " 32  varBG                            198 non-null    float64       \n",
      " 33  countBG                          200 non-null    int64         \n",
      " 34  stdBG                            198 non-null    float64       \n",
      " 35  lowBG                            200 non-null    float64       \n",
      " 36  normalBG                         200 non-null    float64       \n",
      " 37  highBG                           200 non-null    float64       \n",
      " 38  meanAC                           200 non-null    float64       \n",
      " 39  maxAC                            200 non-null    float64       \n",
      " 40  minAC                            200 non-null    float64       \n",
      " 41  varAC                            199 non-null    float64       \n",
      " 42  rangeAC                          200 non-null    float64       \n",
      " 43  meanEFW                          200 non-null    float64       \n",
      " 44  maxEFW                           200 non-null    float64       \n",
      " 45  minEFW                           200 non-null    float64       \n",
      " 46  varEFW                           199 non-null    float64       \n",
      " 47  rangeEFW                         200 non-null    float64       \n",
      " 48  foetalDOB                        200 non-null    datetime64[ns]\n",
      " 49  vaginalBirth                     200 non-null    object        \n",
      " 50  caesareanBirth                   200 non-null    object        \n",
      " 51  foetalSex                        200 non-null    object        \n",
      " 52  foetalWeightInGrams              200 non-null    int64         \n",
      " 53  gestationalAgeAtDeliveryInWeeks  200 non-null    int64         \n",
      " 54  lga                              0 non-null      float64       \n",
      " 55  sga                              0 non-null      float64       \n",
      " 56  birthOutcome                     200 non-null    object        \n",
      "dtypes: datetime64[ns](3), float64(27), int64(10), object(17)\n",
      "memory usage: 90.6+ KB\n"
     ]
    }
   ],
   "source": [
    "df.info()"
   ]
  },
  {
   "cell_type": "code",
   "execution_count": 156,
   "metadata": {},
   "outputs": [],
   "source": [
    "# remove 1 stillbirth\n",
    "df.drop(df.index[df['birthOutcome'] == 'STILLBIRTH'], inplace=True)\n",
    "\n",
    "# remove 3 premature infants <34 weeks\n",
    "df.drop(df.index[df['gestationalAgeAtDeliveryInWeeks'] < 34], inplace=True)"
   ]
  },
  {
   "cell_type": "code",
   "execution_count": 157,
   "metadata": {},
   "outputs": [
    {
     "name": "stdout",
     "output_type": "stream",
     "text": [
      "<class 'pandas.core.frame.DataFrame'>\n",
      "Int64Index: 196 entries, 0 to 199\n",
      "Data columns (total 57 columns):\n",
      " #   Column                           Non-Null Count  Dtype         \n",
      "---  ------                           --------------  -----         \n",
      " 0   Participant ID                   196 non-null    object        \n",
      " 1   GDMDiagnosisDate                 196 non-null    datetime64[ns]\n",
      " 2   estimatedDeliveryDate            196 non-null    datetime64[ns]\n",
      " 3   maternalAgeAtBirth               196 non-null    int64         \n",
      " 4   OGTTfasting                      196 non-null    float64       \n",
      " 5   OGTT2hour                        196 non-null    float64       \n",
      " 6   maternalWeightAtBooking          196 non-null    float64       \n",
      " 7   maternalHeight                   196 non-null    int64         \n",
      " 8   maternalBMIAtBooking             196 non-null    float64       \n",
      " 9   maternalWeight3rdTrimester       196 non-null    float64       \n",
      " 10  prevMacrosomia                   196 non-null    object        \n",
      " 11  eclampsiaFH                      196 non-null    object        \n",
      " 12  gestationalPre-eclampsia         196 non-null    object        \n",
      " 13  pcos                             196 non-null    object        \n",
      " 14  hypertensionFH                   196 non-null    object        \n",
      " 15  gestationalHypertension          196 non-null    object        \n",
      " 16  ethnicity                        196 non-null    object        \n",
      " 17  gestationalAgeAtGDMDiagnosis     196 non-null    int64         \n",
      " 18  gravidity                        196 non-null    int64         \n",
      " 19  parity                           196 non-null    int64         \n",
      " 20  previousGDM                      196 non-null    object        \n",
      " 21  familyHistoryDiabetes            196 non-null    object        \n",
      " 22  familyHistoryGDM                 196 non-null    object        \n",
      " 23  GDMLifestyleGestWeek             196 non-null    int64         \n",
      " 24  GDMDietGestWeek                  196 non-null    int64         \n",
      " 25  GDMMetforminGestWeek             51 non-null     float64       \n",
      " 26  GDMInsulinGestWeek               53 non-null     float64       \n",
      " 27  metforminFlag                    196 non-null    object        \n",
      " 28  insulinFlag                      196 non-null    object        \n",
      " 29  meanBG                           196 non-null    float64       \n",
      " 30  maxBG                            196 non-null    float64       \n",
      " 31  minBG                            196 non-null    float64       \n",
      " 32  varBG                            194 non-null    float64       \n",
      " 33  countBG                          196 non-null    int64         \n",
      " 34  stdBG                            194 non-null    float64       \n",
      " 35  lowBG                            196 non-null    float64       \n",
      " 36  normalBG                         196 non-null    float64       \n",
      " 37  highBG                           196 non-null    float64       \n",
      " 38  meanAC                           196 non-null    float64       \n",
      " 39  maxAC                            196 non-null    float64       \n",
      " 40  minAC                            196 non-null    float64       \n",
      " 41  varAC                            195 non-null    float64       \n",
      " 42  rangeAC                          196 non-null    float64       \n",
      " 43  meanEFW                          196 non-null    float64       \n",
      " 44  maxEFW                           196 non-null    float64       \n",
      " 45  minEFW                           196 non-null    float64       \n",
      " 46  varEFW                           195 non-null    float64       \n",
      " 47  rangeEFW                         196 non-null    float64       \n",
      " 48  foetalDOB                        196 non-null    datetime64[ns]\n",
      " 49  vaginalBirth                     196 non-null    object        \n",
      " 50  caesareanBirth                   196 non-null    object        \n",
      " 51  foetalSex                        196 non-null    object        \n",
      " 52  foetalWeightInGrams              196 non-null    int64         \n",
      " 53  gestationalAgeAtDeliveryInWeeks  196 non-null    int64         \n",
      " 54  lga                              0 non-null      float64       \n",
      " 55  sga                              0 non-null      float64       \n",
      " 56  birthOutcome                     196 non-null    object        \n",
      "dtypes: datetime64[ns](3), float64(27), int64(10), object(17)\n",
      "memory usage: 88.8+ KB\n"
     ]
    }
   ],
   "source": [
    "df.info()\n",
    "# 196 records remaining, 4 removed"
   ]
  },
  {
   "cell_type": "code",
   "execution_count": 158,
   "metadata": {},
   "outputs": [],
   "source": [
    "df.to_csv(\"nhsDataFinal.csv\", index=False)\n",
    "\n",
    "# determine LGA infants\n",
    "# drop features after prediction point (max 38 weeks)"
   ]
  },
  {
   "cell_type": "code",
   "execution_count": 4,
   "metadata": {},
   "outputs": [],
   "source": [
    "df= pd.read_csv('nhsDataFinal.csv')\n"
   ]
  },
  {
   "cell_type": "code",
   "execution_count": 5,
   "metadata": {},
   "outputs": [
    {
     "data": {
      "text/plain": [
       "1"
      ]
     },
     "execution_count": 5,
     "metadata": {},
     "output_type": "execute_result"
    }
   ],
   "source": [
    "df['countBG'].min()"
   ]
  },
  {
   "cell_type": "code",
   "execution_count": 6,
   "metadata": {},
   "outputs": [
    {
     "data": {
      "text/plain": [
       "561"
      ]
     },
     "execution_count": 6,
     "metadata": {},
     "output_type": "execute_result"
    }
   ],
   "source": [
    "df['countBG'].max()"
   ]
  },
  {
   "cell_type": "code",
   "execution_count": null,
   "metadata": {},
   "outputs": [],
   "source": [
    "# FILL IN LGA FIELD"
   ]
  }
 ],
 "metadata": {
  "kernelspec": {
   "display_name": "Python 3 (ipykernel)",
   "language": "python",
   "name": "python3"
  },
  "language_info": {
   "codemirror_mode": {
    "name": "ipython",
    "version": 3
   },
   "file_extension": ".py",
   "mimetype": "text/x-python",
   "name": "python",
   "nbconvert_exporter": "python",
   "pygments_lexer": "ipython3",
   "version": "3.7.6"
  }
 },
 "nbformat": 4,
 "nbformat_minor": 4
}
