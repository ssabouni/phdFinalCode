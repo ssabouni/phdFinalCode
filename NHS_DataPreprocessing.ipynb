{
 "cells": [
  {
   "cell_type": "code",
   "execution_count": 1,
   "metadata": {},
   "outputs": [],
   "source": [
    "# Importing the libraries\n",
    "import numpy as np\n",
    "import pandas as pd\n",
    "from sklearn.compose import ColumnTransformer, make_column_selector as selector\n",
    "from sklearn.impute import KNNImputer\n",
    "from sklearn.preprocessing import StandardScaler, OneHotEncoder\n",
    "from sklearn.impute import SimpleImputer\n",
    "from sklearn.pipeline import Pipeline\n",
    "from sklearn.model_selection import train_test_split\n",
    "from sklearn.feature_selection import SelectKBest, f_classif, chi2, mutual_info_classif\n",
    "from matplotlib import pyplot\n",
    "from sklearn.linear_model import LinearRegression\n",
    "from sklearn.linear_model import LogisticRegression\n",
    "from sklearn.metrics import recall_score, precision_score, roc_auc_score\n",
    "from sklearn.svm import SVC\n",
    "from sklearn.model_selection import cross_val_score\n",
    "from sklearn.model_selection import GridSearchCV\n",
    "from sklearn.ensemble import AdaBoostClassifier"
   ]
  },
  {
   "cell_type": "code",
   "execution_count": 2,
   "metadata": {},
   "outputs": [
    {
     "name": "stdout",
     "output_type": "stream",
     "text": [
      "The scikit-learn version is 1.0.2.\n"
     ]
    }
   ],
   "source": [
    "import sklearn\n",
    "print('The scikit-learn version is {}.'.format(sklearn.__version__))"
   ]
  },
  {
   "cell_type": "code",
   "execution_count": 3,
   "metadata": {},
   "outputs": [],
   "source": [
    "df = pd.read_csv(\"nhsDataFinal_strictLGA.csv\")"
   ]
  },
  {
   "cell_type": "code",
   "execution_count": 4,
   "metadata": {},
   "outputs": [
    {
     "data": {
      "text/html": [
       "<div>\n",
       "<style scoped>\n",
       "    .dataframe tbody tr th:only-of-type {\n",
       "        vertical-align: middle;\n",
       "    }\n",
       "\n",
       "    .dataframe tbody tr th {\n",
       "        vertical-align: top;\n",
       "    }\n",
       "\n",
       "    .dataframe thead th {\n",
       "        text-align: right;\n",
       "    }\n",
       "</style>\n",
       "<table border=\"1\" class=\"dataframe\">\n",
       "  <thead>\n",
       "    <tr style=\"text-align: right;\">\n",
       "      <th></th>\n",
       "      <th>Participant ID</th>\n",
       "      <th>GDMDiagnosisDate</th>\n",
       "      <th>estimatedDeliveryDate</th>\n",
       "      <th>maternalAgeAtBirth</th>\n",
       "      <th>OGTTfasting</th>\n",
       "      <th>OGTT2hour</th>\n",
       "      <th>maternalWeightAtBooking</th>\n",
       "      <th>maternalHeight</th>\n",
       "      <th>maternalBMIAtBooking</th>\n",
       "      <th>maternalWeight3rdTrimester</th>\n",
       "      <th>...</th>\n",
       "      <th>AC_38Weeks</th>\n",
       "      <th>EFW_38Weeks</th>\n",
       "      <th>foetalDOB</th>\n",
       "      <th>vaginalBirth</th>\n",
       "      <th>caesareanBirth</th>\n",
       "      <th>foetalSex</th>\n",
       "      <th>foetalWeightInGrams</th>\n",
       "      <th>gestationalAgeAtDeliveryInWeeks</th>\n",
       "      <th>lga</th>\n",
       "      <th>birthOutcome</th>\n",
       "    </tr>\n",
       "  </thead>\n",
       "  <tbody>\n",
       "    <tr>\n",
       "      <th>0</th>\n",
       "      <td>BRA001</td>\n",
       "      <td>04/06/2019</td>\n",
       "      <td>12/11/2019</td>\n",
       "      <td>32</td>\n",
       "      <td>6.1</td>\n",
       "      <td>5.2</td>\n",
       "      <td>76.8</td>\n",
       "      <td>167</td>\n",
       "      <td>26.9</td>\n",
       "      <td>84.1</td>\n",
       "      <td>...</td>\n",
       "      <td>NaN</td>\n",
       "      <td>NaN</td>\n",
       "      <td>10/11/2019</td>\n",
       "      <td>YES</td>\n",
       "      <td>NO</td>\n",
       "      <td>F</td>\n",
       "      <td>3490</td>\n",
       "      <td>40</td>\n",
       "      <td>NO</td>\n",
       "      <td>LIVEBIRTH</td>\n",
       "    </tr>\n",
       "    <tr>\n",
       "      <th>1</th>\n",
       "      <td>BRA002</td>\n",
       "      <td>30/05/2019</td>\n",
       "      <td>31/08/2019</td>\n",
       "      <td>20</td>\n",
       "      <td>5.1</td>\n",
       "      <td>7.8</td>\n",
       "      <td>62.0</td>\n",
       "      <td>163</td>\n",
       "      <td>23.0</td>\n",
       "      <td>69.2</td>\n",
       "      <td>...</td>\n",
       "      <td>319.9</td>\n",
       "      <td>2927.0</td>\n",
       "      <td>02/09/2019</td>\n",
       "      <td>YES</td>\n",
       "      <td>NO</td>\n",
       "      <td>F</td>\n",
       "      <td>3980</td>\n",
       "      <td>40</td>\n",
       "      <td>NO</td>\n",
       "      <td>LIVEBIRTH</td>\n",
       "    </tr>\n",
       "    <tr>\n",
       "      <th>2</th>\n",
       "      <td>BRA003</td>\n",
       "      <td>03/06/2019</td>\n",
       "      <td>02/09/2019</td>\n",
       "      <td>32</td>\n",
       "      <td>6.6</td>\n",
       "      <td>10.4</td>\n",
       "      <td>84.0</td>\n",
       "      <td>159</td>\n",
       "      <td>33.2</td>\n",
       "      <td>93.5</td>\n",
       "      <td>...</td>\n",
       "      <td>328.7</td>\n",
       "      <td>3265.0</td>\n",
       "      <td>19/08/2019</td>\n",
       "      <td>YES</td>\n",
       "      <td>NO</td>\n",
       "      <td>F</td>\n",
       "      <td>2960</td>\n",
       "      <td>38</td>\n",
       "      <td>NO</td>\n",
       "      <td>LIVEBIRTH</td>\n",
       "    </tr>\n",
       "    <tr>\n",
       "      <th>3</th>\n",
       "      <td>BRA004</td>\n",
       "      <td>05/06/2019</td>\n",
       "      <td>08/09/2019</td>\n",
       "      <td>30</td>\n",
       "      <td>4.3</td>\n",
       "      <td>8.4</td>\n",
       "      <td>63.5</td>\n",
       "      <td>163</td>\n",
       "      <td>23.9</td>\n",
       "      <td>68.3</td>\n",
       "      <td>...</td>\n",
       "      <td>342.0</td>\n",
       "      <td>3271.0</td>\n",
       "      <td>24/08/2019</td>\n",
       "      <td>NO</td>\n",
       "      <td>YES</td>\n",
       "      <td>M</td>\n",
       "      <td>3400</td>\n",
       "      <td>39</td>\n",
       "      <td>NO</td>\n",
       "      <td>LIVEBIRTH</td>\n",
       "    </tr>\n",
       "    <tr>\n",
       "      <th>4</th>\n",
       "      <td>BRA005</td>\n",
       "      <td>10/06/2019</td>\n",
       "      <td>18/10/2019</td>\n",
       "      <td>39</td>\n",
       "      <td>4.8</td>\n",
       "      <td>9.0</td>\n",
       "      <td>86.2</td>\n",
       "      <td>162</td>\n",
       "      <td>32.8</td>\n",
       "      <td>93.5</td>\n",
       "      <td>...</td>\n",
       "      <td>NaN</td>\n",
       "      <td>NaN</td>\n",
       "      <td>10/10/2019</td>\n",
       "      <td>YES</td>\n",
       "      <td>NO</td>\n",
       "      <td>F</td>\n",
       "      <td>3330</td>\n",
       "      <td>38</td>\n",
       "      <td>NO</td>\n",
       "      <td>LIVEBIRTH</td>\n",
       "    </tr>\n",
       "  </tbody>\n",
       "</table>\n",
       "<p>5 rows × 60 columns</p>\n",
       "</div>"
      ],
      "text/plain": [
       "  Participant ID GDMDiagnosisDate estimatedDeliveryDate  maternalAgeAtBirth  \\\n",
       "0         BRA001       04/06/2019            12/11/2019                  32   \n",
       "1         BRA002       30/05/2019            31/08/2019                  20   \n",
       "2         BRA003       03/06/2019            02/09/2019                  32   \n",
       "3         BRA004       05/06/2019            08/09/2019                  30   \n",
       "4         BRA005       10/06/2019            18/10/2019                  39   \n",
       "\n",
       "   OGTTfasting  OGTT2hour  maternalWeightAtBooking  maternalHeight  \\\n",
       "0          6.1        5.2                     76.8             167   \n",
       "1          5.1        7.8                     62.0             163   \n",
       "2          6.6       10.4                     84.0             159   \n",
       "3          4.3        8.4                     63.5             163   \n",
       "4          4.8        9.0                     86.2             162   \n",
       "\n",
       "   maternalBMIAtBooking  maternalWeight3rdTrimester  ... AC_38Weeks  \\\n",
       "0                  26.9                        84.1  ...        NaN   \n",
       "1                  23.0                        69.2  ...      319.9   \n",
       "2                  33.2                        93.5  ...      328.7   \n",
       "3                  23.9                        68.3  ...      342.0   \n",
       "4                  32.8                        93.5  ...        NaN   \n",
       "\n",
       "  EFW_38Weeks   foetalDOB vaginalBirth caesareanBirth foetalSex  \\\n",
       "0         NaN  10/11/2019          YES             NO         F   \n",
       "1      2927.0  02/09/2019          YES             NO         F   \n",
       "2      3265.0  19/08/2019          YES             NO         F   \n",
       "3      3271.0  24/08/2019           NO            YES         M   \n",
       "4         NaN  10/10/2019          YES             NO         F   \n",
       "\n",
       "  foetalWeightInGrams  gestationalAgeAtDeliveryInWeeks  lga  birthOutcome  \n",
       "0                3490                               40   NO     LIVEBIRTH  \n",
       "1                3980                               40   NO     LIVEBIRTH  \n",
       "2                2960                               38   NO     LIVEBIRTH  \n",
       "3                3400                               39   NO     LIVEBIRTH  \n",
       "4                3330                               38   NO     LIVEBIRTH  \n",
       "\n",
       "[5 rows x 60 columns]"
      ]
     },
     "execution_count": 4,
     "metadata": {},
     "output_type": "execute_result"
    }
   ],
   "source": [
    "df.head()"
   ]
  },
  {
   "cell_type": "code",
   "execution_count": 5,
   "metadata": {},
   "outputs": [
    {
     "name": "stdout",
     "output_type": "stream",
     "text": [
      "<class 'pandas.core.frame.DataFrame'>\n",
      "RangeIndex: 196 entries, 0 to 195\n",
      "Data columns (total 60 columns):\n",
      " #   Column                           Non-Null Count  Dtype  \n",
      "---  ------                           --------------  -----  \n",
      " 0   Participant ID                   196 non-null    object \n",
      " 1   GDMDiagnosisDate                 196 non-null    object \n",
      " 2   estimatedDeliveryDate            196 non-null    object \n",
      " 3   maternalAgeAtBirth               196 non-null    int64  \n",
      " 4   OGTTfasting                      196 non-null    float64\n",
      " 5   OGTT2hour                        196 non-null    float64\n",
      " 6   maternalWeightAtBooking          196 non-null    float64\n",
      " 7   maternalHeight                   196 non-null    int64  \n",
      " 8   maternalBMIAtBooking             196 non-null    float64\n",
      " 9   maternalWeight3rdTrimester       196 non-null    float64\n",
      " 10  prevMacrosomia                   196 non-null    object \n",
      " 11  eclampsiaFH                      196 non-null    object \n",
      " 12  gestationalPre-eclampsia         196 non-null    object \n",
      " 13  pcos                             196 non-null    object \n",
      " 14  hypertensionFH                   196 non-null    object \n",
      " 15  gestationalHypertension          196 non-null    object \n",
      " 16  ethnicity                        196 non-null    object \n",
      " 17  gestationalAgeAtGDMDiagnosis     196 non-null    int64  \n",
      " 18  gravidity                        196 non-null    int64  \n",
      " 19  parity                           196 non-null    int64  \n",
      " 20  previousGDM                      196 non-null    object \n",
      " 21  familyHistoryDiabetes            196 non-null    object \n",
      " 22  familyHistoryGDM                 196 non-null    object \n",
      " 23  GDMLifestyleGestWeek             196 non-null    int64  \n",
      " 24  GDMDietGestWeek                  196 non-null    int64  \n",
      " 25  GDMMetforminGestWeek             51 non-null     float64\n",
      " 26  GDMInsulinGestWeek               53 non-null     float64\n",
      " 27  metforminFlag                    196 non-null    object \n",
      " 28  insulinFlag                      196 non-null    object \n",
      " 29  meanBG                           196 non-null    float64\n",
      " 30  maxBG                            196 non-null    float64\n",
      " 31  minBG                            196 non-null    float64\n",
      " 32  varBG                            194 non-null    float64\n",
      " 33  countBG                          196 non-null    int64  \n",
      " 34  stdBG                            194 non-null    float64\n",
      " 35  lowBG                            196 non-null    float64\n",
      " 36  normalBG                         196 non-null    float64\n",
      " 37  highBG                           196 non-null    float64\n",
      " 38  AC_20Weeks                       160 non-null    float64\n",
      " 39  EFW_20Weeks                      160 non-null    float64\n",
      " 40  AC_28Weeks                       97 non-null     float64\n",
      " 41  EFW_28Weeks                      97 non-null     float64\n",
      " 42  AC_30Weeks                       79 non-null     float64\n",
      " 43  EFW_30Weeks                      79 non-null     float64\n",
      " 44  AC_32Weeks                       123 non-null    float64\n",
      " 45  EFW_32Weeks                      122 non-null    float64\n",
      " 46  AC_34Weeks                       80 non-null     float64\n",
      " 47  EFW_34Weeks                      80 non-null     float64\n",
      " 48  AC_36Weeks                       149 non-null    float64\n",
      " 49  EFW_36Weeks                      149 non-null    float64\n",
      " 50  AC_38Weeks                       51 non-null     float64\n",
      " 51  EFW_38Weeks                      51 non-null     float64\n",
      " 52  foetalDOB                        196 non-null    object \n",
      " 53  vaginalBirth                     196 non-null    object \n",
      " 54  caesareanBirth                   196 non-null    object \n",
      " 55  foetalSex                        196 non-null    object \n",
      " 56  foetalWeightInGrams              196 non-null    int64  \n",
      " 57  gestationalAgeAtDeliveryInWeeks  196 non-null    int64  \n",
      " 58  lga                              196 non-null    object \n",
      " 59  birthOutcome                     196 non-null    object \n",
      "dtypes: float64(29), int64(10), object(21)\n",
      "memory usage: 92.0+ KB\n"
     ]
    }
   ],
   "source": [
    "df.info()"
   ]
  },
  {
   "cell_type": "code",
   "execution_count": 6,
   "metadata": {},
   "outputs": [
    {
     "data": {
      "text/plain": [
       "NO     190\n",
       "YES      6\n",
       "Name: lga, dtype: int64"
      ]
     },
     "execution_count": 6,
     "metadata": {},
     "output_type": "execute_result"
    }
   ],
   "source": [
    "df[\"lga\"].value_counts()"
   ]
  },
  {
   "cell_type": "code",
   "execution_count": 7,
   "metadata": {},
   "outputs": [
    {
     "data": {
      "text/plain": [
       "Text(0.5, 1.0, 'White/South-Asian Ratio')"
      ]
     },
     "execution_count": 7,
     "metadata": {},
     "output_type": "execute_result"
    },
    {
     "data": {
      "image/png": "[encoded data removed]",
      "text/plain": [
       "<Figure size 432x288 with 1 Axes>"
      ]
     },
     "metadata": {
      "needs_background": "light"
     },
     "output_type": "display_data"
    }
   ],
   "source": [
    "import matplotlib.pyplot as plt\n",
    "import seaborn as sns\n",
    "%matplotlib inline\n",
    "\n",
    "# Visualize lga/non-lga ratio\n",
    "sns.countplot(x=df[\"lga\"]).set_title(\"LGA/non-LGA Ratio\")\n",
    "\n",
    "# Visualize white/south-asian ratio\n",
    "sns.countplot(x=df[\"ethnicity\"]).set_title(\"White/South-Asian Ratio\")\n"
   ]
  },
  {
   "cell_type": "markdown",
   "metadata": {},
   "source": [
    "# Fill missing values with '0' for GDMMetforminGestWeek, GDMInsulinGestWeek\n",
    "Missing values in GDMMetforminGestWeek and GDMInsulinGestWeek mean the patient was not prescribed insulin or metformin. \n",
    "Therefore, these values will be filled with 0s.\n",
    "\n",
    "In DataCleaning file, a 2 boolean flag features was added to indicate if patient was prescribed insulin/ metformin or not. "
   ]
  },
  {
   "cell_type": "code",
   "execution_count": 8,
   "metadata": {},
   "outputs": [
    {
     "data": {
      "text/plain": [
       "0       NaN\n",
       "1       NaN\n",
       "2       NaN\n",
       "3       NaN\n",
       "4       NaN\n",
       "       ... \n",
       "191     NaN\n",
       "192     NaN\n",
       "193    28.0\n",
       "194     NaN\n",
       "195     NaN\n",
       "Name: GDMMetforminGestWeek, Length: 196, dtype: float64"
      ]
     },
     "execution_count": 8,
     "metadata": {},
     "output_type": "execute_result"
    }
   ],
   "source": [
    "df['GDMMetforminGestWeek']"
   ]
  },
  {
   "cell_type": "code",
   "execution_count": 9,
   "metadata": {},
   "outputs": [
    {
     "data": {
      "text/plain": [
       "0       NaN\n",
       "1       NaN\n",
       "2      33.0\n",
       "3       NaN\n",
       "4       NaN\n",
       "       ... \n",
       "191     NaN\n",
       "192    28.0\n",
       "193     NaN\n",
       "194    28.0\n",
       "195     NaN\n",
       "Name: GDMInsulinGestWeek, Length: 196, dtype: float64"
      ]
     },
     "execution_count": 9,
     "metadata": {},
     "output_type": "execute_result"
    }
   ],
   "source": [
    "df['GDMInsulinGestWeek']"
   ]
  },
  {
   "cell_type": "code",
   "execution_count": 10,
   "metadata": {},
   "outputs": [],
   "source": [
    "# fill NA with 0 \n",
    "df['GDMMetforminGestWeek']= df['GDMMetforminGestWeek'].fillna(value=0)\n",
    "df['GDMInsulinGestWeek']= df['GDMInsulinGestWeek'].fillna(value=0)"
   ]
  },
  {
   "cell_type": "code",
   "execution_count": 11,
   "metadata": {},
   "outputs": [
    {
     "name": "stdout",
     "output_type": "stream",
     "text": [
      "0       0.0\n",
      "1       0.0\n",
      "2       0.0\n",
      "3       0.0\n",
      "4       0.0\n",
      "       ... \n",
      "191     0.0\n",
      "192     0.0\n",
      "193    28.0\n",
      "194     0.0\n",
      "195     0.0\n",
      "Name: GDMMetforminGestWeek, Length: 196, dtype: float64\n",
      "0       0.0\n",
      "1       0.0\n",
      "2      33.0\n",
      "3       0.0\n",
      "4       0.0\n",
      "       ... \n",
      "191     0.0\n",
      "192    28.0\n",
      "193     0.0\n",
      "194    28.0\n",
      "195     0.0\n",
      "Name: GDMInsulinGestWeek, Length: 196, dtype: float64\n"
     ]
    }
   ],
   "source": [
    "print(df['GDMMetforminGestWeek'])\n",
    "print(df['GDMInsulinGestWeek'])"
   ]
  },
  {
   "cell_type": "code",
   "execution_count": 12,
   "metadata": {},
   "outputs": [],
   "source": [
    "# change type from float to int\n",
    "df[\"GDMMetforminGestWeek\"] = df[\"GDMMetforminGestWeek\"].astype(int)\n",
    "df[\"GDMInsulinGestWeek\"] = df[\"GDMInsulinGestWeek\"].astype(int)"
   ]
  },
  {
   "cell_type": "code",
   "execution_count": 13,
   "metadata": {},
   "outputs": [
    {
     "name": "stdout",
     "output_type": "stream",
     "text": [
      "0       0\n",
      "1       0\n",
      "2       0\n",
      "3       0\n",
      "4       0\n",
      "       ..\n",
      "191     0\n",
      "192     0\n",
      "193    28\n",
      "194     0\n",
      "195     0\n",
      "Name: GDMMetforminGestWeek, Length: 196, dtype: int64\n",
      "0       0\n",
      "1       0\n",
      "2      33\n",
      "3       0\n",
      "4       0\n",
      "       ..\n",
      "191     0\n",
      "192    28\n",
      "193     0\n",
      "194    28\n",
      "195     0\n",
      "Name: GDMInsulinGestWeek, Length: 196, dtype: int64\n"
     ]
    }
   ],
   "source": [
    "print(df['GDMMetforminGestWeek'])\n",
    "print(df['GDMInsulinGestWeek'])"
   ]
  },
  {
   "cell_type": "code",
   "execution_count": 14,
   "metadata": {},
   "outputs": [
    {
     "name": "stdout",
     "output_type": "stream",
     "text": [
      "<class 'pandas.core.frame.DataFrame'>\n",
      "RangeIndex: 196 entries, 0 to 195\n",
      "Data columns (total 60 columns):\n",
      " #   Column                           Non-Null Count  Dtype  \n",
      "---  ------                           --------------  -----  \n",
      " 0   Participant ID                   196 non-null    object \n",
      " 1   GDMDiagnosisDate                 196 non-null    object \n",
      " 2   estimatedDeliveryDate            196 non-null    object \n",
      " 3   maternalAgeAtBirth               196 non-null    int64  \n",
      " 4   OGTTfasting                      196 non-null    float64\n",
      " 5   OGTT2hour                        196 non-null    float64\n",
      " 6   maternalWeightAtBooking          196 non-null    float64\n",
      " 7   maternalHeight                   196 non-null    int64  \n",
      " 8   maternalBMIAtBooking             196 non-null    float64\n",
      " 9   maternalWeight3rdTrimester       196 non-null    float64\n",
      " 10  prevMacrosomia                   196 non-null    object \n",
      " 11  eclampsiaFH                      196 non-null    object \n",
      " 12  gestationalPre-eclampsia         196 non-null    object \n",
      " 13  pcos                             196 non-null    object \n",
      " 14  hypertensionFH                   196 non-null    object \n",
      " 15  gestationalHypertension          196 non-null    object \n",
      " 16  ethnicity                        196 non-null    object \n",
      " 17  gestationalAgeAtGDMDiagnosis     196 non-null    int64  \n",
      " 18  gravidity                        196 non-null    int64  \n",
      " 19  parity                           196 non-null    int64  \n",
      " 20  previousGDM                      196 non-null    object \n",
      " 21  familyHistoryDiabetes            196 non-null    object \n",
      " 22  familyHistoryGDM                 196 non-null    object \n",
      " 23  GDMLifestyleGestWeek             196 non-null    int64  \n",
      " 24  GDMDietGestWeek                  196 non-null    int64  \n",
      " 25  GDMMetforminGestWeek             196 non-null    int64  \n",
      " 26  GDMInsulinGestWeek               196 non-null    int64  \n",
      " 27  metforminFlag                    196 non-null    object \n",
      " 28  insulinFlag                      196 non-null    object \n",
      " 29  meanBG                           196 non-null    float64\n",
      " 30  maxBG                            196 non-null    float64\n",
      " 31  minBG                            196 non-null    float64\n",
      " 32  varBG                            194 non-null    float64\n",
      " 33  countBG                          196 non-null    int64  \n",
      " 34  stdBG                            194 non-null    float64\n",
      " 35  lowBG                            196 non-null    float64\n",
      " 36  normalBG                         196 non-null    float64\n",
      " 37  highBG                           196 non-null    float64\n",
      " 38  AC_20Weeks                       160 non-null    float64\n",
      " 39  EFW_20Weeks                      160 non-null    float64\n",
      " 40  AC_28Weeks                       97 non-null     float64\n",
      " 41  EFW_28Weeks                      97 non-null     float64\n",
      " 42  AC_30Weeks                       79 non-null     float64\n",
      " 43  EFW_30Weeks                      79 non-null     float64\n",
      " 44  AC_32Weeks                       123 non-null    float64\n",
      " 45  EFW_32Weeks                      122 non-null    float64\n",
      " 46  AC_34Weeks                       80 non-null     float64\n",
      " 47  EFW_34Weeks                      80 non-null     float64\n",
      " 48  AC_36Weeks                       149 non-null    float64\n",
      " 49  EFW_36Weeks                      149 non-null    float64\n",
      " 50  AC_38Weeks                       51 non-null     float64\n",
      " 51  EFW_38Weeks                      51 non-null     float64\n",
      " 52  foetalDOB                        196 non-null    object \n",
      " 53  vaginalBirth                     196 non-null    object \n",
      " 54  caesareanBirth                   196 non-null    object \n",
      " 55  foetalSex                        196 non-null    object \n",
      " 56  foetalWeightInGrams              196 non-null    int64  \n",
      " 57  gestationalAgeAtDeliveryInWeeks  196 non-null    int64  \n",
      " 58  lga                              196 non-null    object \n",
      " 59  birthOutcome                     196 non-null    object \n",
      "dtypes: float64(27), int64(12), object(21)\n",
      "memory usage: 92.0+ KB\n"
     ]
    }
   ],
   "source": [
    "df.info()"
   ]
  },
  {
   "cell_type": "markdown",
   "metadata": {},
   "source": [
    "# Missing Values in Variance and Standard Deviation"
   ]
  },
  {
   "cell_type": "code",
   "execution_count": 15,
   "metadata": {},
   "outputs": [],
   "source": [
    "# fill missing values for varBG and stdBG with 0 as in these cases only one BG measurment exists and therefore variance = std = 0\n",
    "df['varBG']= df['varBG'].fillna(value=0)\n",
    "df['stdBG']= df['stdBG'].fillna(value=0)"
   ]
  },
  {
   "cell_type": "markdown",
   "metadata": {},
   "source": [
    "# Calculate % of missing values per feature"
   ]
  },
  {
   "cell_type": "code",
   "execution_count": 16,
   "metadata": {},
   "outputs": [
    {
     "data": {
      "text/plain": [
       "Participant ID                      0.00\n",
       "GDMDiagnosisDate                    0.00\n",
       "estimatedDeliveryDate               0.00\n",
       "maternalAgeAtBirth                  0.00\n",
       "OGTTfasting                         0.00\n",
       "OGTT2hour                           0.00\n",
       "maternalWeightAtBooking             0.00\n",
       "maternalHeight                      0.00\n",
       "maternalBMIAtBooking                0.00\n",
       "maternalWeight3rdTrimester          0.00\n",
       "prevMacrosomia                      0.00\n",
       "eclampsiaFH                         0.00\n",
       "gestationalPre-eclampsia            0.00\n",
       "pcos                                0.00\n",
       "hypertensionFH                      0.00\n",
       "gestationalHypertension             0.00\n",
       "ethnicity                           0.00\n",
       "gestationalAgeAtGDMDiagnosis        0.00\n",
       "gravidity                           0.00\n",
       "parity                              0.00\n",
       "previousGDM                         0.00\n",
       "familyHistoryDiabetes               0.00\n",
       "familyHistoryGDM                    0.00\n",
       "GDMLifestyleGestWeek                0.00\n",
       "GDMDietGestWeek                     0.00\n",
       "GDMMetforminGestWeek                0.00\n",
       "GDMInsulinGestWeek                  0.00\n",
       "metforminFlag                       0.00\n",
       "insulinFlag                         0.00\n",
       "meanBG                              0.00\n",
       "maxBG                               0.00\n",
       "minBG                               0.00\n",
       "varBG                               0.00\n",
       "countBG                             0.00\n",
       "stdBG                               0.00\n",
       "lowBG                               0.00\n",
       "normalBG                            0.00\n",
       "highBG                              0.00\n",
       "AC_20Weeks                         18.37\n",
       "EFW_20Weeks                        18.37\n",
       "AC_28Weeks                         50.51\n",
       "EFW_28Weeks                        50.51\n",
       "AC_30Weeks                         59.69\n",
       "EFW_30Weeks                        59.69\n",
       "AC_32Weeks                         37.24\n",
       "EFW_32Weeks                        37.76\n",
       "AC_34Weeks                         59.18\n",
       "EFW_34Weeks                        59.18\n",
       "AC_36Weeks                         23.98\n",
       "EFW_36Weeks                        23.98\n",
       "AC_38Weeks                         73.98\n",
       "EFW_38Weeks                        73.98\n",
       "foetalDOB                           0.00\n",
       "vaginalBirth                        0.00\n",
       "caesareanBirth                      0.00\n",
       "foetalSex                           0.00\n",
       "foetalWeightInGrams                 0.00\n",
       "gestationalAgeAtDeliveryInWeeks     0.00\n",
       "lga                                 0.00\n",
       "birthOutcome                        0.00\n",
       "dtype: float64"
      ]
     },
     "execution_count": 16,
     "metadata": {},
     "output_type": "execute_result"
    }
   ],
   "source": [
    "# calculate percentage of missing data\n",
    "missing_values = (df.isna().mean().round(4) * 100)\n",
    "\n",
    "missing_values"
   ]
  },
  {
   "cell_type": "markdown",
   "metadata": {},
   "source": [
    "# Remove features with high % of missing values"
   ]
  },
  {
   "cell_type": "code",
   "execution_count": 17,
   "metadata": {},
   "outputs": [],
   "source": [
    "#df['AC_28-30Weeks'] = df[['AC_28Weeks', 'AC_30Weeks']].mean(axis=1)\n",
    "#df['EFW_28-30Weeks'] = df[['EFW_28Weeks', 'EFW_30Weeks']].mean(axis=1)\n",
    "\n",
    "#df['AC_32-34Weeks'] = df[['AC_32Weeks', 'AC_34Weeks']].mean(axis=1)\n",
    "#df['EFW_32-34Weeks'] = df[['EFW_32Weeks', 'EFW_34Weeks']].mean(axis=1)\n",
    "\n",
    "#df['AC_36-38Weeks'] = df[['AC_36Weeks', 'AC_38Weeks']].mean(axis=1)\n",
    "#df['EFW_36-38Weeks'] = df[['EFW_36Weeks', 'EFW_38Weeks']].mean(axis=1)"
   ]
  },
  {
   "cell_type": "code",
   "execution_count": 18,
   "metadata": {},
   "outputs": [
    {
     "name": "stdout",
     "output_type": "stream",
     "text": [
      "AC_38Weeks     73.979592\n",
      "EFW_38Weeks    73.979592\n",
      "AC_30Weeks     59.693878\n",
      "EFW_30Weeks    59.693878\n",
      "AC_34Weeks     59.183673\n",
      "EFW_34Weeks    59.183673\n",
      "AC_28Weeks     50.510204\n",
      "EFW_28Weeks    50.510204\n",
      "EFW_32Weeks    37.755102\n",
      "AC_32Weeks     37.244898\n",
      "AC_36Weeks     23.979592\n",
      "EFW_36Weeks    23.979592\n",
      "AC_20Weeks     18.367347\n",
      "EFW_20Weeks    18.367347\n",
      "dtype: float64\n"
     ]
    }
   ],
   "source": [
    "print((df.isnull().sum()/len(df)*100).nlargest(n=14))"
   ]
  },
  {
   "cell_type": "code",
   "execution_count": 19,
   "metadata": {},
   "outputs": [],
   "source": [
    "# remove AC_38Weeks & EFW_38Weeks due to high % missing values (73.98)\n",
    "df = df.drop(columns =['AC_38Weeks', 'EFW_38Weeks'])"
   ]
  },
  {
   "cell_type": "markdown",
   "metadata": {},
   "source": [
    "# Convert Dates to DateTime type"
   ]
  },
  {
   "cell_type": "code",
   "execution_count": 20,
   "metadata": {},
   "outputs": [],
   "source": [
    "#convert all dates to datetime\n",
    "df['GDMDiagnosisDate'] = pd.to_datetime(df['GDMDiagnosisDate'], dayfirst=True)\n",
    "df['estimatedDeliveryDate'] = pd.to_datetime(df['estimatedDeliveryDate'], dayfirst=True)"
   ]
  },
  {
   "cell_type": "code",
   "execution_count": 21,
   "metadata": {},
   "outputs": [
    {
     "name": "stdout",
     "output_type": "stream",
     "text": [
      "<class 'pandas.core.frame.DataFrame'>\n",
      "RangeIndex: 196 entries, 0 to 195\n",
      "Data columns (total 58 columns):\n",
      " #   Column                           Non-Null Count  Dtype         \n",
      "---  ------                           --------------  -----         \n",
      " 0   Participant ID                   196 non-null    object        \n",
      " 1   GDMDiagnosisDate                 196 non-null    datetime64[ns]\n",
      " 2   estimatedDeliveryDate            196 non-null    datetime64[ns]\n",
      " 3   maternalAgeAtBirth               196 non-null    int64         \n",
      " 4   OGTTfasting                      196 non-null    float64       \n",
      " 5   OGTT2hour                        196 non-null    float64       \n",
      " 6   maternalWeightAtBooking          196 non-null    float64       \n",
      " 7   maternalHeight                   196 non-null    int64         \n",
      " 8   maternalBMIAtBooking             196 non-null    float64       \n",
      " 9   maternalWeight3rdTrimester       196 non-null    float64       \n",
      " 10  prevMacrosomia                   196 non-null    object        \n",
      " 11  eclampsiaFH                      196 non-null    object        \n",
      " 12  gestationalPre-eclampsia         196 non-null    object        \n",
      " 13  pcos                             196 non-null    object        \n",
      " 14  hypertensionFH                   196 non-null    object        \n",
      " 15  gestationalHypertension          196 non-null    object        \n",
      " 16  ethnicity                        196 non-null    object        \n",
      " 17  gestationalAgeAtGDMDiagnosis     196 non-null    int64         \n",
      " 18  gravidity                        196 non-null    int64         \n",
      " 19  parity                           196 non-null    int64         \n",
      " 20  previousGDM                      196 non-null    object        \n",
      " 21  familyHistoryDiabetes            196 non-null    object        \n",
      " 22  familyHistoryGDM                 196 non-null    object        \n",
      " 23  GDMLifestyleGestWeek             196 non-null    int64         \n",
      " 24  GDMDietGestWeek                  196 non-null    int64         \n",
      " 25  GDMMetforminGestWeek             196 non-null    int64         \n",
      " 26  GDMInsulinGestWeek               196 non-null    int64         \n",
      " 27  metforminFlag                    196 non-null    object        \n",
      " 28  insulinFlag                      196 non-null    object        \n",
      " 29  meanBG                           196 non-null    float64       \n",
      " 30  maxBG                            196 non-null    float64       \n",
      " 31  minBG                            196 non-null    float64       \n",
      " 32  varBG                            196 non-null    float64       \n",
      " 33  countBG                          196 non-null    int64         \n",
      " 34  stdBG                            196 non-null    float64       \n",
      " 35  lowBG                            196 non-null    float64       \n",
      " 36  normalBG                         196 non-null    float64       \n",
      " 37  highBG                           196 non-null    float64       \n",
      " 38  AC_20Weeks                       160 non-null    float64       \n",
      " 39  EFW_20Weeks                      160 non-null    float64       \n",
      " 40  AC_28Weeks                       97 non-null     float64       \n",
      " 41  EFW_28Weeks                      97 non-null     float64       \n",
      " 42  AC_30Weeks                       79 non-null     float64       \n",
      " 43  EFW_30Weeks                      79 non-null     float64       \n",
      " 44  AC_32Weeks                       123 non-null    float64       \n",
      " 45  EFW_32Weeks                      122 non-null    float64       \n",
      " 46  AC_34Weeks                       80 non-null     float64       \n",
      " 47  EFW_34Weeks                      80 non-null     float64       \n",
      " 48  AC_36Weeks                       149 non-null    float64       \n",
      " 49  EFW_36Weeks                      149 non-null    float64       \n",
      " 50  foetalDOB                        196 non-null    object        \n",
      " 51  vaginalBirth                     196 non-null    object        \n",
      " 52  caesareanBirth                   196 non-null    object        \n",
      " 53  foetalSex                        196 non-null    object        \n",
      " 54  foetalWeightInGrams              196 non-null    int64         \n",
      " 55  gestationalAgeAtDeliveryInWeeks  196 non-null    int64         \n",
      " 56  lga                              196 non-null    object        \n",
      " 57  birthOutcome                     196 non-null    object        \n",
      "dtypes: datetime64[ns](2), float64(25), int64(12), object(19)\n",
      "memory usage: 88.9+ KB\n"
     ]
    }
   ],
   "source": [
    "df.info()"
   ]
  },
  {
   "cell_type": "markdown",
   "metadata": {},
   "source": [
    "# Define Matrix of Features and Matrix of Dependent Variable for Classfication"
   ]
  },
  {
   "cell_type": "code",
   "execution_count": 22,
   "metadata": {},
   "outputs": [],
   "source": [
    "# Drop features after prediction point \n",
    "\n",
    "df1 = df.drop(columns =['foetalDOB', 'vaginalBirth', 'caesareanBirth',\n",
    "                      'foetalSex', 'foetalWeightInGrams', \n",
    "                       'gestationalAgeAtDeliveryInWeeks', 'birthOutcome',\n",
    "                       'GDMDiagnosisDate','GDMDiagnosisDate'])\n",
    "\n",
    "# Define X and y for classification\n",
    "X = df1.drop(columns=['lga','Participant ID'])\n",
    "y = df1['lga']\n",
    "\n",
    "#print(X)\n",
    "#print(y)"
   ]
  },
  {
   "cell_type": "code",
   "execution_count": 23,
   "metadata": {},
   "outputs": [
    {
     "name": "stdout",
     "output_type": "stream",
     "text": [
      "<class 'pandas.core.frame.DataFrame'>\n",
      "RangeIndex: 196 entries, 0 to 195\n",
      "Data columns (total 48 columns):\n",
      " #   Column                        Non-Null Count  Dtype         \n",
      "---  ------                        --------------  -----         \n",
      " 0   estimatedDeliveryDate         196 non-null    datetime64[ns]\n",
      " 1   maternalAgeAtBirth            196 non-null    int64         \n",
      " 2   OGTTfasting                   196 non-null    float64       \n",
      " 3   OGTT2hour                     196 non-null    float64       \n",
      " 4   maternalWeightAtBooking       196 non-null    float64       \n",
      " 5   maternalHeight                196 non-null    int64         \n",
      " 6   maternalBMIAtBooking          196 non-null    float64       \n",
      " 7   maternalWeight3rdTrimester    196 non-null    float64       \n",
      " 8   prevMacrosomia                196 non-null    object        \n",
      " 9   eclampsiaFH                   196 non-null    object        \n",
      " 10  gestationalPre-eclampsia      196 non-null    object        \n",
      " 11  pcos                          196 non-null    object        \n",
      " 12  hypertensionFH                196 non-null    object        \n",
      " 13  gestationalHypertension       196 non-null    object        \n",
      " 14  ethnicity                     196 non-null    object        \n",
      " 15  gestationalAgeAtGDMDiagnosis  196 non-null    int64         \n",
      " 16  gravidity                     196 non-null    int64         \n",
      " 17  parity                        196 non-null    int64         \n",
      " 18  previousGDM                   196 non-null    object        \n",
      " 19  familyHistoryDiabetes         196 non-null    object        \n",
      " 20  familyHistoryGDM              196 non-null    object        \n",
      " 21  GDMLifestyleGestWeek          196 non-null    int64         \n",
      " 22  GDMDietGestWeek               196 non-null    int64         \n",
      " 23  GDMMetforminGestWeek          196 non-null    int64         \n",
      " 24  GDMInsulinGestWeek            196 non-null    int64         \n",
      " 25  metforminFlag                 196 non-null    object        \n",
      " 26  insulinFlag                   196 non-null    object        \n",
      " 27  meanBG                        196 non-null    float64       \n",
      " 28  maxBG                         196 non-null    float64       \n",
      " 29  minBG                         196 non-null    float64       \n",
      " 30  varBG                         196 non-null    float64       \n",
      " 31  countBG                       196 non-null    int64         \n",
      " 32  stdBG                         196 non-null    float64       \n",
      " 33  lowBG                         196 non-null    float64       \n",
      " 34  normalBG                      196 non-null    float64       \n",
      " 35  highBG                        196 non-null    float64       \n",
      " 36  AC_20Weeks                    160 non-null    float64       \n",
      " 37  EFW_20Weeks                   160 non-null    float64       \n",
      " 38  AC_28Weeks                    97 non-null     float64       \n",
      " 39  EFW_28Weeks                   97 non-null     float64       \n",
      " 40  AC_30Weeks                    79 non-null     float64       \n",
      " 41  EFW_30Weeks                   79 non-null     float64       \n",
      " 42  AC_32Weeks                    123 non-null    float64       \n",
      " 43  EFW_32Weeks                   122 non-null    float64       \n",
      " 44  AC_34Weeks                    80 non-null     float64       \n",
      " 45  EFW_34Weeks                   80 non-null     float64       \n",
      " 46  AC_36Weeks                    149 non-null    float64       \n",
      " 47  EFW_36Weeks                   149 non-null    float64       \n",
      "dtypes: datetime64[ns](1), float64(25), int64(10), object(12)\n",
      "memory usage: 73.6+ KB\n"
     ]
    }
   ],
   "source": [
    "X.info()"
   ]
  },
  {
   "cell_type": "markdown",
   "metadata": {},
   "source": [
    "# Define Prediction Pipeline"
   ]
  },
  {
   "cell_type": "code",
   "execution_count": 24,
   "metadata": {},
   "outputs": [],
   "source": [
    "def encode(y):\n",
    "    from sklearn.preprocessing import LabelEncoder\n",
    "    le = LabelEncoder()\n",
    "    y = le.fit_transform(y)\n",
    "    return y"
   ]
  },
  {
   "cell_type": "code",
   "execution_count": 25,
   "metadata": {},
   "outputs": [],
   "source": [
    "# this method is to retreive column names after one hot encoding\n",
    "\n",
    "def get_column_names_from_ColumnTransformer(column_transformer):    \n",
    "    col_name = []\n",
    "\n",
    "    for transformer_in_columns in column_transformer.transformers_[:-1]: #the last transformer is ColumnTransformer's 'remainder'\n",
    "        print('\\n\\ntransformer: ', transformer_in_columns[0])\n",
    "        \n",
    "        raw_col_name = list(transformer_in_columns[2])\n",
    "        \n",
    "        if isinstance(transformer_in_columns[1], Pipeline): \n",
    "            # if pipeline, get the last transformer\n",
    "            transformer = transformer_in_columns[1].steps[-1][1]\n",
    "        else:\n",
    "            transformer = transformer_in_columns[1]\n",
    "            \n",
    "        try:\n",
    "          if isinstance(transformer, OneHotEncoder):\n",
    "            names = list(transformer.get_feature_names(raw_col_name))\n",
    "            \n",
    "          elif isinstance(transformer, SimpleImputer) and transformer.add_indicator:\n",
    "            missing_indicator_indices = transformer.indicator_.features_\n",
    "            missing_indicators = [raw_col_name[idx] + '_missing_flag' for idx in missing_indicator_indices]\n",
    "\n",
    "            names = raw_col_name + missing_indicators\n",
    "            \n",
    "          else:\n",
    "            names = list(transformer.get_feature_names())\n",
    "          \n",
    "        except AttributeError as error:\n",
    "          names = raw_col_name\n",
    "        \n",
    "        print(names)    \n",
    "        \n",
    "        col_name.extend(names)\n",
    "            \n",
    "    return col_name"
   ]
  },
  {
   "cell_type": "code",
   "execution_count": 26,
   "metadata": {},
   "outputs": [],
   "source": [
    "def preprocess (X):\n",
    "    \n",
    "    from sklearn.compose import ColumnTransformer, make_column_selector as selector\n",
    "    from sklearn.impute import KNNImputer\n",
    "    from sklearn.preprocessing import StandardScaler, OneHotEncoder\n",
    "    from sklearn.impute import SimpleImputer\n",
    "    from sklearn.pipeline import Pipeline\n",
    "    from sklearn.model_selection import train_test_split\n",
    "\n",
    "    # define categorical and numeric transformers\n",
    "    numeric_transformer = Pipeline(steps=[\n",
    "        ('knnImputer', KNNImputer(n_neighbors=2, weights=\"uniform\")),\n",
    "        ('scaler', StandardScaler())])\n",
    "\n",
    "    categorical_transformer = Pipeline(steps=[\n",
    "        ('imputer', SimpleImputer(strategy='constant', fill_value='missing')),\n",
    "        ('onehot', OneHotEncoder(handle_unknown='ignore'))])\n",
    "\n",
    "    #  dispatch object columns to the categorical_transformer and remaining columns to numerical_transformer\n",
    "    preprocessor = ColumnTransformer(transformers=[\n",
    "        ('num', numeric_transformer, selector(dtype_include=['float64','int64'])),\n",
    "        ('cat', categorical_transformer, selector(dtype_include=['object']))\n",
    "        \n",
    "    ])\n",
    "\n",
    "    X = pd.DataFrame(preprocessor.fit_transform(X))\n",
    "    \n",
    "    newColNames=get_column_names_from_ColumnTransformer(preprocessor)\n",
    "    newColNames\n",
    "    X.columns = newColNames\n",
    "\n",
    "        \n",
    "    return X"
   ]
  },
  {
   "cell_type": "code",
   "execution_count": 27,
   "metadata": {},
   "outputs": [],
   "source": [
    "#y.to_csv(\"dependentVariableLGA.csv\", index=False)\n",
    "#X.to_csv(\"featuresMatrix.csv\", index=False)"
   ]
  },
  {
   "cell_type": "code",
   "execution_count": 28,
   "metadata": {},
   "outputs": [
    {
     "name": "stdout",
     "output_type": "stream",
     "text": [
      "\n",
      "\n",
      "transformer:  num\n",
      "['maternalAgeAtBirth', 'OGTTfasting', 'OGTT2hour', 'maternalWeightAtBooking', 'maternalHeight', 'maternalBMIAtBooking', 'maternalWeight3rdTrimester', 'gestationalAgeAtGDMDiagnosis', 'gravidity', 'parity', 'GDMLifestyleGestWeek', 'GDMDietGestWeek', 'GDMMetforminGestWeek', 'GDMInsulinGestWeek', 'meanBG', 'maxBG', 'minBG', 'varBG', 'countBG', 'stdBG', 'lowBG', 'normalBG', 'highBG', 'AC_20Weeks', 'EFW_20Weeks', 'AC_28Weeks', 'EFW_28Weeks', 'AC_30Weeks', 'EFW_30Weeks', 'AC_32Weeks', 'EFW_32Weeks', 'AC_34Weeks', 'EFW_34Weeks', 'AC_36Weeks', 'EFW_36Weeks']\n",
      "\n",
      "\n",
      "transformer:  cat\n",
      "['prevMacrosomia_NO', 'prevMacrosomia_YES', 'eclampsiaFH_NO', 'gestationalPre-eclampsia_NO', 'gestationalPre-eclampsia_YES', 'pcos_NO', 'pcos_YES', 'hypertensionFH_NO', 'hypertensionFH_YES', 'gestationalHypertension_NO', 'gestationalHypertension_YES', 'ethnicity_Other', 'ethnicity_South Asian', 'ethnicity_White', 'previousGDM_No', 'previousGDM_Yes', 'familyHistoryDiabetes_NO', 'familyHistoryDiabetes_YES', 'familyHistoryGDM_NO', 'familyHistoryGDM_YES', 'metforminFlag_NO', 'metforminFlag_YES', 'insulinFlag_NO', 'insulinFlag_YES']\n"
     ]
    }
   ],
   "source": [
    "import warnings\n",
    "warnings.filterwarnings(\"ignore\")\n",
    "\n",
    "y = encode(y)\n",
    "X = preprocess(X)\n",
    "\n",
    "\n",
    "# Split data into training and testing data\n",
    "#X_train, X_test, y_train, y_test = train_test_split(X, y, stratify=y, test_size=0.2, random_state=42)"
   ]
  },
  {
   "cell_type": "code",
   "execution_count": 29,
   "metadata": {},
   "outputs": [
    {
     "name": "stdout",
     "output_type": "stream",
     "text": [
      "<class 'pandas.core.frame.DataFrame'>\n",
      "RangeIndex: 196 entries, 0 to 195\n",
      "Data columns (total 59 columns):\n",
      " #   Column                        Non-Null Count  Dtype  \n",
      "---  ------                        --------------  -----  \n",
      " 0   maternalAgeAtBirth            196 non-null    float64\n",
      " 1   OGTTfasting                   196 non-null    float64\n",
      " 2   OGTT2hour                     196 non-null    float64\n",
      " 3   maternalWeightAtBooking       196 non-null    float64\n",
      " 4   maternalHeight                196 non-null    float64\n",
      " 5   maternalBMIAtBooking          196 non-null    float64\n",
      " 6   maternalWeight3rdTrimester    196 non-null    float64\n",
      " 7   gestationalAgeAtGDMDiagnosis  196 non-null    float64\n",
      " 8   gravidity                     196 non-null    float64\n",
      " 9   parity                        196 non-null    float64\n",
      " 10  GDMLifestyleGestWeek          196 non-null    float64\n",
      " 11  GDMDietGestWeek               196 non-null    float64\n",
      " 12  GDMMetforminGestWeek          196 non-null    float64\n",
      " 13  GDMInsulinGestWeek            196 non-null    float64\n",
      " 14  meanBG                        196 non-null    float64\n",
      " 15  maxBG                         196 non-null    float64\n",
      " 16  minBG                         196 non-null    float64\n",
      " 17  varBG                         196 non-null    float64\n",
      " 18  countBG                       196 non-null    float64\n",
      " 19  stdBG                         196 non-null    float64\n",
      " 20  lowBG                         196 non-null    float64\n",
      " 21  normalBG                      196 non-null    float64\n",
      " 22  highBG                        196 non-null    float64\n",
      " 23  AC_20Weeks                    196 non-null    float64\n",
      " 24  EFW_20Weeks                   196 non-null    float64\n",
      " 25  AC_28Weeks                    196 non-null    float64\n",
      " 26  EFW_28Weeks                   196 non-null    float64\n",
      " 27  AC_30Weeks                    196 non-null    float64\n",
      " 28  EFW_30Weeks                   196 non-null    float64\n",
      " 29  AC_32Weeks                    196 non-null    float64\n",
      " 30  EFW_32Weeks                   196 non-null    float64\n",
      " 31  AC_34Weeks                    196 non-null    float64\n",
      " 32  EFW_34Weeks                   196 non-null    float64\n",
      " 33  AC_36Weeks                    196 non-null    float64\n",
      " 34  EFW_36Weeks                   196 non-null    float64\n",
      " 35  prevMacrosomia_NO             196 non-null    float64\n",
      " 36  prevMacrosomia_YES            196 non-null    float64\n",
      " 37  eclampsiaFH_NO                196 non-null    float64\n",
      " 38  gestationalPre-eclampsia_NO   196 non-null    float64\n",
      " 39  gestationalPre-eclampsia_YES  196 non-null    float64\n",
      " 40  pcos_NO                       196 non-null    float64\n",
      " 41  pcos_YES                      196 non-null    float64\n",
      " 42  hypertensionFH_NO             196 non-null    float64\n",
      " 43  hypertensionFH_YES            196 non-null    float64\n",
      " 44  gestationalHypertension_NO    196 non-null    float64\n",
      " 45  gestationalHypertension_YES   196 non-null    float64\n",
      " 46  ethnicity_Other               196 non-null    float64\n",
      " 47  ethnicity_South Asian         196 non-null    float64\n",
      " 48  ethnicity_White               196 non-null    float64\n",
      " 49  previousGDM_No                196 non-null    float64\n",
      " 50  previousGDM_Yes               196 non-null    float64\n",
      " 51  familyHistoryDiabetes_NO      196 non-null    float64\n",
      " 52  familyHistoryDiabetes_YES     196 non-null    float64\n",
      " 53  familyHistoryGDM_NO           196 non-null    float64\n",
      " 54  familyHistoryGDM_YES          196 non-null    float64\n",
      " 55  metforminFlag_NO              196 non-null    float64\n",
      " 56  metforminFlag_YES             196 non-null    float64\n",
      " 57  insulinFlag_NO                196 non-null    float64\n",
      " 58  insulinFlag_YES               196 non-null    float64\n",
      "dtypes: float64(59)\n",
      "memory usage: 90.5 KB\n"
     ]
    }
   ],
   "source": [
    "X.info()"
   ]
  },
  {
   "cell_type": "code",
   "execution_count": 30,
   "metadata": {},
   "outputs": [
    {
     "data": {
      "text/html": [
       "<div>\n",
       "<style scoped>\n",
       "    .dataframe tbody tr th:only-of-type {\n",
       "        vertical-align: middle;\n",
       "    }\n",
       "\n",
       "    .dataframe tbody tr th {\n",
       "        vertical-align: top;\n",
       "    }\n",
       "\n",
       "    .dataframe thead th {\n",
       "        text-align: right;\n",
       "    }\n",
       "</style>\n",
       "<table border=\"1\" class=\"dataframe\">\n",
       "  <thead>\n",
       "    <tr style=\"text-align: right;\">\n",
       "      <th></th>\n",
       "      <th>maternalAgeAtBirth</th>\n",
       "      <th>OGTTfasting</th>\n",
       "      <th>OGTT2hour</th>\n",
       "      <th>maternalWeightAtBooking</th>\n",
       "      <th>maternalHeight</th>\n",
       "      <th>maternalBMIAtBooking</th>\n",
       "      <th>maternalWeight3rdTrimester</th>\n",
       "      <th>gestationalAgeAtGDMDiagnosis</th>\n",
       "      <th>gravidity</th>\n",
       "      <th>parity</th>\n",
       "      <th>...</th>\n",
       "      <th>previousGDM_No</th>\n",
       "      <th>previousGDM_Yes</th>\n",
       "      <th>familyHistoryDiabetes_NO</th>\n",
       "      <th>familyHistoryDiabetes_YES</th>\n",
       "      <th>familyHistoryGDM_NO</th>\n",
       "      <th>familyHistoryGDM_YES</th>\n",
       "      <th>metforminFlag_NO</th>\n",
       "      <th>metforminFlag_YES</th>\n",
       "      <th>insulinFlag_NO</th>\n",
       "      <th>insulinFlag_YES</th>\n",
       "    </tr>\n",
       "  </thead>\n",
       "  <tbody>\n",
       "    <tr>\n",
       "      <th>0</th>\n",
       "      <td>0.000957</td>\n",
       "      <td>0.854387</td>\n",
       "      <td>-2.331685</td>\n",
       "      <td>0.072814</td>\n",
       "      <td>0.936586</td>\n",
       "      <td>-0.447642</td>\n",
       "      <td>0.102661</td>\n",
       "      <td>-2.200631</td>\n",
       "      <td>0.677455</td>\n",
       "      <td>0.983536</td>\n",
       "      <td>...</td>\n",
       "      <td>0.0</td>\n",
       "      <td>1.0</td>\n",
       "      <td>0.0</td>\n",
       "      <td>1.0</td>\n",
       "      <td>1.0</td>\n",
       "      <td>0.0</td>\n",
       "      <td>1.0</td>\n",
       "      <td>0.0</td>\n",
       "      <td>1.0</td>\n",
       "      <td>0.0</td>\n",
       "    </tr>\n",
       "    <tr>\n",
       "      <th>1</th>\n",
       "      <td>-2.250682</td>\n",
       "      <td>-0.212236</td>\n",
       "      <td>-0.764104</td>\n",
       "      <td>-0.892315</td>\n",
       "      <td>0.412098</td>\n",
       "      <td>-1.166654</td>\n",
       "      <td>-0.878398</td>\n",
       "      <td>0.342551</td>\n",
       "      <td>-0.443062</td>\n",
       "      <td>-0.976867</td>\n",
       "      <td>...</td>\n",
       "      <td>1.0</td>\n",
       "      <td>0.0</td>\n",
       "      <td>0.0</td>\n",
       "      <td>1.0</td>\n",
       "      <td>1.0</td>\n",
       "      <td>0.0</td>\n",
       "      <td>1.0</td>\n",
       "      <td>0.0</td>\n",
       "      <td>1.0</td>\n",
       "      <td>0.0</td>\n",
       "    </tr>\n",
       "    <tr>\n",
       "      <th>2</th>\n",
       "      <td>0.000957</td>\n",
       "      <td>1.387698</td>\n",
       "      <td>0.803478</td>\n",
       "      <td>0.542336</td>\n",
       "      <td>-0.112390</td>\n",
       "      <td>0.713838</td>\n",
       "      <td>0.721584</td>\n",
       "      <td>0.851188</td>\n",
       "      <td>2.358231</td>\n",
       "      <td>0.330068</td>\n",
       "      <td>...</td>\n",
       "      <td>1.0</td>\n",
       "      <td>0.0</td>\n",
       "      <td>0.0</td>\n",
       "      <td>1.0</td>\n",
       "      <td>1.0</td>\n",
       "      <td>0.0</td>\n",
       "      <td>1.0</td>\n",
       "      <td>0.0</td>\n",
       "      <td>0.0</td>\n",
       "      <td>1.0</td>\n",
       "    </tr>\n",
       "    <tr>\n",
       "      <th>3</th>\n",
       "      <td>-0.374316</td>\n",
       "      <td>-1.065534</td>\n",
       "      <td>-0.402354</td>\n",
       "      <td>-0.794498</td>\n",
       "      <td>0.412098</td>\n",
       "      <td>-1.000728</td>\n",
       "      <td>-0.937656</td>\n",
       "      <td>0.596869</td>\n",
       "      <td>-0.443062</td>\n",
       "      <td>-0.976867</td>\n",
       "      <td>...</td>\n",
       "      <td>1.0</td>\n",
       "      <td>0.0</td>\n",
       "      <td>1.0</td>\n",
       "      <td>0.0</td>\n",
       "      <td>1.0</td>\n",
       "      <td>0.0</td>\n",
       "      <td>1.0</td>\n",
       "      <td>0.0</td>\n",
       "      <td>1.0</td>\n",
       "      <td>0.0</td>\n",
       "    </tr>\n",
       "    <tr>\n",
       "      <th>4</th>\n",
       "      <td>1.314414</td>\n",
       "      <td>-0.532223</td>\n",
       "      <td>-0.040605</td>\n",
       "      <td>0.685801</td>\n",
       "      <td>0.280976</td>\n",
       "      <td>0.640093</td>\n",
       "      <td>0.721584</td>\n",
       "      <td>-1.183358</td>\n",
       "      <td>2.358231</td>\n",
       "      <td>2.943939</td>\n",
       "      <td>...</td>\n",
       "      <td>0.0</td>\n",
       "      <td>1.0</td>\n",
       "      <td>1.0</td>\n",
       "      <td>0.0</td>\n",
       "      <td>1.0</td>\n",
       "      <td>0.0</td>\n",
       "      <td>1.0</td>\n",
       "      <td>0.0</td>\n",
       "      <td>1.0</td>\n",
       "      <td>0.0</td>\n",
       "    </tr>\n",
       "  </tbody>\n",
       "</table>\n",
       "<p>5 rows × 59 columns</p>\n",
       "</div>"
      ],
      "text/plain": [
       "   maternalAgeAtBirth  OGTTfasting  OGTT2hour  maternalWeightAtBooking  \\\n",
       "0            0.000957     0.854387  -2.331685                 0.072814   \n",
       "1           -2.250682    -0.212236  -0.764104                -0.892315   \n",
       "2            0.000957     1.387698   0.803478                 0.542336   \n",
       "3           -0.374316    -1.065534  -0.402354                -0.794498   \n",
       "4            1.314414    -0.532223  -0.040605                 0.685801   \n",
       "\n",
       "   maternalHeight  maternalBMIAtBooking  maternalWeight3rdTrimester  \\\n",
       "0        0.936586             -0.447642                    0.102661   \n",
       "1        0.412098             -1.166654                   -0.878398   \n",
       "2       -0.112390              0.713838                    0.721584   \n",
       "3        0.412098             -1.000728                   -0.937656   \n",
       "4        0.280976              0.640093                    0.721584   \n",
       "\n",
       "   gestationalAgeAtGDMDiagnosis  gravidity    parity  ...  previousGDM_No  \\\n",
       "0                     -2.200631   0.677455  0.983536  ...             0.0   \n",
       "1                      0.342551  -0.443062 -0.976867  ...             1.0   \n",
       "2                      0.851188   2.358231  0.330068  ...             1.0   \n",
       "3                      0.596869  -0.443062 -0.976867  ...             1.0   \n",
       "4                     -1.183358   2.358231  2.943939  ...             0.0   \n",
       "\n",
       "   previousGDM_Yes  familyHistoryDiabetes_NO  familyHistoryDiabetes_YES  \\\n",
       "0              1.0                       0.0                        1.0   \n",
       "1              0.0                       0.0                        1.0   \n",
       "2              0.0                       0.0                        1.0   \n",
       "3              0.0                       1.0                        0.0   \n",
       "4              1.0                       1.0                        0.0   \n",
       "\n",
       "   familyHistoryGDM_NO  familyHistoryGDM_YES  metforminFlag_NO  \\\n",
       "0                  1.0                   0.0               1.0   \n",
       "1                  1.0                   0.0               1.0   \n",
       "2                  1.0                   0.0               1.0   \n",
       "3                  1.0                   0.0               1.0   \n",
       "4                  1.0                   0.0               1.0   \n",
       "\n",
       "   metforminFlag_YES  insulinFlag_NO  insulinFlag_YES  \n",
       "0                0.0             1.0              0.0  \n",
       "1                0.0             1.0              0.0  \n",
       "2                0.0             0.0              1.0  \n",
       "3                0.0             1.0              0.0  \n",
       "4                0.0             1.0              0.0  \n",
       "\n",
       "[5 rows x 59 columns]"
      ]
     },
     "execution_count": 30,
     "metadata": {},
     "output_type": "execute_result"
    }
   ],
   "source": [
    "X.head()"
   ]
  },
  {
   "cell_type": "code",
   "execution_count": 39,
   "metadata": {},
   "outputs": [],
   "source": [
    "# save preprocessed file to csv files\n",
    "#X.to_csv(\"Preprocessed_ColumnsNamed_NHSDataFinal.csv\", index=False)\n",
    "#y.to_csv(\"dependentVariableLGAEncoded.csv\", index=False)"
   ]
  },
  {
   "cell_type": "code",
   "execution_count": 31,
   "metadata": {},
   "outputs": [],
   "source": [
    "# define a function that will evaluate the model performance \n",
    "def evaluate_model(y_test, y_pred):\n",
    "    from sklearn import metrics\n",
    "    from sklearn.metrics import classification_report, confusion_matrix\n",
    "    confusion = metrics.confusion_matrix(y_test, y_pred)\n",
    "    \n",
    "    import matplotlib.pyplot as plt\n",
    "    import scikitplot as skplt\n",
    "    disp  = skplt.metrics.plot_confusion_matrix(y_test, y_pred)\n",
    "    disp.set_title(\"Confusion Matrix\")\n",
    "    plt.show()\n",
    "    \n",
    "    print(classification_report(y_test, y_pred))\n",
    "    \n",
    "    TP = confusion[1, 1]\n",
    "    TN = confusion[0, 0]\n",
    "    FP = confusion[0, 1]\n",
    "    FN = confusion[1, 0] \n",
    "    \n",
    "    print('Classification Accuracy: %.3f' % metrics.accuracy_score(y_test, y_pred))\n",
    "    print('Classification Error: %.3f' % (1 - metrics.accuracy_score(y_test, y_pred)))\n",
    "    print('Sensitivity: %.3f' % metrics.recall_score(y_test, y_pred))\n",
    "    print('Specificity: %.3f' % (TN / float(TN + FP)))\n",
    "    print('False Positive Rate: %.3f' % (FP / float(TN + FP)))\n",
    "    print('Precision: %.3f' % (TP / float(TP + FP)))\n",
    "    print('F1 Score: %.3f' % metrics.f1_score(y_test, y_pred))\n",
    "    print('AUC: %.3f' % metrics.roc_auc_score(y_test, y_pred))"
   ]
  },
  {
   "cell_type": "code",
   "execution_count": 32,
   "metadata": {},
   "outputs": [
    {
     "name": "stdout",
     "output_type": "stream",
     "text": [
      "Logistic Regression Evaluation Metrics:\n",
      "Model score: 0.959\n"
     ]
    },
    {
     "data": {
      "image/png": "[encoded data removed]",
      "text/plain": [
       "<Figure size 432x288 with 2 Axes>"
      ]
     },
     "metadata": {
      "needs_background": "light"
     },
     "output_type": "display_data"
    },
    {
     "name": "stdout",
     "output_type": "stream",
     "text": [
      "              precision    recall  f1-score   support\n",
      "\n",
      "           0       0.97      0.99      0.98        95\n",
      "           1       0.00      0.00      0.00         3\n",
      "\n",
      "    accuracy                           0.96        98\n",
      "   macro avg       0.48      0.49      0.49        98\n",
      "weighted avg       0.94      0.96      0.95        98\n",
      "\n",
      "Classification Accuracy: 0.959\n",
      "Classification Error: 0.041\n",
      "Sensitivity: 0.000\n",
      "Specificity: 0.989\n",
      "False Positive Rate: 0.011\n",
      "Precision: 0.000\n",
      "F1 Score: 0.000\n",
      "AUC: 0.495\n"
     ]
    }
   ],
   "source": [
    "# split data\n",
    "from sklearn.model_selection import train_test_split\n",
    "X_train, X_test, y_train, y_test = train_test_split(X, y, stratify=y, test_size=0.5, random_state=42)\n",
    "\n",
    "# LOGISTIC REGRESSION MODEL\n",
    "from sklearn.linear_model import LogisticRegression\n",
    "\n",
    "clf = LogisticRegression(solver='lbfgs')\n",
    "# set max_iter=400 to overcome algortihm not converging\n",
    "\n",
    "clf.fit(X_train, y_train)\n",
    "print(\"Logistic Regression Evaluation Metrics:\")\n",
    "\n",
    "print(\"Model score: %.3f\" % clf.score(X_test, y_test))\n",
    "\n",
    "y_pred = clf.predict(X_test)\n",
    "\n",
    "# store the predicted probabilities for class 1 (Baby is LGA)\n",
    "y_pred_prob = clf.predict_proba(X_test)[:, 1]\n",
    "\n",
    "evaluate_model(y_test, y_pred)"
   ]
  },
  {
   "cell_type": "code",
   "execution_count": null,
   "metadata": {},
   "outputs": [],
   "source": [
    "# attempt threshold tuning"
   ]
  },
  {
   "cell_type": "code",
   "execution_count": 54,
   "metadata": {},
   "outputs": [
    {
     "name": "stdout",
     "output_type": "stream",
     "text": [
      "Best Threshold=0.024023, F-Score=nan\n"
     ]
    },
    {
     "data": {
      "image/png": "[encoded data removed]",
      "text/plain": [
       "<Figure size 432x288 with 1 Axes>"
      ]
     },
     "metadata": {
      "needs_background": "light"
     },
     "output_type": "display_data"
    }
   ],
   "source": [
    "# search thresholds for imbalanced classification\n",
    "from numpy import arange\n",
    "from numpy import argmax\n",
    "from sklearn.datasets import make_classification\n",
    "from sklearn.linear_model import LogisticRegression\n",
    "from sklearn.model_selection import train_test_split\n",
    "from sklearn.metrics import f1_score\n",
    "from sklearn.metrics import precision_recall_curve\n",
    "\n",
    "# split into train/test sets\n",
    "trainX, testX, trainy, testy = train_test_split(X, y, test_size=0.5, random_state=2, stratify=y)\n",
    "\n",
    "# fit a model\n",
    "model = LogisticRegression(solver='lbfgs')\n",
    "model.fit(trainX, trainy)\n",
    "\n",
    "# predict probabilities\n",
    "yhat = model.predict_proba(testX)\n",
    "\n",
    "# keep probabilities for the positive outcome only\n",
    "yhat = yhat[:, 1]\n",
    "\n",
    "# calculate roc curves\n",
    "precision, recall, thresholds = precision_recall_curve(testy, yhat)\n",
    "\n",
    "# convert to f score\n",
    "fscore = (2 * precision * recall) / (precision + recall)\n",
    "\n",
    "# locate the index of the largest f score\n",
    "ix = argmax(fscore)\n",
    "\n",
    "print('Best Threshold=%f, F-Score=%.3f' % (thresholds[ix], fscore[ix]))\n",
    "\n",
    "# plot the roc curve for the model\n",
    "no_skill = len(testy[testy==1]) / len(testy)\n",
    "pyplot.plot([0,1], [no_skill,no_skill], linestyle='--', label='No Skill')\n",
    "pyplot.plot(recall, precision, marker='.', label='Logistic')\n",
    "pyplot.scatter(recall[ix], precision[ix], marker='o', color='black', label='Best')\n",
    "# axis labels\n",
    "pyplot.xlabel('Recall')\n",
    "pyplot.ylabel('Precision')\n",
    "pyplot.legend()\n",
    "# show the plot\n",
    "pyplot.show()"
   ]
  },
  {
   "cell_type": "code",
   "execution_count": 49,
   "metadata": {},
   "outputs": [
    {
     "name": "stdout",
     "output_type": "stream",
     "text": [
      "F-Score: 0.00000\n"
     ]
    }
   ],
   "source": [
    "# predict labels\n",
    "yhat = model.predict(testX)\n",
    "# evaluate the model\n",
    "score = f1_score(testy, yhat)\n",
    "print('F-Score: %.5f' % score)\n",
    "\n",
    "# Therefore, using a 0.5 threshold results in an F1 score of 0\n",
    "# However, tuning threshold to 0.14 results in F1 score of 0.36"
   ]
  },
  {
   "cell_type": "code",
   "execution_count": 48,
   "metadata": {},
   "outputs": [
    {
     "name": "stdout",
     "output_type": "stream",
     "text": [
      "Threshold=0.012, F0.5-Score=0.11494\n"
     ]
    }
   ],
   "source": [
    "# now tune using F0.5 score?\n",
    "\n",
    "# search thresholds for imbalanced classification\n",
    "from numpy import arange\n",
    "from numpy import argmax\n",
    "from sklearn.datasets import make_classification\n",
    "from sklearn.linear_model import LogisticRegression\n",
    "from sklearn.model_selection import train_test_split\n",
    "from sklearn.metrics import f1_score\n",
    "from sklearn.metrics import precision_recall_curve\n",
    "\n",
    "\n",
    "# apply threshold to positive probabilities to create labels\n",
    "def to_labels(pos_probs, threshold):\n",
    "\treturn (pos_probs >= threshold).astype('int')\n",
    "\n",
    "# split into train/test sets\n",
    "trainX, testX, trainy, testy = train_test_split(X, y, test_size=0.5, random_state=2, stratify=y)\n",
    "\n",
    "# fit a model\n",
    "model = LogisticRegression(solver='lbfgs')\n",
    "model.fit(trainX, trainy)\n",
    "\n",
    "# predict probabilities\n",
    "yhat = model.predict_proba(testX)\n",
    "\n",
    "# keep probabilities for the positive outcome only\n",
    "probs = yhat[:, 1]\n",
    "\n",
    "# define thresholds\n",
    "thresholds = arange(0, 1, 0.001)\n",
    "\n",
    "# define f0.5 score\n",
    "from sklearn.metrics import fbeta_score\n",
    "def f05(y_true, y_pred):\n",
    "    return fbeta_score(y_true, y_pred, beta=0.5)\n",
    "\n",
    "# evaluate each threshold\n",
    "scores = [f05(testy, to_labels(probs, t)) for t in thresholds]\n",
    "\n",
    "# get best threshold\n",
    "ix = argmax(scores)\n",
    "print('Threshold=%.3f, F0.5-Score=%.5f' % (thresholds[ix], scores[ix]))"
   ]
  },
  {
   "cell_type": "code",
   "execution_count": 52,
   "metadata": {},
   "outputs": [
    {
     "data": {
      "text/plain": [
       "0.11494252873563218"
      ]
     },
     "execution_count": 52,
     "metadata": {},
     "output_type": "execute_result"
    }
   ],
   "source": [
    "y_pred = model.predict(X_test)\n",
    "\n",
    "# evaluate the model\n",
    "fbeta_score(testy, y_pred, beta=0.5)\n",
    "fbeta_score(testy, to_labels(probs, 0.012), beta=0.5)\n",
    "\n",
    "# Therefore, using a 0.5 threshold results in an F0.5 score of 0\n",
    "# However, tuning threshold to 0.012 results in F1 score of 0.11"
   ]
  },
  {
   "cell_type": "code",
   "execution_count": 53,
   "metadata": {},
   "outputs": [
    {
     "ename": "IndexError",
     "evalue": "index 12 is out of bounds for axis 0 with size 3",
     "output_type": "error",
     "traceback": [
      "\u001b[0;31m---------------------------------------------------------------------------\u001b[0m",
      "\u001b[0;31mIndexError\u001b[0m                                Traceback (most recent call last)",
      "\u001b[0;32m<ipython-input-53-89c5fd346400>\u001b[0m in \u001b[0;36m<module>\u001b[0;34m\u001b[0m\n\u001b[1;32m      6\u001b[0m \u001b[0mpyplot\u001b[0m\u001b[0;34m.\u001b[0m\u001b[0mplot\u001b[0m\u001b[0;34m(\u001b[0m\u001b[0;34m[\u001b[0m\u001b[0;36m0\u001b[0m\u001b[0;34m,\u001b[0m\u001b[0;36m1\u001b[0m\u001b[0;34m]\u001b[0m\u001b[0;34m,\u001b[0m \u001b[0;34m[\u001b[0m\u001b[0mno_skill\u001b[0m\u001b[0;34m,\u001b[0m\u001b[0mno_skill\u001b[0m\u001b[0;34m]\u001b[0m\u001b[0;34m,\u001b[0m \u001b[0mlinestyle\u001b[0m\u001b[0;34m=\u001b[0m\u001b[0;34m'--'\u001b[0m\u001b[0;34m,\u001b[0m \u001b[0mlabel\u001b[0m\u001b[0;34m=\u001b[0m\u001b[0;34m'No Skill'\u001b[0m\u001b[0;34m)\u001b[0m\u001b[0;34m\u001b[0m\u001b[0;34m\u001b[0m\u001b[0m\n\u001b[1;32m      7\u001b[0m \u001b[0mpyplot\u001b[0m\u001b[0;34m.\u001b[0m\u001b[0mplot\u001b[0m\u001b[0;34m(\u001b[0m\u001b[0mrecall\u001b[0m\u001b[0;34m,\u001b[0m \u001b[0mprecision\u001b[0m\u001b[0;34m,\u001b[0m \u001b[0mmarker\u001b[0m\u001b[0;34m=\u001b[0m\u001b[0;34m'.'\u001b[0m\u001b[0;34m,\u001b[0m \u001b[0mlabel\u001b[0m\u001b[0;34m=\u001b[0m\u001b[0;34m'Logistic'\u001b[0m\u001b[0;34m)\u001b[0m\u001b[0;34m\u001b[0m\u001b[0;34m\u001b[0m\u001b[0m\n\u001b[0;32m----> 8\u001b[0;31m \u001b[0mpyplot\u001b[0m\u001b[0;34m.\u001b[0m\u001b[0mscatter\u001b[0m\u001b[0;34m(\u001b[0m\u001b[0mrecall\u001b[0m\u001b[0;34m[\u001b[0m\u001b[0mix\u001b[0m\u001b[0;34m]\u001b[0m\u001b[0;34m,\u001b[0m \u001b[0mprecision\u001b[0m\u001b[0;34m[\u001b[0m\u001b[0mix\u001b[0m\u001b[0;34m]\u001b[0m\u001b[0;34m,\u001b[0m \u001b[0mmarker\u001b[0m\u001b[0;34m=\u001b[0m\u001b[0;34m'o'\u001b[0m\u001b[0;34m,\u001b[0m \u001b[0mcolor\u001b[0m\u001b[0;34m=\u001b[0m\u001b[0;34m'black'\u001b[0m\u001b[0;34m,\u001b[0m \u001b[0mlabel\u001b[0m\u001b[0;34m=\u001b[0m\u001b[0;34m'Best'\u001b[0m\u001b[0;34m)\u001b[0m\u001b[0;34m\u001b[0m\u001b[0;34m\u001b[0m\u001b[0m\n\u001b[0m\u001b[1;32m      9\u001b[0m \u001b[0;31m# axis labels\u001b[0m\u001b[0;34m\u001b[0m\u001b[0;34m\u001b[0m\u001b[0;34m\u001b[0m\u001b[0m\n\u001b[1;32m     10\u001b[0m \u001b[0mpyplot\u001b[0m\u001b[0;34m.\u001b[0m\u001b[0mxlabel\u001b[0m\u001b[0;34m(\u001b[0m\u001b[0;34m'Recall'\u001b[0m\u001b[0;34m)\u001b[0m\u001b[0;34m\u001b[0m\u001b[0;34m\u001b[0m\u001b[0m\n",
      "\u001b[0;31mIndexError\u001b[0m: index 12 is out of bounds for axis 0 with size 3"
     ]
    },
    {
     "data": {
      "image/png": "[encoded data removed]",
      "text/plain": [
       "<Figure size 432x288 with 1 Axes>"
      ]
     },
     "metadata": {
      "needs_background": "light"
     },
     "output_type": "display_data"
    }
   ],
   "source": [
    "# calculate roc curves\n",
    "precision, recall, thresholds = precision_recall_curve(testy, yhat)\n",
    "\n",
    "# plot the roc curve for the model\n",
    "no_skill = len(testy[testy==1]) / len(testy)\n",
    "pyplot.plot([0,1], [no_skill,no_skill], linestyle='--', label='No Skill')\n",
    "pyplot.plot(recall, precision, marker='.', label='Logistic')\n",
    "pyplot.scatter(recall[ix], precision[ix], marker='o', color='black', label='Best')\n",
    "# axis labels\n",
    "pyplot.xlabel('Recall')\n",
    "pyplot.ylabel('Precision')\n",
    "pyplot.legend()\n",
    "# show the plot\n",
    "pyplot.show()"
   ]
  },
  {
   "cell_type": "code",
   "execution_count": null,
   "metadata": {},
   "outputs": [],
   "source": []
  }
 ],
 "metadata": {
  "kernelspec": {
   "display_name": "Python 3 (ipykernel)",
   "language": "python",
   "name": "python3"
  },
  "language_info": {
   "codemirror_mode": {
    "name": "ipython",
    "version": 3
   },
   "file_extension": ".py",
   "mimetype": "text/x-python",
   "name": "python",
   "nbconvert_exporter": "python",
   "pygments_lexer": "ipython3",
   "version": "3.7.6"
  }
 },
 "nbformat": 4,
 "nbformat_minor": 4
}
