{
 "cells": [
  {
   "cell_type": "code",
   "execution_count": 1,
   "metadata": {},
   "outputs": [],
   "source": [
    "import pandas as pd\n",
    "import numpy as np"
   ]
  },
  {
   "cell_type": "code",
   "execution_count": 2,
   "metadata": {},
   "outputs": [],
   "source": [
    "import warnings\n",
    "warnings.filterwarnings(\"ignore\")"
   ]
  },
  {
   "cell_type": "code",
   "execution_count": 3,
   "metadata": {},
   "outputs": [],
   "source": [
    "# load data\n",
    "X = pd.read_csv(\"featuresMatrix_Preprocessed_OHEColumnsNamed.csv\")\n",
    "y = pd.read_csv(\"dependentVariableLGAEncoded.csv\")\n",
    "\n",
    "# split data\n",
    "#from sklearn.model_selection import train_test_split\n",
    "#X_train, X_test, y_train, y_test = train_test_split(X, y, stratify=y, test_size=0.2, random_state=42)"
   ]
  },
  {
   "cell_type": "code",
   "execution_count": 4,
   "metadata": {},
   "outputs": [
    {
     "data": {
      "text/plain": [
       "0\n",
       "0    190\n",
       "1      6\n",
       "dtype: int64"
      ]
     },
     "execution_count": 4,
     "metadata": {},
     "output_type": "execute_result"
    }
   ],
   "source": [
    "y.value_counts()"
   ]
  },
  {
   "cell_type": "code",
   "execution_count": 5,
   "metadata": {},
   "outputs": [
    {
     "data": {
      "text/plain": [
       "(196, 57)"
      ]
     },
     "execution_count": 5,
     "metadata": {},
     "output_type": "execute_result"
    }
   ],
   "source": [
    "X.shape"
   ]
  },
  {
   "cell_type": "code",
   "execution_count": 6,
   "metadata": {},
   "outputs": [
    {
     "data": {
      "text/plain": [
       "(196, 57)"
      ]
     },
     "execution_count": 6,
     "metadata": {},
     "output_type": "execute_result"
    }
   ],
   "source": [
    "from sklearn.feature_selection import VarianceThreshold\n",
    "sel = VarianceThreshold(threshold=(.8 * (1 - .8)))\n",
    "sel.fit_transform(X)\n",
    "X.shape\n",
    "# same shape as before, so no columns removed, therefore no columns had only 20% variance"
   ]
  },
  {
   "cell_type": "markdown",
   "metadata": {},
   "source": [
    "# 1. Univariate Selection\n",
    "Statistical tests can be used to select those features that have the strongest relationship with the output variable.\n",
    "\n",
    "The scikit-learn library provides the SelectKBest class that can be used with a suite of different statistical tests to select a specific number of features.\n",
    "\n",
    "Many different statistical test scan be used with this selection method. For example the ANOVA F-value method is appropriate for numerical inputs and categorical data."
   ]
  },
  {
   "cell_type": "markdown",
   "metadata": {},
   "source": [
    "## ANOVA F-value"
   ]
  },
  {
   "cell_type": "code",
   "execution_count": 7,
   "metadata": {},
   "outputs": [
    {
     "name": "stdout",
     "output_type": "stream",
     "text": [
      "                       Feature     Score\n",
      "22                      highBG  7.068341\n",
      "52        familyHistoryGDM_YES  6.784551\n",
      "51         familyHistoryGDM_NO  6.784551\n",
      "14                      meanBG  6.669806\n",
      "6   maternalWeight3rdTrimester  5.729890\n",
      "16                       minBG  5.244379\n",
      "55              insulinFlag_NO  5.001632\n",
      "56             insulinFlag_YES  5.001632\n",
      "3      maternalWeightAtBooking  4.879427\n",
      "13          GDMInsulinGestWeek  4.126219\n"
     ]
    }
   ],
   "source": [
    "from sklearn.feature_selection import SelectKBest, f_classif, chi2, mutual_info_classif\n",
    "\n",
    "#apply SelectKBest class to extract top 10 best features\n",
    "bestfeatures = SelectKBest(score_func=f_classif, k=10)\n",
    "fit = bestfeatures.fit(X,y)\n",
    "dfscores = pd.DataFrame(fit.scores_)\n",
    "dfcolumns = pd.DataFrame(X.columns)\n",
    "#concat two dataframes for better visualization \n",
    "featureScores = pd.concat([dfcolumns,dfscores],axis=1)\n",
    "featureScores.columns = ['Feature','Score']  #naming the dataframe columns\n",
    "\n",
    "\n",
    "#print 10 best features\n",
    "top10= featureScores.nlargest(10,'Score')\n",
    "print(top10)"
   ]
  },
  {
   "cell_type": "code",
   "execution_count": 21,
   "metadata": {},
   "outputs": [
    {
     "data": {
      "text/html": [
       "<div>\n",
       "<style scoped>\n",
       "    .dataframe tbody tr th:only-of-type {\n",
       "        vertical-align: middle;\n",
       "    }\n",
       "\n",
       "    .dataframe tbody tr th {\n",
       "        vertical-align: top;\n",
       "    }\n",
       "\n",
       "    .dataframe thead th {\n",
       "        text-align: right;\n",
       "    }\n",
       "</style>\n",
       "<table border=\"1\" class=\"dataframe\">\n",
       "  <thead>\n",
       "    <tr style=\"text-align: right;\">\n",
       "      <th></th>\n",
       "      <th>feature</th>\n",
       "      <th>p_value</th>\n",
       "    </tr>\n",
       "  </thead>\n",
       "  <tbody>\n",
       "    <tr>\n",
       "      <th>22</th>\n",
       "      <td>highBG</td>\n",
       "      <td>0.008501</td>\n",
       "    </tr>\n",
       "    <tr>\n",
       "      <th>52</th>\n",
       "      <td>familyHistoryGDM_YES</td>\n",
       "      <td>0.009907</td>\n",
       "    </tr>\n",
       "    <tr>\n",
       "      <th>51</th>\n",
       "      <td>familyHistoryGDM_NO</td>\n",
       "      <td>0.009907</td>\n",
       "    </tr>\n",
       "    <tr>\n",
       "      <th>14</th>\n",
       "      <td>meanBG</td>\n",
       "      <td>0.010542</td>\n",
       "    </tr>\n",
       "    <tr>\n",
       "      <th>6</th>\n",
       "      <td>maternalWeight3rdTrimester</td>\n",
       "      <td>0.017631</td>\n",
       "    </tr>\n",
       "    <tr>\n",
       "      <th>16</th>\n",
       "      <td>minBG</td>\n",
       "      <td>0.023094</td>\n",
       "    </tr>\n",
       "    <tr>\n",
       "      <th>55</th>\n",
       "      <td>insulinFlag_NO</td>\n",
       "      <td>0.026462</td>\n",
       "    </tr>\n",
       "    <tr>\n",
       "      <th>56</th>\n",
       "      <td>insulinFlag_YES</td>\n",
       "      <td>0.026462</td>\n",
       "    </tr>\n",
       "    <tr>\n",
       "      <th>3</th>\n",
       "      <td>maternalWeightAtBooking</td>\n",
       "      <td>0.028349</td>\n",
       "    </tr>\n",
       "    <tr>\n",
       "      <th>13</th>\n",
       "      <td>GDMInsulinGestWeek</td>\n",
       "      <td>0.043588</td>\n",
       "    </tr>\n",
       "    <tr>\n",
       "      <th>28</th>\n",
       "      <td>meanEFW</td>\n",
       "      <td>0.044939</td>\n",
       "    </tr>\n",
       "    <tr>\n",
       "      <th>50</th>\n",
       "      <td>familyHistoryDiabetes_YES</td>\n",
       "      <td>0.048021</td>\n",
       "    </tr>\n",
       "    <tr>\n",
       "      <th>49</th>\n",
       "      <td>familyHistoryDiabetes_NO</td>\n",
       "      <td>0.048021</td>\n",
       "    </tr>\n",
       "  </tbody>\n",
       "</table>\n",
       "</div>"
      ],
      "text/plain": [
       "                       feature   p_value\n",
       "22                      highBG  0.008501\n",
       "52        familyHistoryGDM_YES  0.009907\n",
       "51         familyHistoryGDM_NO  0.009907\n",
       "14                      meanBG  0.010542\n",
       "6   maternalWeight3rdTrimester  0.017631\n",
       "16                       minBG  0.023094\n",
       "55              insulinFlag_NO  0.026462\n",
       "56             insulinFlag_YES  0.026462\n",
       "3      maternalWeightAtBooking  0.028349\n",
       "13          GDMInsulinGestWeek  0.043588\n",
       "28                     meanEFW  0.044939\n",
       "50   familyHistoryDiabetes_YES  0.048021\n",
       "49    familyHistoryDiabetes_NO  0.048021"
      ]
     },
     "metadata": {},
     "output_type": "display_data"
    },
    {
     "name": "stdout",
     "output_type": "stream",
     "text": [
      "0.009\n",
      "0.010\n",
      "0.010\n",
      "0.011\n",
      "0.018\n",
      "0.023\n",
      "0.026\n",
      "0.026\n",
      "0.028\n",
      "0.044\n",
      "0.045\n",
      "0.048\n",
      "0.048\n"
     ]
    }
   ],
   "source": [
    "p_values = pd.DataFrame({'feature': X.columns, 'p_value':\n",
    "                         bestfeatures.pvalues_}).sort_values('p_value')\n",
    "\n",
    "pd.set_option('display.max_rows', 100)\n",
    "# print (p_values) # print all features and their p_values\n",
    "\n",
    "\n",
    "# print features with p values less 0.05 only    \n",
    "top_p_values = p_values[p_values['p_value'] < .05]\n",
    "\n",
    "display(top_p_values)\n",
    "\n",
    "for x in (top_p_values['p_value']):\n",
    "    print (\"%.3f\" % (x))"
   ]
  },
  {
   "cell_type": "code",
   "execution_count": 22,
   "metadata": {},
   "outputs": [
    {
     "data": {
      "image/png": "[encoded data removed]",
      "text/plain": [
       "<Figure size 640x480 with 1 Axes>"
      ]
     },
     "metadata": {},
     "output_type": "display_data"
    }
   ],
   "source": [
    "# Now plot top 10 features in histogram\n",
    "import matplotlib.pyplot as plt\n",
    "\n",
    "plt.figure()\n",
    "#plt.xticks(rotation=90)\n",
    "plt.ylabel(\"Feature\")\n",
    "plt.xlabel(\"Score\")\n",
    "\n",
    "plt.title(\"Top 10 features using ANOVA test in NHS dataset\")\n",
    "plt.barh(top10['Feature'], top10['Score'], color='b', align='center')\n",
    "plt.tight_layout()\n",
    "\n",
    "plt.savefig('figures/featureSelection/nhs_anova_top10.png')\n",
    "\n",
    "plt.show()"
   ]
  },
  {
   "cell_type": "code",
   "execution_count": 24,
   "metadata": {},
   "outputs": [
    {
     "data": {
      "text/html": [
       "<div>\n",
       "<style scoped>\n",
       "    .dataframe tbody tr th:only-of-type {\n",
       "        vertical-align: middle;\n",
       "    }\n",
       "\n",
       "    .dataframe tbody tr th {\n",
       "        vertical-align: top;\n",
       "    }\n",
       "\n",
       "    .dataframe thead th {\n",
       "        text-align: right;\n",
       "    }\n",
       "</style>\n",
       "<table border=\"1\" class=\"dataframe\">\n",
       "  <thead>\n",
       "    <tr style=\"text-align: right;\">\n",
       "      <th></th>\n",
       "      <th>Feature</th>\n",
       "      <th>p_value</th>\n",
       "    </tr>\n",
       "  </thead>\n",
       "  <tbody>\n",
       "    <tr>\n",
       "      <th>22</th>\n",
       "      <td>highBG</td>\n",
       "      <td>0.008501</td>\n",
       "    </tr>\n",
       "    <tr>\n",
       "      <th>52</th>\n",
       "      <td>familyHistoryGDM_YES</td>\n",
       "      <td>0.009907</td>\n",
       "    </tr>\n",
       "    <tr>\n",
       "      <th>51</th>\n",
       "      <td>familyHistoryGDM_NO</td>\n",
       "      <td>0.009907</td>\n",
       "    </tr>\n",
       "    <tr>\n",
       "      <th>14</th>\n",
       "      <td>meanBG</td>\n",
       "      <td>0.010542</td>\n",
       "    </tr>\n",
       "    <tr>\n",
       "      <th>6</th>\n",
       "      <td>maternalWeight3rdTrimester</td>\n",
       "      <td>0.017631</td>\n",
       "    </tr>\n",
       "    <tr>\n",
       "      <th>16</th>\n",
       "      <td>minBG</td>\n",
       "      <td>0.023094</td>\n",
       "    </tr>\n",
       "    <tr>\n",
       "      <th>55</th>\n",
       "      <td>insulinFlag_NO</td>\n",
       "      <td>0.026462</td>\n",
       "    </tr>\n",
       "    <tr>\n",
       "      <th>56</th>\n",
       "      <td>insulinFlag_YES</td>\n",
       "      <td>0.026462</td>\n",
       "    </tr>\n",
       "    <tr>\n",
       "      <th>3</th>\n",
       "      <td>maternalWeightAtBooking</td>\n",
       "      <td>0.028349</td>\n",
       "    </tr>\n",
       "    <tr>\n",
       "      <th>13</th>\n",
       "      <td>GDMInsulinGestWeek</td>\n",
       "      <td>0.043588</td>\n",
       "    </tr>\n",
       "    <tr>\n",
       "      <th>28</th>\n",
       "      <td>meanEFW</td>\n",
       "      <td>0.044939</td>\n",
       "    </tr>\n",
       "    <tr>\n",
       "      <th>50</th>\n",
       "      <td>familyHistoryDiabetes_YES</td>\n",
       "      <td>0.048021</td>\n",
       "    </tr>\n",
       "    <tr>\n",
       "      <th>49</th>\n",
       "      <td>familyHistoryDiabetes_NO</td>\n",
       "      <td>0.048021</td>\n",
       "    </tr>\n",
       "  </tbody>\n",
       "</table>\n",
       "</div>"
      ],
      "text/plain": [
       "                       Feature   p_value\n",
       "22                      highBG  0.008501\n",
       "52        familyHistoryGDM_YES  0.009907\n",
       "51         familyHistoryGDM_NO  0.009907\n",
       "14                      meanBG  0.010542\n",
       "6   maternalWeight3rdTrimester  0.017631\n",
       "16                       minBG  0.023094\n",
       "55              insulinFlag_NO  0.026462\n",
       "56             insulinFlag_YES  0.026462\n",
       "3      maternalWeightAtBooking  0.028349\n",
       "13          GDMInsulinGestWeek  0.043588\n",
       "28                     meanEFW  0.044939\n",
       "50   familyHistoryDiabetes_YES  0.048021\n",
       "49    familyHistoryDiabetes_NO  0.048021"
      ]
     },
     "metadata": {},
     "output_type": "display_data"
    }
   ],
   "source": [
    "# make dataframe with features and their p values\n",
    "p_values = pd.DataFrame({'Feature': X.columns, 'p_value':\n",
    "                         bestfeatures.pvalues_}).sort_values('p_value')\n",
    "\n",
    "pd.set_option('display.max_rows', 100)\n",
    "# print (p_values) # print all features and their p_values\n",
    "\n",
    "# print features with p values less 0.05 only\n",
    "p_values[p_values['p_value'] < .05] \n",
    "\n",
    "#keep features with p values less 0.05 only\n",
    "p_values[p_values['p_value'] < .05] \n",
    "#print(p_values)\n",
    "\n",
    "top_p_values = p_values[p_values['p_value'] < .05] \n",
    "\n",
    "display(top_p_values)"
   ]
  },
  {
   "cell_type": "code",
   "execution_count": 11,
   "metadata": {},
   "outputs": [
    {
     "data": {
      "image/png": "[encoded data removed]",
      "text/plain": [
       "<Figure size 640x480 with 1 Axes>"
      ]
     },
     "metadata": {},
     "output_type": "display_data"
    }
   ],
   "source": [
    "plt.figure()\n",
    "#plt.xticks(rotation=90)\n",
    "plt.ylabel(\"Feature\")\n",
    "plt.xlabel(\"P-value\")\n",
    "plt.title(\"Features with p-value<0.05 using ANOVA in NHS\")\n",
    "plt.barh(top_p_values['Feature'], top_p_values['p_value'], color='b', align='center')\n",
    "\n",
    "plt.tight_layout()\n",
    "\n",
    "plt.savefig('figures/featureselection/nhs_anova_top_pvalues.png')\n",
    "\n",
    "plt.show()"
   ]
  },
  {
   "cell_type": "code",
   "execution_count": null,
   "metadata": {},
   "outputs": [],
   "source": []
  },
  {
   "cell_type": "code",
   "execution_count": null,
   "metadata": {},
   "outputs": [],
   "source": []
  },
  {
   "cell_type": "code",
   "execution_count": null,
   "metadata": {},
   "outputs": [],
   "source": []
  },
  {
   "cell_type": "markdown",
   "metadata": {},
   "source": [
    "## Mutual Information"
   ]
  },
  {
   "cell_type": "code",
   "execution_count": 10,
   "metadata": {},
   "outputs": [
    {
     "name": "stdout",
     "output_type": "stream",
     "text": [
      "                        Feature     Score\n",
      "35               eclampsiaFH_NO  0.159044\n",
      "50    familyHistoryDiabetes_YES  0.154792\n",
      "36  gestationalPre-eclampsia_NO  0.152241\n",
      "42   gestationalHypertension_NO  0.149690\n",
      "40            hypertensionFH_NO  0.134933\n",
      "33            prevMacrosomia_NO  0.128358\n",
      "51          familyHistoryGDM_NO  0.124829\n",
      "8                     gravidity  0.122976\n",
      "53             metforminFlag_NO  0.120523\n",
      "45        ethnicity_South Asian  0.104773\n"
     ]
    }
   ],
   "source": [
    "from sklearn.feature_selection import SelectKBest, f_classif, chi2, mutual_info_classif\n",
    "\n",
    "#apply SelectKBest class to extract top 10 best features\n",
    "bestfeatures = SelectKBest(score_func=mutual_info_classif, k=10)\n",
    "fit = bestfeatures.fit(X,y)\n",
    "dfscores = pd.DataFrame(fit.scores_)\n",
    "dfcolumns = pd.DataFrame(X.columns)\n",
    "#concat two dataframes for better visualization \n",
    "featureScores = pd.concat([dfcolumns,dfscores],axis=1)\n",
    "featureScores.columns = ['Feature','Score']  #naming the dataframe columns\n",
    "print(featureScores.nlargest(10,'Score'))  #print 10 best features"
   ]
  },
  {
   "cell_type": "code",
   "execution_count": null,
   "metadata": {},
   "outputs": [],
   "source": []
  },
  {
   "cell_type": "code",
   "execution_count": null,
   "metadata": {},
   "outputs": [],
   "source": []
  },
  {
   "cell_type": "code",
   "execution_count": null,
   "metadata": {},
   "outputs": [],
   "source": []
  },
  {
   "cell_type": "code",
   "execution_count": null,
   "metadata": {},
   "outputs": [],
   "source": []
  },
  {
   "cell_type": "markdown",
   "metadata": {},
   "source": [
    "# 2. Feature Importance\n",
    "Bagged decision trees like Random Forest and Extra Trees can be used to estimate the importance of features."
   ]
  },
  {
   "cell_type": "code",
   "execution_count": null,
   "metadata": {},
   "outputs": [],
   "source": []
  },
  {
   "cell_type": "code",
   "execution_count": 25,
   "metadata": {},
   "outputs": [
    {
     "name": "stdout",
     "output_type": "stream",
     "text": [
      "[0.01966483 0.01272873 0.03145169 0.02494881 0.02603193 0.01959043\n",
      " 0.03043285 0.02223933 0.01321534 0.01720384 0.02276722 0.02406735\n",
      " 0.00674426 0.01314568 0.01978545 0.01951029 0.01967729 0.01164362\n",
      " 0.01368685 0.01214424 0.01366582 0.02612915 0.03364564 0.02111477\n",
      " 0.03284889 0.02858987 0.02128297 0.02545083 0.05193034 0.03370189\n",
      " 0.03139194 0.05198853 0.04421568 0.00186257 0.00010114 0.\n",
      " 0.00028655 0.         0.01697951 0.01682468 0.00978863 0.00563652\n",
      " 0.         0.         0.00085965 0.01377889 0.01640865 0.0035281\n",
      " 0.01078934 0.01200902 0.01134733 0.01956865 0.02826081 0.00357315\n",
      " 0.00112818 0.01081625 0.01981604]\n"
     ]
    },
    {
     "data": {
      "image/png": "[encoded data removed]",
      "text/plain": [
       "<Figure size 640x480 with 1 Axes>"
      ]
     },
     "metadata": {},
     "output_type": "display_data"
    }
   ],
   "source": [
    "from sklearn.ensemble import ExtraTreesClassifier\n",
    "import matplotlib.pyplot as plt\n",
    "model = ExtraTreesClassifier(n_estimators=100, random_state=42)\n",
    "\n",
    "# different reseults when I run:\n",
    "# model = ExtraTreesClassifier(n_estimators=10)\n",
    "# different results every time I run this\n",
    "\n",
    "model.fit(X,y)\n",
    "print(model.feature_importances_) #use inbuilt class feature_importances of tree based classifiers\n",
    "\n",
    "#plot graph of feature importances for better visualization\n",
    "feat_importances = pd.Series(model.feature_importances_, index=X.columns)\n",
    "feat_importances.nlargest(10).plot(kind='barh')\n",
    "\n",
    "\n",
    "#plot\n",
    "plt.title(\"Top 10 features using Feature Importance in NHS\")\n",
    "plt.tight_layout()\n",
    "plt.savefig('figures/featureSelection/nhs_featureImportance.png')\n",
    "\n",
    "plt.show()"
   ]
  },
  {
   "cell_type": "markdown",
   "metadata": {},
   "source": [
    "# 3. Recursive Feature Elimination\n"
   ]
  },
  {
   "cell_type": "code",
   "execution_count": 26,
   "metadata": {},
   "outputs": [
    {
     "name": "stdout",
     "output_type": "stream",
     "text": [
      "Num Features: 10\n",
      "Selected Features: [False False False False  True False  True False False False False False\n",
      " False  True False False  True False  True False False False False False\n",
      " False  True False False False False False  True False False False False\n",
      " False False False False False False False False False False False False\n",
      " False  True  True False  True False False False False]\n",
      "Feature Ranking: [31 23 25  6  1 42  1 47  2 20  3 21 39  1 24  9  1 41  1 17 29 32  8 37\n",
      " 28  1  7 16 38 19  4  1 18 30 35 48 43 44 36 34 15 12 45 46 14 40 10 26\n",
      " 22  1  1  5  1 33 27 11 13]\n"
     ]
    }
   ],
   "source": [
    "from sklearn.feature_selection import RFE\n",
    "from sklearn.linear_model import LogisticRegression\n",
    "\n",
    "# feature extraction\n",
    "model = LogisticRegression()\n",
    "rfe = RFE(estimator=model, n_features_to_select=10)\n",
    "fit = rfe.fit(X, y)\n",
    "print(\"Num Features: %d\" % fit.n_features_)\n",
    "print(\"Selected Features: %s\" % fit.support_)\n",
    "print(\"Feature Ranking: %s\" % fit.ranking_)"
   ]
  },
  {
   "cell_type": "code",
   "execution_count": 27,
   "metadata": {},
   "outputs": [
    {
     "data": {
      "text/html": [
       "<div>\n",
       "<style scoped>\n",
       "    .dataframe tbody tr th:only-of-type {\n",
       "        vertical-align: middle;\n",
       "    }\n",
       "\n",
       "    .dataframe tbody tr th {\n",
       "        vertical-align: top;\n",
       "    }\n",
       "\n",
       "    .dataframe thead th {\n",
       "        text-align: right;\n",
       "    }\n",
       "</style>\n",
       "<table border=\"1\" class=\"dataframe\">\n",
       "  <thead>\n",
       "    <tr style=\"text-align: right;\">\n",
       "      <th></th>\n",
       "      <th>Feature</th>\n",
       "      <th>Ranking</th>\n",
       "    </tr>\n",
       "  </thead>\n",
       "  <tbody>\n",
       "    <tr>\n",
       "      <th>4</th>\n",
       "      <td>maternalHeight</td>\n",
       "      <td>1</td>\n",
       "    </tr>\n",
       "    <tr>\n",
       "      <th>6</th>\n",
       "      <td>maternalWeight3rdTrimester</td>\n",
       "      <td>1</td>\n",
       "    </tr>\n",
       "    <tr>\n",
       "      <th>13</th>\n",
       "      <td>GDMInsulinGestWeek</td>\n",
       "      <td>1</td>\n",
       "    </tr>\n",
       "    <tr>\n",
       "      <th>16</th>\n",
       "      <td>minBG</td>\n",
       "      <td>1</td>\n",
       "    </tr>\n",
       "    <tr>\n",
       "      <th>18</th>\n",
       "      <td>countBG</td>\n",
       "      <td>1</td>\n",
       "    </tr>\n",
       "    <tr>\n",
       "      <th>25</th>\n",
       "      <td>minAC</td>\n",
       "      <td>1</td>\n",
       "    </tr>\n",
       "    <tr>\n",
       "      <th>31</th>\n",
       "      <td>varEFW</td>\n",
       "      <td>1</td>\n",
       "    </tr>\n",
       "    <tr>\n",
       "      <th>49</th>\n",
       "      <td>familyHistoryDiabetes_NO</td>\n",
       "      <td>1</td>\n",
       "    </tr>\n",
       "    <tr>\n",
       "      <th>50</th>\n",
       "      <td>familyHistoryDiabetes_YES</td>\n",
       "      <td>1</td>\n",
       "    </tr>\n",
       "    <tr>\n",
       "      <th>52</th>\n",
       "      <td>familyHistoryGDM_YES</td>\n",
       "      <td>1</td>\n",
       "    </tr>\n",
       "  </tbody>\n",
       "</table>\n",
       "</div>"
      ],
      "text/plain": [
       "                       Feature  Ranking\n",
       "4               maternalHeight        1\n",
       "6   maternalWeight3rdTrimester        1\n",
       "13          GDMInsulinGestWeek        1\n",
       "16                       minBG        1\n",
       "18                     countBG        1\n",
       "25                       minAC        1\n",
       "31                      varEFW        1\n",
       "49    familyHistoryDiabetes_NO        1\n",
       "50   familyHistoryDiabetes_YES        1\n",
       "52        familyHistoryGDM_YES        1"
      ]
     },
     "execution_count": 27,
     "metadata": {},
     "output_type": "execute_result"
    }
   ],
   "source": [
    "dfranking = pd.DataFrame(fit.ranking_)\n",
    "dfcolumns = pd.DataFrame(X.columns)\n",
    "#concat two dataframes for better visualization \n",
    "featureScores = pd.concat([dfcolumns,dfranking],axis=1)\n",
    "featureScores.columns = ['Feature','Ranking']  #naming the dataframe columns\n",
    "# print(featureScores)\n",
    "featureScores.loc[featureScores['Ranking'] == 1]\n",
    "\n",
    "#print(featureScores.nlargest(10,'Score'))  #print 10 best features"
   ]
  },
  {
   "cell_type": "code",
   "execution_count": 17,
   "metadata": {},
   "outputs": [],
   "source": [
    "# create table with results from all feature selection methods"
   ]
  },
  {
   "cell_type": "code",
   "execution_count": 29,
   "metadata": {},
   "outputs": [],
   "source": [
    "# define f0.5 score\n",
    "from sklearn.metrics import fbeta_score, make_scorer\n",
    "f05_score = make_scorer(fbeta_score, beta=0.5)"
   ]
  },
  {
   "cell_type": "code",
   "execution_count": 31,
   "metadata": {},
   "outputs": [
    {
     "name": "stdout",
     "output_type": "stream",
     "text": [
      "Optimal number of features: 22\n"
     ]
    },
    {
     "data": {
      "image/png": "[encoded data removed]",
      "text/plain": [
       "<Figure size 640x480 with 1 Axes>"
      ]
     },
     "metadata": {},
     "output_type": "display_data"
    }
   ],
   "source": [
    "import matplotlib.pyplot as plt\n",
    "from sklearn.svm import SVC\n",
    "from sklearn.model_selection import StratifiedKFold\n",
    "from sklearn.feature_selection import RFECV\n",
    "from sklearn.datasets import make_classification\n",
    "\n",
    "\n",
    "# Create the RFE object and compute a cross-validated score.\n",
    "model = LogisticRegression()\n",
    "\n",
    "min_features_to_select = 1  # Minimum number of features to consider\n",
    "rfecv = RFECV(\n",
    "    estimator=model,\n",
    "    step=1,\n",
    "    cv=StratifiedKFold(5),\n",
    "    scoring=f05_score,\n",
    "    min_features_to_select=min_features_to_select,\n",
    ")\n",
    "rfecv.fit(X, y)\n",
    "\n",
    "print(\"Optimal number of features: %d\" % rfecv.n_features_)\n",
    "\n",
    "# Plot number of features VS. cross-validation scores\n",
    "plt.figure()\n",
    "plt.xlabel(\"Number of features selected\")\n",
    "plt.ylabel(\"Cross validation score (f1)\")\n",
    "plt.plot(\n",
    "    range(min_features_to_select, len(rfecv.grid_scores_) + min_features_to_select),\n",
    "    rfecv.grid_scores_,\n",
    ")\n",
    "plt.show()"
   ]
  },
  {
   "cell_type": "code",
   "execution_count": 37,
   "metadata": {},
   "outputs": [
    {
     "name": "stdout",
     "output_type": "stream",
     "text": [
      "Num Features: 10\n",
      "Selected Features: [False False False False  True False  True False False False False False\n",
      " False  True False False  True False  True False False False False False\n",
      " False  True False False False False False  True False False False False\n",
      " False False False False False False False False False False False False\n",
      " False  True  True False  True False False False False]\n",
      "Feature Ranking: [31 23 25  6  1 42  1 47  2 20  3 21 39  1 24  9  1 41  1 17 29 32  8 37\n",
      " 28  1  7 16 38 19  4  1 18 30 35 48 43 44 36 34 15 12 45 46 14 40 10 26\n",
      " 22  1  1  5  1 33 27 11 13]\n"
     ]
    },
    {
     "data": {
      "text/html": [
       "<div>\n",
       "<style scoped>\n",
       "    .dataframe tbody tr th:only-of-type {\n",
       "        vertical-align: middle;\n",
       "    }\n",
       "\n",
       "    .dataframe tbody tr th {\n",
       "        vertical-align: top;\n",
       "    }\n",
       "\n",
       "    .dataframe thead th {\n",
       "        text-align: right;\n",
       "    }\n",
       "</style>\n",
       "<table border=\"1\" class=\"dataframe\">\n",
       "  <thead>\n",
       "    <tr style=\"text-align: right;\">\n",
       "      <th></th>\n",
       "      <th>Feature</th>\n",
       "      <th>Ranking</th>\n",
       "    </tr>\n",
       "  </thead>\n",
       "  <tbody>\n",
       "    <tr>\n",
       "      <th>4</th>\n",
       "      <td>maternalHeight</td>\n",
       "      <td>1</td>\n",
       "    </tr>\n",
       "    <tr>\n",
       "      <th>6</th>\n",
       "      <td>maternalWeight3rdTrimester</td>\n",
       "      <td>1</td>\n",
       "    </tr>\n",
       "    <tr>\n",
       "      <th>13</th>\n",
       "      <td>GDMInsulinGestWeek</td>\n",
       "      <td>1</td>\n",
       "    </tr>\n",
       "    <tr>\n",
       "      <th>16</th>\n",
       "      <td>minBG</td>\n",
       "      <td>1</td>\n",
       "    </tr>\n",
       "    <tr>\n",
       "      <th>18</th>\n",
       "      <td>countBG</td>\n",
       "      <td>1</td>\n",
       "    </tr>\n",
       "    <tr>\n",
       "      <th>25</th>\n",
       "      <td>minAC</td>\n",
       "      <td>1</td>\n",
       "    </tr>\n",
       "    <tr>\n",
       "      <th>31</th>\n",
       "      <td>varEFW</td>\n",
       "      <td>1</td>\n",
       "    </tr>\n",
       "    <tr>\n",
       "      <th>49</th>\n",
       "      <td>familyHistoryDiabetes_NO</td>\n",
       "      <td>1</td>\n",
       "    </tr>\n",
       "    <tr>\n",
       "      <th>50</th>\n",
       "      <td>familyHistoryDiabetes_YES</td>\n",
       "      <td>1</td>\n",
       "    </tr>\n",
       "    <tr>\n",
       "      <th>52</th>\n",
       "      <td>familyHistoryGDM_YES</td>\n",
       "      <td>1</td>\n",
       "    </tr>\n",
       "  </tbody>\n",
       "</table>\n",
       "</div>"
      ],
      "text/plain": [
       "                       Feature  Ranking\n",
       "4               maternalHeight        1\n",
       "6   maternalWeight3rdTrimester        1\n",
       "13          GDMInsulinGestWeek        1\n",
       "16                       minBG        1\n",
       "18                     countBG        1\n",
       "25                       minAC        1\n",
       "31                      varEFW        1\n",
       "49    familyHistoryDiabetes_NO        1\n",
       "50   familyHistoryDiabetes_YES        1\n",
       "52        familyHistoryGDM_YES        1"
      ]
     },
     "execution_count": 37,
     "metadata": {},
     "output_type": "execute_result"
    }
   ],
   "source": [
    "from sklearn.feature_selection import RFE\n",
    "from sklearn.linear_model import LogisticRegression\n",
    "from sklearn.svm import LinearSVC, SVC\n",
    "from sklearn.tree import DecisionTreeClassifier\n",
    "\n",
    "# feature extraction\n",
    "model = LogisticRegression()\n",
    "rfe = RFE(estimator=model, n_features_to_select=10)\n",
    "fit = rfe.fit(X, y)\n",
    "print(\"Num Features: %d\" % fit.n_features_)\n",
    "print(\"Selected Features: %s\" % fit.support_)\n",
    "print(\"Feature Ranking: %s\" % fit.ranking_)\n",
    "\n",
    "\n",
    "dfranking = pd.DataFrame(fit.ranking_)\n",
    "dfcolumns = pd.DataFrame(X.columns)\n",
    "#concat two dataframes for better visualization \n",
    "featureScores = pd.concat([dfcolumns,dfranking],axis=1)\n",
    "featureScores.columns = ['Feature','Ranking']  #naming the dataframe columns\n",
    "# print(featureScores)\n",
    "featureScores.loc[featureScores['Ranking'] == 1]\n",
    "\n",
    "#print(featureScores.nlargest(10,'Score'))  #print 10 best features"
   ]
  },
  {
   "cell_type": "code",
   "execution_count": null,
   "metadata": {},
   "outputs": [],
   "source": []
  }
 ],
 "metadata": {
  "kernelspec": {
   "display_name": "Python 3 (ipykernel)",
   "language": "python",
   "name": "python3"
  },
  "language_info": {
   "codemirror_mode": {
    "name": "ipython",
    "version": 3
   },
   "file_extension": ".py",
   "mimetype": "text/x-python",
   "name": "python",
   "nbconvert_exporter": "python",
   "pygments_lexer": "ipython3",
   "version": "3.7.6"
  }
 },
 "nbformat": 4,
 "nbformat_minor": 4
}
