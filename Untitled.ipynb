{
 "cells": [
  {
   "cell_type": "code",
   "execution_count": 24,
   "id": "75f84af0-0d27-4156-8b22-292ff0894203",
   "metadata": {},
   "outputs": [],
   "source": [
    "def f05 (precision, recall):\n",
    "    f05score = ( (1 + pow(0.5, 2)) * precision * recall ) / (pow(0.5, 2)* precision + recall )\n",
    "    return round(f05score*100,1)\n"
   ]
  },
  {
   "cell_type": "code",
   "execution_count": 25,
   "id": "b22923a4-efe0-4552-9fe8-72b4b2136e5f",
   "metadata": {},
   "outputs": [
    {
     "data": {
      "text/plain": [
       "46.2"
      ]
     },
     "execution_count": 25,
     "metadata": {},
     "output_type": "execute_result"
    }
   ],
   "source": [
    "f05(0.412,0.90)"
   ]
  },
  {
   "cell_type": "code",
   "execution_count": 26,
   "id": "637a9a97-bec1-421f-bf0d-39dc368dbc88",
   "metadata": {},
   "outputs": [
    {
     "data": {
      "text/plain": [
       "67.6"
      ]
     },
     "execution_count": 26,
     "metadata": {},
     "output_type": "execute_result"
    }
   ],
   "source": [
    "f05(0.636,0.90)"
   ]
  },
  {
   "cell_type": "code",
   "execution_count": 27,
   "id": "11cf0de2-b57f-45b8-a118-d8c016f621e1",
   "metadata": {},
   "outputs": [
    {
     "data": {
      "text/plain": [
       "58.7"
      ]
     },
     "execution_count": 27,
     "metadata": {},
     "output_type": "execute_result"
    }
   ],
   "source": [
    "f05(0.552,0.79)"
   ]
  },
  {
   "cell_type": "code",
   "execution_count": null,
   "id": "7d84094c-1036-44af-8e24-825d6ae91797",
   "metadata": {},
   "outputs": [],
   "source": []
  },
  {
   "cell_type": "code",
   "execution_count": null,
   "id": "35cf845a-dbac-40de-b5c9-ef104bbba079",
   "metadata": {},
   "outputs": [],
   "source": []
  }
 ],
 "metadata": {
  "kernelspec": {
   "display_name": "Python 3 (ipykernel)",
   "language": "python",
   "name": "python3"
  },
  "language_info": {
   "codemirror_mode": {
    "name": "ipython",
    "version": 3
   },
   "file_extension": ".py",
   "mimetype": "text/x-python",
   "name": "python",
   "nbconvert_exporter": "python",
   "pygments_lexer": "ipython3",
   "version": "3.7.6"
  }
 },
 "nbformat": 4,
 "nbformat_minor": 5
}
