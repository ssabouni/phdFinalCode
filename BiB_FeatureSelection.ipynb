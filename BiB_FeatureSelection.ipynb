{
 "cells": [
  {
   "cell_type": "code",
   "execution_count": 1,
   "metadata": {},
   "outputs": [],
   "source": [
    "# Importing the libraries\n",
    "import numpy as np\n",
    "import pandas as pd"
   ]
  },
  {
   "cell_type": "code",
   "execution_count": 2,
   "metadata": {},
   "outputs": [],
   "source": [
    "import warnings\n",
    "warnings.filterwarnings(\"ignore\")"
   ]
  },
  {
   "cell_type": "code",
   "execution_count": 3,
   "metadata": {},
   "outputs": [],
   "source": [
    "# load data\n",
    "X = pd.read_csv('BibFeaturesMatrix_Preprocessed_OHEColumnsNamed.csv')\n",
    "y = pd.read_csv('BibDependentVariableLGAEncoded.csv')"
   ]
  },
  {
   "cell_type": "code",
   "execution_count": 4,
   "metadata": {},
   "outputs": [
    {
     "data": {
      "text/plain": [
       "12977"
      ]
     },
     "execution_count": 4,
     "metadata": {},
     "output_type": "execute_result"
    }
   ],
   "source": [
    "y.size"
   ]
  },
  {
   "cell_type": "code",
   "execution_count": 5,
   "metadata": {},
   "outputs": [
    {
     "data": {
      "text/plain": [
       "0\n",
       "0    12039\n",
       "1      938\n",
       "dtype: int64"
      ]
     },
     "execution_count": 5,
     "metadata": {},
     "output_type": "execute_result"
    }
   ],
   "source": [
    "y.value_counts()"
   ]
  },
  {
   "cell_type": "code",
   "execution_count": 6,
   "metadata": {},
   "outputs": [
    {
     "data": {
      "text/plain": [
       "0\n",
       "0    92.771827\n",
       "1     7.228173\n",
       "dtype: float64"
      ]
     },
     "execution_count": 6,
     "metadata": {},
     "output_type": "execute_result"
    }
   ],
   "source": [
    "y.value_counts(normalize=True)*100"
   ]
  },
  {
   "cell_type": "code",
   "execution_count": 7,
   "metadata": {},
   "outputs": [
    {
     "name": "stdout",
     "output_type": "stream",
     "text": [
      "<class 'pandas.core.frame.DataFrame'>\n",
      "RangeIndex: 12977 entries, 0 to 12976\n",
      "Data columns (total 60 columns):\n",
      " #   Column                      Non-Null Count  Dtype  \n",
      "---  ------                      --------------  -----  \n",
      " 0   ethnicity_Other             12977 non-null  float64\n",
      " 1   ethnicity_South Asian       12977 non-null  float64\n",
      " 2   ethnicity_White             12977 non-null  float64\n",
      " 3   ethnicity_nan               12977 non-null  float64\n",
      " 4   maternalDiabetes_No         12977 non-null  float64\n",
      " 5   maternalDiabetes_Yes        12977 non-null  float64\n",
      " 6   maternalDiabetes_missing    12977 non-null  float64\n",
      " 7   fhEclampsia_No              12977 non-null  float64\n",
      " 8   fhEclampsia_Not documented  12977 non-null  float64\n",
      " 9   fhEclampsia_Yes             12977 non-null  float64\n",
      " 10  fhEclampsia_missing         12977 non-null  float64\n",
      " 11  gdm_No                      12977 non-null  float64\n",
      " 12  gdm_Yes                     12977 non-null  float64\n",
      " 13  gdm_missing                 12977 non-null  float64\n",
      " 14  gdmDiet_No                  12977 non-null  float64\n",
      " 15  gdmDiet_Yes                 12977 non-null  float64\n",
      " 16  gdmInsulin_No               12977 non-null  float64\n",
      " 17  gdmInsulin_Yes              12977 non-null  float64\n",
      " 18  gdmLifestyle_No             12977 non-null  float64\n",
      " 19  gdmLifestyle_Yes            12977 non-null  float64\n",
      " 20  gdmMetformin_No             12977 non-null  float64\n",
      " 21  gdmMetformin_Yes            12977 non-null  float64\n",
      " 22  gdmNoTreatment_No           12977 non-null  float64\n",
      " 23  gdmNoTreatment_Yes          12977 non-null  float64\n",
      " 24  gdmNotDoc_No                12977 non-null  float64\n",
      " 25  gdmNotDoc_Not documented    12977 non-null  float64\n",
      " 26  gestHypertension_No         12977 non-null  float64\n",
      " 27  gestHypertension_Yes        12977 non-null  float64\n",
      " 28  gestHypertension_missing    12977 non-null  float64\n",
      " 29  gestEclampsia_No            12977 non-null  float64\n",
      " 30  gestEclampsia_Yes           12977 non-null  float64\n",
      " 31  gestEclampsia_missing       12977 non-null  float64\n",
      " 32  fhDiabetes_No               12977 non-null  float64\n",
      " 33  fhDiabetes_Not documented   12977 non-null  float64\n",
      " 34  fhDiabetes_Yes              12977 non-null  float64\n",
      " 35  fhDiabetes_missing          12977 non-null  float64\n",
      " 36  pregdm_No                   12977 non-null  float64\n",
      " 37  pregdm_Yes                  12977 non-null  float64\n",
      " 38  pregdm_missing              12977 non-null  float64\n",
      " 39  premacrosomia_No            12977 non-null  float64\n",
      " 40  premacrosomia_Yes           12977 non-null  float64\n",
      " 41  premacrosomia_missing       12977 non-null  float64\n",
      " 42  maternalAge                 12977 non-null  float64\n",
      " 43  parity                      12977 non-null  float64\n",
      " 44  bookingWeight               12977 non-null  float64\n",
      " 45  bookingBMI                  12977 non-null  float64\n",
      " 46  thirdTrimesterWeight        12977 non-null  float64\n",
      " 47  maternalHeight              12977 non-null  float64\n",
      " 48  fastingGlucose              12977 non-null  float64\n",
      " 49  postGlucose                 12977 non-null  float64\n",
      " 50  meanAbdomCirc               12977 non-null  float64\n",
      " 51  maxAbdomCirc                12977 non-null  float64\n",
      " 52  minAbdomCirc                12977 non-null  float64\n",
      " 53  varAbdomCirc                12977 non-null  float64\n",
      " 54  rangeAbdomCirc              12977 non-null  float64\n",
      " 55  meanFoetalWeight            12977 non-null  float64\n",
      " 56  maxFoetalWeight             12977 non-null  float64\n",
      " 57  minFoetalWeight             12977 non-null  float64\n",
      " 58  varFoetalWeight             12977 non-null  float64\n",
      " 59  rangeFoetalWeight           12977 non-null  float64\n",
      "dtypes: float64(60)\n",
      "memory usage: 5.9 MB\n"
     ]
    }
   ],
   "source": [
    "X.info()"
   ]
  },
  {
   "cell_type": "code",
   "execution_count": 8,
   "metadata": {},
   "outputs": [],
   "source": [
    "# define a function that will evaluate the model performance \n",
    "def evaluate_model(y_test, y_pred):\n",
    "    from sklearn import metrics\n",
    "    from sklearn.metrics import classification_report, confusion_matrix\n",
    "    confusion = metrics.confusion_matrix(y_test, y_pred)\n",
    "    \n",
    "    import matplotlib.pyplot as plt\n",
    "    import scikitplot as skplt\n",
    "    disp  = skplt.metrics.plot_confusion_matrix(y_test, y_pred)\n",
    "    disp.set_title(\"Confusion Matrix\")\n",
    "    plt.show()\n",
    "    \n",
    "    print(classification_report(y_test, y_pred))\n",
    "    \n",
    "    TP = confusion[1, 1]\n",
    "    TN = confusion[0, 0]\n",
    "    FP = confusion[0, 1]\n",
    "    FN = confusion[1, 0] \n",
    "    \n",
    "    print('Classification Accuracy: %.3f' % metrics.accuracy_score(y_test, y_pred))\n",
    "    print('Classification Error: %.3f' % (1 - metrics.accuracy_score(y_test, y_pred)))\n",
    "    print('Sensitivity: %.3f' % metrics.recall_score(y_test, y_pred))\n",
    "    print('Specificity: %.3f' % (TN / float(TN + FP)))\n",
    "    print('False Positive Rate: %.3f' % (FP / float(TN + FP)))\n",
    "    print('Precision: %.3f' % (TP / float(TP + FP)))\n",
    "    print('F1 Score: %.3f' % metrics.f1_score(y_test, y_pred))\n",
    "    print('AUC: %.3f' % metrics.roc_auc_score(y_test, y_pred))"
   ]
  },
  {
   "cell_type": "markdown",
   "metadata": {},
   "source": [
    "# Baseline Model"
   ]
  },
  {
   "cell_type": "code",
   "execution_count": 9,
   "metadata": {},
   "outputs": [
    {
     "name": "stdout",
     "output_type": "stream",
     "text": [
      "Logistic Regression Evaluation Metrics:\n",
      "Model score: 0.933\n"
     ]
    },
    {
     "data": {
      "image/png": "[encoded data removed]",
      "text/plain": [
       "<Figure size 432x288 with 2 Axes>"
      ]
     },
     "metadata": {
      "needs_background": "light"
     },
     "output_type": "display_data"
    },
    {
     "name": "stdout",
     "output_type": "stream",
     "text": [
      "              precision    recall  f1-score   support\n",
      "\n",
      "           0       0.94      0.99      0.96      2408\n",
      "           1       0.67      0.15      0.24       188\n",
      "\n",
      "    accuracy                           0.93      2596\n",
      "   macro avg       0.80      0.57      0.60      2596\n",
      "weighted avg       0.92      0.93      0.91      2596\n",
      "\n",
      "Classification Accuracy: 0.933\n",
      "Classification Error: 0.067\n",
      "Sensitivity: 0.149\n",
      "Specificity: 0.994\n",
      "False Positive Rate: 0.006\n",
      "Precision: 0.667\n",
      "F1 Score: 0.243\n",
      "AUC: 0.572\n"
     ]
    }
   ],
   "source": [
    "# split data\n",
    "from sklearn.model_selection import train_test_split\n",
    "X_train, X_test, y_train, y_test = train_test_split(X, y, stratify=y, test_size=0.2, random_state=42)\n",
    "\n",
    "# LOGISTIC REGRESSION MODEL\n",
    "from sklearn.linear_model import LogisticRegression\n",
    "\n",
    "clf = LogisticRegression(solver='lbfgs')\n",
    "\n",
    "# set max_iter=400 to overcome algortihm not converging\n",
    "\n",
    "clf.fit(X_train, y_train)\n",
    "print(\"Logistic Regression Evaluation Metrics:\")\n",
    "\n",
    "print(\"Model score: %.3f\" % clf.score(X_test, y_test))\n",
    "\n",
    "y_pred = clf.predict(X_test)\n",
    "\n",
    "# store the predicted probabilities for class 1 (Baby is LGA)\n",
    "y_pred_prob = clf.predict_proba(X_test)[:, 1]\n",
    "\n",
    "evaluate_model(y_test, y_pred)"
   ]
  },
  {
   "cell_type": "markdown",
   "metadata": {},
   "source": [
    "# 1. Univariate Selection\n",
    "Statistical tests can be used to select those features that have the strongest relationship with the output variable.\n",
    "\n",
    "The scikit-learn library provides the SelectKBest class that can be used with a suite of different statistical tests to select a specific number of features.\n",
    "\n",
    "Many different statistical test scan be used with this selection method. For example the ANOVA F-value method is appropriate for numerical inputs and categorical data."
   ]
  },
  {
   "cell_type": "markdown",
   "metadata": {},
   "source": [
    "## ANOVA F-value"
   ]
  },
  {
   "cell_type": "code",
   "execution_count": 11,
   "metadata": {},
   "outputs": [
    {
     "name": "stdout",
     "output_type": "stream",
     "text": [
      "                 Feature       Score\n",
      "40     premacrosomia_Yes  581.034641\n",
      "44         bookingWeight  556.590278\n",
      "46  thirdTrimesterWeight  431.973873\n",
      "45            bookingBMI  401.598484\n",
      "48        fastingGlucose  253.316485\n",
      "56       maxFoetalWeight  218.868576\n",
      "58       varFoetalWeight  208.582373\n",
      "47        maternalHeight  168.547808\n",
      "51          maxAbdomCirc  164.578745\n",
      "59     rangeFoetalWeight  155.430641\n"
     ]
    }
   ],
   "source": [
    "from sklearn.feature_selection import SelectKBest, f_classif, chi2, mutual_info_classif\n",
    "\n",
    "#apply SelectKBest class to extract top 10 best features\n",
    "bestfeatures = SelectKBest(score_func=f_classif, k=10)\n",
    "fs = bestfeatures.fit(X,y)\n",
    "dfscores = pd.DataFrame(fs.scores_)\n",
    "dfcolumns = pd.DataFrame(X.columns)\n",
    "#concat two dataframes for better visualization \n",
    "featureScores = pd.concat([dfcolumns,dfscores],axis=1)\n",
    "featureScores.columns = ['Feature','Score']  #naming the dataframe columns\n",
    "\n",
    "#print 10 best features\n",
    "top10= featureScores.nlargest(10,'Score')\n",
    "print(top10)"
   ]
  },
  {
   "cell_type": "code",
   "execution_count": 12,
   "metadata": {},
   "outputs": [
    {
     "data": {
      "image/png": "[encoded data removed]",
      "text/plain": [
       "<Figure size 432x288 with 1 Axes>"
      ]
     },
     "metadata": {
      "needs_background": "light"
     },
     "output_type": "display_data"
    }
   ],
   "source": [
    "# Now plot top 10 features in histogram\n",
    "import matplotlib.pyplot as plt\n",
    "\n",
    "plt.figure()\n",
    "plt.xticks(rotation=90)\n",
    "plt.ylabel(\"Score\")\n",
    "plt.bar(top10['Feature'], top10['Score'], color='b', align='center')\n",
    "plt.show()"
   ]
  },
  {
   "cell_type": "code",
   "execution_count": 13,
   "metadata": {},
   "outputs": [
    {
     "data": {
      "text/html": [
       "<div>\n",
       "<style scoped>\n",
       "    .dataframe tbody tr th:only-of-type {\n",
       "        vertical-align: middle;\n",
       "    }\n",
       "\n",
       "    .dataframe tbody tr th {\n",
       "        vertical-align: top;\n",
       "    }\n",
       "\n",
       "    .dataframe thead th {\n",
       "        text-align: right;\n",
       "    }\n",
       "</style>\n",
       "<table border=\"1\" class=\"dataframe\">\n",
       "  <thead>\n",
       "    <tr style=\"text-align: right;\">\n",
       "      <th></th>\n",
       "      <th>column</th>\n",
       "      <th>p_value</th>\n",
       "    </tr>\n",
       "  </thead>\n",
       "  <tbody>\n",
       "    <tr>\n",
       "      <th>40</th>\n",
       "      <td>premacrosomia_Yes</td>\n",
       "      <td>1.264571e-125</td>\n",
       "    </tr>\n",
       "    <tr>\n",
       "      <th>44</th>\n",
       "      <td>bookingWeight</td>\n",
       "      <td>1.570193e-120</td>\n",
       "    </tr>\n",
       "    <tr>\n",
       "      <th>46</th>\n",
       "      <td>thirdTrimesterWeight</td>\n",
       "      <td>2.070286e-94</td>\n",
       "    </tr>\n",
       "    <tr>\n",
       "      <th>45</th>\n",
       "      <td>bookingBMI</td>\n",
       "      <td>5.271666e-88</td>\n",
       "    </tr>\n",
       "    <tr>\n",
       "      <th>48</th>\n",
       "      <td>fastingGlucose</td>\n",
       "      <td>1.681510e-56</td>\n",
       "    </tr>\n",
       "    <tr>\n",
       "      <th>56</th>\n",
       "      <td>maxFoetalWeight</td>\n",
       "      <td>4.010545e-49</td>\n",
       "    </tr>\n",
       "    <tr>\n",
       "      <th>58</th>\n",
       "      <td>varFoetalWeight</td>\n",
       "      <td>6.468683e-47</td>\n",
       "    </tr>\n",
       "    <tr>\n",
       "      <th>47</th>\n",
       "      <td>maternalHeight</td>\n",
       "      <td>2.659634e-38</td>\n",
       "    </tr>\n",
       "    <tr>\n",
       "      <th>51</th>\n",
       "      <td>maxAbdomCirc</td>\n",
       "      <td>1.909053e-37</td>\n",
       "    </tr>\n",
       "    <tr>\n",
       "      <th>59</th>\n",
       "      <td>rangeFoetalWeight</td>\n",
       "      <td>1.799789e-35</td>\n",
       "    </tr>\n",
       "    <tr>\n",
       "      <th>55</th>\n",
       "      <td>meanFoetalWeight</td>\n",
       "      <td>6.151208e-31</td>\n",
       "    </tr>\n",
       "    <tr>\n",
       "      <th>2</th>\n",
       "      <td>ethnicity_White</td>\n",
       "      <td>3.126390e-26</td>\n",
       "    </tr>\n",
       "    <tr>\n",
       "      <th>1</th>\n",
       "      <td>ethnicity_South Asian</td>\n",
       "      <td>6.708028e-25</td>\n",
       "    </tr>\n",
       "    <tr>\n",
       "      <th>49</th>\n",
       "      <td>postGlucose</td>\n",
       "      <td>3.258880e-24</td>\n",
       "    </tr>\n",
       "    <tr>\n",
       "      <th>50</th>\n",
       "      <td>meanAbdomCirc</td>\n",
       "      <td>2.104526e-22</td>\n",
       "    </tr>\n",
       "    <tr>\n",
       "      <th>42</th>\n",
       "      <td>maternalAge</td>\n",
       "      <td>5.986112e-21</td>\n",
       "    </tr>\n",
       "    <tr>\n",
       "      <th>5</th>\n",
       "      <td>maternalDiabetes_Yes</td>\n",
       "      <td>1.648648e-20</td>\n",
       "    </tr>\n",
       "    <tr>\n",
       "      <th>43</th>\n",
       "      <td>parity</td>\n",
       "      <td>1.334809e-16</td>\n",
       "    </tr>\n",
       "    <tr>\n",
       "      <th>53</th>\n",
       "      <td>varAbdomCirc</td>\n",
       "      <td>8.166267e-16</td>\n",
       "    </tr>\n",
       "    <tr>\n",
       "      <th>54</th>\n",
       "      <td>rangeAbdomCirc</td>\n",
       "      <td>9.462910e-15</td>\n",
       "    </tr>\n",
       "    <tr>\n",
       "      <th>37</th>\n",
       "      <td>pregdm_Yes</td>\n",
       "      <td>3.540137e-12</td>\n",
       "    </tr>\n",
       "    <tr>\n",
       "      <th>27</th>\n",
       "      <td>gestHypertension_Yes</td>\n",
       "      <td>5.223501e-12</td>\n",
       "    </tr>\n",
       "    <tr>\n",
       "      <th>41</th>\n",
       "      <td>premacrosomia_missing</td>\n",
       "      <td>8.033839e-12</td>\n",
       "    </tr>\n",
       "    <tr>\n",
       "      <th>38</th>\n",
       "      <td>pregdm_missing</td>\n",
       "      <td>3.260309e-09</td>\n",
       "    </tr>\n",
       "    <tr>\n",
       "      <th>4</th>\n",
       "      <td>maternalDiabetes_No</td>\n",
       "      <td>7.113846e-07</td>\n",
       "    </tr>\n",
       "    <tr>\n",
       "      <th>16</th>\n",
       "      <td>gdmInsulin_No</td>\n",
       "      <td>1.292333e-06</td>\n",
       "    </tr>\n",
       "    <tr>\n",
       "      <th>17</th>\n",
       "      <td>gdmInsulin_Yes</td>\n",
       "      <td>1.292333e-06</td>\n",
       "    </tr>\n",
       "    <tr>\n",
       "      <th>36</th>\n",
       "      <td>pregdm_No</td>\n",
       "      <td>8.197402e-06</td>\n",
       "    </tr>\n",
       "    <tr>\n",
       "      <th>12</th>\n",
       "      <td>gdm_Yes</td>\n",
       "      <td>4.211954e-04</td>\n",
       "    </tr>\n",
       "    <tr>\n",
       "      <th>26</th>\n",
       "      <td>gestHypertension_No</td>\n",
       "      <td>4.861062e-04</td>\n",
       "    </tr>\n",
       "    <tr>\n",
       "      <th>30</th>\n",
       "      <td>gestEclampsia_Yes</td>\n",
       "      <td>6.996533e-04</td>\n",
       "    </tr>\n",
       "    <tr>\n",
       "      <th>52</th>\n",
       "      <td>minAbdomCirc</td>\n",
       "      <td>1.328783e-02</td>\n",
       "    </tr>\n",
       "    <tr>\n",
       "      <th>39</th>\n",
       "      <td>premacrosomia_No</td>\n",
       "      <td>3.120907e-02</td>\n",
       "    </tr>\n",
       "    <tr>\n",
       "      <th>6</th>\n",
       "      <td>maternalDiabetes_missing</td>\n",
       "      <td>4.648485e-02</td>\n",
       "    </tr>\n",
       "  </tbody>\n",
       "</table>\n",
       "</div>"
      ],
      "text/plain": [
       "                      column        p_value\n",
       "40         premacrosomia_Yes  1.264571e-125\n",
       "44             bookingWeight  1.570193e-120\n",
       "46      thirdTrimesterWeight   2.070286e-94\n",
       "45                bookingBMI   5.271666e-88\n",
       "48            fastingGlucose   1.681510e-56\n",
       "56           maxFoetalWeight   4.010545e-49\n",
       "58           varFoetalWeight   6.468683e-47\n",
       "47            maternalHeight   2.659634e-38\n",
       "51              maxAbdomCirc   1.909053e-37\n",
       "59         rangeFoetalWeight   1.799789e-35\n",
       "55          meanFoetalWeight   6.151208e-31\n",
       "2            ethnicity_White   3.126390e-26\n",
       "1      ethnicity_South Asian   6.708028e-25\n",
       "49               postGlucose   3.258880e-24\n",
       "50             meanAbdomCirc   2.104526e-22\n",
       "42               maternalAge   5.986112e-21\n",
       "5       maternalDiabetes_Yes   1.648648e-20\n",
       "43                    parity   1.334809e-16\n",
       "53              varAbdomCirc   8.166267e-16\n",
       "54            rangeAbdomCirc   9.462910e-15\n",
       "37                pregdm_Yes   3.540137e-12\n",
       "27      gestHypertension_Yes   5.223501e-12\n",
       "41     premacrosomia_missing   8.033839e-12\n",
       "38            pregdm_missing   3.260309e-09\n",
       "4        maternalDiabetes_No   7.113846e-07\n",
       "16             gdmInsulin_No   1.292333e-06\n",
       "17            gdmInsulin_Yes   1.292333e-06\n",
       "36                 pregdm_No   8.197402e-06\n",
       "12                   gdm_Yes   4.211954e-04\n",
       "26       gestHypertension_No   4.861062e-04\n",
       "30         gestEclampsia_Yes   6.996533e-04\n",
       "52              minAbdomCirc   1.328783e-02\n",
       "39          premacrosomia_No   3.120907e-02\n",
       "6   maternalDiabetes_missing   4.648485e-02"
      ]
     },
     "execution_count": 13,
     "metadata": {},
     "output_type": "execute_result"
    }
   ],
   "source": [
    "# make dataframe with features and their p values\n",
    "p_values = pd.DataFrame({'column': X.columns, 'p_value':\n",
    "                         bestfeatures.pvalues_}).sort_values('p_value')\n",
    "\n",
    "pd.set_option('display.max_rows', 100)\n",
    "# print (p_values) # print all features and their p_values\n",
    "\n",
    "\n",
    "p_values[p_values['p_value'] < .05] # print features with p values less 0.05 only"
   ]
  },
  {
   "cell_type": "code",
   "execution_count": 14,
   "metadata": {},
   "outputs": [
    {
     "name": "stdout",
     "output_type": "stream",
     "text": [
      "                 Feature       Score\n",
      "44         bookingWeight  449.344691\n",
      "40     premacrosomia_Yes  394.753331\n",
      "46  thirdTrimesterWeight  349.334451\n",
      "45            bookingBMI  319.702814\n",
      "48        fastingGlucose  191.710256\n",
      "56       maxFoetalWeight  170.566281\n",
      "58       varFoetalWeight  142.888881\n",
      "47        maternalHeight  140.279271\n",
      "59     rangeFoetalWeight  129.840686\n",
      "51          maxAbdomCirc  127.742645\n"
     ]
    }
   ],
   "source": [
    "# Using training data only\n",
    "\n",
    "# split data\n",
    "from sklearn.model_selection import train_test_split\n",
    "X_train, X_test, y_train, y_test = train_test_split(X, y, stratify=y, test_size=0.2, random_state=42)\n",
    "\n",
    "\n",
    "from sklearn.feature_selection import SelectKBest, f_classif, chi2, mutual_info_classif\n",
    "\n",
    "#apply SelectKBest class to extract top 10 best features\n",
    "bestfeatures = SelectKBest(score_func=f_classif, k=5)\n",
    "fs = bestfeatures.fit(X_train,y_train)\n",
    "dfscores = pd.DataFrame(fs.scores_)\n",
    "dfcolumns = pd.DataFrame(X_train.columns)\n",
    "#concat two dataframes for better visualization \n",
    "featureScores = pd.concat([dfcolumns,dfscores],axis=1)\n",
    "featureScores.columns = ['Feature','Score']  #naming the dataframe columns\n",
    "print(featureScores.nlargest(10,'Score'))  #print 10 best features"
   ]
  },
  {
   "cell_type": "code",
   "execution_count": 15,
   "metadata": {},
   "outputs": [
    {
     "data": {
      "image/png": "[encoded data removed]",
      "text/plain": [
       "<Figure size 432x288 with 2 Axes>"
      ]
     },
     "metadata": {
      "needs_background": "light"
     },
     "output_type": "display_data"
    },
    {
     "name": "stdout",
     "output_type": "stream",
     "text": [
      "              precision    recall  f1-score   support\n",
      "\n",
      "           0       0.93      1.00      0.96      2408\n",
      "           1       0.58      0.06      0.11       188\n",
      "\n",
      "    accuracy                           0.93      2596\n",
      "   macro avg       0.76      0.53      0.53      2596\n",
      "weighted avg       0.91      0.93      0.90      2596\n",
      "\n",
      "Classification Accuracy: 0.929\n",
      "Classification Error: 0.071\n",
      "Sensitivity: 0.059\n",
      "Specificity: 0.997\n",
      "False Positive Rate: 0.003\n",
      "Precision: 0.579\n",
      "F1 Score: 0.106\n",
      "AUC: 0.528\n"
     ]
    }
   ],
   "source": [
    "X_train_fs = fs.transform(X_train)\n",
    "X_test_fs = fs.transform(X_test)\n",
    "\n",
    "# fit the model\n",
    "log = LogisticRegression(solver='lbfgs')\n",
    "log.fit(X_train_fs, y_train)\n",
    "\n",
    "y_pred = log.predict(X_test_fs)\n",
    "\n",
    "# evaluate predictions\n",
    "evaluate_model(y_test, y_pred)"
   ]
  },
  {
   "cell_type": "code",
   "execution_count": 16,
   "metadata": {},
   "outputs": [
    {
     "data": {
      "text/plain": [
       "GridSearchCV(estimator=Pipeline(steps=[('kbest', SelectKBest()),\n",
       "                                       ('lr', LogisticRegression())]),\n",
       "             param_grid={'kbest__k': [5, 10, 15, 20, 25, 30, 35, 40, 45, 50,\n",
       "                                      55],\n",
       "                         'lr__C': array([1.e-10, 1.e-05, 1.e+00, 1.e+05, 1.e+10])},\n",
       "             scoring='recall')"
      ]
     },
     "execution_count": 16,
     "metadata": {},
     "output_type": "execute_result"
    }
   ],
   "source": [
    "# Tune k in SelectKBest\n",
    "from sklearn.pipeline import Pipeline\n",
    "from sklearn.model_selection import GridSearchCV\n",
    "\n",
    "kbest = SelectKBest(f_classif) \n",
    "pipeline = Pipeline([('kbest', kbest), ('lr', LogisticRegression(solver='lbfgs'))]) \n",
    "grid_search = GridSearchCV(pipeline, {'kbest__k': [5, 10, 15, 20, 25,30,35,40,45,50,55], 'lr__C': np.logspace(-10, 10, 5)}, scoring ='recall') \n",
    "grid_search.fit(X_train_fs, y_train) "
   ]
  },
  {
   "cell_type": "code",
   "execution_count": 17,
   "metadata": {},
   "outputs": [
    {
     "data": {
      "text/plain": [
       "{'kbest__k': 5, 'lr__C': 1.0}"
      ]
     },
     "execution_count": 17,
     "metadata": {},
     "output_type": "execute_result"
    }
   ],
   "source": [
    "grid_search.best_params_"
   ]
  },
  {
   "cell_type": "code",
   "execution_count": 18,
   "metadata": {},
   "outputs": [
    {
     "data": {
      "text/plain": [
       "0.044"
      ]
     },
     "execution_count": 18,
     "metadata": {},
     "output_type": "execute_result"
    }
   ],
   "source": [
    "grid_search.best_score_"
   ]
  },
  {
   "cell_type": "markdown",
   "metadata": {},
   "source": [
    "## Mutual Information"
   ]
  },
  {
   "cell_type": "code",
   "execution_count": 19,
   "metadata": {},
   "outputs": [
    {
     "name": "stdout",
     "output_type": "stream",
     "text": [
      "                 Feature     Score\n",
      "51          maxAbdomCirc  0.026623\n",
      "44         bookingWeight  0.021684\n",
      "56       maxFoetalWeight  0.019336\n",
      "54        rangeAbdomCirc  0.015501\n",
      "46  thirdTrimesterWeight  0.015211\n",
      "59     rangeFoetalWeight  0.015182\n",
      "45            bookingBMI  0.012896\n",
      "58       varFoetalWeight  0.011602\n",
      "40     premacrosomia_Yes  0.011361\n",
      "47        maternalHeight  0.011229\n"
     ]
    }
   ],
   "source": [
    "from sklearn.feature_selection import SelectKBest, f_classif, chi2, mutual_info_classif\n",
    "\n",
    "#apply SelectKBest class to extract top 10 best features\n",
    "bestfeatures = SelectKBest(score_func=mutual_info_classif, k=10)\n",
    "fit = bestfeatures.fit(X,y)\n",
    "dfscores = pd.DataFrame(fit.scores_)\n",
    "dfcolumns = pd.DataFrame(X.columns)\n",
    "#concat two dataframes for better visualization \n",
    "featureScores = pd.concat([dfcolumns,dfscores],axis=1)\n",
    "featureScores.columns = ['Feature','Score']  #naming the dataframe columns\n",
    "print(featureScores.nlargest(10,'Score'))  #print 10 best features"
   ]
  },
  {
   "cell_type": "markdown",
   "metadata": {},
   "source": [
    "# 2. Feature Importance\n",
    "Bagged decision trees like Random Forest and Extra Trees can be used to estimate the importance of features."
   ]
  },
  {
   "cell_type": "code",
   "execution_count": 20,
   "metadata": {},
   "outputs": [
    {
     "name": "stdout",
     "output_type": "stream",
     "text": [
      "[0.00574513 0.0080716  0.01030095 0.00474666 0.00591675 0.0053961\n",
      " 0.00538596 0.00398278 0.00250586 0.00202276 0.00145419 0.00333241\n",
      " 0.00293331 0.00124392 0.00212186 0.00201912 0.0023627  0.0024151\n",
      " 0.00141745 0.00121707 0.00034229 0.00033506 0.00789558 0.00833418\n",
      " 0.00107941 0.00096559 0.00650527 0.00616309 0.0012481  0.00328549\n",
      " 0.0028308  0.00125199 0.00947009 0.00168234 0.00975942 0.00131496\n",
      " 0.00898749 0.00438869 0.00732921 0.01009784 0.03073892 0.00740326\n",
      " 0.03935852 0.03217266 0.05180898 0.04871016 0.04848199 0.0463431\n",
      " 0.04916643 0.04548502 0.04069176 0.04991519 0.03785358 0.0418144\n",
      " 0.0417058  0.04192373 0.04738879 0.03809256 0.04627749 0.04680906]\n"
     ]
    },
    {
     "data": {
      "image/png": "[encoded data removed]",
      "text/plain": [
       "<Figure size 432x288 with 1 Axes>"
      ]
     },
     "metadata": {
      "needs_background": "light"
     },
     "output_type": "display_data"
    }
   ],
   "source": [
    "from sklearn.ensemble import ExtraTreesClassifier\n",
    "import matplotlib.pyplot as plt\n",
    "model = ExtraTreesClassifier(n_estimators=100, random_state=42)\n",
    "\n",
    "# different reseults when I run:\n",
    "# model = ExtraTreesClassifier(n_estimators=10)\n",
    "# different results every time I run this\n",
    "\n",
    "model.fit(X,y)\n",
    "print(model.feature_importances_) #use inbuilt class feature_importances of tree based classifiers\n",
    "#plot graph of feature importances for better visualization\n",
    "feat_importances = pd.Series(model.feature_importances_, index=X.columns)\n",
    "feat_importances.nlargest(10).plot(kind='barh')\n",
    "plt.show()"
   ]
  },
  {
   "cell_type": "markdown",
   "metadata": {},
   "source": [
    "# 3. Recursive Feature Elimination\n"
   ]
  },
  {
   "cell_type": "code",
   "execution_count": 10,
   "metadata": {},
   "outputs": [
    {
     "name": "stdout",
     "output_type": "stream",
     "text": [
      "Num Features: 10\n",
      "Selected Features: [False  True False False False  True False False False False False False\n",
      " False False False False False False  True False False  True False False\n",
      "  True  True False False False False False False False False False False\n",
      " False  True False False  True False False False False False False False\n",
      " False False False False False  True False False False False  True False]\n",
      "Feature Ranking: [40  1 24 12  6  1  7 43 31 29 13 28 34 49 26 27 21  9  1  8  4  1 32 33\n",
      "  1  1 44 45 38 17 50 25 51 48 46 14 15  1 16  3  1  2 30 47 39  5 23 11\n",
      " 10 22 18 19 35  1 42 37 20 36  1 41]\n"
     ]
    }
   ],
   "source": [
    "from sklearn.feature_selection import RFE\n",
    "from sklearn.linear_model import LogisticRegression\n",
    "\n",
    "# feature extraction\n",
    "model = LogisticRegression(solver='lbfgs')\n",
    "rfe = RFE(model, n_features_to_select =10)\n",
    "fit = rfe.fit(X, y)\n",
    "print(\"Num Features: %d\" % fit.n_features_)\n",
    "print(\"Selected Features: %s\" % fit.support_)\n",
    "print(\"Feature Ranking: %s\" % fit.ranking_)"
   ]
  },
  {
   "cell_type": "code",
   "execution_count": 11,
   "metadata": {},
   "outputs": [
    {
     "data": {
      "text/html": [
       "<div>\n",
       "<style scoped>\n",
       "    .dataframe tbody tr th:only-of-type {\n",
       "        vertical-align: middle;\n",
       "    }\n",
       "\n",
       "    .dataframe tbody tr th {\n",
       "        vertical-align: top;\n",
       "    }\n",
       "\n",
       "    .dataframe thead th {\n",
       "        text-align: right;\n",
       "    }\n",
       "</style>\n",
       "<table border=\"1\" class=\"dataframe\">\n",
       "  <thead>\n",
       "    <tr style=\"text-align: right;\">\n",
       "      <th></th>\n",
       "      <th>Feature</th>\n",
       "      <th>Ranking</th>\n",
       "    </tr>\n",
       "  </thead>\n",
       "  <tbody>\n",
       "    <tr>\n",
       "      <th>1</th>\n",
       "      <td>ethnicity_South Asian</td>\n",
       "      <td>1</td>\n",
       "    </tr>\n",
       "    <tr>\n",
       "      <th>5</th>\n",
       "      <td>maternalDiabetes_Yes</td>\n",
       "      <td>1</td>\n",
       "    </tr>\n",
       "    <tr>\n",
       "      <th>18</th>\n",
       "      <td>gdmLifestyle_No</td>\n",
       "      <td>1</td>\n",
       "    </tr>\n",
       "    <tr>\n",
       "      <th>21</th>\n",
       "      <td>gdmMetformin_Yes</td>\n",
       "      <td>1</td>\n",
       "    </tr>\n",
       "    <tr>\n",
       "      <th>24</th>\n",
       "      <td>gdmNotDoc_No</td>\n",
       "      <td>1</td>\n",
       "    </tr>\n",
       "    <tr>\n",
       "      <th>25</th>\n",
       "      <td>gdmNotDoc_Not documented</td>\n",
       "      <td>1</td>\n",
       "    </tr>\n",
       "    <tr>\n",
       "      <th>37</th>\n",
       "      <td>pregdm_Yes</td>\n",
       "      <td>1</td>\n",
       "    </tr>\n",
       "    <tr>\n",
       "      <th>40</th>\n",
       "      <td>premacrosomia_Yes</td>\n",
       "      <td>1</td>\n",
       "    </tr>\n",
       "    <tr>\n",
       "      <th>53</th>\n",
       "      <td>varAbdomCirc</td>\n",
       "      <td>1</td>\n",
       "    </tr>\n",
       "    <tr>\n",
       "      <th>58</th>\n",
       "      <td>varFoetalWeight</td>\n",
       "      <td>1</td>\n",
       "    </tr>\n",
       "  </tbody>\n",
       "</table>\n",
       "</div>"
      ],
      "text/plain": [
       "                     Feature  Ranking\n",
       "1      ethnicity_South Asian        1\n",
       "5       maternalDiabetes_Yes        1\n",
       "18           gdmLifestyle_No        1\n",
       "21          gdmMetformin_Yes        1\n",
       "24              gdmNotDoc_No        1\n",
       "25  gdmNotDoc_Not documented        1\n",
       "37                pregdm_Yes        1\n",
       "40         premacrosomia_Yes        1\n",
       "53              varAbdomCirc        1\n",
       "58           varFoetalWeight        1"
      ]
     },
     "execution_count": 11,
     "metadata": {},
     "output_type": "execute_result"
    }
   ],
   "source": [
    "dfranking = pd.DataFrame(fit.ranking_)\n",
    "dfcolumns = pd.DataFrame(X.columns)\n",
    "#concat two dataframes for better visualization \n",
    "featureScores = pd.concat([dfcolumns,dfranking],axis=1)\n",
    "featureScores.columns = ['Feature','Ranking']  #naming the dataframe columns\n",
    "# print(featureScores)\n",
    "featureScores.loc[featureScores['Ranking'] == 1]\n",
    "\n",
    "#print(featureScores.nlargest(10,'Score'))  #print 10 best features"
   ]
  },
  {
   "cell_type": "code",
   "execution_count": 13,
   "metadata": {},
   "outputs": [
    {
     "name": "stdout",
     "output_type": "stream",
     "text": [
      "Optimal number of features: 1\n"
     ]
    },
    {
     "data": {
      "image/png": "[encoded data removed]",
      "text/plain": [
       "<Figure size 432x288 with 1 Axes>"
      ]
     },
     "metadata": {
      "needs_background": "light"
     },
     "output_type": "display_data"
    }
   ],
   "source": [
    "import matplotlib.pyplot as plt\n",
    "from sklearn.svm import SVC\n",
    "from sklearn.model_selection import StratifiedKFold\n",
    "from sklearn.feature_selection import RFECV\n",
    "from sklearn.datasets import make_classification\n",
    "\n",
    "\n",
    "# Create the RFE object and compute a cross-validated score.\n",
    "svc = SVC(kernel=\"linear\")\n",
    "\n",
    "min_features_to_select = 1  # Minimum number of features to consider\n",
    "rfecv = RFECV(\n",
    "    estimator=svc,\n",
    "    step=1,\n",
    "    cv=StratifiedKFold(2),\n",
    "    scoring=\"recall\",\n",
    "    min_features_to_select=min_features_to_select,\n",
    ")\n",
    "rfecv.fit(X, y)\n",
    "\n",
    "print(\"Optimal number of features: %d\" % rfecv.n_features_)\n",
    "\n",
    "# Plot number of features VS. cross-validation scores\n",
    "plt.figure()\n",
    "plt.xlabel(\"Number of features selected\")\n",
    "plt.ylabel(\"Cross validation score (f1)\")\n",
    "plt.plot(\n",
    "    range(min_features_to_select, len(rfecv.grid_scores_) + min_features_to_select),\n",
    "    rfecv.grid_scores_,\n",
    ")\n",
    "plt.show()"
   ]
  },
  {
   "cell_type": "code",
   "execution_count": 23,
   "metadata": {},
   "outputs": [
    {
     "data": {
      "text/plain": [
       "{'mean_test_score': array([0., 0., 0., 0., 0., 0., 0., 0., 0., 0., 0., 0., 0., 0., 0., 0., 0.,\n",
       "        0., 0., 0., 0., 0., 0., 0., 0., 0., 0., 0., 0., 0., 0., 0., 0., 0.,\n",
       "        0., 0., 0., 0., 0., 0., 0., 0., 0., 0., 0., 0., 0., 0., 0., 0., 0.,\n",
       "        0., 0., 0., 0., 0., 0., 0., 0., 0.]),\n",
       " 'std_test_score': array([0., 0., 0., 0., 0., 0., 0., 0., 0., 0., 0., 0., 0., 0., 0., 0., 0.,\n",
       "        0., 0., 0., 0., 0., 0., 0., 0., 0., 0., 0., 0., 0., 0., 0., 0., 0.,\n",
       "        0., 0., 0., 0., 0., 0., 0., 0., 0., 0., 0., 0., 0., 0., 0., 0., 0.,\n",
       "        0., 0., 0., 0., 0., 0., 0., 0., 0.]),\n",
       " 'split0_test_score': array([0., 0., 0., 0., 0., 0., 0., 0., 0., 0., 0., 0., 0., 0., 0., 0., 0.,\n",
       "        0., 0., 0., 0., 0., 0., 0., 0., 0., 0., 0., 0., 0., 0., 0., 0., 0.,\n",
       "        0., 0., 0., 0., 0., 0., 0., 0., 0., 0., 0., 0., 0., 0., 0., 0., 0.,\n",
       "        0., 0., 0., 0., 0., 0., 0., 0., 0.]),\n",
       " 'split1_test_score': array([0., 0., 0., 0., 0., 0., 0., 0., 0., 0., 0., 0., 0., 0., 0., 0., 0.,\n",
       "        0., 0., 0., 0., 0., 0., 0., 0., 0., 0., 0., 0., 0., 0., 0., 0., 0.,\n",
       "        0., 0., 0., 0., 0., 0., 0., 0., 0., 0., 0., 0., 0., 0., 0., 0., 0.,\n",
       "        0., 0., 0., 0., 0., 0., 0., 0., 0.])}"
      ]
     },
     "execution_count": 23,
     "metadata": {},
     "output_type": "execute_result"
    }
   ],
   "source": [
    "rfecv.cv_results_"
   ]
  },
  {
   "cell_type": "code",
   "execution_count": 52,
   "metadata": {},
   "outputs": [
    {
     "data": {
      "text/plain": [
       "Index(['ethnicity_Other', 'ethnicity_South Asian', 'ethnicity_White',\n",
       "       'ethnicity_nan', 'maternalDiabetes_No', 'maternalDiabetes_Yes',\n",
       "       'maternalDiabetes_missing', 'fhEclampsia_No',\n",
       "       'fhEclampsia_Not documented', 'fhEclampsia_Yes', 'fhEclampsia_missing',\n",
       "       'gdm_No', 'gdm_Yes', 'gdm_missing', 'gdmDiet_No', 'gdmDiet_Yes',\n",
       "       'gdmInsulin_No', 'gdmInsulin_Yes', 'gdmLifestyle_No',\n",
       "       'gdmLifestyle_Yes', 'gdmMetformin_No', 'gdmMetformin_Yes',\n",
       "       'gdmNoTreatment_No', 'gdmNoTreatment_Yes', 'gdmNotDoc_No',\n",
       "       'gdmNotDoc_Not documented', 'gestHypertension_No',\n",
       "       'gestHypertension_Yes', 'gestHypertension_missing', 'gestEclampsia_No',\n",
       "       'gestEclampsia_Yes', 'gestEclampsia_missing', 'fhDiabetes_No',\n",
       "       'fhDiabetes_Not documented', 'fhDiabetes_Yes', 'fhDiabetes_missing',\n",
       "       'pregdm_No', 'pregdm_Yes', 'pregdm_missing', 'premacrosomia_No',\n",
       "       'premacrosomia_Yes', 'premacrosomia_missing', 'maternalAge', 'parity',\n",
       "       'bookingWeight', 'bookingBMI', 'thirdTrimesterWeight', 'maternalHeight',\n",
       "       'fastingGlucose', 'postGlucose', 'meanAbdomCirc', 'maxAbdomCirc',\n",
       "       'minAbdomCirc', 'varAbdomCirc', 'rangeAbdomCirc', 'meanFoetalWeight',\n",
       "       'maxFoetalWeight', 'minFoetalWeight', 'varFoetalWeight',\n",
       "       'rangeFoetalWeight'],\n",
       "      dtype='object')"
      ]
     },
     "execution_count": 52,
     "metadata": {},
     "output_type": "execute_result"
    }
   ],
   "source": [
    "X.columns"
   ]
  },
  {
   "cell_type": "code",
   "execution_count": null,
   "metadata": {},
   "outputs": [],
   "source": []
  }
 ],
 "metadata": {
  "kernelspec": {
   "display_name": "Python 3 (ipykernel)",
   "language": "python",
   "name": "python3"
  },
  "language_info": {
   "codemirror_mode": {
    "name": "ipython",
    "version": 3
   },
   "file_extension": ".py",
   "mimetype": "text/x-python",
   "name": "python",
   "nbconvert_exporter": "python",
   "pygments_lexer": "ipython3",
   "version": "3.7.6"
  }
 },
 "nbformat": 4,
 "nbformat_minor": 4
}
